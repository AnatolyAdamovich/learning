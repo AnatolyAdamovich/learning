{
 "cells": [
  {
   "cell_type": "markdown",
   "metadata": {
    "collapsed": true
   },
   "source": [
    "# Уменьшение задачи на постоянный множитель\n",
    "\n",
    "## Задача поиска фальшивой монеты\n",
    "Пусть есть n одинаково выглядящих монет. Все настоящие монеты имеют один и тот же вес. Среди них одна монета фальшивая, она легче остальных. Необходимо найти эту монету."
   ]
  },
  {
   "cell_type": "code",
   "execution_count": 29,
   "metadata": {
    "pycharm": {
     "name": "#%%\n"
    }
   },
   "outputs": [],
   "source": [
    "class Money:\n",
    "    def __init__(self, mass, name):\n",
    "        self.weight = mass\n",
    "        self.name = name\n",
    "    def __repr__(self):\n",
    "        return f'{self.name} with weight {self.weight}'\n",
    "    \n",
    "m1 = Money(10, 'm1'); m2 = Money(10, 'm2'); m3 = Money(10, 'm3')\n",
    "m4 = Money(10, 'm5'); m5 = Money(1, 'm5'); m6 = Money(10, 'm6')\n",
    "m7 = Money(10, 'm7') \n",
    "all_ms = [m1, m2, m3, m4, m5, m6, m7]"
   ]
  },
  {
   "cell_type": "markdown",
   "metadata": {},
   "source": [
    "Наиболее естественный подход - разделить n монет на 2 кучки (по n//2 монет в каждой), отложив одну монету, если n - нечетное. Если кучки имеют одинаковый вес, то отложенная монета является фальшивой; иначе выбираем кучу с меньшим весом и выполняем те же действия.\n",
    "\n",
    "*Это не метод декомпозиции, а метод уменьшения, поскольку после разделения задачи нам не требуется найти решение по каждой части. Мы продолжаем поиск решения только по одной из частей*"
   ]
  },
  {
   "cell_type": "code",
   "execution_count": 30,
   "metadata": {},
   "outputs": [],
   "source": [
    "def search_false_money(all_money):\n",
    "    n = len(all_money)\n",
    "    if n == 1:\n",
    "        print(f'wrong money is {all_money[0]}')\n",
    "        return all_money[0]\n",
    "    if len(all_money) % 2 == 0:\n",
    "        one = all_money[:n/2]\n",
    "        two = all_money[n/2:]\n",
    "        s1 = sum([m.weight for m in one])\n",
    "        s2 = sum([m.weight for m in two])\n",
    "        if s1 < s2:\n",
    "            search_false_money(one)\n",
    "        else:\n",
    "            search_false_money(two)\n",
    "    else:\n",
    "        candidate = all_money[0]\n",
    "        one = all_money[1:n//2+1]\n",
    "        two = all_money[n//2+1:]\n",
    "        s1 = sum([m.weight for m in one])\n",
    "        s2 = sum([m.weight for m in two])\n",
    "        if s1==s2:\n",
    "            print(f'wrong money is {candidate}')\n",
    "            return candidate\n",
    "        elif s1 < s2:\n",
    "            search_false_money(one)\n",
    "        else:\n",
    "            search_false_money(two)"
   ]
  },
  {
   "cell_type": "code",
   "execution_count": 31,
   "metadata": {},
   "outputs": [
    {
     "name": "stdout",
     "output_type": "stream",
     "text": [
      "wrong money is m5 with weight 1\n"
     ]
    }
   ],
   "source": [
    "search_false_money(all_ms)"
   ]
  },
  {
   "attachments": {
    "image.png": {
     "image/png": "[encoded data removed]"
    }
   },
   "cell_type": "markdown",
   "metadata": {},
   "source": [
    "## Задача Иосифа\n",
    "Иосиф Флавий - еврейский историк, участник и летописец восстания евреев против римлян. В течение 47 дней он командовал обороной крепости Иотапата. Когда она пала, он укрылся с войнами в пещере. Чтобы не сдаваться римлянам, он предложил встать всем солдатам в круг и каждый должен был убить своего соседа (т.е. каждого второго), пока не останется один человек.\n",
    "\n",
    "Пусть есть n человек. Нужно вычислить номер человека (от 1 до n), который останется в кругу последним.\n",
    "![image.png](attachment:image.png)\n",
    "а: на первом проходе удаляются 2, 4, 6; на втором - 3, 1  \n",
    "б: на первом проходе удаляются 2, 4, 6, 1; на втором - 5, 3\n",
    "*Алгоритм*:  \n",
    "1) Если n четно (n=2k), то удаляются [2, 4, ..., n]. Остаются 1, 3, 5, .., n-1 - первоначальная задача свелась к задаче половинного размера (n_new = k). При этом, например, число 5, которое имело начальную позицию №5, теперь имеет позицию №3. Из этого следует, что j(2k) = 2*j(k)-1  \n",
    "2) Если n нечетно (n=2k+1), то удаляются [2, 4, ..., n-1, 1]. Остаются 3, 5, .., n - первоначальная задача свелась к задаче размера k. При этом, например, число 5, которое имело начальную позицию №5, теперь имеет позицию №2. Из этого следует, что j(2k+1) = 2*j(k)+1  "
   ]
  },
  {
   "cell_type": "code",
   "execution_count": 37,
   "metadata": {},
   "outputs": [
    {
     "name": "stdout",
     "output_type": "stream",
     "text": [
      "17\n"
     ]
    }
   ],
   "source": [
    "def Josephus_problem(n):\n",
    "    # номер человека\n",
    "    # в круге из n людей\n",
    "    if n == 1:\n",
    "        return 1\n",
    "    if n % 2 == 0:\n",
    "        return (2*Josephus_problem(n//2) - 1)\n",
    "        # номер ТОГО ЖЕ человека\n",
    "        # в круге из мЕньшего числа людей\n",
    "    else:\n",
    "        return (2*Josephus_problem((n-1)//2) + 1)\n",
    "        # номер ТОГО ЖЕ человека\n",
    "        # в круге из мЕньшего числа людей\n",
    "\n",
    "print(Josephus_problem(40))"
   ]
  }
 ],
 "metadata": {
  "kernelspec": {
   "display_name": "Python 3",
   "language": "python",
   "name": "python3"
  },
  "language_info": {
   "codemirror_mode": {
    "name": "ipython",
    "version": 3
   },
   "file_extension": ".py",
   "mimetype": "text/x-python",
   "name": "python",
   "nbconvert_exporter": "python",
   "pygments_lexer": "ipython3",
   "version": "3.8.8"
  },
  "toc": {
   "base_numbering": 1,
   "nav_menu": {},
   "number_sections": true,
   "sideBar": true,
   "skip_h1_title": false,
   "title_cell": "Table of Contents",
   "title_sidebar": "Contents",
   "toc_cell": false,
   "toc_position": {},
   "toc_section_display": true,
   "toc_window_display": false
  }
 },
 "nbformat": 4,
 "nbformat_minor": 1
}
