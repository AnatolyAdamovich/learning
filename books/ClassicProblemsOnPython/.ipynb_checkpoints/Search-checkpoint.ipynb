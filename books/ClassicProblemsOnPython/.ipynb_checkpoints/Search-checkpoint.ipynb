{
 "cells": [
  {
   "cell_type": "markdown",
   "id": "0b23c901",
   "metadata": {},
   "source": [
    "# Задачи поиска\n",
    "Представлены основные алгоритмы поиска.\n",
    "\n",
    "\n",
    "## Поиск ДНК\n",
    "При компьютерной обработке гены обычно представляются последовательностью символов A, C, G, T, обозначающих **нуклеотиды**: *аденин, цитозин, гуанин, тимин*. Комбинация трех нуклеотидов образует **кодон**. Кодон кодирует конкретную аминокислоту. Комбинация аминокислот образует белок.  \n",
    "\n",
    "Классическая задача в биоинформатике - найти определенный кодон в гене."
   ]
  },
  {
   "cell_type": "code",
   "execution_count": 21,
   "id": "e0fb18dd",
   "metadata": {},
   "outputs": [],
   "source": [
    "# хранение ДНК\n",
    "# IntEnum дает возможность использовать операторы сравнения\n",
    "from enum import IntEnum\n",
    "\n",
    "Nucleotide = IntEnum('Nucleotide', ('A', 'C', 'G', 'T'))\n",
    "\n",
    "# Кодон - кортеж из трех элементов\n",
    "# Codon = tuple(Nucleotide, Nucleotide, Nucleotide)\n",
    "# Ген - список кодонов\n",
    "# Gene = list(Codon)\n",
    "\n",
    "def string_to_gene(string):\n",
    "    gene = []\n",
    "    n = len(string)\n",
    "    \n",
    "    for i in range(0, n, 3):\n",
    "        if (i+2) >= n:\n",
    "            # остался один или два нуклеотида (кодон не образуется)\n",
    "            return gene\n",
    "        \n",
    "        codon = (Nucleotide[string[i]], Nucleotide[string[i+1]], Nucleotide[string[i+2]])\n",
    "        gene.append(codon) # добавить кодон в ген\n",
    "    return gene"
   ]
  },
  {
   "cell_type": "markdown",
   "id": "a0592bb6",
   "metadata": {},
   "source": [
    "Позже нужно будет сравнивать кодоны между собой. Но в Python реализована поддержка сравнения кортежей, состоящих из типов, которые можно сравнивать. IntEnum можно сравнивать."
   ]
  },
  {
   "cell_type": "code",
   "execution_count": 24,
   "id": "eb987d15",
   "metadata": {},
   "outputs": [
    {
     "name": "stdout",
     "output_type": "stream",
     "text": [
      "Преобразованная в ген строка: [(<Nucleotide.A: 1>, <Nucleotide.C: 2>, <Nucleotide.T: 4>), (<Nucleotide.G: 3>, <Nucleotide.C: 2>, <Nucleotide.C: 2>), (<Nucleotide.G: 3>, <Nucleotide.T: 4>, <Nucleotide.A: 1>), (<Nucleotide.C: 2>, <Nucleotide.A: 1>, <Nucleotide.T: 4>), (<Nucleotide.A: 1>, <Nucleotide.G: 3>, <Nucleotide.C: 2>)]\n"
     ]
    }
   ],
   "source": [
    "str_gene_example = 'ACTGCCGTACATAGC' # ACT GCC GTA CAT AGC\n",
    "gene_example = string_to_gene(str_gene_example)\n",
    "print(f'Преобразованная в ген строка: {gene_example}')"
   ]
  },
  {
   "cell_type": "code",
   "execution_count": 26,
   "id": "bce6c5f7",
   "metadata": {},
   "outputs": [
    {
     "data": {
      "text/plain": [
       "(3, (<Nucleotide.C: 2>, <Nucleotide.A: 1>, <Nucleotide.T: 4>))"
      ]
     },
     "execution_count": 26,
     "metadata": {},
     "output_type": "execute_result"
    }
   ],
   "source": [
    "# линейный поиск\n",
    "def linear_search(current_gene, searching_codon):\n",
    "    for i  in range(len(current_gene)):\n",
    "        if current_gene[i] == searching_codon:\n",
    "            return i, current_gene[i]\n",
    "    return None\n",
    "\n",
    "\n",
    "example_searching_codon = (Nucleotide['C'], Nucleotide['A'], Nucleotide['T'])\n",
    "linear_search(gene_example, example_searching_codon)"
   ]
  },
  {
   "cell_type": "markdown",
   "id": "6aee64bc",
   "metadata": {},
   "source": [
    "Суть линейного поиска - перебор исходной структуры данных до тех пор, пока не будет найден искомый элемент или не достигнут конец структуры (в последнем случае будет доказано, что искомый элемент отсутствует)."
   ]
  },
  {
   "cell_type": "code",
   "execution_count": null,
   "id": "3da66475",
   "metadata": {},
   "outputs": [],
   "source": []
  }
 ],
 "metadata": {
  "kernelspec": {
   "display_name": "Python 3",
   "language": "python",
   "name": "python3"
  },
  "language_info": {
   "codemirror_mode": {
    "name": "ipython",
    "version": 3
   },
   "file_extension": ".py",
   "mimetype": "text/x-python",
   "name": "python",
   "nbconvert_exporter": "python",
   "pygments_lexer": "ipython3",
   "version": "3.8.8"
  },
  "toc": {
   "base_numbering": 1,
   "nav_menu": {},
   "number_sections": true,
   "sideBar": true,
   "skip_h1_title": false,
   "title_cell": "Table of Contents",
   "title_sidebar": "Contents",
   "toc_cell": false,
   "toc_position": {},
   "toc_section_display": true,
   "toc_window_display": false
  }
 },
 "nbformat": 4,
 "nbformat_minor": 5
}
