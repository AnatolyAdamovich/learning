{
 "cells": [
  {
   "cell_type": "markdown",
   "id": "3b6c7252",
   "metadata": {},
   "source": [
    "# Наивные байесовские классификаторы\n",
    "Это семейство классификаторов, которые схожи с линейными. Однако они имеют тенденцию обучаться быстрее.\n",
    "Подбор параметров осуществляется с учетом статистик по каждому признаку.  \n",
    "В scikit-learn есть 3 байесовские модели:  \n",
    "- **GaussianNB** - предназначен к любым непрерывным данным (то есть к обычным данным, к которым мы привыкли)\n",
    "- **BernoulliNB** - предназначен для бинарных данных  \n",
    "- **MultinomialNB** - предназначен для дискретных данных (целочисленные признаки)  \n",
    "Последние два часто используются в классификации текста"
   ]
  },
  {
   "cell_type": "code",
   "execution_count": 4,
   "id": "864cbfe8",
   "metadata": {},
   "outputs": [
    {
     "name": "stdout",
     "output_type": "stream",
     "text": [
      "Предсказанные метки: [1 1]\n",
      "Истинные метки: [0 1]\n"
     ]
    }
   ],
   "source": [
    "import numpy as np\n",
    "from sklearn.naive_bayes import BernoulliNB\n",
    "\n",
    "# 4 точки данных с 4 бинарными признаками\n",
    "X_train = np.array([[0, 1, 0, 1],\n",
    "              [1, 0, 1, 1],\n",
    "              [0, 0, 0, 1],\n",
    "              [1, 0, 1, 0]])\n",
    "# метки для каждой точки\n",
    "y_train = np.array([1, 0, 1, 0])\n",
    "\n",
    "X_test = np.array([[1, 1, 0, 0], [0, 0, 1, 1]])\n",
    "y_test = np.array([0, 1])\n",
    "\n",
    "binary_model = BernoulliNB().fit(X_train, y_train)\n",
    "y_pred = binary_model.predict(X_test)\n",
    "\n",
    "print(f'Предсказанные метки: {y_pred}')\n",
    "print(f'Истинные метки: {y_test}')"
   ]
  },
  {
   "cell_type": "markdown",
   "id": "4b76d091",
   "metadata": {},
   "source": [
    "Для получения прогноза точка данных сравнивается со статистиками для каждого класса (например, сколько раз то или иное значение встретилось в i-том признаке j-того класса) и далее прогнозируется наиболее подходящий класс."
   ]
  },
  {
   "cell_type": "markdown",
   "id": "cec421a4",
   "metadata": {},
   "source": [
    "# Резюме\n",
    "Быстро обучаются и прогнозируются, хорошо работают с разреженными дискретными данными (MultinomialNB и BernoulliNB для текста) и могут использоваться для данных с высокой размерностью (GaussianNB). Сложность модели контролируется параметром *alpha* (для MultinomialNB и BernoulliNB). Большее значение alpha приводит к бОльшему \"сглаживанию\" статистик - модель добавляет определенное количество искусственных наблюдений с положительными значениями для всех признаков."
   ]
  }
 ],
 "metadata": {
  "kernelspec": {
   "display_name": "Python 3",
   "language": "python",
   "name": "python3"
  },
  "language_info": {
   "codemirror_mode": {
    "name": "ipython",
    "version": 3
   },
   "file_extension": ".py",
   "mimetype": "text/x-python",
   "name": "python",
   "nbconvert_exporter": "python",
   "pygments_lexer": "ipython3",
   "version": "3.8.8"
  },
  "toc": {
   "base_numbering": 1,
   "nav_menu": {},
   "number_sections": true,
   "sideBar": true,
   "skip_h1_title": false,
   "title_cell": "Table of Contents",
   "title_sidebar": "Contents",
   "toc_cell": false,
   "toc_position": {},
   "toc_section_display": true,
   "toc_window_display": false
  }
 },
 "nbformat": 4,
 "nbformat_minor": 5
}
