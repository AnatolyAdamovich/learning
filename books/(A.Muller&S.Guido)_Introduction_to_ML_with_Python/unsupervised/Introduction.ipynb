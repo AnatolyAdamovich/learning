{
 "cells": [
  {
   "cell_type": "markdown",
   "id": "c5e5da1f",
   "metadata": {},
   "source": [
    "# Методы машинного обучения без учителя\n",
    "\n",
    "Машинное обучение без учителя включает в себя алгоритмы и методы, в которых \"ответ\" неизвестен и нет учителя, указывающего ответ. В машинном обучении без учителя есть лишь входные данные и алгоритму необходимо из этих данных извлечь знания.\n",
    "\n",
    "**Типы машинного обучения без учителя:**  \n",
    "- Неконтролируемые преобразования (unsupervised transformations): алгоритмы, создающие новое представления данных. Пример: сокращение размерности (изначально есть высокоразмерное представление данных, состаящее из множества признаков, и находится новый способ представления этих данных путем обобщения основных характеристик и получением меньшего числа признаков). Другой пример: поиск главных компонент, из которых состоят данные (выделение тем из коллекции текстовых документов);  \n",
    "- Алгоритмы кластеризации (clustering algorithm) разбивают данные на отдельные группы схожих между собой элементов.  \n",
    "\n",
    "\n",
    "**Проблема машинного обучения без учителя** заключается в том, что, поскольку данные не содержат меток, то возникает вопрос: как правильно оценить полезность и правильность информации, извлеченной алгоритмом? Чаще всего оценка результаты работы алгоритма машинного обучения без учителя - это ручная проверка.  \n",
    "\n",
    "*Машинное обучение без учителя может применяться как предварительные этап обработки данных для алгоритмов контролируемого машинного обучения.*"
   ]
  },
  {
   "cell_type": "markdown",
   "id": "49e09305",
   "metadata": {},
   "source": [
    "# Предварительная обработка и масштабирование\n",
    "Обычное практикой для некоторых алгоритмов контролируемого обучения является преобразование признаков с тем, чтобы итоговое представление данных было более подходящим для использования вышеупомянутых алгоритмов."
   ]
  },
  {
   "cell_type": "code",
   "execution_count": 10,
   "id": "1efb5c38",
   "metadata": {},
   "outputs": [],
   "source": [
    "import numpy as np\n",
    "from sklearn.datasets import load_breast_cancer\n",
    "from sklearn.model_selection import train_test_split\n",
    "import matplotlib.pyplot as plt\n",
    "%matplotlib inline"
   ]
  },
  {
   "cell_type": "code",
   "execution_count": 23,
   "id": "e1734852",
   "metadata": {},
   "outputs": [
    {
     "name": "stdout",
     "output_type": "stream",
     "text": [
      "Количество признаков: 30\n",
      "Тренировочная выборка состоит из 426 точек, тестовая из 143\n",
      "Распределение по классам: \n",
      "      -в тренировочной: 157 на 269\n",
      "      -в тестовой: 55 на 88\n"
     ]
    }
   ],
   "source": [
    "cancer = load_breast_cancer()\n",
    "print(f'Количество признаков: {cancer.data.shape[1]}')\n",
    "X_train, X_test, y_train, y_test = train_test_split(cancer.data, cancer.target, random_state=1)\n",
    "print(f'Тренировочная выборка состоит из {X_train.shape[0]} точек, тестовая из {X_test.shape[0]}')\n",
    "print(f'Распределение по классам: \\n\\\n",
    "      -в тренировочной: {len(y_train[y_train==0])} на {len(y_train[y_train==1])}\\n\\\n",
    "      -в тестовой: {len(y_test[y_test==0])} на {len(y_test[y_test==1])}')"
   ]
  },
  {
   "cell_type": "code",
   "execution_count": 32,
   "id": "4414f313",
   "metadata": {},
   "outputs": [
    {
     "name": "stdout",
     "output_type": "stream",
     "text": [
      "[[1 2 3]\n",
      " [5 6 7]]\n"
     ]
    },
    {
     "data": {
      "text/plain": [
       "array([1, 2, 3])"
      ]
     },
     "execution_count": 32,
     "metadata": {},
     "output_type": "execute_result"
    }
   ],
   "source": [
    "TRTE = np.array([[1,2,3], [5,6,7]])\n",
    "print(TRTE)\n",
    "TRTE.min(axis=0)"
   ]
  },
  {
   "cell_type": "markdown",
   "id": "986a2861",
   "metadata": {},
   "source": [
    "**Виды предварительной обработки данных:**  \n",
    "- StandardScaler: гарантирует, что для каждого признака среднее будет равно 0, а дисперсия будет равна 1 (проблемы: неизвестно минимальное и максимальное значение; чувствителен к выбросам (outliers))  \n",
    "- RobustScaler: аналогичен StandardScaler, но вместо среднего и дисперсии использует медиану и квартили (игнорирует выбросы)  \n",
    "- MinMaxScaler: сдвигает данные так, чтобы все признаки были строго в диапазоне от 0 до 1  \n",
    "- Normalizer: нормирование ТОЧЕК данных. Теперь вектор признаков для каждой точки имеет единичную евклидову длину (иными словами, происходит проецирование точек данных на окружность единичного радиуса)"
   ]
  },
  {
   "cell_type": "code",
   "execution_count": 53,
   "id": "e3b7484d",
   "metadata": {},
   "outputs": [
    {
     "name": "stdout",
     "output_type": "stream",
     "text": [
      "--------------------------------------------Original data----------------------------------------\n",
      "Размер:  (426, 30)\n",
      "Min для 5 признаков:  [1.153e-01 3.602e-01 7.570e-01 6.802e+00 1.713e-03]\n",
      "Max для 5 признаков:  [2.873e+00 4.885e+00 2.198e+01 5.422e+02 3.113e-02]\n",
      "Mean для 5 признаков:  [4.11284742e-01 1.22736878e+00 2.89862465e+00 4.14559061e+01\n",
      " 7.02072066e-03]\n",
      "Variance для 5 признаков:  [8.38892000e-02 3.40134507e-01 4.40395672e+00 2.42153764e+03\n",
      " 9.53409480e-06]\n",
      "Median для 5 признаков:  [3.2500e-01 1.0880e+00 2.3190e+00 2.4610e+01 6.3025e-03]\n",
      "Евклидова норма для 5 точек данных:  [ 743.86934789 1079.60364504  843.30139448 1029.72271871  830.78227675]\n",
      "\n",
      "--------------------------------------------StandardScaler----------------------------------------\n",
      "Размер:  (426, 30)\n",
      "Min для 5 признаков:  [-1.02191858 -1.4868881  -1.02052074 -0.70421713 -1.71897011]\n",
      "Max для 5 признаков:  [ 8.49933194  6.27154538  9.09260141 10.17583892  7.80808434]\n",
      "Mean для 5 признаков:  [ 3.63819564e-16 -8.30321727e-16  9.75224075e-16 -4.77187408e-16\n",
      "  8.41006972e-16]\n",
      "Variance для 5 признаков:  [1. 1. 1. 1. 1.]\n",
      "Median для 5 признаков:  [-0.29790718 -0.23896822 -0.27620105 -0.342333   -0.23260452]\n",
      "Евклидова норма для 5 точек данных:  [8.49175163 3.04162012 4.6247174  3.59458474 5.67707475]\n",
      "\n",
      "--------------------------------------------RobustScaler----------------------------------------\n",
      "Размер:  (426, 30)\n",
      "Min для 5 признаков:  [-0.78923598 -1.09209588 -0.87433529 -0.64603664 -1.5432078 ]\n",
      "Max для 5 признаков:  [ 9.58976289  5.69756537 11.00531766 18.77707237  8.34818426]\n",
      "Mean для 5 признаков:  [0.32474498 0.20912898 0.32444705 0.61113391 0.24149988]\n",
      "Variance для 5 признаков:  [1.18829137 0.76585779 1.37986628 3.18694986 1.07794732]\n",
      "Median для 5 признаков:  [ 0.00000000e+00 -1.66533454e-16  0.00000000e+00  6.44558192e-17\n",
      "  0.00000000e+00]\n",
      "Евклидова норма для 5 точек данных:  [7.66603808 2.24639187 3.09390967 3.48937602 5.17515214]\n",
      "\n",
      "--------------------------------------------Normalizer----------------------------------------\n",
      "Размер:  (426, 30)\n",
      "Min для 5 признаков:  [1.38230416e-04 2.22630519e-04 8.95949678e-04 1.14342671e-02\n",
      " 1.22062858e-06]\n",
      "Max для 5 признаков:  [1.65778661e-03 1.13783731e-02 9.48021244e-03 1.46680208e-01\n",
      " 6.14437683e-05]\n",
      "Mean для 5 признаков:  [4.02422447e-04 1.51953367e-03 2.82482539e-03 3.37215395e-02\n",
      " 8.98589678e-06]\n",
      "Variance для 5 признаков:  [4.46811413e-08 1.65330938e-06 2.00953423e-06 2.41728871e-04\n",
      " 6.29858046e-11]\n",
      "Median для 5 признаков:  [3.45350162e-04 1.09896846e-03 2.47124200e-03 3.06307795e-02\n",
      " 6.70219995e-06]\n",
      "Евклидова норма для 5 точек данных:  [1. 1. 1. 1. 1.]\n",
      "\n",
      "--------------------------------------------MinMaxScaler----------------------------------------\n",
      "Размер:  (426, 30)\n",
      "Min для 5 признаков:  [0. 0. 0. 0. 0.]\n",
      "Max для 5 признаков:  [1. 1. 1. 1. 1.]\n",
      "Mean для 5 признаков:  [0.10733029 0.19164798 0.10091055 0.06472551 0.18043039]\n",
      "Variance для 5 признаков:  [0.01103093 0.01661315 0.00977754 0.00844769 0.01101749]\n",
      "Median для 5 признаков:  [0.07604163 0.16084689 0.0735994  0.03326124 0.15601523]\n",
      "Евклидова норма для 5 точек данных:  [2.35073479 1.31353142 0.94522202 1.7360973  1.7482017 ]\n",
      "\n"
     ]
    }
   ],
   "source": [
    "from sklearn.preprocessing import StandardScaler, RobustScaler, MinMaxScaler, Normalizer \n",
    "\n",
    "# создание экземпляра обработчика\n",
    "standard_scaler = StandardScaler()\n",
    "robust_scaler = RobustScaler()\n",
    "normalizer = Normalizer()\n",
    "min_max_scaler = MinMaxScaler()\n",
    "\n",
    "# его \"подгонка\" под данные\n",
    "standard_scaler.fit(X_train)\n",
    "robust_scaler.fit(X_train)\n",
    "normalizer.fit(X_train)\n",
    "min_max_scaler.fit(X_train)\n",
    "\n",
    "# теперь обработчик готов масштабировать данные\n",
    "X_train_scaled_standard = standard_scaler.transform(X_train)\n",
    "X_train_scaled_robust = robust_scaler.transform(X_train)\n",
    "X_train_scaled_normalize = normalizer.transform(X_train)\n",
    "X_train_scaled_minMax = min_max_scaler.transform(X_train)\n",
    "\n",
    "# вместо цепочки методов (fit() and transform())\n",
    "# можно применить специальный метод (fit_transform())\n",
    "# он подразумевает более эффективный способ вычислений\n",
    "\n",
    "\n",
    "train = {'Original data': X_train,\n",
    "         'StandardScaler': X_train_scaled_standard,\n",
    "         'RobustScaler': X_train_scaled_robust,\n",
    "         'Normalizer': X_train_scaled_normalize,\n",
    "         'MinMaxScaler': X_train_scaled_minMax}\n",
    "for key in train.keys():\n",
    "    print(f'--------------------------------------------{key}----------------------------------------')\n",
    "    print('Размер: ', train[key].shape)\n",
    "    print('Min для 5 признаков: ', train[key][:, 10:15].min(axis=0))\n",
    "    print('Max для 5 признаков: ', train[key][:, 10:15].max(axis=0))\n",
    "    print('Mean для 5 признаков: ', train[key][:, 10:15].mean(axis=0))\n",
    "    print('Variance для 5 признаков: ', train[key][:, 10:15].var(axis=0))\n",
    "    print('Median для 5 признаков: ', np.median(train[key][:, 10:15], axis=0))\n",
    "    print('Евклидова норма для 5 точек данных: ', np.linalg.norm(train[key][10:15, :], axis=1))\n",
    "    print()"
   ]
  },
  {
   "cell_type": "markdown",
   "id": "d5a28332",
   "metadata": {},
   "source": [
    "Для дальнейшего обучения классификатора на преобразованных данных, надо аналогичным образом сделать преобразование тестовой выборки. Стоит отметить, что приведенные выше статистики для тестовой выборки могут быть отличными от тех, что мы ожидаем: *все типы масштабирования применяют одинаковое преобразование к тестовому и тренировочному наборам*."
   ]
  },
  {
   "cell_type": "code",
   "execution_count": 68,
   "id": "f0ff6ad0",
   "metadata": {},
   "outputs": [
    {
     "name": "stdout",
     "output_type": "stream",
     "text": [
      "Min для MinMaxScaler на тестовой выборке (для 5 признаков): \n",
      " [-0.00137796  0.00594501  0.00430665  0.00079567  0.03919502]\n"
     ]
    }
   ],
   "source": [
    "X_test_scaled_standard = standard_scaler.transform(X_test)\n",
    "X_test_scaled_robust = robust_scaler.transform(X_test)\n",
    "X_test_scaled_normalize = normalizer.transform(X_test)\n",
    "X_test_scaled_minMax = min_max_scaler.transform(X_test)\n",
    "\n",
    "test = {'Original data': X_test,\n",
    "         'StandardScaler': X_test_scaled_standard,\n",
    "         'RobustScaler': X_test_scaled_robust,\n",
    "         'Normalizer': X_test_scaled_normalize,\n",
    "         'MinMaxScaler': X_test_scaled_minMax}\n",
    "\n",
    "print(f'Min для MinMaxScaler на тестовой выборке (для 5 признаков): \\n {X_test_scaled_minMax[:, 10:15].min(axis=0)}')"
   ]
  },
  {
   "cell_type": "markdown",
   "id": "04bd54bd",
   "metadata": {},
   "source": [
    "$\\color{red}{Важно!}$ Преобразовывать тестовый и тренировочный наборы нужно одинаковым образом. Иными словами, не стоит создавать два экземпляра scaler: один для test, другой для train\n",
    "\n",
    "**Пример ошибочного масштабирования**"
   ]
  },
  {
   "cell_type": "code",
   "execution_count": 69,
   "id": "70e00af2",
   "metadata": {},
   "outputs": [
    {
     "data": {
      "image/png": "[encoded data removed]",
      "text/plain": [
       "<Figure size 1296x504 with 3 Axes>"
      ]
     },
     "metadata": {
      "needs_background": "light"
     },
     "output_type": "display_data"
    }
   ],
   "source": [
    "from sklearn.datasets import make_blobs\n",
    "X, _ = make_blobs(n_samples=50, random_state=3, cluster_std=2, centers=5)\n",
    "X_trn, X_tst = train_test_split(X, random_state=3, test_size=.1)\n",
    "fig, axes = plt.subplots(1, 3, figsize=(18, 7))\n",
    "axes[0].scatter(X_trn[:, 0], X_trn[:, 1], c='b', label='Обучающий набор', s=60)\n",
    "axes[0].scatter(X_tst[:, 0], X_tst[:, 1], c='r', marker='^', label='Тестовый набор', s=60)\n",
    "axes[0].legend(loc='upper left')\n",
    "axes[0].set_title('Original')\n",
    "\n",
    "scaler = MinMaxScaler()\n",
    "X_trn_scaled = scaler.fit_transform(X_trn)\n",
    "X_tst_scaled = scaler.transform(X_tst)\n",
    "axes[1].scatter(X_trn_scaled[:, 0], X_trn_scaled[:, 1], c='b', label='Обучающий набор', s=60)\n",
    "axes[1].scatter(X_tst_scaled[:, 0], X_tst_scaled[:, 1], c='r', marker='^', label='Тестовый набор', s=60)\n",
    "axes[1].legend(loc='upper left')\n",
    "axes[1].set_title('Scaled')\n",
    "\n",
    "X_tst_wrong_scaled = MinMaxScaler().fit_transform(X_tst)\n",
    "axes[2].scatter(X_trn_scaled[:, 0], X_trn_scaled[:, 1], c='b', label='Обучающий набор', s=60)\n",
    "axes[2].scatter(X_tst_wrong_scaled[:, 0], X_tst_wrong_scaled[:, 1], c='r', marker='^', label='Тестовый набор', s=60)\n",
    "axes[2].legend(loc='upper left')\n",
    "axes[2].set_title('Wrong scaled')\n",
    "\n",
    "for ax in axes:\n",
    "    ax.set_xlabel('Первый признак')\n",
    "    ax.set_ylabel('Второй признак')\n"
   ]
  },
  {
   "cell_type": "markdown",
   "id": "54723855",
   "metadata": {},
   "source": [
    "Можно заметить, что при правильном масштабировании точки данных остаются в тех же позициях по отношению друг к другу - меняется только масштаб (значения чисел на осях). При неправильном масштабировании тестовые точки сместились на другие позиции. Это происходит из-за того, что статистики тестового и тренировочного набора, вообще говоря, различны (несмотря на то, что в теории это одно распределение).\n",
    "\n",
    "  \n",
    "    \n",
    "    \n",
    "**Влияние предварительной обработки на контролируемое машинное обучение**"
   ]
  },
  {
   "cell_type": "code",
   "execution_count": 71,
   "id": "b334f567",
   "metadata": {},
   "outputs": [
    {
     "name": "stdout",
     "output_type": "stream",
     "text": [
      "-----------------Original data------------------\n",
      "Точность модели: 0.9090909090909091\n",
      "\n",
      "-----------------StandardScaler------------------\n",
      "Точность модели: 0.965034965034965\n",
      "\n",
      "-----------------RobustScaler------------------\n",
      "Точность модели: 0.965034965034965\n",
      "\n",
      "-----------------Normalizer------------------\n",
      "Точность модели: 0.8461538461538461\n",
      "\n",
      "-----------------MinMaxScaler------------------\n",
      "Точность модели: 0.965034965034965\n",
      "\n"
     ]
    }
   ],
   "source": [
    "from sklearn.svm import SVC\n",
    "model = SVC()\n",
    "\n",
    "for scale_type, dataset in train.items():\n",
    "    print(f'-----------------{scale_type}------------------')\n",
    "    model.fit(dataset, y_train)\n",
    "    print(f'Точность модели: {model.score(test[scale_type], y_test)}')\n",
    "    print()"
   ]
  }
 ],
 "metadata": {
  "kernelspec": {
   "display_name": "Python 3",
   "language": "python",
   "name": "python3"
  },
  "language_info": {
   "codemirror_mode": {
    "name": "ipython",
    "version": 3
   },
   "file_extension": ".py",
   "mimetype": "text/x-python",
   "name": "python",
   "nbconvert_exporter": "python",
   "pygments_lexer": "ipython3",
   "version": "3.8.8"
  },
  "toc": {
   "base_numbering": 1,
   "nav_menu": {},
   "number_sections": true,
   "sideBar": true,
   "skip_h1_title": false,
   "title_cell": "Table of Contents",
   "title_sidebar": "Contents",
   "toc_cell": false,
   "toc_position": {},
   "toc_section_display": true,
   "toc_window_display": false
  }
 },
 "nbformat": 4,
 "nbformat_minor": 5
}
