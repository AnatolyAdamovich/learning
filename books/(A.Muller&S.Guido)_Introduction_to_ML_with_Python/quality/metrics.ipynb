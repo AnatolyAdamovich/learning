{
 "cells": [
  {
   "cell_type": "markdown",
   "id": "73966ed6",
   "metadata": {},
   "source": [
    "# Метрики качества моделей\n",
    "Выбирая метрику, нужно помнить о конечной цели проекта.  \n",
    "*Business metric* - это высокоуровневая цель проекта;  \n",
    "*Business impact* - это последствия выбора конкретного алгоритма в рамках проекта;  \n",
    "Необходимо выбирать такую модель, которая оказывает положительное влияние на бизнес-метрику. Часто оценить business impact удается только после внедрения модели в производство."
   ]
  },
  {
   "cell_type": "code",
   "execution_count": null,
   "id": "1b6a887f",
   "metadata": {},
   "outputs": [],
   "source": []
  },
  {
   "cell_type": "code",
   "execution_count": null,
   "id": "050586c4",
   "metadata": {},
   "outputs": [],
   "source": []
  },
  {
   "cell_type": "code",
   "execution_count": null,
   "id": "24d40901",
   "metadata": {},
   "outputs": [],
   "source": []
  }
 ],
 "metadata": {
  "kernelspec": {
   "display_name": "Python 3",
   "language": "python",
   "name": "python3"
  },
  "language_info": {
   "codemirror_mode": {
    "name": "ipython",
    "version": 3
   },
   "file_extension": ".py",
   "mimetype": "text/x-python",
   "name": "python",
   "nbconvert_exporter": "python",
   "pygments_lexer": "ipython3",
   "version": "3.8.8"
  },
  "toc": {
   "base_numbering": 1,
   "nav_menu": {},
   "number_sections": true,
   "sideBar": true,
   "skip_h1_title": false,
   "title_cell": "Table of Contents",
   "title_sidebar": "Contents",
   "toc_cell": false,
   "toc_position": {},
   "toc_section_display": true,
   "toc_window_display": false
  }
 },
 "nbformat": 4,
 "nbformat_minor": 5
}
