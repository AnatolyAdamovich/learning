{
 "cells": [
  {
   "cell_type": "code",
   "execution_count": 25,
   "id": "cbefeddc",
   "metadata": {},
   "outputs": [],
   "source": [
    "import pandas as pd\n",
    "import seaborn as sns\n",
    "import numpy as np\n",
    "import matplotlib.pyplot as plt\n",
    "%matplotlib inline\n",
    "\n",
    "np.random.seed(0)"
   ]
  },
  {
   "cell_type": "markdown",
   "id": "89c983d4",
   "metadata": {
    "papermill": {
     "duration": 0.010018,
     "end_time": "2022-07-13T21:23:46.647696",
     "exception": false,
     "start_time": "2022-07-13T21:23:46.637678",
     "status": "completed"
    },
    "tags": []
   },
   "source": [
    "# Загрузка данных и первичный анализ"
   ]
  },
  {
   "cell_type": "code",
   "execution_count": 26,
   "id": "9ceb0222",
   "metadata": {
    "execution": {
     "iopub.execute_input": "2022-07-13T21:23:46.670829Z",
     "iopub.status.busy": "2022-07-13T21:23:46.670070Z",
     "iopub.status.idle": "2022-07-13T21:23:46.723625Z",
     "shell.execute_reply": "2022-07-13T21:23:46.721937Z"
    },
    "papermill": {
     "duration": 0.068174,
     "end_time": "2022-07-13T21:23:46.726055",
     "exception": false,
     "start_time": "2022-07-13T21:23:46.657881",
     "status": "completed"
    },
    "tags": []
   },
   "outputs": [
    {
     "name": "stdout",
     "output_type": "stream",
     "text": [
      "Количество наблюдений в train: 891\n"
     ]
    },
    {
     "data": {
      "text/html": [
       "<div>\n",
       "<style scoped>\n",
       "    .dataframe tbody tr th:only-of-type {\n",
       "        vertical-align: middle;\n",
       "    }\n",
       "\n",
       "    .dataframe tbody tr th {\n",
       "        vertical-align: top;\n",
       "    }\n",
       "\n",
       "    .dataframe thead th {\n",
       "        text-align: right;\n",
       "    }\n",
       "</style>\n",
       "<table border=\"1\" class=\"dataframe\">\n",
       "  <thead>\n",
       "    <tr style=\"text-align: right;\">\n",
       "      <th></th>\n",
       "      <th>Survived</th>\n",
       "      <th>Pclass</th>\n",
       "      <th>Name</th>\n",
       "      <th>Sex</th>\n",
       "      <th>Age</th>\n",
       "      <th>SibSp</th>\n",
       "      <th>Parch</th>\n",
       "      <th>Ticket</th>\n",
       "      <th>Fare</th>\n",
       "      <th>Cabin</th>\n",
       "      <th>Embarked</th>\n",
       "    </tr>\n",
       "  </thead>\n",
       "  <tbody>\n",
       "    <tr>\n",
       "      <th>495</th>\n",
       "      <td>0</td>\n",
       "      <td>3</td>\n",
       "      <td>Yousseff, Mr. Gerious</td>\n",
       "      <td>male</td>\n",
       "      <td>NaN</td>\n",
       "      <td>0</td>\n",
       "      <td>0</td>\n",
       "      <td>2627</td>\n",
       "      <td>14.4583</td>\n",
       "      <td>NaN</td>\n",
       "      <td>C</td>\n",
       "    </tr>\n",
       "    <tr>\n",
       "      <th>648</th>\n",
       "      <td>0</td>\n",
       "      <td>3</td>\n",
       "      <td>Willey, Mr. Edward</td>\n",
       "      <td>male</td>\n",
       "      <td>NaN</td>\n",
       "      <td>0</td>\n",
       "      <td>0</td>\n",
       "      <td>S.O./P.P. 751</td>\n",
       "      <td>7.5500</td>\n",
       "      <td>NaN</td>\n",
       "      <td>S</td>\n",
       "    </tr>\n",
       "    <tr>\n",
       "      <th>278</th>\n",
       "      <td>0</td>\n",
       "      <td>3</td>\n",
       "      <td>Rice, Master. Eric</td>\n",
       "      <td>male</td>\n",
       "      <td>7.0</td>\n",
       "      <td>4</td>\n",
       "      <td>1</td>\n",
       "      <td>382652</td>\n",
       "      <td>29.1250</td>\n",
       "      <td>NaN</td>\n",
       "      <td>Q</td>\n",
       "    </tr>\n",
       "    <tr>\n",
       "      <th>31</th>\n",
       "      <td>1</td>\n",
       "      <td>1</td>\n",
       "      <td>Spencer, Mrs. William Augustus (Marie Eugenie)</td>\n",
       "      <td>female</td>\n",
       "      <td>NaN</td>\n",
       "      <td>1</td>\n",
       "      <td>0</td>\n",
       "      <td>PC 17569</td>\n",
       "      <td>146.5208</td>\n",
       "      <td>B78</td>\n",
       "      <td>C</td>\n",
       "    </tr>\n",
       "    <tr>\n",
       "      <th>255</th>\n",
       "      <td>1</td>\n",
       "      <td>3</td>\n",
       "      <td>Touma, Mrs. Darwis (Hanne Youssef Razi)</td>\n",
       "      <td>female</td>\n",
       "      <td>29.0</td>\n",
       "      <td>0</td>\n",
       "      <td>2</td>\n",
       "      <td>2650</td>\n",
       "      <td>15.2458</td>\n",
       "      <td>NaN</td>\n",
       "      <td>C</td>\n",
       "    </tr>\n",
       "  </tbody>\n",
       "</table>\n",
       "</div>"
      ],
      "text/plain": [
       "     Survived  Pclass                                            Name     Sex  \\\n",
       "495         0       3                           Yousseff, Mr. Gerious    male   \n",
       "648         0       3                              Willey, Mr. Edward    male   \n",
       "278         0       3                              Rice, Master. Eric    male   \n",
       "31          1       1  Spencer, Mrs. William Augustus (Marie Eugenie)  female   \n",
       "255         1       3         Touma, Mrs. Darwis (Hanne Youssef Razi)  female   \n",
       "\n",
       "      Age  SibSp  Parch         Ticket      Fare Cabin Embarked  \n",
       "495   NaN      0      0           2627   14.4583   NaN        C  \n",
       "648   NaN      0      0  S.O./P.P. 751    7.5500   NaN        S  \n",
       "278   7.0      4      1         382652   29.1250   NaN        Q  \n",
       "31    NaN      1      0       PC 17569  146.5208   B78        C  \n",
       "255  29.0      0      2           2650   15.2458   NaN        C  "
      ]
     },
     "execution_count": 26,
     "metadata": {},
     "output_type": "execute_result"
    }
   ],
   "source": [
    "titanic_data = pd.read_csv('data/titanic/train.csv',\n",
    "                           index_col='PassengerId')\n",
    "titanic_data = titanic_data.reset_index(drop=True)\n",
    "print('Количество наблюдений в train:', len(titanic_data))\n",
    "titanic_data.sample(5)"
   ]
  },
  {
   "cell_type": "code",
   "execution_count": null,
   "id": "c79bf07f",
   "metadata": {
    "papermill": {
     "duration": 0.010547,
     "end_time": "2022-07-13T21:23:46.747114",
     "exception": false,
     "start_time": "2022-07-13T21:23:46.736567",
     "status": "completed"
    },
    "tags": []
   },
   "outputs": [],
   "source": []
  },
  {
   "cell_type": "code",
   "execution_count": 27,
   "id": "6ef255ed",
   "metadata": {
    "execution": {
     "iopub.execute_input": "2022-07-13T21:23:46.771546Z",
     "iopub.status.busy": "2022-07-13T21:23:46.770813Z",
     "iopub.status.idle": "2022-07-13T21:23:46.778771Z",
     "shell.execute_reply": "2022-07-13T21:23:46.777592Z"
    },
    "papermill": {
     "duration": 0.022823,
     "end_time": "2022-07-13T21:23:46.781018",
     "exception": false,
     "start_time": "2022-07-13T21:23:46.758195",
     "status": "completed"
    },
    "tags": []
   },
   "outputs": [
    {
     "data": {
      "text/plain": [
       "Survived      int64\n",
       "Pclass        int64\n",
       "Name         object\n",
       "Sex          object\n",
       "Age         float64\n",
       "SibSp         int64\n",
       "Parch         int64\n",
       "Ticket       object\n",
       "Fare        float64\n",
       "Cabin        object\n",
       "Embarked     object\n",
       "dtype: object"
      ]
     },
     "execution_count": 27,
     "metadata": {},
     "output_type": "execute_result"
    }
   ],
   "source": [
    "# типы данных\n",
    "titanic_data.dtypes"
   ]
  },
  {
   "cell_type": "code",
   "execution_count": 28,
   "id": "b3fb2b16",
   "metadata": {
    "execution": {
     "iopub.execute_input": "2022-07-13T21:23:46.805667Z",
     "iopub.status.busy": "2022-07-13T21:23:46.804912Z",
     "iopub.status.idle": "2022-07-13T21:23:46.815136Z",
     "shell.execute_reply": "2022-07-13T21:23:46.814198Z"
    },
    "papermill": {
     "duration": 0.025811,
     "end_time": "2022-07-13T21:23:46.817472",
     "exception": false,
     "start_time": "2022-07-13T21:23:46.791661",
     "status": "completed"
    },
    "tags": []
   },
   "outputs": [
    {
     "data": {
      "text/plain": [
       "Survived      0\n",
       "Pclass        0\n",
       "Name          0\n",
       "Sex           0\n",
       "Age         177\n",
       "SibSp         0\n",
       "Parch         0\n",
       "Ticket        0\n",
       "Fare          0\n",
       "Cabin       687\n",
       "Embarked      2\n",
       "dtype: int64"
      ]
     },
     "execution_count": 28,
     "metadata": {},
     "output_type": "execute_result"
    }
   ],
   "source": [
    "# пропущенные значения\n",
    "titanic_data.isnull().sum()"
   ]
  },
  {
   "cell_type": "code",
   "execution_count": 29,
   "id": "262af910",
   "metadata": {
    "execution": {
     "iopub.execute_input": "2022-07-13T21:23:46.841736Z",
     "iopub.status.busy": "2022-07-13T21:23:46.840879Z",
     "iopub.status.idle": "2022-07-13T21:23:46.850811Z",
     "shell.execute_reply": "2022-07-13T21:23:46.849940Z"
    },
    "papermill": {
     "duration": 0.024414,
     "end_time": "2022-07-13T21:23:46.852988",
     "exception": false,
     "start_time": "2022-07-13T21:23:46.828574",
     "status": "completed"
    },
    "tags": []
   },
   "outputs": [
    {
     "data": {
      "text/plain": [
       "681"
      ]
     },
     "execution_count": 29,
     "metadata": {},
     "output_type": "execute_result"
    }
   ],
   "source": [
    "titanic_data['Ticket'].nunique()"
   ]
  },
  {
   "cell_type": "markdown",
   "id": "3ab9be87",
   "metadata": {
    "papermill": {
     "duration": 0.011207,
     "end_time": "2022-07-13T21:23:46.875949",
     "exception": false,
     "start_time": "2022-07-13T21:23:46.864742",
     "status": "completed"
    },
    "tags": []
   },
   "source": [
    "# Формирование обучающей выборки\n",
    "**Удалим** признаки:\n",
    " - Name\n",
    " - Cabin\n",
    " - Ticket"
   ]
  },
  {
   "cell_type": "code",
   "execution_count": 30,
   "id": "c580f84f",
   "metadata": {
    "execution": {
     "iopub.execute_input": "2022-07-13T21:23:46.900755Z",
     "iopub.status.busy": "2022-07-13T21:23:46.900034Z",
     "iopub.status.idle": "2022-07-13T21:23:46.906431Z",
     "shell.execute_reply": "2022-07-13T21:23:46.905565Z"
    },
    "papermill": {
     "duration": 0.02137,
     "end_time": "2022-07-13T21:23:46.908996",
     "exception": false,
     "start_time": "2022-07-13T21:23:46.887626",
     "status": "completed"
    },
    "tags": []
   },
   "outputs": [],
   "source": [
    "X = titanic_data.drop(['Name', 'Cabin', 'Ticket', 'Survived'], axis=1)\n",
    "y = titanic_data['Survived']"
   ]
  },
  {
   "cell_type": "markdown",
   "id": "2e18c71e",
   "metadata": {
    "papermill": {
     "duration": 0.011305,
     "end_time": "2022-07-13T21:23:46.931678",
     "exception": false,
     "start_time": "2022-07-13T21:23:46.920373",
     "status": "completed"
    },
    "tags": []
   },
   "source": [
    "# Кодирование номинативных переменных\n",
    "Будем использовать OneHotEncoding подход"
   ]
  },
  {
   "cell_type": "code",
   "execution_count": 31,
   "id": "5f8fa5ee",
   "metadata": {
    "execution": {
     "iopub.execute_input": "2022-07-13T21:23:46.957101Z",
     "iopub.status.busy": "2022-07-13T21:23:46.956362Z",
     "iopub.status.idle": "2022-07-13T21:23:46.970025Z",
     "shell.execute_reply": "2022-07-13T21:23:46.969004Z"
    },
    "papermill": {
     "duration": 0.028733,
     "end_time": "2022-07-13T21:23:46.972365",
     "exception": false,
     "start_time": "2022-07-13T21:23:46.943632",
     "status": "completed"
    },
    "tags": []
   },
   "outputs": [
    {
     "data": {
      "text/html": [
       "<div>\n",
       "<style scoped>\n",
       "    .dataframe tbody tr th:only-of-type {\n",
       "        vertical-align: middle;\n",
       "    }\n",
       "\n",
       "    .dataframe tbody tr th {\n",
       "        vertical-align: top;\n",
       "    }\n",
       "\n",
       "    .dataframe thead th {\n",
       "        text-align: right;\n",
       "    }\n",
       "</style>\n",
       "<table border=\"1\" class=\"dataframe\">\n",
       "  <thead>\n",
       "    <tr style=\"text-align: right;\">\n",
       "      <th></th>\n",
       "      <th>Pclass</th>\n",
       "      <th>Sex</th>\n",
       "      <th>Age</th>\n",
       "      <th>SibSp</th>\n",
       "      <th>Parch</th>\n",
       "      <th>Fare</th>\n",
       "      <th>Embarked</th>\n",
       "    </tr>\n",
       "  </thead>\n",
       "  <tbody>\n",
       "    <tr>\n",
       "      <th>0</th>\n",
       "      <td>3</td>\n",
       "      <td>male</td>\n",
       "      <td>22.0</td>\n",
       "      <td>1</td>\n",
       "      <td>0</td>\n",
       "      <td>7.2500</td>\n",
       "      <td>S</td>\n",
       "    </tr>\n",
       "    <tr>\n",
       "      <th>1</th>\n",
       "      <td>1</td>\n",
       "      <td>female</td>\n",
       "      <td>38.0</td>\n",
       "      <td>1</td>\n",
       "      <td>0</td>\n",
       "      <td>71.2833</td>\n",
       "      <td>C</td>\n",
       "    </tr>\n",
       "    <tr>\n",
       "      <th>2</th>\n",
       "      <td>3</td>\n",
       "      <td>female</td>\n",
       "      <td>26.0</td>\n",
       "      <td>0</td>\n",
       "      <td>0</td>\n",
       "      <td>7.9250</td>\n",
       "      <td>S</td>\n",
       "    </tr>\n",
       "    <tr>\n",
       "      <th>3</th>\n",
       "      <td>1</td>\n",
       "      <td>female</td>\n",
       "      <td>35.0</td>\n",
       "      <td>1</td>\n",
       "      <td>0</td>\n",
       "      <td>53.1000</td>\n",
       "      <td>S</td>\n",
       "    </tr>\n",
       "    <tr>\n",
       "      <th>4</th>\n",
       "      <td>3</td>\n",
       "      <td>male</td>\n",
       "      <td>35.0</td>\n",
       "      <td>0</td>\n",
       "      <td>0</td>\n",
       "      <td>8.0500</td>\n",
       "      <td>S</td>\n",
       "    </tr>\n",
       "  </tbody>\n",
       "</table>\n",
       "</div>"
      ],
      "text/plain": [
       "   Pclass     Sex   Age  SibSp  Parch     Fare Embarked\n",
       "0       3    male  22.0      1      0   7.2500        S\n",
       "1       1  female  38.0      1      0  71.2833        C\n",
       "2       3  female  26.0      0      0   7.9250        S\n",
       "3       1  female  35.0      1      0  53.1000        S\n",
       "4       3    male  35.0      0      0   8.0500        S"
      ]
     },
     "execution_count": 31,
     "metadata": {},
     "output_type": "execute_result"
    }
   ],
   "source": [
    "X.head()"
   ]
  },
  {
   "cell_type": "code",
   "execution_count": 32,
   "id": "6a47a8c0",
   "metadata": {
    "execution": {
     "iopub.execute_input": "2022-07-13T21:23:46.997308Z",
     "iopub.status.busy": "2022-07-13T21:23:46.996598Z",
     "iopub.status.idle": "2022-07-13T21:23:47.016192Z",
     "shell.execute_reply": "2022-07-13T21:23:47.015323Z"
    },
    "papermill": {
     "duration": 0.034425,
     "end_time": "2022-07-13T21:23:47.018494",
     "exception": false,
     "start_time": "2022-07-13T21:23:46.984069",
     "status": "completed"
    },
    "tags": []
   },
   "outputs": [
    {
     "data": {
      "text/html": [
       "<div>\n",
       "<style scoped>\n",
       "    .dataframe tbody tr th:only-of-type {\n",
       "        vertical-align: middle;\n",
       "    }\n",
       "\n",
       "    .dataframe tbody tr th {\n",
       "        vertical-align: top;\n",
       "    }\n",
       "\n",
       "    .dataframe thead th {\n",
       "        text-align: right;\n",
       "    }\n",
       "</style>\n",
       "<table border=\"1\" class=\"dataframe\">\n",
       "  <thead>\n",
       "    <tr style=\"text-align: right;\">\n",
       "      <th></th>\n",
       "      <th>Pclass</th>\n",
       "      <th>Age</th>\n",
       "      <th>SibSp</th>\n",
       "      <th>Parch</th>\n",
       "      <th>Fare</th>\n",
       "      <th>Sex_female</th>\n",
       "      <th>Sex_male</th>\n",
       "      <th>Embarked_C</th>\n",
       "      <th>Embarked_Q</th>\n",
       "      <th>Embarked_S</th>\n",
       "    </tr>\n",
       "  </thead>\n",
       "  <tbody>\n",
       "    <tr>\n",
       "      <th>710</th>\n",
       "      <td>1</td>\n",
       "      <td>24.0</td>\n",
       "      <td>0</td>\n",
       "      <td>0</td>\n",
       "      <td>49.5042</td>\n",
       "      <td>1</td>\n",
       "      <td>0</td>\n",
       "      <td>1</td>\n",
       "      <td>0</td>\n",
       "      <td>0</td>\n",
       "    </tr>\n",
       "    <tr>\n",
       "      <th>481</th>\n",
       "      <td>2</td>\n",
       "      <td>NaN</td>\n",
       "      <td>0</td>\n",
       "      <td>0</td>\n",
       "      <td>0.0000</td>\n",
       "      <td>0</td>\n",
       "      <td>1</td>\n",
       "      <td>0</td>\n",
       "      <td>0</td>\n",
       "      <td>1</td>\n",
       "    </tr>\n",
       "    <tr>\n",
       "      <th>726</th>\n",
       "      <td>2</td>\n",
       "      <td>30.0</td>\n",
       "      <td>3</td>\n",
       "      <td>0</td>\n",
       "      <td>21.0000</td>\n",
       "      <td>1</td>\n",
       "      <td>0</td>\n",
       "      <td>0</td>\n",
       "      <td>0</td>\n",
       "      <td>1</td>\n",
       "    </tr>\n",
       "  </tbody>\n",
       "</table>\n",
       "</div>"
      ],
      "text/plain": [
       "     Pclass   Age  SibSp  Parch     Fare  Sex_female  Sex_male  Embarked_C  \\\n",
       "710       1  24.0      0      0  49.5042           1         0           1   \n",
       "481       2   NaN      0      0   0.0000           0         1           0   \n",
       "726       2  30.0      3      0  21.0000           1         0           0   \n",
       "\n",
       "     Embarked_Q  Embarked_S  \n",
       "710           0           0  \n",
       "481           0           1  \n",
       "726           0           1  "
      ]
     },
     "execution_count": 32,
     "metadata": {},
     "output_type": "execute_result"
    }
   ],
   "source": [
    "X = pd.get_dummies(X)\n",
    "X.sample(3)"
   ]
  },
  {
   "cell_type": "code",
   "execution_count": 33,
   "id": "dfd1ddbe",
   "metadata": {
    "execution": {
     "iopub.execute_input": "2022-07-13T21:23:47.043724Z",
     "iopub.status.busy": "2022-07-13T21:23:47.043072Z",
     "iopub.status.idle": "2022-07-13T21:23:47.061734Z",
     "shell.execute_reply": "2022-07-13T21:23:47.060808Z"
    },
    "papermill": {
     "duration": 0.034052,
     "end_time": "2022-07-13T21:23:47.064168",
     "exception": false,
     "start_time": "2022-07-13T21:23:47.030116",
     "status": "completed"
    },
    "tags": []
   },
   "outputs": [
    {
     "data": {
      "text/html": [
       "<div>\n",
       "<style scoped>\n",
       "    .dataframe tbody tr th:only-of-type {\n",
       "        vertical-align: middle;\n",
       "    }\n",
       "\n",
       "    .dataframe tbody tr th {\n",
       "        vertical-align: top;\n",
       "    }\n",
       "\n",
       "    .dataframe thead th {\n",
       "        text-align: right;\n",
       "    }\n",
       "</style>\n",
       "<table border=\"1\" class=\"dataframe\">\n",
       "  <thead>\n",
       "    <tr style=\"text-align: right;\">\n",
       "      <th></th>\n",
       "      <th>Pclass</th>\n",
       "      <th>Age</th>\n",
       "      <th>SibSp</th>\n",
       "      <th>Parch</th>\n",
       "      <th>Fare</th>\n",
       "      <th>Sex_male</th>\n",
       "      <th>Embarked_C</th>\n",
       "      <th>Embarked_Q</th>\n",
       "      <th>Embarked_S</th>\n",
       "    </tr>\n",
       "  </thead>\n",
       "  <tbody>\n",
       "    <tr>\n",
       "      <th>0</th>\n",
       "      <td>3</td>\n",
       "      <td>22.0</td>\n",
       "      <td>1</td>\n",
       "      <td>0</td>\n",
       "      <td>7.2500</td>\n",
       "      <td>1</td>\n",
       "      <td>0</td>\n",
       "      <td>0</td>\n",
       "      <td>1</td>\n",
       "    </tr>\n",
       "    <tr>\n",
       "      <th>1</th>\n",
       "      <td>1</td>\n",
       "      <td>38.0</td>\n",
       "      <td>1</td>\n",
       "      <td>0</td>\n",
       "      <td>71.2833</td>\n",
       "      <td>0</td>\n",
       "      <td>1</td>\n",
       "      <td>0</td>\n",
       "      <td>0</td>\n",
       "    </tr>\n",
       "    <tr>\n",
       "      <th>2</th>\n",
       "      <td>3</td>\n",
       "      <td>26.0</td>\n",
       "      <td>0</td>\n",
       "      <td>0</td>\n",
       "      <td>7.9250</td>\n",
       "      <td>0</td>\n",
       "      <td>0</td>\n",
       "      <td>0</td>\n",
       "      <td>1</td>\n",
       "    </tr>\n",
       "    <tr>\n",
       "      <th>3</th>\n",
       "      <td>1</td>\n",
       "      <td>35.0</td>\n",
       "      <td>1</td>\n",
       "      <td>0</td>\n",
       "      <td>53.1000</td>\n",
       "      <td>0</td>\n",
       "      <td>0</td>\n",
       "      <td>0</td>\n",
       "      <td>1</td>\n",
       "    </tr>\n",
       "    <tr>\n",
       "      <th>4</th>\n",
       "      <td>3</td>\n",
       "      <td>35.0</td>\n",
       "      <td>0</td>\n",
       "      <td>0</td>\n",
       "      <td>8.0500</td>\n",
       "      <td>1</td>\n",
       "      <td>0</td>\n",
       "      <td>0</td>\n",
       "      <td>1</td>\n",
       "    </tr>\n",
       "  </tbody>\n",
       "</table>\n",
       "</div>"
      ],
      "text/plain": [
       "   Pclass   Age  SibSp  Parch     Fare  Sex_male  Embarked_C  Embarked_Q  \\\n",
       "0       3  22.0      1      0   7.2500         1           0           0   \n",
       "1       1  38.0      1      0  71.2833         0           1           0   \n",
       "2       3  26.0      0      0   7.9250         0           0           0   \n",
       "3       1  35.0      1      0  53.1000         0           0           0   \n",
       "4       3  35.0      0      0   8.0500         1           0           0   \n",
       "\n",
       "   Embarked_S  \n",
       "0           1  \n",
       "1           0  \n",
       "2           1  \n",
       "3           1  \n",
       "4           1  "
      ]
     },
     "execution_count": 33,
     "metadata": {},
     "output_type": "execute_result"
    }
   ],
   "source": [
    "X = X.drop('Sex_female', axis=1)\n",
    "X = X.fillna({'Age': X.Age.median()})\n",
    "X.head()"
   ]
  },
  {
   "cell_type": "markdown",
   "id": "11b5a5ed",
   "metadata": {
    "papermill": {
     "duration": 0.012005,
     "end_time": "2022-07-13T21:23:47.089216",
     "exception": false,
     "start_time": "2022-07-13T21:23:47.077211",
     "status": "completed"
    },
    "tags": []
   },
   "source": [
    "# Модель: решающее дерево\n",
    "Решающее дерево не находит закономерности в данных. Оно лишь пытается \"подойти\" под данные. Поэтому необходимо тщательно регулировать параметры обучения (в частности параметр max_depth, который ограничивает высоту дерева)."
   ]
  },
  {
   "cell_type": "code",
   "execution_count": 34,
   "id": "317368b5",
   "metadata": {
    "execution": {
     "iopub.execute_input": "2022-07-13T21:23:47.116275Z",
     "iopub.status.busy": "2022-07-13T21:23:47.115630Z",
     "iopub.status.idle": "2022-07-13T21:23:47.512349Z",
     "shell.execute_reply": "2022-07-13T21:23:47.510884Z"
    },
    "papermill": {
     "duration": 0.41452,
     "end_time": "2022-07-13T21:23:47.516345",
     "exception": false,
     "start_time": "2022-07-13T21:23:47.101825",
     "status": "completed"
    },
    "tags": []
   },
   "outputs": [
    {
     "name": "stdout",
     "output_type": "stream",
     "text": [
      "Качество:  0.8430493273542601\n"
     ]
    }
   ],
   "source": [
    "from sklearn.tree import DecisionTreeClassifier\n",
    "from sklearn.model_selection import train_test_split\n",
    "\n",
    "\n",
    "X_train, X_test, y_train, y_test = train_test_split(X, y, random_state=19)\n",
    "clf = DecisionTreeClassifier(criterion='entropy', max_depth=7)\n",
    "clf.fit(X_train, y_train)\n",
    "\n",
    "print('Качество: ', clf.score(X_test, y_test))"
   ]
  },
  {
   "cell_type": "code",
   "execution_count": 35,
   "id": "c840b382",
   "metadata": {
    "execution": {
     "iopub.execute_input": "2022-07-13T21:23:47.542867Z",
     "iopub.status.busy": "2022-07-13T21:23:47.541859Z",
     "iopub.status.idle": "2022-07-13T21:23:48.358788Z",
     "shell.execute_reply": "2022-07-13T21:23:48.357587Z"
    },
    "papermill": {
     "duration": 0.83221,
     "end_time": "2022-07-13T21:23:48.361114",
     "exception": false,
     "start_time": "2022-07-13T21:23:47.528904",
     "status": "completed"
    },
    "tags": []
   },
   "outputs": [
    {
     "data": {
      "text/html": [
       "<div>\n",
       "<style scoped>\n",
       "    .dataframe tbody tr th:only-of-type {\n",
       "        vertical-align: middle;\n",
       "    }\n",
       "\n",
       "    .dataframe tbody tr th {\n",
       "        vertical-align: top;\n",
       "    }\n",
       "\n",
       "    .dataframe thead th {\n",
       "        text-align: right;\n",
       "    }\n",
       "</style>\n",
       "<table border=\"1\" class=\"dataframe\">\n",
       "  <thead>\n",
       "    <tr style=\"text-align: right;\">\n",
       "      <th></th>\n",
       "      <th>depth</th>\n",
       "      <th>test score</th>\n",
       "      <th>train score</th>\n",
       "    </tr>\n",
       "  </thead>\n",
       "  <tbody>\n",
       "    <tr>\n",
       "      <th>95</th>\n",
       "      <td>96.0</td>\n",
       "      <td>0.811659</td>\n",
       "      <td>0.983533</td>\n",
       "    </tr>\n",
       "    <tr>\n",
       "      <th>77</th>\n",
       "      <td>78.0</td>\n",
       "      <td>0.802691</td>\n",
       "      <td>0.983533</td>\n",
       "    </tr>\n",
       "    <tr>\n",
       "      <th>48</th>\n",
       "      <td>49.0</td>\n",
       "      <td>0.811659</td>\n",
       "      <td>0.983533</td>\n",
       "    </tr>\n",
       "  </tbody>\n",
       "</table>\n",
       "</div>"
      ],
      "text/plain": [
       "    depth  test score  train score\n",
       "95   96.0    0.811659     0.983533\n",
       "77   78.0    0.802691     0.983533\n",
       "48   49.0    0.811659     0.983533"
      ]
     },
     "execution_count": 35,
     "metadata": {},
     "output_type": "execute_result"
    }
   ],
   "source": [
    "depths = range(1, 100)\n",
    "scores = pd.DataFrame(columns=['depth', 'test score', 'train score'])\n",
    "\n",
    "for i in depths:\n",
    "    clf = DecisionTreeClassifier(criterion='entropy', max_depth=i)\n",
    "    clf.fit(X_train, y_train)\n",
    "    train_accuracy = clf.score(X_train, y_train)\n",
    "    test_accuracy = clf.score(X_test, y_test)\n",
    "    scores.loc[len(scores)] = [i, test_accuracy, train_accuracy]\n",
    "scores.sample(3)"
   ]
  },
  {
   "cell_type": "code",
   "execution_count": 36,
   "id": "e2538ca4",
   "metadata": {
    "execution": {
     "iopub.execute_input": "2022-07-13T21:23:48.387128Z",
     "iopub.status.busy": "2022-07-13T21:23:48.386527Z",
     "iopub.status.idle": "2022-07-13T21:23:48.401687Z",
     "shell.execute_reply": "2022-07-13T21:23:48.400817Z"
    },
    "papermill": {
     "duration": 0.030733,
     "end_time": "2022-07-13T21:23:48.403780",
     "exception": false,
     "start_time": "2022-07-13T21:23:48.373047",
     "status": "completed"
    },
    "tags": []
   },
   "outputs": [
    {
     "data": {
      "text/html": [
       "<div>\n",
       "<style scoped>\n",
       "    .dataframe tbody tr th:only-of-type {\n",
       "        vertical-align: middle;\n",
       "    }\n",
       "\n",
       "    .dataframe tbody tr th {\n",
       "        vertical-align: top;\n",
       "    }\n",
       "\n",
       "    .dataframe thead th {\n",
       "        text-align: right;\n",
       "    }\n",
       "</style>\n",
       "<table border=\"1\" class=\"dataframe\">\n",
       "  <thead>\n",
       "    <tr style=\"text-align: right;\">\n",
       "      <th></th>\n",
       "      <th>depth</th>\n",
       "      <th>type</th>\n",
       "      <th>score</th>\n",
       "    </tr>\n",
       "  </thead>\n",
       "  <tbody>\n",
       "    <tr>\n",
       "      <th>168</th>\n",
       "      <td>70.0</td>\n",
       "      <td>train score</td>\n",
       "      <td>0.983533</td>\n",
       "    </tr>\n",
       "    <tr>\n",
       "      <th>176</th>\n",
       "      <td>78.0</td>\n",
       "      <td>train score</td>\n",
       "      <td>0.983533</td>\n",
       "    </tr>\n",
       "    <tr>\n",
       "      <th>33</th>\n",
       "      <td>34.0</td>\n",
       "      <td>test score</td>\n",
       "      <td>0.807175</td>\n",
       "    </tr>\n",
       "  </tbody>\n",
       "</table>\n",
       "</div>"
      ],
      "text/plain": [
       "     depth         type     score\n",
       "168   70.0  train score  0.983533\n",
       "176   78.0  train score  0.983533\n",
       "33    34.0   test score  0.807175"
      ]
     },
     "execution_count": 36,
     "metadata": {},
     "output_type": "execute_result"
    }
   ],
   "source": [
    "# перейдем теперь к другому формату представления данных: train/test score -> score\n",
    "scores = pd.melt(scores,\n",
    "                 id_vars=['depth'],\n",
    "                 value_vars=['test score', 'train score'],\n",
    "                 var_name='type',\n",
    "                 value_name='score')\n",
    "scores.sample(3)"
   ]
  },
  {
   "cell_type": "code",
   "execution_count": 37,
   "id": "72291815",
   "metadata": {
    "execution": {
     "iopub.execute_input": "2022-07-13T21:23:48.430498Z",
     "iopub.status.busy": "2022-07-13T21:23:48.429921Z",
     "iopub.status.idle": "2022-07-13T21:23:48.702517Z",
     "shell.execute_reply": "2022-07-13T21:23:48.701189Z"
    },
    "papermill": {
     "duration": 0.289297,
     "end_time": "2022-07-13T21:23:48.705145",
     "exception": false,
     "start_time": "2022-07-13T21:23:48.415848",
     "status": "completed"
    },
    "tags": []
   },
   "outputs": [
    {
     "data": {
      "text/plain": [
       "<AxesSubplot:xlabel='depth', ylabel='score'>"
      ]
     },
     "execution_count": 37,
     "metadata": {},
     "output_type": "execute_result"
    },
    {
     "data": {
      "image/png": "[encoded data removed]",
      "text/plain": [
       "<Figure size 432x288 with 1 Axes>"
      ]
     },
     "metadata": {
      "needs_background": "light"
     },
     "output_type": "display_data"
    }
   ],
   "source": [
    "sns.lineplot(x='depth', y='score', hue='type', data=scores)"
   ]
  },
  {
   "cell_type": "code",
   "execution_count": 38,
   "id": "835ebfd0",
   "metadata": {
    "execution": {
     "iopub.execute_input": "2022-07-13T21:23:48.733140Z",
     "iopub.status.busy": "2022-07-13T21:23:48.732565Z",
     "iopub.status.idle": "2022-07-13T21:23:48.743869Z",
     "shell.execute_reply": "2022-07-13T21:23:48.742757Z"
    },
    "papermill": {
     "duration": 0.028368,
     "end_time": "2022-07-13T21:23:48.746328",
     "exception": false,
     "start_time": "2022-07-13T21:23:48.717960",
     "status": "completed"
    },
    "tags": []
   },
   "outputs": [
    {
     "data": {
      "text/plain": [
       "type\n",
       "test score     0.838565\n",
       "train score    0.983533\n",
       "Name: score, dtype: float64"
      ]
     },
     "execution_count": 38,
     "metadata": {},
     "output_type": "execute_result"
    }
   ],
   "source": [
    "scores.groupby('type')['score'].max()"
   ]
  },
  {
   "cell_type": "code",
   "execution_count": 39,
   "id": "0ae045cd",
   "metadata": {
    "execution": {
     "iopub.execute_input": "2022-07-13T21:23:48.775643Z",
     "iopub.status.busy": "2022-07-13T21:23:48.775238Z",
     "iopub.status.idle": "2022-07-13T21:23:48.788799Z",
     "shell.execute_reply": "2022-07-13T21:23:48.787758Z"
    },
    "papermill": {
     "duration": 0.031049,
     "end_time": "2022-07-13T21:23:48.791019",
     "exception": false,
     "start_time": "2022-07-13T21:23:48.759970",
     "status": "completed"
    },
    "tags": []
   },
   "outputs": [
    {
     "data": {
      "text/html": [
       "<div>\n",
       "<style scoped>\n",
       "    .dataframe tbody tr th:only-of-type {\n",
       "        vertical-align: middle;\n",
       "    }\n",
       "\n",
       "    .dataframe tbody tr th {\n",
       "        vertical-align: top;\n",
       "    }\n",
       "\n",
       "    .dataframe thead th {\n",
       "        text-align: right;\n",
       "    }\n",
       "</style>\n",
       "<table border=\"1\" class=\"dataframe\">\n",
       "  <thead>\n",
       "    <tr style=\"text-align: right;\">\n",
       "      <th></th>\n",
       "      <th>depth</th>\n",
       "      <th>type</th>\n",
       "      <th>score</th>\n",
       "    </tr>\n",
       "  </thead>\n",
       "  <tbody>\n",
       "    <tr>\n",
       "      <th>8</th>\n",
       "      <td>9.0</td>\n",
       "      <td>test score</td>\n",
       "      <td>0.838565</td>\n",
       "    </tr>\n",
       "    <tr>\n",
       "      <th>9</th>\n",
       "      <td>10.0</td>\n",
       "      <td>test score</td>\n",
       "      <td>0.838565</td>\n",
       "    </tr>\n",
       "  </tbody>\n",
       "</table>\n",
       "</div>"
      ],
      "text/plain": [
       "   depth        type     score\n",
       "8    9.0  test score  0.838565\n",
       "9   10.0  test score  0.838565"
      ]
     },
     "execution_count": 39,
     "metadata": {},
     "output_type": "execute_result"
    }
   ],
   "source": [
    "scores[scores['score']==scores.groupby('type')['score'].max().loc['test score']]"
   ]
  },
  {
   "attachments": {
    "7e632b10-e7e8-487e-816d-2d2390539cf7.png": {
     "image/png": "[encoded data removed]"
    }
   },
   "cell_type": "markdown",
   "id": "c92f19cb",
   "metadata": {
    "papermill": {
     "duration": 0.012523,
     "end_time": "2022-07-13T21:23:48.816599",
     "exception": false,
     "start_time": "2022-07-13T21:23:48.804076",
     "status": "completed"
    },
    "tags": []
   },
   "source": [
    "# Кросс-валидация\n",
    "Почему не подходит простой вариант обучения?  \n",
    "Проблема в том, что мы не меняем тестовую выборку. Каждый раз мы делаем проверку на одной и той же тестовую выборке, поэтому, на самом деле, мы пытаемся \"подогнать\" модель под нее (наш финальная модель - это модель, показавшая наилучшее качества на тестовой выборке)\n",
    "\n",
    "Обычно данный разбиваются следующим образом:\n",
    "- тренировочная выборка \n",
    "- валидационная выборка (для настройки параметров модели)\n",
    "- тестовая выборка, на которой и проверяем качество\n",
    "\n",
    "\n",
    "**k-fold cross-validation**: данные разбиваются на тренировочную и тестовую выборки. Затем тренировочная выборка разбивается на k частей. Процесс обучения повторяется k раз: каждый раз модель обучается на k-1 части тренировочной выборки, а делает проверку на k-ой части. Затем все усредняется и выдается \"финальная\" оценка модели на валидации.\n",
    "![image.png](attachment:7e632b10-e7e8-487e-816d-2d2390539cf7.png)"
   ]
  },
  {
   "cell_type": "code",
   "execution_count": 40,
   "id": "65c9d41b",
   "metadata": {
    "execution": {
     "iopub.execute_input": "2022-07-13T21:23:48.844082Z",
     "iopub.status.busy": "2022-07-13T21:23:48.843635Z",
     "iopub.status.idle": "2022-07-13T21:23:48.894016Z",
     "shell.execute_reply": "2022-07-13T21:23:48.892766Z"
    },
    "papermill": {
     "duration": 0.067259,
     "end_time": "2022-07-13T21:23:48.896592",
     "exception": false,
     "start_time": "2022-07-13T21:23:48.829333",
     "status": "completed"
    },
    "tags": []
   },
   "outputs": [
    {
     "data": {
      "text/plain": [
       "array([0.85416667, 0.79166667, 0.79166667, 0.76842105, 0.74736842,\n",
       "       0.75789474, 0.85263158])"
      ]
     },
     "execution_count": 40,
     "metadata": {},
     "output_type": "execute_result"
    }
   ],
   "source": [
    "from sklearn.model_selection import cross_val_score\n",
    "\n",
    "clf = DecisionTreeClassifier(criterion='entropy', max_depth=7)\n",
    "cross_val_score(clf, X_train, y_train, cv=7)"
   ]
  },
  {
   "cell_type": "code",
   "execution_count": 41,
   "id": "2531c288",
   "metadata": {
    "execution": {
     "iopub.execute_input": "2022-07-13T21:23:48.925026Z",
     "iopub.status.busy": "2022-07-13T21:23:48.924602Z",
     "iopub.status.idle": "2022-07-13T21:23:52.620864Z",
     "shell.execute_reply": "2022-07-13T21:23:52.619742Z"
    },
    "papermill": {
     "duration": 3.713672,
     "end_time": "2022-07-13T21:23:52.623255",
     "exception": false,
     "start_time": "2022-07-13T21:23:48.909583",
     "status": "completed"
    },
    "tags": []
   },
   "outputs": [
    {
     "data": {
      "text/html": [
       "<div>\n",
       "<style scoped>\n",
       "    .dataframe tbody tr th:only-of-type {\n",
       "        vertical-align: middle;\n",
       "    }\n",
       "\n",
       "    .dataframe tbody tr th {\n",
       "        vertical-align: top;\n",
       "    }\n",
       "\n",
       "    .dataframe thead th {\n",
       "        text-align: right;\n",
       "    }\n",
       "</style>\n",
       "<table border=\"1\" class=\"dataframe\">\n",
       "  <thead>\n",
       "    <tr style=\"text-align: right;\">\n",
       "      <th></th>\n",
       "      <th>depth</th>\n",
       "      <th>test score</th>\n",
       "      <th>train score</th>\n",
       "      <th>cross-val score</th>\n",
       "    </tr>\n",
       "  </thead>\n",
       "  <tbody>\n",
       "    <tr>\n",
       "      <th>57</th>\n",
       "      <td>58.0</td>\n",
       "      <td>0.807175</td>\n",
       "      <td>0.983533</td>\n",
       "      <td>0.742419</td>\n",
       "    </tr>\n",
       "    <tr>\n",
       "      <th>26</th>\n",
       "      <td>27.0</td>\n",
       "      <td>0.807175</td>\n",
       "      <td>0.983533</td>\n",
       "      <td>0.742419</td>\n",
       "    </tr>\n",
       "    <tr>\n",
       "      <th>31</th>\n",
       "      <td>32.0</td>\n",
       "      <td>0.807175</td>\n",
       "      <td>0.983533</td>\n",
       "      <td>0.751386</td>\n",
       "    </tr>\n",
       "  </tbody>\n",
       "</table>\n",
       "</div>"
      ],
      "text/plain": [
       "    depth  test score  train score  cross-val score\n",
       "57   58.0    0.807175     0.983533         0.742419\n",
       "26   27.0    0.807175     0.983533         0.742419\n",
       "31   32.0    0.807175     0.983533         0.751386"
      ]
     },
     "execution_count": 41,
     "metadata": {},
     "output_type": "execute_result"
    }
   ],
   "source": [
    "depths = range(1, 100)\n",
    "scores = pd.DataFrame(columns=['depth', 'test score', 'train score', 'cross-val score'])\n",
    "\n",
    "for i in depths:\n",
    "    clf = DecisionTreeClassifier(criterion='entropy', max_depth=i)\n",
    "    clf.fit(X_train, y_train)\n",
    "    train_accuracy = clf.score(X_train, y_train)\n",
    "    test_accuracy = clf.score(X_test, y_test)\n",
    "    crossval_accuracy = cross_val_score(clf, X_train, y_train, cv=5).mean()\n",
    "    scores.loc[len(scores)] = [i, test_accuracy, train_accuracy, crossval_accuracy]\n",
    "scores.sample(3)"
   ]
  },
  {
   "cell_type": "code",
   "execution_count": 42,
   "id": "de0e33c2",
   "metadata": {
    "execution": {
     "iopub.execute_input": "2022-07-13T21:23:52.651864Z",
     "iopub.status.busy": "2022-07-13T21:23:52.651193Z",
     "iopub.status.idle": "2022-07-13T21:23:52.919803Z",
     "shell.execute_reply": "2022-07-13T21:23:52.918521Z"
    },
    "papermill": {
     "duration": 0.285537,
     "end_time": "2022-07-13T21:23:52.922177",
     "exception": false,
     "start_time": "2022-07-13T21:23:52.636640",
     "status": "completed"
    },
    "tags": []
   },
   "outputs": [
    {
     "data": {
      "text/plain": [
       "<AxesSubplot:xlabel='depth', ylabel='score'>"
      ]
     },
     "execution_count": 42,
     "metadata": {},
     "output_type": "execute_result"
    },
    {
     "data": {
      "image/png": "[encoded data removed]",
      "text/plain": [
       "<Figure size 432x288 with 1 Axes>"
      ]
     },
     "metadata": {
      "needs_background": "light"
     },
     "output_type": "display_data"
    }
   ],
   "source": [
    "scores = pd.melt(scores,\n",
    "                 id_vars=['depth'],\n",
    "                 value_vars=['test score', 'train score', 'cross-val score'],\n",
    "                 var_name='type',\n",
    "                 value_name='score')\n",
    "sns.lineplot(x='depth', y='score', hue='type', data=scores)"
   ]
  },
  {
   "cell_type": "code",
   "execution_count": 43,
   "id": "58ceef28",
   "metadata": {
    "execution": {
     "iopub.execute_input": "2022-07-13T21:23:52.952439Z",
     "iopub.status.busy": "2022-07-13T21:23:52.952051Z",
     "iopub.status.idle": "2022-07-13T21:23:52.961081Z",
     "shell.execute_reply": "2022-07-13T21:23:52.960022Z"
    },
    "papermill": {
     "duration": 0.027165,
     "end_time": "2022-07-13T21:23:52.963212",
     "exception": false,
     "start_time": "2022-07-13T21:23:52.936047",
     "status": "completed"
    },
    "tags": []
   },
   "outputs": [
    {
     "data": {
      "text/plain": [
       "type\n",
       "cross-val score    0.797958\n",
       "test score         0.843049\n",
       "train score        0.983533\n",
       "Name: score, dtype: float64"
      ]
     },
     "execution_count": 43,
     "metadata": {},
     "output_type": "execute_result"
    }
   ],
   "source": [
    "scores.groupby('type')['score'].max()"
   ]
  },
  {
   "cell_type": "code",
   "execution_count": 44,
   "id": "5901bc67",
   "metadata": {
    "execution": {
     "iopub.execute_input": "2022-07-13T21:23:52.993386Z",
     "iopub.status.busy": "2022-07-13T21:23:52.992656Z",
     "iopub.status.idle": "2022-07-13T21:23:53.005243Z",
     "shell.execute_reply": "2022-07-13T21:23:53.004098Z"
    },
    "papermill": {
     "duration": 0.030476,
     "end_time": "2022-07-13T21:23:53.007620",
     "exception": false,
     "start_time": "2022-07-13T21:23:52.977144",
     "status": "completed"
    },
    "tags": []
   },
   "outputs": [
    {
     "data": {
      "text/html": [
       "<div>\n",
       "<style scoped>\n",
       "    .dataframe tbody tr th:only-of-type {\n",
       "        vertical-align: middle;\n",
       "    }\n",
       "\n",
       "    .dataframe tbody tr th {\n",
       "        vertical-align: top;\n",
       "    }\n",
       "\n",
       "    .dataframe thead th {\n",
       "        text-align: right;\n",
       "    }\n",
       "</style>\n",
       "<table border=\"1\" class=\"dataframe\">\n",
       "  <thead>\n",
       "    <tr style=\"text-align: right;\">\n",
       "      <th></th>\n",
       "      <th>depth</th>\n",
       "      <th>type</th>\n",
       "      <th>score</th>\n",
       "    </tr>\n",
       "  </thead>\n",
       "  <tbody>\n",
       "    <tr>\n",
       "      <th>200</th>\n",
       "      <td>3.0</td>\n",
       "      <td>cross-val score</td>\n",
       "      <td>0.797958</td>\n",
       "    </tr>\n",
       "  </tbody>\n",
       "</table>\n",
       "</div>"
      ],
      "text/plain": [
       "     depth             type     score\n",
       "200    3.0  cross-val score  0.797958"
      ]
     },
     "execution_count": 44,
     "metadata": {},
     "output_type": "execute_result"
    }
   ],
   "source": [
    "scores[scores['score']==scores.groupby('type')['score'].max().loc['cross-val score']]"
   ]
  },
  {
   "cell_type": "code",
   "execution_count": 45,
   "id": "4ae2c406",
   "metadata": {
    "execution": {
     "iopub.execute_input": "2022-07-13T21:23:53.038994Z",
     "iopub.status.busy": "2022-07-13T21:23:53.038231Z",
     "iopub.status.idle": "2022-07-13T21:23:53.051314Z",
     "shell.execute_reply": "2022-07-13T21:23:53.050158Z"
    },
    "papermill": {
     "duration": 0.031805,
     "end_time": "2022-07-13T21:23:53.053800",
     "exception": false,
     "start_time": "2022-07-13T21:23:53.021995",
     "status": "completed"
    },
    "tags": []
   },
   "outputs": [
    {
     "data": {
      "text/plain": [
       "0.8340807174887892"
      ]
     },
     "execution_count": 45,
     "metadata": {},
     "output_type": "execute_result"
    }
   ],
   "source": [
    "best_clf = DecisionTreeClassifier(criterion='entropy', max_depth=3)\n",
    "best_clf.fit(X_train, y_train)\n",
    "best_clf.score(X_test, y_test)"
   ]
  },
  {
   "cell_type": "markdown",
   "id": "14bf99a3",
   "metadata": {},
   "source": [
    "# Поиск наилучшей конфигурации\n",
    "Мы бы хотели совместить кросс-валидацию, метрику и подбор параметров в одном месте. В sklearn реализована функция, представвляющая возможность поиска наилучших параметров модели"
   ]
  },
  {
   "cell_type": "code",
   "execution_count": 46,
   "id": "45afdc90",
   "metadata": {},
   "outputs": [
    {
     "data": {
      "text/plain": [
       "GridSearchCV(cv=5, estimator=DecisionTreeClassifier(),\n",
       "             param_grid={'criterion': ['gini', 'entropy'],\n",
       "                         'max_depth': range(1, 30)})"
      ]
     },
     "execution_count": 46,
     "metadata": {},
     "output_type": "execute_result"
    }
   ],
   "source": [
    "from sklearn.model_selection import GridSearchCV\n",
    "from sklearn.metrics import precision_score\n",
    "clf = DecisionTreeClassifier()\n",
    "dict_with_parameters = {'criterion': ['gini', 'entropy'],\n",
    "                        'max_depth': range(1, 30)}\n",
    "\n",
    "grid = GridSearchCV(clf,\n",
    "                    param_grid=dict_with_parameters,\n",
    "                    cv=5)\n",
    "grid"
   ]
  },
  {
   "cell_type": "code",
   "execution_count": 95,
   "id": "1d38cf4e",
   "metadata": {},
   "outputs": [
    {
     "data": {
      "text/plain": [
       "{'criterion': 'gini', 'max_depth': 3}"
      ]
     },
     "execution_count": 95,
     "metadata": {},
     "output_type": "execute_result"
    }
   ],
   "source": [
    "grid.fit(X_train, y_train)\n",
    "best_params = grid.best_params_\n",
    "best_params"
   ]
  },
  {
   "cell_type": "code",
   "execution_count": 97,
   "id": "3b191be0",
   "metadata": {},
   "outputs": [
    {
     "data": {
      "text/plain": [
       "0.8430493273542601"
      ]
     },
     "execution_count": 97,
     "metadata": {},
     "output_type": "execute_result"
    }
   ],
   "source": [
    "# уже обученная модель\n",
    "best_model = grid.best_estimator_\n",
    "# accuracy на тестовом наборе\n",
    "best_model.score(X_test, y_test)"
   ]
  },
  {
   "cell_type": "code",
   "execution_count": 128,
   "id": "ec2fe469",
   "metadata": {},
   "outputs": [
    {
     "name": "stdout",
     "output_type": "stream",
     "text": [
      "Precision is 0.8430493273542601\n",
      "Recall is 0.8430493273542601\n",
      "F is 0.8430493273542601\n"
     ]
    }
   ],
   "source": [
    "from sklearn.metrics import precision_score, f1_score, recall_score, roc_curve, auc\n",
    "\n",
    "predictions = best_model.predict(X_test)\n",
    "\n",
    "P = precision_score(y_true=y_test,\n",
    "                    y_pred=predictions,\n",
    "                    average='micro')\n",
    "R = recall_score(y_true=y_test,\n",
    "                 y_pred=predictions,\n",
    "                 average='micro')\n",
    "F = f1_score(y_true=y_test,\n",
    "             y_pred=predictions,\n",
    "             average='micro')\n",
    "print(f'Precision is {P}')\n",
    "print(f'Recall is {R}')\n",
    "print(f'F is {F}')"
   ]
  },
  {
   "cell_type": "markdown",
   "id": "03d1e856",
   "metadata": {},
   "source": [
    "# ROC-кривая\n",
    "Как правильно выбирать значение порога?  В этом может помочь **ROC-кривая**"
   ]
  },
  {
   "cell_type": "markdown",
   "id": "ebdf3dfa",
   "metadata": {},
   "source": [
    "На самом деле мы предсказываем **вероятность** предсказания к классам. При этом можно задавать порог, начиная с которого будет присваиваться метка. По умолчанию этот порог равен 0.5"
   ]
  },
  {
   "cell_type": "code",
   "execution_count": 103,
   "id": "01abda73",
   "metadata": {},
   "outputs": [
    {
     "data": {
      "text/plain": [
       "array([[0.88217523, 0.11782477],\n",
       "       [0.88217523, 0.11782477],\n",
       "       [0.88217523, 0.11782477],\n",
       "       [0.88217523, 0.11782477],\n",
       "       [0.88217523, 0.11782477],\n",
       "       [0.88217523, 0.11782477],\n",
       "       [0.056     , 0.944     ],\n",
       "       [0.86363636, 0.13636364],\n",
       "       [0.88217523, 0.11782477],\n",
       "       [0.88217523, 0.11782477],\n",
       "       [0.056     , 0.944     ],\n",
       "       [0.88217523, 0.11782477],\n",
       "       [0.88217523, 0.11782477],\n",
       "       [0.056     , 0.944     ],\n",
       "       [0.6097561 , 0.3902439 ],\n",
       "       [0.88217523, 0.11782477],\n",
       "       [0.88217523, 0.11782477],\n",
       "       [0.88217523, 0.11782477],\n",
       "       [0.88217523, 0.11782477],\n",
       "       [0.88217523, 0.11782477],\n",
       "       [0.056     , 0.944     ],\n",
       "       [0.88217523, 0.11782477],\n",
       "       [0.88217523, 0.11782477],\n",
       "       [0.6097561 , 0.3902439 ],\n",
       "       [0.88217523, 0.11782477],\n",
       "       [0.43010753, 0.56989247],\n",
       "       [0.6097561 , 0.3902439 ],\n",
       "       [0.88217523, 0.11782477],\n",
       "       [0.43010753, 0.56989247],\n",
       "       [0.88217523, 0.11782477],\n",
       "       [0.88217523, 0.11782477],\n",
       "       [0.88217523, 0.11782477],\n",
       "       [0.056     , 0.944     ],\n",
       "       [0.88217523, 0.11782477],\n",
       "       [0.43010753, 0.56989247],\n",
       "       [0.43010753, 0.56989247],\n",
       "       [0.6097561 , 0.3902439 ],\n",
       "       [0.88217523, 0.11782477],\n",
       "       [0.6097561 , 0.3902439 ],\n",
       "       [0.056     , 0.944     ],\n",
       "       [0.43010753, 0.56989247],\n",
       "       [0.6097561 , 0.3902439 ],\n",
       "       [0.43010753, 0.56989247],\n",
       "       [0.88217523, 0.11782477],\n",
       "       [0.056     , 0.944     ],\n",
       "       [0.056     , 0.944     ],\n",
       "       [0.88217523, 0.11782477],\n",
       "       [0.056     , 0.944     ],\n",
       "       [0.88217523, 0.11782477],\n",
       "       [0.88217523, 0.11782477],\n",
       "       [0.88217523, 0.11782477],\n",
       "       [1.        , 0.        ],\n",
       "       [0.88217523, 0.11782477],\n",
       "       [0.6097561 , 0.3902439 ],\n",
       "       [0.88217523, 0.11782477],\n",
       "       [0.88217523, 0.11782477],\n",
       "       [0.056     , 0.944     ],\n",
       "       [0.88217523, 0.11782477],\n",
       "       [0.88217523, 0.11782477],\n",
       "       [0.88217523, 0.11782477],\n",
       "       [0.056     , 0.944     ],\n",
       "       [0.88217523, 0.11782477],\n",
       "       [0.88217523, 0.11782477],\n",
       "       [0.6097561 , 0.3902439 ],\n",
       "       [0.88217523, 0.11782477],\n",
       "       [0.88217523, 0.11782477],\n",
       "       [0.056     , 0.944     ],\n",
       "       [0.6097561 , 0.3902439 ],\n",
       "       [0.86363636, 0.13636364],\n",
       "       [0.43010753, 0.56989247],\n",
       "       [0.88217523, 0.11782477],\n",
       "       [0.88217523, 0.11782477],\n",
       "       [0.88217523, 0.11782477],\n",
       "       [0.6097561 , 0.3902439 ],\n",
       "       [0.056     , 0.944     ],\n",
       "       [0.88217523, 0.11782477],\n",
       "       [0.056     , 0.944     ],\n",
       "       [0.88217523, 0.11782477],\n",
       "       [0.43010753, 0.56989247],\n",
       "       [0.88217523, 0.11782477],\n",
       "       [0.6097561 , 0.3902439 ],\n",
       "       [0.88217523, 0.11782477],\n",
       "       [0.6097561 , 0.3902439 ],\n",
       "       [0.6097561 , 0.3902439 ],\n",
       "       [0.88217523, 0.11782477],\n",
       "       [0.6097561 , 0.3902439 ],\n",
       "       [0.6097561 , 0.3902439 ],\n",
       "       [0.6097561 , 0.3902439 ],\n",
       "       [0.6097561 , 0.3902439 ],\n",
       "       [0.88217523, 0.11782477],\n",
       "       [0.        , 1.        ],\n",
       "       [0.88217523, 0.11782477],\n",
       "       [0.88217523, 0.11782477],\n",
       "       [0.43010753, 0.56989247],\n",
       "       [0.6097561 , 0.3902439 ],\n",
       "       [0.88217523, 0.11782477],\n",
       "       [0.43010753, 0.56989247],\n",
       "       [0.88217523, 0.11782477],\n",
       "       [0.6097561 , 0.3902439 ],\n",
       "       [0.056     , 0.944     ],\n",
       "       [0.056     , 0.944     ],\n",
       "       [0.6097561 , 0.3902439 ],\n",
       "       [0.056     , 0.944     ],\n",
       "       [0.88217523, 0.11782477],\n",
       "       [0.43010753, 0.56989247],\n",
       "       [0.6097561 , 0.3902439 ],\n",
       "       [0.056     , 0.944     ],\n",
       "       [0.6097561 , 0.3902439 ],\n",
       "       [0.88217523, 0.11782477],\n",
       "       [0.43010753, 0.56989247],\n",
       "       [0.43010753, 0.56989247],\n",
       "       [0.88217523, 0.11782477],\n",
       "       [0.43010753, 0.56989247],\n",
       "       [0.88217523, 0.11782477],\n",
       "       [0.88217523, 0.11782477],\n",
       "       [0.43010753, 0.56989247],\n",
       "       [0.88217523, 0.11782477],\n",
       "       [0.43010753, 0.56989247],\n",
       "       [0.88217523, 0.11782477],\n",
       "       [0.88217523, 0.11782477],\n",
       "       [0.88217523, 0.11782477],\n",
       "       [0.6097561 , 0.3902439 ],\n",
       "       [0.43010753, 0.56989247],\n",
       "       [0.6097561 , 0.3902439 ],\n",
       "       [0.056     , 0.944     ],\n",
       "       [0.43010753, 0.56989247],\n",
       "       [0.88217523, 0.11782477],\n",
       "       [0.88217523, 0.11782477],\n",
       "       [0.056     , 0.944     ],\n",
       "       [0.88217523, 0.11782477],\n",
       "       [0.88217523, 0.11782477],\n",
       "       [0.88217523, 0.11782477],\n",
       "       [1.        , 0.        ],\n",
       "       [0.056     , 0.944     ],\n",
       "       [0.88217523, 0.11782477],\n",
       "       [0.88217523, 0.11782477],\n",
       "       [0.6097561 , 0.3902439 ],\n",
       "       [0.88217523, 0.11782477],\n",
       "       [0.88217523, 0.11782477],\n",
       "       [0.88217523, 0.11782477],\n",
       "       [0.88217523, 0.11782477],\n",
       "       [0.86363636, 0.13636364],\n",
       "       [0.056     , 0.944     ],\n",
       "       [0.88217523, 0.11782477],\n",
       "       [0.6097561 , 0.3902439 ],\n",
       "       [0.88217523, 0.11782477],\n",
       "       [0.88217523, 0.11782477],\n",
       "       [0.056     , 0.944     ],\n",
       "       [0.88217523, 0.11782477],\n",
       "       [0.056     , 0.944     ],\n",
       "       [0.88217523, 0.11782477],\n",
       "       [0.88217523, 0.11782477],\n",
       "       [0.6097561 , 0.3902439 ],\n",
       "       [0.6097561 , 0.3902439 ],\n",
       "       [0.6097561 , 0.3902439 ],\n",
       "       [0.88217523, 0.11782477],\n",
       "       [0.056     , 0.944     ],\n",
       "       [0.88217523, 0.11782477],\n",
       "       [0.88217523, 0.11782477],\n",
       "       [0.88217523, 0.11782477],\n",
       "       [0.056     , 0.944     ],\n",
       "       [0.056     , 0.944     ],\n",
       "       [0.056     , 0.944     ],\n",
       "       [0.056     , 0.944     ],\n",
       "       [0.88217523, 0.11782477],\n",
       "       [0.6097561 , 0.3902439 ],\n",
       "       [0.88217523, 0.11782477],\n",
       "       [0.056     , 0.944     ],\n",
       "       [0.88217523, 0.11782477],\n",
       "       [0.88217523, 0.11782477],\n",
       "       [0.6097561 , 0.3902439 ],\n",
       "       [0.056     , 0.944     ],\n",
       "       [0.056     , 0.944     ],\n",
       "       [0.6097561 , 0.3902439 ],\n",
       "       [0.6097561 , 0.3902439 ],\n",
       "       [0.88217523, 0.11782477],\n",
       "       [0.056     , 0.944     ],\n",
       "       [0.056     , 0.944     ],\n",
       "       [0.88217523, 0.11782477],\n",
       "       [0.6097561 , 0.3902439 ],\n",
       "       [0.88217523, 0.11782477],\n",
       "       [0.88217523, 0.11782477],\n",
       "       [0.88217523, 0.11782477],\n",
       "       [0.056     , 0.944     ],\n",
       "       [0.88217523, 0.11782477],\n",
       "       [0.88217523, 0.11782477],\n",
       "       [0.056     , 0.944     ],\n",
       "       [0.86363636, 0.13636364],\n",
       "       [0.6097561 , 0.3902439 ],\n",
       "       [0.88217523, 0.11782477],\n",
       "       [0.056     , 0.944     ],\n",
       "       [0.43010753, 0.56989247],\n",
       "       [0.43010753, 0.56989247],\n",
       "       [0.        , 1.        ],\n",
       "       [0.056     , 0.944     ],\n",
       "       [0.88217523, 0.11782477],\n",
       "       [0.056     , 0.944     ],\n",
       "       [0.6097561 , 0.3902439 ],\n",
       "       [0.88217523, 0.11782477],\n",
       "       [1.        , 0.        ],\n",
       "       [0.88217523, 0.11782477],\n",
       "       [0.056     , 0.944     ],\n",
       "       [0.6097561 , 0.3902439 ],\n",
       "       [0.43010753, 0.56989247],\n",
       "       [0.86363636, 0.13636364],\n",
       "       [0.88217523, 0.11782477],\n",
       "       [0.43010753, 0.56989247],\n",
       "       [0.88217523, 0.11782477],\n",
       "       [0.88217523, 0.11782477],\n",
       "       [0.43010753, 0.56989247],\n",
       "       [0.6097561 , 0.3902439 ],\n",
       "       [0.056     , 0.944     ],\n",
       "       [0.88217523, 0.11782477],\n",
       "       [0.88217523, 0.11782477],\n",
       "       [0.056     , 0.944     ],\n",
       "       [0.6097561 , 0.3902439 ],\n",
       "       [0.88217523, 0.11782477],\n",
       "       [0.43010753, 0.56989247],\n",
       "       [0.88217523, 0.11782477],\n",
       "       [0.88217523, 0.11782477],\n",
       "       [0.88217523, 0.11782477],\n",
       "       [0.056     , 0.944     ],\n",
       "       [0.88217523, 0.11782477]])"
      ]
     },
     "execution_count": 103,
     "metadata": {},
     "output_type": "execute_result"
    }
   ],
   "source": [
    "probabilities_of_predictions = best_model.predict_proba(X_test)\n",
    "probabilities_of_predictions"
   ]
  },
  {
   "cell_type": "code",
   "execution_count": 106,
   "id": "760db638",
   "metadata": {},
   "outputs": [
    {
     "data": {
      "text/plain": [
       "<AxesSubplot:>"
      ]
     },
     "execution_count": 106,
     "metadata": {},
     "output_type": "execute_result"
    },
    {
     "data": {
      "image/png": "[encoded data removed]",
      "text/plain": [
       "<Figure size 432x288 with 1 Axes>"
      ]
     },
     "metadata": {
      "needs_background": "light"
     },
     "output_type": "display_data"
    }
   ],
   "source": [
    "# распределение вероятности для класса 1 (выжившие)\n",
    "pd.Series(probabilities_of_predictions[:, 1]).hist()"
   ]
  },
  {
   "cell_type": "markdown",
   "id": "0b29b5b0",
   "metadata": {},
   "source": [
    "Если мы хотим максимизировать precision (то есть минизировать число ложных предсказаний выживших людей), то есть быть \"сверхуверены\" в том, что человек выжил, нужно сделать порог более \"строгим\", например, 0.6"
   ]
  },
  {
   "cell_type": "code",
   "execution_count": 120,
   "id": "f831e9a6",
   "metadata": {},
   "outputs": [
    {
     "name": "stdout",
     "output_type": "stream",
     "text": [
      "Precision is 0.9777777777777777\n",
      "Recall is 0.5116279069767442\n",
      "F is 0.6717557251908397\n"
     ]
    }
   ],
   "source": [
    "y_pred = np.where(probabilities_of_predictions[:, 1] > 0.6, 1, 0)\n",
    "P = precision_score(y_true=y_test,\n",
    "                    y_pred=y_pred,\n",
    "                    )\n",
    "R = recall_score(y_true=y_test,\n",
    "                 y_pred=y_pred,\n",
    "                 )\n",
    "F = f1_score(y_true=y_test,\n",
    "             y_pred=y_pred,\n",
    "             )\n",
    "print(f'Precision is {P}')\n",
    "print(f'Recall is {R}')\n",
    "print(f'F is {F}')"
   ]
  },
  {
   "cell_type": "code",
   "execution_count": 122,
   "id": "58d8235f",
   "metadata": {},
   "outputs": [
    {
     "data": {
      "text/plain": [
       "array([0.        , 0.056     , 0.11782477, 0.13636364, 0.3902439 ,\n",
       "       0.43010753, 0.56989247, 0.6097561 , 0.86363636, 0.88217523,\n",
       "       0.944     , 1.        ])"
      ]
     },
     "execution_count": 122,
     "metadata": {},
     "output_type": "execute_result"
    }
   ],
   "source": [
    "# их немного, так как каждая запись в таблице имеет какой-то путь в дереве\n",
    "np.unique(probabilities_of_predictions)"
   ]
  },
  {
   "cell_type": "markdown",
   "id": "8fd4bace",
   "metadata": {},
   "source": [
    "Теперь визуализируем ROC-кривую (код из документации https://scikit-learn.org/stable/auto_examples/model_selection/plot_roc.html)"
   ]
  },
  {
   "cell_type": "code",
   "execution_count": 134,
   "id": "235d4600",
   "metadata": {},
   "outputs": [
    {
     "data": {
      "text/plain": [
       "<matplotlib.legend.Legend at 0x21da27a1ee0>"
      ]
     },
     "execution_count": 134,
     "metadata": {},
     "output_type": "execute_result"
    },
    {
     "data": {
      "image/png": "[encoded data removed]",
      "text/plain": [
       "<Figure size 432x288 with 1 Axes>"
      ]
     },
     "metadata": {
      "needs_background": "light"
     },
     "output_type": "display_data"
    }
   ],
   "source": [
    "fpr, tpr, thresholds = roc_curve(y_test, probabilities_of_predictions[:,1])\n",
    "roc_auc = auc(fpr, tpr)\n",
    "plt.figure()\n",
    "plt.plot(fpr, tpr, label='ROC curve (area = %0.2f)' % (roc_auc))\n",
    "plt.plot([0, 1], [0, 1] , 'k--')\n",
    "plt.xlim([0.0, 1.0])\n",
    "plt.ylim([0.0, 1.05])\n",
    "plt.xlabel('False Positive Rate')\n",
    "plt.ylabel('True Positive Rate')\n",
    "plt.title('Receiver operating characteristic')\n",
    "plt.legend(loc=\"lower right\")"
   ]
  },
  {
   "cell_type": "code",
   "execution_count": 135,
   "id": "8ca64ccb",
   "metadata": {
    "scrolled": true
   },
   "outputs": [
    {
     "data": {
      "text/plain": [
       "<sklearn.metrics._plot.roc_curve.RocCurveDisplay at 0x21da19c2e20>"
      ]
     },
     "execution_count": 135,
     "metadata": {},
     "output_type": "execute_result"
    },
    {
     "data": {
      "image/png": "[encoded data removed]",
      "text/plain": [
       "<Figure size 432x288 with 1 Axes>"
      ]
     },
     "metadata": {
      "needs_background": "light"
     },
     "output_type": "display_data"
    }
   ],
   "source": [
    "# другой способ\n",
    "from sklearn.metrics import plot_roc_curve\n",
    "plot_roc_curve(best_model, X_test, y_test)"
   ]
  },
  {
   "cell_type": "markdown",
   "id": "3b65cc35",
   "metadata": {},
   "source": [
    "**True Positive Rate** - какой % выживших пассажиров мы классифицировали правильно (recall)\n",
    "**False Positive Rate** - как часто мы делали ошибки признания выжившим человека, который не выжил (какой % от невыживших мы классифицировали неправильно)"
   ]
  },
  {
   "cell_type": "markdown",
   "id": "346f244b",
   "metadata": {},
   "source": [
    "# Ещё некоторые параметры у дерева\n",
    "- Глубина дерева (`max_depth`) - это самый \"серьезный\" параметр у дерева (default = максимально)\n",
    "- `min_samples_split` - минимальное число попавших в лист наблюдений, чтобы разделить его (default=2)\n",
    "- `min_samples_leaf` - минимальное число число наблюдений в листе"
   ]
  },
  {
   "cell_type": "code",
   "execution_count": 47,
   "id": "3625845c",
   "metadata": {},
   "outputs": [],
   "source": [
    "from sklearn.tree import plot_tree"
   ]
  },
  {
   "cell_type": "code",
   "execution_count": 24,
   "id": "8b04ac94",
   "metadata": {},
   "outputs": [
    {
     "data": {
      "text/plain": [
       "[Text(167.4, 190.26, 'X[5] <= 0.5\\nentropy = 0.96\\nsamples = 668\\nvalue = [412, 256]'),\n",
       " Text(83.7, 135.9, 'X[0] <= 2.5\\nentropy = 0.851\\nsamples = 242\\nvalue = [67, 175]'),\n",
       " Text(41.85, 81.53999999999999, 'X[4] <= 29.356\\nentropy = 0.339\\nsamples = 127\\nvalue = [8, 119]'),\n",
       " Text(20.925, 27.180000000000007, 'entropy = 0.523\\nsamples = 51\\nvalue = [6, 45]'),\n",
       " Text(62.775000000000006, 27.180000000000007, 'entropy = 0.176\\nsamples = 76\\nvalue = [2, 74]'),\n",
       " Text(125.55000000000001, 81.53999999999999, 'X[4] <= 24.808\\nentropy = 1.0\\nsamples = 115\\nvalue = [59, 56]'),\n",
       " Text(104.625, 27.180000000000007, 'entropy = 0.989\\nsamples = 96\\nvalue = [42, 54]'),\n",
       " Text(146.475, 27.180000000000007, 'entropy = 0.485\\nsamples = 19\\nvalue = [17, 2]'),\n",
       " Text(251.10000000000002, 135.9, 'X[0] <= 1.5\\nentropy = 0.702\\nsamples = 426\\nvalue = [345, 81]'),\n",
       " Text(209.25, 81.53999999999999, 'X[1] <= 53.0\\nentropy = 0.97\\nsamples = 83\\nvalue = [50, 33]'),\n",
       " Text(188.32500000000002, 27.180000000000007, 'entropy = 0.993\\nsamples = 71\\nvalue = [39, 32]'),\n",
       " Text(230.175, 27.180000000000007, 'entropy = 0.414\\nsamples = 12\\nvalue = [11, 1]'),\n",
       " Text(292.95, 81.53999999999999, 'X[1] <= 6.5\\nentropy = 0.584\\nsamples = 343\\nvalue = [295, 48]'),\n",
       " Text(272.02500000000003, 27.180000000000007, 'entropy = 0.937\\nsamples = 17\\nvalue = [6, 11]'),\n",
       " Text(313.875, 27.180000000000007, 'entropy = 0.51\\nsamples = 326\\nvalue = [289, 37]')]"
      ]
     },
     "metadata": {},
     "output_type": "display_data"
    },
    {
     "data": {
      "image/png": "[encoded data removed]",
      "text/plain": [
       "<Figure size 432x288 with 1 Axes>"
      ]
     },
     "metadata": {
      "needs_background": "light"
     },
     "output_type": "display_data"
    }
   ],
   "source": [
    "clf = DecisionTreeClassifier(criterion='entropy', max_depth=3,\n",
    "                             min_samples_leaf=10, min_samples_split=9)\n",
    "clf.fit(X_train, y_train)\n",
    "\n",
    "display(plot_tree(clf))"
   ]
  },
  {
   "cell_type": "code",
   "execution_count": 49,
   "id": "410c839c",
   "metadata": {},
   "outputs": [
    {
     "data": {
      "text/plain": [
       "DecisionTreeClassifier(criterion='entropy', max_depth=6, min_samples_leaf=5,\n",
       "                       min_samples_split=8)"
      ]
     },
     "execution_count": 49,
     "metadata": {},
     "output_type": "execute_result"
    }
   ],
   "source": [
    "params = {'min_samples_leaf': range(5, 16, 3), \n",
    "          'max_depth': range(2, 10),\n",
    "          'min_samples_split': range(5, 16, 3)}\n",
    "grid = GridSearchCV(DecisionTreeClassifier(criterion='entropy'),\n",
    "                    param_grid=params,\n",
    "                    cv=3)\n",
    "grid.fit(X_train, y_train)\n",
    "grid.best_estimator_"
   ]
  },
  {
   "cell_type": "code",
   "execution_count": null,
   "id": "f0f01cd0",
   "metadata": {},
   "outputs": [],
   "source": []
  }
 ],
 "metadata": {
  "kernelspec": {
   "display_name": "Python 3",
   "language": "python",
   "name": "python3"
  },
  "language_info": {
   "codemirror_mode": {
    "name": "ipython",
    "version": 3
   },
   "file_extension": ".py",
   "mimetype": "text/x-python",
   "name": "python",
   "nbconvert_exporter": "python",
   "pygments_lexer": "ipython3",
   "version": "3.8.8"
  },
  "papermill": {
   "default_parameters": {},
   "duration": 19.166538,
   "end_time": "2022-07-13T21:23:53.819289",
   "environment_variables": {},
   "exception": null,
   "input_path": "__notebook__.ipynb",
   "output_path": "__notebook__.ipynb",
   "parameters": {},
   "start_time": "2022-07-13T21:23:34.652751",
   "version": "2.3.4"
  },
  "toc": {
   "base_numbering": 1,
   "nav_menu": {},
   "number_sections": true,
   "sideBar": true,
   "skip_h1_title": false,
   "title_cell": "Table of Contents",
   "title_sidebar": "Contents",
   "toc_cell": false,
   "toc_position": {},
   "toc_section_display": true,
   "toc_window_display": false
  }
 },
 "nbformat": 4,
 "nbformat_minor": 5
}
