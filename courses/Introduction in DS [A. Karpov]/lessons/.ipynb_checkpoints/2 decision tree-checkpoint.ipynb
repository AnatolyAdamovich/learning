{
 "cells": [
  {
   "cell_type": "markdown",
   "id": "d3d61bf6",
   "metadata": {},
   "source": [
    "# Decision tree\n",
    "Иногда нет возможности удовлетворить все ограничения, накладываемые моделями линейной регрессии, поэтому есть потребность в другом виде моделей машинного обучения, для применения которых нужны другие условия. Одними из таких моделей являются **деревья решений**.\n",
    "\n",
    "Самый простой способ сделать классификацию каких-то объектов - это написание скрипта с набором if-else условий, которые бы разбивали объекты на группы. В основе decision tree лежит похожая идея."
   ]
  },
  {
   "cell_type": "code",
   "execution_count": 8,
   "id": "956697f7",
   "metadata": {},
   "outputs": [],
   "source": [
    "from sklearn import tree\n",
    "import pandas as pd\n",
    "import matplotlib.pyplot as plt\n",
    "import seaborn as sns\n",
    "import numpy as np\n",
    "%matplotlib inline"
   ]
  },
  {
   "cell_type": "code",
   "execution_count": 9,
   "id": "2846aaa0",
   "metadata": {},
   "outputs": [
    {
     "data": {
      "text/html": [
       "<div>\n",
       "<style scoped>\n",
       "    .dataframe tbody tr th:only-of-type {\n",
       "        vertical-align: middle;\n",
       "    }\n",
       "\n",
       "    .dataframe tbody tr th {\n",
       "        vertical-align: top;\n",
       "    }\n",
       "\n",
       "    .dataframe thead th {\n",
       "        text-align: right;\n",
       "    }\n",
       "</style>\n",
       "<table border=\"1\" class=\"dataframe\">\n",
       "  <thead>\n",
       "    <tr style=\"text-align: right;\">\n",
       "      <th></th>\n",
       "      <th>X_1</th>\n",
       "      <th>X_2</th>\n",
       "      <th>Y</th>\n",
       "    </tr>\n",
       "  </thead>\n",
       "  <tbody>\n",
       "    <tr>\n",
       "      <th>0</th>\n",
       "      <td>1</td>\n",
       "      <td>0</td>\n",
       "      <td>1</td>\n",
       "    </tr>\n",
       "    <tr>\n",
       "      <th>1</th>\n",
       "      <td>1</td>\n",
       "      <td>0</td>\n",
       "      <td>1</td>\n",
       "    </tr>\n",
       "    <tr>\n",
       "      <th>2</th>\n",
       "      <td>1</td>\n",
       "      <td>0</td>\n",
       "      <td>1</td>\n",
       "    </tr>\n",
       "    <tr>\n",
       "      <th>3</th>\n",
       "      <td>0</td>\n",
       "      <td>1</td>\n",
       "      <td>1</td>\n",
       "    </tr>\n",
       "    <tr>\n",
       "      <th>4</th>\n",
       "      <td>0</td>\n",
       "      <td>0</td>\n",
       "      <td>0</td>\n",
       "    </tr>\n",
       "    <tr>\n",
       "      <th>5</th>\n",
       "      <td>0</td>\n",
       "      <td>0</td>\n",
       "      <td>0</td>\n",
       "    </tr>\n",
       "    <tr>\n",
       "      <th>6</th>\n",
       "      <td>0</td>\n",
       "      <td>0</td>\n",
       "      <td>0</td>\n",
       "    </tr>\n",
       "    <tr>\n",
       "      <th>7</th>\n",
       "      <td>1</td>\n",
       "      <td>1</td>\n",
       "      <td>0</td>\n",
       "    </tr>\n",
       "  </tbody>\n",
       "</table>\n",
       "</div>"
      ],
      "text/plain": [
       "   X_1  X_2  Y\n",
       "0    1    0  1\n",
       "1    1    0  1\n",
       "2    1    0  1\n",
       "3    0    1  1\n",
       "4    0    0  0\n",
       "5    0    0  0\n",
       "6    0    0  0\n",
       "7    1    1  0"
      ]
     },
     "execution_count": 9,
     "metadata": {},
     "output_type": "execute_result"
    }
   ],
   "source": [
    "data = pd.DataFrame({'X_1': [1, 1, 1, 0, 0, 0, 0, 1], \n",
    "                     'X_2': [0, 0, 0, 1, 0, 0, 0, 1],\n",
    "                     'Y':   [1, 1, 1, 1, 0, 0, 0, 0]})\n",
    "data"
   ]
  },
  {
   "cell_type": "code",
   "execution_count": 32,
   "id": "d887cc9f",
   "metadata": {},
   "outputs": [],
   "source": [
    "model = tree.DecisionTreeClassifier(criterion=\"entropy\")\n",
    "X_train = data[['X_1', 'X_2']]\n",
    "y_train = data['Y']"
   ]
  },
  {
   "cell_type": "code",
   "execution_count": 33,
   "id": "007aa4a7",
   "metadata": {},
   "outputs": [
    {
     "data": {
      "text/plain": [
       "{'ccp_alpha': 0.0,\n",
       " 'class_weight': None,\n",
       " 'criterion': 'entropy',\n",
       " 'max_depth': None,\n",
       " 'max_features': None,\n",
       " 'max_leaf_nodes': None,\n",
       " 'min_impurity_decrease': 0.0,\n",
       " 'min_impurity_split': None,\n",
       " 'min_samples_leaf': 1,\n",
       " 'min_samples_split': 2,\n",
       " 'min_weight_fraction_leaf': 0.0,\n",
       " 'random_state': None,\n",
       " 'splitter': 'best'}"
      ]
     },
     "execution_count": 33,
     "metadata": {},
     "output_type": "execute_result"
    }
   ],
   "source": [
    "model.get_params()"
   ]
  },
  {
   "cell_type": "code",
   "execution_count": 34,
   "id": "4a1dc9bf",
   "metadata": {},
   "outputs": [
    {
     "name": "stdout",
     "output_type": "stream",
     "text": [
      "Истинные значения:  [[0], [0], [0]]\n"
     ]
    },
    {
     "data": {
      "text/plain": [
       "array([0, 0, 0], dtype=int64)"
      ]
     },
     "execution_count": 34,
     "metadata": {},
     "output_type": "execute_result"
    }
   ],
   "source": [
    "model.fit(X_train, y_train)\n",
    "print('Истинные значения: ', y_test.values.tolist())\n",
    "model.predict(X_test)"
   ]
  },
  {
   "cell_type": "code",
   "execution_count": 35,
   "id": "057a5dbd",
   "metadata": {},
   "outputs": [
    {
     "data": {
      "text/plain": [
       "{'ccp_alpha': 0.0,\n",
       " 'class_weight': None,\n",
       " 'criterion': 'entropy',\n",
       " 'max_depth': None,\n",
       " 'max_features': None,\n",
       " 'max_leaf_nodes': None,\n",
       " 'min_impurity_decrease': 0.0,\n",
       " 'min_impurity_split': None,\n",
       " 'min_samples_leaf': 1,\n",
       " 'min_samples_split': 2,\n",
       " 'min_weight_fraction_leaf': 0.0,\n",
       " 'random_state': None,\n",
       " 'splitter': 'best'}"
      ]
     },
     "execution_count": 35,
     "metadata": {},
     "output_type": "execute_result"
    }
   ],
   "source": [
    "model.get_params()"
   ]
  },
  {
   "cell_type": "code",
   "execution_count": 36,
   "id": "d203eaf6",
   "metadata": {},
   "outputs": [
    {
     "data": {
      "text/plain": [
       "[Text(195.3, 498.3, 'X[0] <= 0.5\\nentropy = 1.0\\nsamples = 8\\nvalue = [4, 4]'),\n",
       " Text(97.65, 298.98, 'X[1] <= 0.5\\nentropy = 0.811\\nsamples = 4\\nvalue = [3, 1]'),\n",
       " Text(48.825, 99.65999999999997, 'entropy = 0.0\\nsamples = 3\\nvalue = [3, 0]'),\n",
       " Text(146.47500000000002, 99.65999999999997, 'entropy = 0.0\\nsamples = 1\\nvalue = [0, 1]'),\n",
       " Text(292.95000000000005, 298.98, 'X[1] <= 0.5\\nentropy = 0.811\\nsamples = 4\\nvalue = [1, 3]'),\n",
       " Text(244.125, 99.65999999999997, 'entropy = 0.0\\nsamples = 3\\nvalue = [0, 3]'),\n",
       " Text(341.77500000000003, 99.65999999999997, 'entropy = 0.0\\nsamples = 1\\nvalue = [1, 0]')]"
      ]
     },
     "execution_count": 36,
     "metadata": {},
     "output_type": "execute_result"
    },
    {
     "data": {
      "image/png": "[encoded data removed]",
      "text/plain": [
       "<Figure size 504x792 with 1 Axes>"
      ]
     },
     "metadata": {
      "needs_background": "light"
     },
     "output_type": "display_data"
    }
   ],
   "source": [
    "plt.figure(figsize=(7, 11))\n",
    "tree.plot_tree(model)"
   ]
  },
  {
   "cell_type": "markdown",
   "id": "bc53dd8e",
   "metadata": {},
   "source": [
    "# Немного теории\n",
    "\n",
    "По каким правилам строится *вопросы* в дереве решений?\n",
    "- Дерево пытается задавать такие вопросы, которые максимально снижают неопределенность в наших данных.\n",
    "\n"
   ]
  },
  {
   "cell_type": "code",
   "execution_count": 37,
   "id": "c121d51b",
   "metadata": {},
   "outputs": [
    {
     "data": {
      "text/html": [
       "<div>\n",
       "<style scoped>\n",
       "    .dataframe tbody tr th:only-of-type {\n",
       "        vertical-align: middle;\n",
       "    }\n",
       "\n",
       "    .dataframe tbody tr th {\n",
       "        vertical-align: top;\n",
       "    }\n",
       "\n",
       "    .dataframe thead th {\n",
       "        text-align: right;\n",
       "    }\n",
       "</style>\n",
       "<table border=\"1\" class=\"dataframe\">\n",
       "  <thead>\n",
       "    <tr style=\"text-align: right;\">\n",
       "      <th></th>\n",
       "      <th>X_1</th>\n",
       "      <th>X_2</th>\n",
       "      <th>Y</th>\n",
       "    </tr>\n",
       "  </thead>\n",
       "  <tbody>\n",
       "    <tr>\n",
       "      <th>0</th>\n",
       "      <td>1</td>\n",
       "      <td>0</td>\n",
       "      <td>1</td>\n",
       "    </tr>\n",
       "    <tr>\n",
       "      <th>1</th>\n",
       "      <td>1</td>\n",
       "      <td>0</td>\n",
       "      <td>1</td>\n",
       "    </tr>\n",
       "    <tr>\n",
       "      <th>2</th>\n",
       "      <td>1</td>\n",
       "      <td>0</td>\n",
       "      <td>1</td>\n",
       "    </tr>\n",
       "    <tr>\n",
       "      <th>3</th>\n",
       "      <td>0</td>\n",
       "      <td>1</td>\n",
       "      <td>1</td>\n",
       "    </tr>\n",
       "    <tr>\n",
       "      <th>4</th>\n",
       "      <td>0</td>\n",
       "      <td>0</td>\n",
       "      <td>0</td>\n",
       "    </tr>\n",
       "    <tr>\n",
       "      <th>5</th>\n",
       "      <td>0</td>\n",
       "      <td>0</td>\n",
       "      <td>0</td>\n",
       "    </tr>\n",
       "    <tr>\n",
       "      <th>6</th>\n",
       "      <td>0</td>\n",
       "      <td>0</td>\n",
       "      <td>0</td>\n",
       "    </tr>\n",
       "    <tr>\n",
       "      <th>7</th>\n",
       "      <td>1</td>\n",
       "      <td>1</td>\n",
       "      <td>0</td>\n",
       "    </tr>\n",
       "  </tbody>\n",
       "</table>\n",
       "</div>"
      ],
      "text/plain": [
       "   X_1  X_2  Y\n",
       "0    1    0  1\n",
       "1    1    0  1\n",
       "2    1    0  1\n",
       "3    0    1  1\n",
       "4    0    0  0\n",
       "5    0    0  0\n",
       "6    0    0  0\n",
       "7    1    1  0"
      ]
     },
     "execution_count": 37,
     "metadata": {},
     "output_type": "execute_result"
    }
   ],
   "source": [
    "data"
   ]
  },
  {
   "cell_type": "code",
   "execution_count": 38,
   "id": "e43b886c",
   "metadata": {},
   "outputs": [
    {
     "data": {
      "text/plain": [
       "<AxesSubplot:xlabel='X_1', ylabel='X_2'>"
      ]
     },
     "execution_count": 38,
     "metadata": {},
     "output_type": "execute_result"
    },
    {
     "data": {
      "image/png": "[encoded data removed]",
      "text/plain": [
       "<Figure size 432x288 with 1 Axes>"
      ]
     },
     "metadata": {
      "needs_background": "light"
     },
     "output_type": "display_data"
    }
   ],
   "source": [
    "sns.scatterplot(x='X_1', y='X_2', hue='Y', data=data)"
   ]
  },
  {
   "attachments": {
    "image-2.png": {
     "image/png": "[encoded data removed]"
    },
    "image.png": {
     "image/png": "[encoded data removed]"
    }
   },
   "cell_type": "markdown",
   "id": "a8a09506",
   "metadata": {},
   "source": [
    "Как изменять неопределенность в наших данных?\n",
    "**Энтропия** - это мера неопределенности (мера беспорядка): $E= - \\sum_{i=1}^c p_i * log_2(p_i)$, где $p_i$ - вероятность i-того класса , $c$ - число классов. Энтропия считается до построения/обучения модели.\n",
    "\n",
    "В наших данных энтропия равна: $E = - (1/2 * log_2(1/2) + 1/2 * log(1/2)) = - (1/2 * -1 + 1/2 * -1) = 1$\n",
    "\n",
    "В бинарной классификации энтропия изменяется от 0 до 1. Чем выше энтропия, тем сложнее разделить классы. В частности, энтропия стремится к 0, когда один из классов имеет преимущество (б**о**льшее число объектов данного класса, чем какого-либо другого).\n",
    "Если каждый класс имеет равное число экземпляров, то энтропия равна 1.\n",
    "![image-2.png](attachment:image-2.png)\n",
    "\n",
    "-------------------------------------------------------------------------------------------\n",
    "$\\color{red}{!}$ При обучении дерева решений может быть использован критерий, связанный с энтропией. Нужно разделять данные таким образом, чтобы энтропия уменьшалась.\n",
    "Так, из нашего примера: энтропия изначально равна 1.\n",
    "При выборе условия X_1 > 1/2 мы получаем две группы объектов. В первой группе находятся данные, содержащие 3 положительных класса и 1 отрицательный; в другой группе наоборот: 3 положительных и 1 отрицательный. Можно посчитать энтропию ($E_1, E_2$) в каждой из двух образовавшихся групп\n",
    "![image.png](attachment:image.png)\n",
    "Теперь можно узнать, насколько снизилась *общая энтропия*. Для этого используется формула подсчета *снижения неопределенности*:\n",
    "$IG=E(Y) - E(Y/X)$, где \n",
    "- $IG$ - information gain (сколько информации мы \"учли\", потеря неопределенности и др.),\n",
    "- $E(Y)$ - исходная энтропия (до разделения),\n",
    "- $E(Y/X) = (n_1 / N) * E_1 + (n_2 / N) * E_2$ - условная энтропия (энтропия при конкретном разделении имеющейся выборки) (здесь $n_1, n_2$ - количество наблюдений, попавших в левую и правую вершины дерева)\n",
    "\n",
    "Дерево решений строится следующим образом: используются жадный алгоритм для поиска разделяющего условия (выбирается то, которое показывает наибольший information gain). Причем алгоритм перебирает раздения по признакам (features), причем в каждом признаке перебираются все уникальные значения. Этот процесс (разделения) происходит до тех пор, пока не будет достигнуто состояние, в котором всем наблюдения однозначно распределились по классам (энтропия в листах по нулям)"
   ]
  },
  {
   "cell_type": "code",
   "execution_count": 40,
   "id": "8eee9c18",
   "metadata": {},
   "outputs": [
    {
     "data": {
      "text/html": [
       "<div>\n",
       "<style scoped>\n",
       "    .dataframe tbody tr th:only-of-type {\n",
       "        vertical-align: middle;\n",
       "    }\n",
       "\n",
       "    .dataframe tbody tr th {\n",
       "        vertical-align: top;\n",
       "    }\n",
       "\n",
       "    .dataframe thead th {\n",
       "        text-align: right;\n",
       "    }\n",
       "</style>\n",
       "<table border=\"1\" class=\"dataframe\">\n",
       "  <thead>\n",
       "    <tr style=\"text-align: right;\">\n",
       "      <th></th>\n",
       "      <th>Unnamed: 0</th>\n",
       "      <th>Шерстист</th>\n",
       "      <th>Гавкает</th>\n",
       "      <th>Лазает по деревьям</th>\n",
       "      <th>Вид</th>\n",
       "    </tr>\n",
       "  </thead>\n",
       "  <tbody>\n",
       "    <tr>\n",
       "      <th>0</th>\n",
       "      <td>0</td>\n",
       "      <td>1</td>\n",
       "      <td>1</td>\n",
       "      <td>0</td>\n",
       "      <td>собачка</td>\n",
       "    </tr>\n",
       "    <tr>\n",
       "      <th>1</th>\n",
       "      <td>1</td>\n",
       "      <td>1</td>\n",
       "      <td>1</td>\n",
       "      <td>0</td>\n",
       "      <td>собачка</td>\n",
       "    </tr>\n",
       "    <tr>\n",
       "      <th>2</th>\n",
       "      <td>2</td>\n",
       "      <td>1</td>\n",
       "      <td>1</td>\n",
       "      <td>0</td>\n",
       "      <td>собачка</td>\n",
       "    </tr>\n",
       "    <tr>\n",
       "      <th>3</th>\n",
       "      <td>3</td>\n",
       "      <td>1</td>\n",
       "      <td>1</td>\n",
       "      <td>0</td>\n",
       "      <td>собачка</td>\n",
       "    </tr>\n",
       "    <tr>\n",
       "      <th>4</th>\n",
       "      <td>4</td>\n",
       "      <td>1</td>\n",
       "      <td>0</td>\n",
       "      <td>1</td>\n",
       "      <td>котик</td>\n",
       "    </tr>\n",
       "    <tr>\n",
       "      <th>5</th>\n",
       "      <td>5</td>\n",
       "      <td>1</td>\n",
       "      <td>0</td>\n",
       "      <td>1</td>\n",
       "      <td>котик</td>\n",
       "    </tr>\n",
       "    <tr>\n",
       "      <th>6</th>\n",
       "      <td>6</td>\n",
       "      <td>1</td>\n",
       "      <td>0</td>\n",
       "      <td>1</td>\n",
       "      <td>котик</td>\n",
       "    </tr>\n",
       "    <tr>\n",
       "      <th>7</th>\n",
       "      <td>7</td>\n",
       "      <td>1</td>\n",
       "      <td>0</td>\n",
       "      <td>1</td>\n",
       "      <td>котик</td>\n",
       "    </tr>\n",
       "  </tbody>\n",
       "</table>\n",
       "</div>"
      ],
      "text/plain": [
       "   Unnamed: 0  Шерстист  Гавкает  Лазает по деревьям      Вид\n",
       "0           0         1        1                   0  собачка\n",
       "1           1         1        1                   0  собачка\n",
       "2           2         1        1                   0  собачка\n",
       "3           3         1        1                   0  собачка\n",
       "4           4         1        0                   1    котик\n",
       "5           5         1        0                   1    котик\n",
       "6           6         1        0                   1    котик\n",
       "7           7         1        0                   1    котик"
      ]
     },
     "execution_count": 40,
     "metadata": {},
     "output_type": "execute_result"
    }
   ],
   "source": [
    "dog_data = pd.read_csv('data/dogs.csv', sep=',')\n",
    "dog_data"
   ]
  },
  {
   "cell_type": "code",
   "execution_count": 47,
   "id": "b0b1c282",
   "metadata": {},
   "outputs": [
    {
     "data": {
      "text/html": [
       "<div>\n",
       "<style scoped>\n",
       "    .dataframe tbody tr th:only-of-type {\n",
       "        vertical-align: middle;\n",
       "    }\n",
       "\n",
       "    .dataframe tbody tr th {\n",
       "        vertical-align: top;\n",
       "    }\n",
       "\n",
       "    .dataframe thead th {\n",
       "        text-align: right;\n",
       "    }\n",
       "</style>\n",
       "<table border=\"1\" class=\"dataframe\">\n",
       "  <thead>\n",
       "    <tr style=\"text-align: right;\">\n",
       "      <th></th>\n",
       "      <th>Шерстист</th>\n",
       "      <th>Гавкает</th>\n",
       "      <th>Лазает по деревьям</th>\n",
       "      <th>Вид</th>\n",
       "    </tr>\n",
       "    <tr>\n",
       "      <th>Id</th>\n",
       "      <th></th>\n",
       "      <th></th>\n",
       "      <th></th>\n",
       "      <th></th>\n",
       "    </tr>\n",
       "  </thead>\n",
       "  <tbody>\n",
       "    <tr>\n",
       "      <th>0</th>\n",
       "      <td>1</td>\n",
       "      <td>1</td>\n",
       "      <td>0</td>\n",
       "      <td>собачка</td>\n",
       "    </tr>\n",
       "    <tr>\n",
       "      <th>1</th>\n",
       "      <td>1</td>\n",
       "      <td>1</td>\n",
       "      <td>0</td>\n",
       "      <td>собачка</td>\n",
       "    </tr>\n",
       "    <tr>\n",
       "      <th>2</th>\n",
       "      <td>1</td>\n",
       "      <td>1</td>\n",
       "      <td>0</td>\n",
       "      <td>собачка</td>\n",
       "    </tr>\n",
       "    <tr>\n",
       "      <th>3</th>\n",
       "      <td>1</td>\n",
       "      <td>1</td>\n",
       "      <td>0</td>\n",
       "      <td>собачка</td>\n",
       "    </tr>\n",
       "    <tr>\n",
       "      <th>4</th>\n",
       "      <td>1</td>\n",
       "      <td>0</td>\n",
       "      <td>1</td>\n",
       "      <td>котик</td>\n",
       "    </tr>\n",
       "    <tr>\n",
       "      <th>5</th>\n",
       "      <td>1</td>\n",
       "      <td>0</td>\n",
       "      <td>1</td>\n",
       "      <td>котик</td>\n",
       "    </tr>\n",
       "    <tr>\n",
       "      <th>6</th>\n",
       "      <td>1</td>\n",
       "      <td>0</td>\n",
       "      <td>1</td>\n",
       "      <td>котик</td>\n",
       "    </tr>\n",
       "    <tr>\n",
       "      <th>7</th>\n",
       "      <td>1</td>\n",
       "      <td>0</td>\n",
       "      <td>1</td>\n",
       "      <td>котик</td>\n",
       "    </tr>\n",
       "  </tbody>\n",
       "</table>\n",
       "</div>"
      ],
      "text/plain": [
       "    Шерстист  Гавкает  Лазает по деревьям      Вид\n",
       "Id                                                \n",
       "0          1        1                   0  собачка\n",
       "1          1        1                   0  собачка\n",
       "2          1        1                   0  собачка\n",
       "3          1        1                   0  собачка\n",
       "4          1        0                   1    котик\n",
       "5          1        0                   1    котик\n",
       "6          1        0                   1    котик\n",
       "7          1        0                   1    котик"
      ]
     },
     "execution_count": 47,
     "metadata": {},
     "output_type": "execute_result"
    }
   ],
   "source": [
    "dog_data = dog_data.rename(columns={'Unnamed: 0': 'Id'})\n",
    "dog_data = dog_data.set_index('Id')\n",
    "dog_data"
   ]
  },
  {
   "cell_type": "code",
   "execution_count": 58,
   "id": "908aa2e8",
   "metadata": {},
   "outputs": [
    {
     "name": "stdout",
     "output_type": "stream",
     "text": [
      "{(0, 'котик'): [4, 5, 6, 7], (1, 'собачка'): [0, 1, 2, 3]}\n",
      "{(0, 'собачка'): [0, 1, 2, 3], (1, 'котик'): [4, 5, 6, 7]}\n"
     ]
    }
   ],
   "source": [
    "# разделение по \"Гавкает\"\n",
    "print(dog_data.groupby(['Гавкает', 'Вид']).groups)\n",
    "\n",
    "# разделение по \"Лазает\"\n",
    "print(dog_data.groupby(['Лазает по деревьям', 'Вид']).groups)\n",
    "\n",
    "# оба признака дают одинаковый information gain, если поместить их в вершину дерева\n",
    "# признаки позволяют идеально различить 2 вида по исходным данным"
   ]
  },
  {
   "cell_type": "code",
   "execution_count": 57,
   "id": "5ec9c918",
   "metadata": {},
   "outputs": [
    {
     "name": "stdout",
     "output_type": "stream",
     "text": [
      "{(1, 'котик'): [4, 5, 6, 7], (1, 'собачка'): [0, 1, 2, 3]}\n"
     ]
    }
   ],
   "source": [
    "print(dog_data.groupby(['Шерстист', 'Вид']).groups)\n",
    "# признак \"Шерстист\" не позволяет идеально различить 2 класса"
   ]
  },
  {
   "cell_type": "code",
   "execution_count": 61,
   "id": "f84a3683",
   "metadata": {},
   "outputs": [
    {
     "data": {
      "text/html": [
       "<div>\n",
       "<style scoped>\n",
       "    .dataframe tbody tr th:only-of-type {\n",
       "        vertical-align: middle;\n",
       "    }\n",
       "\n",
       "    .dataframe tbody tr th {\n",
       "        vertical-align: top;\n",
       "    }\n",
       "\n",
       "    .dataframe thead th {\n",
       "        text-align: right;\n",
       "    }\n",
       "</style>\n",
       "<table border=\"1\" class=\"dataframe\">\n",
       "  <thead>\n",
       "    <tr style=\"text-align: right;\">\n",
       "      <th></th>\n",
       "      <th>Шерстист</th>\n",
       "      <th>Гавкает</th>\n",
       "      <th>Лазает по деревьям</th>\n",
       "      <th>Вид</th>\n",
       "    </tr>\n",
       "    <tr>\n",
       "      <th>Id</th>\n",
       "      <th></th>\n",
       "      <th></th>\n",
       "      <th></th>\n",
       "      <th></th>\n",
       "    </tr>\n",
       "  </thead>\n",
       "  <tbody>\n",
       "    <tr>\n",
       "      <th>0</th>\n",
       "      <td>1</td>\n",
       "      <td>1</td>\n",
       "      <td>0</td>\n",
       "      <td>собачка</td>\n",
       "    </tr>\n",
       "    <tr>\n",
       "      <th>1</th>\n",
       "      <td>1</td>\n",
       "      <td>1</td>\n",
       "      <td>0</td>\n",
       "      <td>собачка</td>\n",
       "    </tr>\n",
       "    <tr>\n",
       "      <th>2</th>\n",
       "      <td>1</td>\n",
       "      <td>1</td>\n",
       "      <td>0</td>\n",
       "      <td>собачка</td>\n",
       "    </tr>\n",
       "    <tr>\n",
       "      <th>3</th>\n",
       "      <td>1</td>\n",
       "      <td>1</td>\n",
       "      <td>0</td>\n",
       "      <td>собачка</td>\n",
       "    </tr>\n",
       "    <tr>\n",
       "      <th>4</th>\n",
       "      <td>1</td>\n",
       "      <td>0</td>\n",
       "      <td>1</td>\n",
       "      <td>котик</td>\n",
       "    </tr>\n",
       "    <tr>\n",
       "      <th>5</th>\n",
       "      <td>1</td>\n",
       "      <td>0</td>\n",
       "      <td>1</td>\n",
       "      <td>котик</td>\n",
       "    </tr>\n",
       "    <tr>\n",
       "      <th>6</th>\n",
       "      <td>1</td>\n",
       "      <td>0</td>\n",
       "      <td>1</td>\n",
       "      <td>котик</td>\n",
       "    </tr>\n",
       "    <tr>\n",
       "      <th>7</th>\n",
       "      <td>1</td>\n",
       "      <td>0</td>\n",
       "      <td>1</td>\n",
       "      <td>котик</td>\n",
       "    </tr>\n",
       "    <tr>\n",
       "      <th>8</th>\n",
       "      <td>1</td>\n",
       "      <td>1</td>\n",
       "      <td>1</td>\n",
       "      <td>котик</td>\n",
       "    </tr>\n",
       "    <tr>\n",
       "      <th>9</th>\n",
       "      <td>0</td>\n",
       "      <td>0</td>\n",
       "      <td>1</td>\n",
       "      <td>котик</td>\n",
       "    </tr>\n",
       "  </tbody>\n",
       "</table>\n",
       "</div>"
      ],
      "text/plain": [
       "    Шерстист  Гавкает  Лазает по деревьям      Вид\n",
       "Id                                                \n",
       "0          1        1                   0  собачка\n",
       "1          1        1                   0  собачка\n",
       "2          1        1                   0  собачка\n",
       "3          1        1                   0  собачка\n",
       "4          1        0                   1    котик\n",
       "5          1        0                   1    котик\n",
       "6          1        0                   1    котик\n",
       "7          1        0                   1    котик\n",
       "8          1        1                   1    котик\n",
       "9          0        0                   1    котик"
      ]
     },
     "execution_count": 61,
     "metadata": {},
     "output_type": "execute_result"
    }
   ],
   "source": [
    "cat_dog_data = pd.read_csv('data/cats.csv')\n",
    "cat_dog_data = cat_dog_data.rename(columns={'Unnamed: 0': 'Id'}).set_index('Id')\n",
    "cat_dog_data"
   ]
  },
  {
   "cell_type": "code",
   "execution_count": 71,
   "id": "b84a136d",
   "metadata": {},
   "outputs": [
    {
     "data": {
      "text/plain": [
       "котик      0.6\n",
       "собачка    0.4\n",
       "Name: Вид, dtype: float64"
      ]
     },
     "execution_count": 71,
     "metadata": {},
     "output_type": "execute_result"
    }
   ],
   "source": [
    "# вероятности классов\n",
    "cat_dog_data['Вид'].value_counts()/len(cat_dog_data)"
   ]
  },
  {
   "cell_type": "code",
   "execution_count": 84,
   "id": "dbdedae4",
   "metadata": {},
   "outputs": [],
   "source": [
    "entropy = - (0.6 * np.log2(0.6) + 0.4*np.log2(0.4))"
   ]
  },
  {
   "cell_type": "code",
   "execution_count": 90,
   "id": "8f8cd63f",
   "metadata": {},
   "outputs": [
    {
     "data": {
      "text/plain": [
       "Шерстист  Вид    \n",
       "0         котик      1\n",
       "1         котик      5\n",
       "          собачка    4\n",
       "Name: Гавкает, dtype: int64"
      ]
     },
     "metadata": {},
     "output_type": "display_data"
    },
    {
     "name": "stdout",
     "output_type": "stream",
     "text": [
      "split по признаку *Шерстист*\n",
      "0  |||  0.9910760598382222\n",
      "IG = 0.07898214060026854\n"
     ]
    }
   ],
   "source": [
    "display(cat_dog_data.groupby(['Шерстист', 'Вид'])['Гавкает'].count().rename({'Гавкает':'Кол-во наблюдений'}))\n",
    "print('split по признаку *Шерстист*')\n",
    "\n",
    "entropy1 = 0\n",
    "entropy2 = - (5/9 * np.log2(5/9) + 4/9 * np.log2(4/9))\n",
    "print(entropy1, ' ||| ', entropy2)\n",
    "\n",
    "condition_entropy = entropy1 * (1 / len(cat_dog_data)) + entropy2 * (9/len(cat_dog_data))\n",
    "information_gain = entropy - condition_entropy\n",
    "print('IG =', information_gain)"
   ]
  },
  {
   "cell_type": "code",
   "execution_count": 89,
   "id": "5c2c807d",
   "metadata": {},
   "outputs": [
    {
     "data": {
      "text/plain": [
       "Гавкает  Вид    \n",
       "0        котик      5\n",
       "1        котик      1\n",
       "         собачка    4\n",
       "Name: Шерстист, dtype: int64"
      ]
     },
     "metadata": {},
     "output_type": "display_data"
    },
    {
     "name": "stdout",
     "output_type": "stream",
     "text": [
      "split по признаку *Гавкает*\n",
      "0  |||  0.7219280948873623\n",
      "IG = 0.6099865470109874\n"
     ]
    }
   ],
   "source": [
    "display(cat_dog_data.groupby(['Гавкает', 'Вид'])['Шерстист'].count().rename({'Гавкает':'Кол-во наблюдений'}))\n",
    "print('split по признаку *Гавкает*')\n",
    "\n",
    "entropy1 = 0\n",
    "entropy2 = - (1/5 * np.log2(1/5) + 4/5 * np.log2(4/5))\n",
    "print(entropy1, ' ||| ', entropy2)\n",
    "\n",
    "condition_entropy = entropy1 * (5 / len(cat_dog_data)) + entropy2 * (5/len(cat_dog_data))\n",
    "information_gain = entropy - condition_entropy\n",
    "print('IG =', information_gain)"
   ]
  },
  {
   "cell_type": "code",
   "execution_count": 91,
   "id": "21dc5ae1",
   "metadata": {},
   "outputs": [
    {
     "data": {
      "text/plain": [
       "Лазает по деревьям  Вид    \n",
       "0                   собачка    4\n",
       "1                   котик      6\n",
       "Name: Шерстист, dtype: int64"
      ]
     },
     "metadata": {},
     "output_type": "display_data"
    },
    {
     "name": "stdout",
     "output_type": "stream",
     "text": [
      "split по признаку *Лазает по деревьям*\n",
      "0  |||  0\n",
      "IG = 0.9709505944546686\n"
     ]
    }
   ],
   "source": [
    "display(cat_dog_data.groupby(['Лазает по деревьям', 'Вид'])['Шерстист'].count().rename({'Гавкает':'Кол-во наблюдений'}))\n",
    "print('split по признаку *Лазает по деревьям*')\n",
    "\n",
    "\n",
    "entropy1 = 0\n",
    "entropy2 = 0\n",
    "print(entropy1, ' ||| ', entropy2)\n",
    "\n",
    "condition_entropy = entropy1 * (4 / len(cat_dog_data)) + entropy2 * (6/len(cat_dog_data))\n",
    "information_gain = entropy - condition_entropy\n",
    "print('IG =', information_gain)"
   ]
  },
  {
   "cell_type": "code",
   "execution_count": null,
   "id": "c4292f6f",
   "metadata": {},
   "outputs": [],
   "source": []
  }
 ],
 "metadata": {
  "kernelspec": {
   "display_name": "Python 3",
   "language": "python",
   "name": "python3"
  },
  "language_info": {
   "codemirror_mode": {
    "name": "ipython",
    "version": 3
   },
   "file_extension": ".py",
   "mimetype": "text/x-python",
   "name": "python",
   "nbconvert_exporter": "python",
   "pygments_lexer": "ipython3",
   "version": "3.8.8"
  },
  "toc": {
   "base_numbering": 1,
   "nav_menu": {},
   "number_sections": true,
   "sideBar": true,
   "skip_h1_title": false,
   "title_cell": "Table of Contents",
   "title_sidebar": "Contents",
   "toc_cell": false,
   "toc_position": {},
   "toc_section_display": true,
   "toc_window_display": false
  }
 },
 "nbformat": 4,
 "nbformat_minor": 5
}
