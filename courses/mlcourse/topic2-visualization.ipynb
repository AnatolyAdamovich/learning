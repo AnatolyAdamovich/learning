{
 "cells": [
  {
   "cell_type": "markdown",
   "id": "b5cce265",
   "metadata": {
    "_uuid": "945c0f151b28ca53b79e0f7cf5b107af959a3370",
    "papermill": {
     "duration": 0.014086,
     "end_time": "2022-09-07T12:51:23.648698",
     "exception": false,
     "start_time": "2022-09-07T12:51:23.634612",
     "status": "completed"
    },
    "tags": []
   },
   "source": [
    "<center>\n",
    "<img src=\"https://habrastorage.org/webt/ia/m9/zk/iam9zkyzqebnf_okxipihkgjwnw.jpeg\">\n",
    "\n",
    "## [mlcourse.ai](https://mlcourse.ai) - Open Machine Learning Course\n",
    "    \n",
    "Authors: [Ilya Baryshnikov](https://www.linkedin.com/in/baryshnikov-ilya/), [Maxim Uvarov](https://www.linkedin.com/in/maxis42/), and [Yury Kashnitsky](https://yorko.github.io). Translated and edited by [Inga Kaydanova](https://www.linkedin.com/in/inga-kaidanova-a92398b1/), [Egor Polusmak](https://www.linkedin.com/in/egor-polusmak/), [Anastasia Manokhina](https://www.linkedin.com/in/anastasiamanokhina/), and [Yuanyuan Pao](https://www.linkedin.com/in/yuanyuanpao/). This material is subject to the terms and conditions of the [Creative Commons CC BY-NC-SA 4.0](https://creativecommons.org/licenses/by-nc-sa/4.0/) license. Free use is permitted for any non-commercial purpose."
   ]
  },
  {
   "cell_type": "markdown",
   "id": "f4d30864",
   "metadata": {
    "_uuid": "66409c8728e75df39a1390bcb634ae50c6b37652",
    "papermill": {
     "duration": 0.012951,
     "end_time": "2022-09-07T12:51:23.675994",
     "exception": false,
     "start_time": "2022-09-07T12:51:23.663043",
     "status": "completed"
    },
    "tags": []
   },
   "source": [
    "# <center>Assignment #2 (demo)\n",
    "## <center>Analyzing cardiovascular disease data "
   ]
  },
  {
   "cell_type": "markdown",
   "id": "edfd8081",
   "metadata": {
    "_uuid": "5cea59b8adb04c5a07a32c5b70a829319ba0cf2a",
    "papermill": {
     "duration": 0.012725,
     "end_time": "2022-09-07T12:51:23.702229",
     "exception": false,
     "start_time": "2022-09-07T12:51:23.689504",
     "status": "completed"
    },
    "tags": []
   },
   "source": [
    "In this assignment, you will answer questions about a dataset on cardiovascular disease. You do not need to download the data: it is already in the repository. There are some Tasks that will require you to write code. Complete them and then answer the questions in the [form](https://docs.google.com/forms/d/13cE_tSIb6hsScQvvWUJeu1MEHE5L6vnxQUbDYpXsf24). \n",
    "\n",
    "#### Problem\n",
    "\n",
    "Predict the presence or absence of cardiovascular disease (CVD) using the patient examination results.\n",
    "\n",
    "#### Data description\n",
    "\n",
    "There are 3 types of input features:\n",
    "\n",
    "- *Objective*: factual information;\n",
    "- *Examination*: results of medical examination;\n",
    "- *Subjective*: information given by the patient.\n",
    "\n",
    "| Feature | Variable Type | Variable      | Value Type |\n",
    "|---------|--------------|---------------|------------|\n",
    "| Age | Objective Feature | age | int (days) |\n",
    "| Height | Objective Feature | height | int (cm) |\n",
    "| Weight | Objective Feature | weight | float (kg) |\n",
    "| Gender | Objective Feature | gender | categorical code |\n",
    "| Systolic blood pressure | Examination Feature | ap_hi | int |\n",
    "| Diastolic blood pressure | Examination Feature | ap_lo | int |\n",
    "| Cholesterol | Examination Feature | cholesterol | 1: normal, 2: above normal, 3: well above normal |\n",
    "| Glucose | Examination Feature | gluc | 1: normal, 2: above normal, 3: well above normal |\n",
    "| Smoking | Subjective Feature | smoke | binary |\n",
    "| Alcohol intake | Subjective Feature | alco | binary |\n",
    "| Physical activity | Subjective Feature | active | binary |\n",
    "| Presence or absence of cardiovascular disease | Target Variable | cardio | binary |\n",
    "\n",
    "All of the dataset values were collected at the moment of medical examination."
   ]
  },
  {
   "cell_type": "markdown",
   "id": "7b15c4a6",
   "metadata": {
    "_uuid": "10749a7f9b46749e3a90ff697bc298760045c333",
    "papermill": {
     "duration": 0.012614,
     "end_time": "2022-09-07T12:51:23.727779",
     "exception": false,
     "start_time": "2022-09-07T12:51:23.715165",
     "status": "completed"
    },
    "tags": []
   },
   "source": [
    "Let's get to know our data by performing a preliminary data analysis.\n",
    "\n",
    "#  Part 1. Preliminary data analysis\n",
    "\n",
    "First, we will initialize the environment:"
   ]
  },
  {
   "cell_type": "code",
   "execution_count": 1,
   "id": "c90d1c38",
   "metadata": {
    "_uuid": "85426734e890fcf72416f29a953da115c1171080",
    "execution": {
     "iopub.execute_input": "2022-09-07T12:51:23.756641Z",
     "iopub.status.busy": "2022-09-07T12:51:23.755513Z",
     "iopub.status.idle": "2022-09-07T12:51:24.740661Z",
     "shell.execute_reply": "2022-09-07T12:51:24.739738Z"
    },
    "papermill": {
     "duration": 1.00267,
     "end_time": "2022-09-07T12:51:24.743732",
     "exception": false,
     "start_time": "2022-09-07T12:51:23.741062",
     "status": "completed"
    },
    "tags": []
   },
   "outputs": [],
   "source": [
    "# Import all required modules\n",
    "import pandas as pd\n",
    "import numpy as np\n",
    "\n",
    "# Disable warnings\n",
    "import warnings\n",
    "warnings.filterwarnings(\"ignore\")\n",
    "\n",
    "# Import plotting modules\n",
    "import seaborn as sns\n",
    "sns.set()\n",
    "import matplotlib\n",
    "import matplotlib.pyplot as plt\n",
    "import matplotlib.ticker\n",
    "%matplotlib inline"
   ]
  },
  {
   "cell_type": "markdown",
   "id": "67f086db",
   "metadata": {
    "_uuid": "cbcf821e4bea8a7f7fb1ee4a9bf285b6c4b588ee",
    "papermill": {
     "duration": 0.012748,
     "end_time": "2022-09-07T12:51:24.770558",
     "exception": false,
     "start_time": "2022-09-07T12:51:24.757810",
     "status": "completed"
    },
    "tags": []
   },
   "source": [
    "You will use the `seaborn` library for visual analysis, so let's set that up too:"
   ]
  },
  {
   "cell_type": "code",
   "execution_count": 2,
   "id": "5b604bef",
   "metadata": {
    "_uuid": "b33601a0cadc2fb2d92f211c31bf99a502f71d48",
    "execution": {
     "iopub.execute_input": "2022-09-07T12:51:24.798520Z",
     "iopub.status.busy": "2022-09-07T12:51:24.798027Z",
     "iopub.status.idle": "2022-09-07T12:51:24.802674Z",
     "shell.execute_reply": "2022-09-07T12:51:24.802068Z"
    },
    "papermill": {
     "duration": 0.020708,
     "end_time": "2022-09-07T12:51:24.804361",
     "exception": false,
     "start_time": "2022-09-07T12:51:24.783653",
     "status": "completed"
    },
    "tags": []
   },
   "outputs": [],
   "source": [
    "# Tune the visual settings for figures in `seaborn`\n",
    "sns.set_context(\n",
    "    \"notebook\", \n",
    "    font_scale=1.5,       \n",
    "    rc={ \n",
    "        \"figure.figsize\": (11, 8), \n",
    "        \"axes.titlesize\": 18 \n",
    "    }\n",
    ")\n",
    "\n",
    "from matplotlib import rcParams\n",
    "rcParams['figure.figsize'] = 11, 8"
   ]
  },
  {
   "cell_type": "markdown",
   "id": "87ee18e9",
   "metadata": {
    "_uuid": "89381351e4b95530b355e0e55bc4536c0a813d10",
    "papermill": {
     "duration": 0.012775,
     "end_time": "2022-09-07T12:51:24.830349",
     "exception": false,
     "start_time": "2022-09-07T12:51:24.817574",
     "status": "completed"
    },
    "tags": []
   },
   "source": [
    "To make it simple, we will work only with the training part of the dataset:"
   ]
  },
  {
   "cell_type": "code",
   "execution_count": 3,
   "id": "0ff24675",
   "metadata": {
    "_uuid": "2bd0005e660693a061577ca5244b48ccebf36719",
    "execution": {
     "iopub.execute_input": "2022-09-07T12:51:24.858291Z",
     "iopub.status.busy": "2022-09-07T12:51:24.857817Z",
     "iopub.status.idle": "2022-09-07T12:51:24.985693Z",
     "shell.execute_reply": "2022-09-07T12:51:24.984325Z"
    },
    "papermill": {
     "duration": 0.144107,
     "end_time": "2022-09-07T12:51:24.987701",
     "exception": false,
     "start_time": "2022-09-07T12:51:24.843594",
     "status": "completed"
    },
    "tags": []
   },
   "outputs": [
    {
     "name": "stdout",
     "output_type": "stream",
     "text": [
      "Dataset size:  (70000, 13)\n"
     ]
    },
    {
     "data": {
      "text/html": [
       "<div>\n",
       "<style scoped>\n",
       "    .dataframe tbody tr th:only-of-type {\n",
       "        vertical-align: middle;\n",
       "    }\n",
       "\n",
       "    .dataframe tbody tr th {\n",
       "        vertical-align: top;\n",
       "    }\n",
       "\n",
       "    .dataframe thead th {\n",
       "        text-align: right;\n",
       "    }\n",
       "</style>\n",
       "<table border=\"1\" class=\"dataframe\">\n",
       "  <thead>\n",
       "    <tr style=\"text-align: right;\">\n",
       "      <th></th>\n",
       "      <th>id</th>\n",
       "      <th>age</th>\n",
       "      <th>gender</th>\n",
       "      <th>height</th>\n",
       "      <th>weight</th>\n",
       "      <th>ap_hi</th>\n",
       "      <th>ap_lo</th>\n",
       "      <th>cholesterol</th>\n",
       "      <th>gluc</th>\n",
       "      <th>smoke</th>\n",
       "      <th>alco</th>\n",
       "      <th>active</th>\n",
       "      <th>cardio</th>\n",
       "    </tr>\n",
       "  </thead>\n",
       "  <tbody>\n",
       "    <tr>\n",
       "      <th>0</th>\n",
       "      <td>0</td>\n",
       "      <td>18393</td>\n",
       "      <td>2</td>\n",
       "      <td>168</td>\n",
       "      <td>62.0</td>\n",
       "      <td>110</td>\n",
       "      <td>80</td>\n",
       "      <td>1</td>\n",
       "      <td>1</td>\n",
       "      <td>0</td>\n",
       "      <td>0</td>\n",
       "      <td>1</td>\n",
       "      <td>0</td>\n",
       "    </tr>\n",
       "    <tr>\n",
       "      <th>1</th>\n",
       "      <td>1</td>\n",
       "      <td>20228</td>\n",
       "      <td>1</td>\n",
       "      <td>156</td>\n",
       "      <td>85.0</td>\n",
       "      <td>140</td>\n",
       "      <td>90</td>\n",
       "      <td>3</td>\n",
       "      <td>1</td>\n",
       "      <td>0</td>\n",
       "      <td>0</td>\n",
       "      <td>1</td>\n",
       "      <td>1</td>\n",
       "    </tr>\n",
       "    <tr>\n",
       "      <th>2</th>\n",
       "      <td>2</td>\n",
       "      <td>18857</td>\n",
       "      <td>1</td>\n",
       "      <td>165</td>\n",
       "      <td>64.0</td>\n",
       "      <td>130</td>\n",
       "      <td>70</td>\n",
       "      <td>3</td>\n",
       "      <td>1</td>\n",
       "      <td>0</td>\n",
       "      <td>0</td>\n",
       "      <td>0</td>\n",
       "      <td>1</td>\n",
       "    </tr>\n",
       "    <tr>\n",
       "      <th>3</th>\n",
       "      <td>3</td>\n",
       "      <td>17623</td>\n",
       "      <td>2</td>\n",
       "      <td>169</td>\n",
       "      <td>82.0</td>\n",
       "      <td>150</td>\n",
       "      <td>100</td>\n",
       "      <td>1</td>\n",
       "      <td>1</td>\n",
       "      <td>0</td>\n",
       "      <td>0</td>\n",
       "      <td>1</td>\n",
       "      <td>1</td>\n",
       "    </tr>\n",
       "    <tr>\n",
       "      <th>4</th>\n",
       "      <td>4</td>\n",
       "      <td>17474</td>\n",
       "      <td>1</td>\n",
       "      <td>156</td>\n",
       "      <td>56.0</td>\n",
       "      <td>100</td>\n",
       "      <td>60</td>\n",
       "      <td>1</td>\n",
       "      <td>1</td>\n",
       "      <td>0</td>\n",
       "      <td>0</td>\n",
       "      <td>0</td>\n",
       "      <td>0</td>\n",
       "    </tr>\n",
       "  </tbody>\n",
       "</table>\n",
       "</div>"
      ],
      "text/plain": [
       "   id    age  gender  height  weight  ap_hi  ap_lo  cholesterol  gluc  smoke  \\\n",
       "0   0  18393       2     168    62.0    110     80            1     1      0   \n",
       "1   1  20228       1     156    85.0    140     90            3     1      0   \n",
       "2   2  18857       1     165    64.0    130     70            3     1      0   \n",
       "3   3  17623       2     169    82.0    150    100            1     1      0   \n",
       "4   4  17474       1     156    56.0    100     60            1     1      0   \n",
       "\n",
       "   alco  active  cardio  \n",
       "0     0       1       0  \n",
       "1     0       1       1  \n",
       "2     0       0       1  \n",
       "3     0       1       1  \n",
       "4     0       0       0  "
      ]
     },
     "execution_count": 3,
     "metadata": {},
     "output_type": "execute_result"
    }
   ],
   "source": [
    "df = pd.read_csv('../input/mlbootcamp5_train.csv')\n",
    "print('Dataset size: ', df.shape)\n",
    "df.head()"
   ]
  },
  {
   "cell_type": "markdown",
   "id": "77331a22",
   "metadata": {
    "_uuid": "636bf459023fbc1d1f1b73863c5246397dc26e6d",
    "papermill": {
     "duration": 0.012857,
     "end_time": "2022-09-07T12:51:25.014062",
     "exception": false,
     "start_time": "2022-09-07T12:51:25.001205",
     "status": "completed"
    },
    "tags": []
   },
   "source": [
    "It would be instructive to peek into the values of our variables.\n",
    " \n",
    "Let's convert the data into *long* format and depict the value counts of the categorical features using [`factorplot()`](https://seaborn.pydata.org/generated/seaborn.factorplot.html)."
   ]
  },
  {
   "cell_type": "code",
   "execution_count": 4,
   "id": "c895cc4f",
   "metadata": {
    "_uuid": "334ad6a83e7bb58f2c65ec512bfc401a0948c17a",
    "execution": {
     "iopub.execute_input": "2022-09-07T12:51:25.041883Z",
     "iopub.status.busy": "2022-09-07T12:51:25.041402Z",
     "iopub.status.idle": "2022-09-07T12:51:25.070990Z",
     "shell.execute_reply": "2022-09-07T12:51:25.069916Z"
    },
    "papermill": {
     "duration": 0.045963,
     "end_time": "2022-09-07T12:51:25.072993",
     "exception": false,
     "start_time": "2022-09-07T12:51:25.027030",
     "status": "completed"
    },
    "tags": []
   },
   "outputs": [
    {
     "data": {
      "text/html": [
       "<div>\n",
       "<style scoped>\n",
       "    .dataframe tbody tr th:only-of-type {\n",
       "        vertical-align: middle;\n",
       "    }\n",
       "\n",
       "    .dataframe tbody tr th {\n",
       "        vertical-align: top;\n",
       "    }\n",
       "\n",
       "    .dataframe thead th {\n",
       "        text-align: right;\n",
       "    }\n",
       "</style>\n",
       "<table border=\"1\" class=\"dataframe\">\n",
       "  <thead>\n",
       "    <tr style=\"text-align: right;\">\n",
       "      <th></th>\n",
       "      <th>variable</th>\n",
       "      <th>value</th>\n",
       "    </tr>\n",
       "  </thead>\n",
       "  <tbody>\n",
       "    <tr>\n",
       "      <th>0</th>\n",
       "      <td>gender</td>\n",
       "      <td>2</td>\n",
       "    </tr>\n",
       "    <tr>\n",
       "      <th>1</th>\n",
       "      <td>gender</td>\n",
       "      <td>1</td>\n",
       "    </tr>\n",
       "    <tr>\n",
       "      <th>2</th>\n",
       "      <td>gender</td>\n",
       "      <td>1</td>\n",
       "    </tr>\n",
       "    <tr>\n",
       "      <th>3</th>\n",
       "      <td>gender</td>\n",
       "      <td>2</td>\n",
       "    </tr>\n",
       "    <tr>\n",
       "      <th>4</th>\n",
       "      <td>gender</td>\n",
       "      <td>1</td>\n",
       "    </tr>\n",
       "    <tr>\n",
       "      <th>...</th>\n",
       "      <td>...</td>\n",
       "      <td>...</td>\n",
       "    </tr>\n",
       "    <tr>\n",
       "      <th>489995</th>\n",
       "      <td>cardio</td>\n",
       "      <td>0</td>\n",
       "    </tr>\n",
       "    <tr>\n",
       "      <th>489996</th>\n",
       "      <td>cardio</td>\n",
       "      <td>1</td>\n",
       "    </tr>\n",
       "    <tr>\n",
       "      <th>489997</th>\n",
       "      <td>cardio</td>\n",
       "      <td>1</td>\n",
       "    </tr>\n",
       "    <tr>\n",
       "      <th>489998</th>\n",
       "      <td>cardio</td>\n",
       "      <td>1</td>\n",
       "    </tr>\n",
       "    <tr>\n",
       "      <th>489999</th>\n",
       "      <td>cardio</td>\n",
       "      <td>0</td>\n",
       "    </tr>\n",
       "  </tbody>\n",
       "</table>\n",
       "<p>490000 rows × 2 columns</p>\n",
       "</div>"
      ],
      "text/plain": [
       "       variable  value\n",
       "0        gender      2\n",
       "1        gender      1\n",
       "2        gender      1\n",
       "3        gender      2\n",
       "4        gender      1\n",
       "...         ...    ...\n",
       "489995   cardio      0\n",
       "489996   cardio      1\n",
       "489997   cardio      1\n",
       "489998   cardio      1\n",
       "489999   cardio      0\n",
       "\n",
       "[490000 rows x 2 columns]"
      ]
     },
     "execution_count": 4,
     "metadata": {},
     "output_type": "execute_result"
    }
   ],
   "source": [
    "df_uniques = pd.melt(frame=df, value_vars=['gender','cholesterol', \n",
    "                                           'gluc', 'smoke', 'alco', \n",
    "                                           'active', 'cardio'])\n",
    "df_uniques"
   ]
  },
  {
   "cell_type": "code",
   "execution_count": 5,
   "id": "3aea013e",
   "metadata": {
    "_uuid": "334ad6a83e7bb58f2c65ec512bfc401a0948c17a",
    "execution": {
     "iopub.execute_input": "2022-09-07T12:51:25.103426Z",
     "iopub.status.busy": "2022-09-07T12:51:25.102727Z",
     "iopub.status.idle": "2022-09-07T12:51:25.682146Z",
     "shell.execute_reply": "2022-09-07T12:51:25.681285Z"
    },
    "papermill": {
     "duration": 0.59588,
     "end_time": "2022-09-07T12:51:25.683937",
     "exception": false,
     "start_time": "2022-09-07T12:51:25.088057",
     "status": "completed"
    },
    "tags": []
   },
   "outputs": [
    {
     "data": {
      "image/png": "[encoded data removed]",
      "text/plain": [
       "<Figure size 933.9x864 with 1 Axes>"
      ]
     },
     "metadata": {
      "needs_background": "light"
     },
     "output_type": "display_data"
    }
   ],
   "source": [
    "df_uniques = pd.DataFrame(df_uniques.groupby(['variable', \n",
    "                                              'value'])['value'].count()) \\\n",
    "    .sort_index(level=[0, 1]) \\\n",
    "    .rename(columns={'value': 'count'}) \\\n",
    "    .reset_index()\n",
    "\n",
    "sns.factorplot(x='variable', y='count', hue='value', \n",
    "               data=df_uniques, kind='bar', size=12);"
   ]
  },
  {
   "cell_type": "markdown",
   "id": "2f885f88",
   "metadata": {
    "_uuid": "cb94ec9ddf78c607cdec5536581b8ec4004ac16b",
    "papermill": {
     "duration": 0.015347,
     "end_time": "2022-09-07T12:51:25.713214",
     "exception": false,
     "start_time": "2022-09-07T12:51:25.697867",
     "status": "completed"
    },
    "tags": []
   },
   "source": [
    "We can see that the target classes are balanced. That's great!\n",
    "\n",
    "Let's split the dataset by target values. Can you already spot the most significant feature by just looking at the plot?"
   ]
  },
  {
   "cell_type": "code",
   "execution_count": 6,
   "id": "dc446ab2",
   "metadata": {
    "_uuid": "a712d76f8c11588a9aebd4be6a00f01c53a8d80a",
    "execution": {
     "iopub.execute_input": "2022-09-07T12:51:25.745817Z",
     "iopub.status.busy": "2022-09-07T12:51:25.744946Z",
     "iopub.status.idle": "2022-09-07T12:51:26.540798Z",
     "shell.execute_reply": "2022-09-07T12:51:26.539987Z"
    },
    "papermill": {
     "duration": 0.812803,
     "end_time": "2022-09-07T12:51:26.542782",
     "exception": false,
     "start_time": "2022-09-07T12:51:25.729979",
     "status": "completed"
    },
    "tags": []
   },
   "outputs": [
    {
     "data": {
      "image/png": "[encoded data removed]",
      "text/plain": [
       "<Figure size 1365.9x648 with 2 Axes>"
      ]
     },
     "metadata": {
      "needs_background": "light"
     },
     "output_type": "display_data"
    }
   ],
   "source": [
    "df_uniques = pd.melt(frame=df, value_vars=['gender','cholesterol', \n",
    "                                           'gluc', 'smoke', 'alco', \n",
    "                                           'active'], \n",
    "                     id_vars=['cardio'])\n",
    "df_uniques = pd.DataFrame(df_uniques.groupby(['variable', 'value', \n",
    "                                              'cardio'])['value'].count()) \\\n",
    "    .sort_index(level=[0, 1]) \\\n",
    "    .rename(columns={'value': 'count'}) \\\n",
    "    .reset_index()\n",
    "\n",
    "sns.factorplot(x='variable', y='count', hue='value', \n",
    "               col='cardio', data=df_uniques, kind='bar', size=9);"
   ]
  },
  {
   "cell_type": "markdown",
   "id": "d27aa332",
   "metadata": {
    "_uuid": "4f4fdb7b979c6594b3060a0b80473fabbdf6acd0",
    "papermill": {
     "duration": 0.014189,
     "end_time": "2022-09-07T12:51:26.571475",
     "exception": false,
     "start_time": "2022-09-07T12:51:26.557286",
     "status": "completed"
    },
    "tags": []
   },
   "source": [
    "You can see that the distribution of cholesterol and glucose levels great differs by the value of the target variable. Is this a coincidence?\n",
    "\n",
    "Now, let's calculate some statistics for the feature unique values:"
   ]
  },
  {
   "cell_type": "code",
   "execution_count": 7,
   "id": "637663b1",
   "metadata": {
    "_uuid": "e9cbba719f93f6b544567638be7332b7385fc715",
    "execution": {
     "iopub.execute_input": "2022-09-07T12:51:26.602132Z",
     "iopub.status.busy": "2022-09-07T12:51:26.601811Z",
     "iopub.status.idle": "2022-09-07T12:51:26.625213Z",
     "shell.execute_reply": "2022-09-07T12:51:26.623368Z"
    },
    "papermill": {
     "duration": 0.041149,
     "end_time": "2022-09-07T12:51:26.627055",
     "exception": false,
     "start_time": "2022-09-07T12:51:26.585906",
     "status": "completed"
    },
    "tags": []
   },
   "outputs": [
    {
     "name": "stdout",
     "output_type": "stream",
     "text": [
      "id\n",
      "70000\n",
      "----------\n",
      "age\n",
      "8076\n",
      "----------\n",
      "gender\n",
      "2 [(1, 45530), (2, 24470)]\n",
      "----------\n",
      "height\n",
      "109\n",
      "----------\n",
      "weight\n",
      "287\n",
      "----------\n",
      "ap_hi\n",
      "153\n",
      "----------\n",
      "ap_lo\n",
      "157\n",
      "----------\n",
      "cholesterol\n",
      "3 [(1, 52385), (2, 9549), (3, 8066)]\n",
      "----------\n",
      "gluc\n",
      "3 [(1, 59479), (2, 5190), (3, 5331)]\n",
      "----------\n",
      "smoke\n",
      "2 [(0, 63831), (1, 6169)]\n",
      "----------\n",
      "alco\n",
      "2 [(0, 66236), (1, 3764)]\n",
      "----------\n",
      "active\n",
      "2 [(0, 13739), (1, 56261)]\n",
      "----------\n",
      "cardio\n",
      "2 [(0, 35021), (1, 34979)]\n",
      "----------\n"
     ]
    }
   ],
   "source": [
    "for c in df.columns:\n",
    "    n = df[c].nunique()\n",
    "    print(c)\n",
    "    if n <= 3:\n",
    "        print(n, sorted(df[c].value_counts().to_dict().items()))\n",
    "    else:\n",
    "        print(n)\n",
    "    print(10 * '-')"
   ]
  },
  {
   "cell_type": "markdown",
   "id": "c91c1be7",
   "metadata": {
    "_uuid": "53507160b237077bf8b19fb987b910669c04ba8b",
    "papermill": {
     "duration": 0.014168,
     "end_time": "2022-09-07T12:51:26.655788",
     "exception": false,
     "start_time": "2022-09-07T12:51:26.641620",
     "status": "completed"
    },
    "tags": []
   },
   "source": [
    "In the end, we have:\n",
    "- 5 numerical features (excluding *id*);\n",
    "- 7 categorical features;\n",
    "- 70000 records in total."
   ]
  },
  {
   "cell_type": "markdown",
   "id": "02ae4015",
   "metadata": {
    "_uuid": "5f9dc83567c83c1ab2eeb4b855d3f8460c1a735e",
    "papermill": {
     "duration": 0.01402,
     "end_time": "2022-09-07T12:51:26.683992",
     "exception": false,
     "start_time": "2022-09-07T12:51:26.669972",
     "status": "completed"
    },
    "tags": []
   },
   "source": [
    "## 1.1. Basic observations"
   ]
  },
  {
   "cell_type": "markdown",
   "id": "39530afa",
   "metadata": {
    "_uuid": "129e6509399146154e8c7e293a2fd11f5d267fa4",
    "papermill": {
     "duration": 0.013991,
     "end_time": "2022-09-07T12:51:26.712299",
     "exception": false,
     "start_time": "2022-09-07T12:51:26.698308",
     "status": "completed"
    },
    "tags": []
   },
   "source": [
    "**Question 1.1. (1 point). How many men and women are present in this dataset? Values of the `gender` feature were not given (whether \"1\" stands for women or for men) – figure this out by looking analyzing height, making the assumption that men are taller on average.**\n",
    "1. 45530 women and 24470 men\n",
    "2. 45530 men and 24470 women\n",
    "3. 45470 women and 24530 men\n",
    "4. 45470 men and 24530 women"
   ]
  },
  {
   "cell_type": "code",
   "execution_count": 8,
   "id": "d0908697",
   "metadata": {
    "execution": {
     "iopub.execute_input": "2022-09-07T12:51:26.742443Z",
     "iopub.status.busy": "2022-09-07T12:51:26.742140Z",
     "iopub.status.idle": "2022-09-07T12:51:27.059592Z",
     "shell.execute_reply": "2022-09-07T12:51:27.058180Z"
    },
    "papermill": {
     "duration": 0.335274,
     "end_time": "2022-09-07T12:51:27.061817",
     "exception": false,
     "start_time": "2022-09-07T12:51:26.726543",
     "status": "completed"
    },
    "tags": []
   },
   "outputs": [
    {
     "data": {
      "text/plain": [
       "<AxesSubplot:xlabel='gender', ylabel='weight'>"
      ]
     },
     "execution_count": 8,
     "metadata": {},
     "output_type": "execute_result"
    },
    {
     "data": {
      "image/png": "[encoded data removed]",
      "text/plain": [
       "<Figure size 1152x720 with 2 Axes>"
      ]
     },
     "metadata": {
      "needs_background": "light"
     },
     "output_type": "display_data"
    }
   ],
   "source": [
    "fig, ax = plt.subplots(1,2, figsize=(16, 10))\n",
    "sns.boxplot(x='gender', y='height', data=df, ax=ax[0])\n",
    "sns.boxplot(x='gender', y='weight', data=df, ax=ax[1])"
   ]
  },
  {
   "cell_type": "markdown",
   "id": "6ce8cb61",
   "metadata": {
    "papermill": {
     "duration": 0.014643,
     "end_time": "2022-09-07T12:51:27.091617",
     "exception": false,
     "start_time": "2022-09-07T12:51:27.076974",
     "status": "completed"
    },
    "tags": []
   },
   "source": [
    "As we can see, entries with `gender` feature equal to 2 have a higher height and more weight, but lets have a look at average height for both classes"
   ]
  },
  {
   "cell_type": "code",
   "execution_count": 9,
   "id": "5d5dd2c9",
   "metadata": {
    "execution": {
     "iopub.execute_input": "2022-09-07T12:51:27.123709Z",
     "iopub.status.busy": "2022-09-07T12:51:27.123113Z",
     "iopub.status.idle": "2022-09-07T12:51:28.032803Z",
     "shell.execute_reply": "2022-09-07T12:51:28.031832Z"
    },
    "papermill": {
     "duration": 0.928165,
     "end_time": "2022-09-07T12:51:28.034732",
     "exception": false,
     "start_time": "2022-09-07T12:51:27.106567",
     "status": "completed"
    },
    "tags": []
   },
   "outputs": [
    {
     "data": {
      "text/plain": [
       "<AxesSubplot:xlabel='gender', ylabel='height'>"
      ]
     },
     "execution_count": 9,
     "metadata": {},
     "output_type": "execute_result"
    },
    {
     "data": {
      "image/png": "[encoded data removed]",
      "text/plain": [
       "<Figure size 792x576 with 1 Axes>"
      ]
     },
     "metadata": {
      "needs_background": "light"
     },
     "output_type": "display_data"
    }
   ],
   "source": [
    "sns.barplot(x='gender', y='height', data=df)"
   ]
  },
  {
   "cell_type": "markdown",
   "id": "09ae5322",
   "metadata": {
    "papermill": {
     "duration": 0.014791,
     "end_time": "2022-09-07T12:51:28.064623",
     "exception": false,
     "start_time": "2022-09-07T12:51:28.049832",
     "status": "completed"
    },
    "tags": []
   },
   "source": [
    "We conclude that value 2 correspond to **men** and 1 to **women**. Now we can count number of entries for each gender:"
   ]
  },
  {
   "cell_type": "code",
   "execution_count": 10,
   "id": "ca8ef16b",
   "metadata": {
    "execution": {
     "iopub.execute_input": "2022-09-07T12:51:28.098243Z",
     "iopub.status.busy": "2022-09-07T12:51:28.097629Z",
     "iopub.status.idle": "2022-09-07T12:51:28.104156Z",
     "shell.execute_reply": "2022-09-07T12:51:28.103131Z"
    },
    "papermill": {
     "duration": 0.025411,
     "end_time": "2022-09-07T12:51:28.106033",
     "exception": false,
     "start_time": "2022-09-07T12:51:28.080622",
     "status": "completed"
    },
    "tags": []
   },
   "outputs": [
    {
     "name": "stdout",
     "output_type": "stream",
     "text": [
      "1    45530\n",
      "2    24470\n",
      "Name: gender, dtype: int64\n"
     ]
    }
   ],
   "source": [
    "print(df.gender.value_counts())"
   ]
  },
  {
   "cell_type": "markdown",
   "id": "aeaf59c5",
   "metadata": {
    "_uuid": "d6b36cf91cd63fcce92c4177475820bd6b94ec89",
    "papermill": {
     "duration": 0.014976,
     "end_time": "2022-09-07T12:51:28.136428",
     "exception": false,
     "start_time": "2022-09-07T12:51:28.121452",
     "status": "completed"
    },
    "tags": []
   },
   "source": [
    "**Question 1.2. (1 point). Which gender more often reports consuming alcohol - men or women?**\n",
    "1. women\n",
    "2. men"
   ]
  },
  {
   "cell_type": "code",
   "execution_count": 11,
   "id": "648feffb",
   "metadata": {
    "execution": {
     "iopub.execute_input": "2022-09-07T12:51:28.169832Z",
     "iopub.status.busy": "2022-09-07T12:51:28.169362Z",
     "iopub.status.idle": "2022-09-07T12:51:28.341696Z",
     "shell.execute_reply": "2022-09-07T12:51:28.340619Z"
    },
    "papermill": {
     "duration": 0.190955,
     "end_time": "2022-09-07T12:51:28.343458",
     "exception": false,
     "start_time": "2022-09-07T12:51:28.152503",
     "status": "completed"
    },
    "tags": []
   },
   "outputs": [
    {
     "data": {
      "text/plain": [
       "<AxesSubplot:xlabel='alco', ylabel='count'>"
      ]
     },
     "execution_count": 11,
     "metadata": {},
     "output_type": "execute_result"
    },
    {
     "data": {
      "image/png": "[encoded data removed]",
      "text/plain": [
       "<Figure size 792x576 with 1 Axes>"
      ]
     },
     "metadata": {
      "needs_background": "light"
     },
     "output_type": "display_data"
    }
   ],
   "source": [
    "sns.countplot(x='alco', hue='gender', data=df)"
   ]
  },
  {
   "cell_type": "markdown",
   "id": "15c13c90",
   "metadata": {
    "papermill": {
     "duration": 0.016955,
     "end_time": "2022-09-07T12:51:28.376425",
     "exception": false,
     "start_time": "2022-09-07T12:51:28.359470",
     "status": "completed"
    },
    "tags": []
   },
   "source": [
    "**Men**, of course, reports about consuming alcohol more often"
   ]
  },
  {
   "cell_type": "markdown",
   "id": "f65d8e66",
   "metadata": {
    "_uuid": "8b98389e26edd01374d6217d8dd1e2d5ffff9d1c",
    "papermill": {
     "duration": 0.016091,
     "end_time": "2022-09-07T12:51:28.408893",
     "exception": false,
     "start_time": "2022-09-07T12:51:28.392802",
     "status": "completed"
    },
    "tags": []
   },
   "source": [
    "**Question 1.3. (1 point). What is the difference between the percentages of smokers among men and women (rounded)?**\n",
    "1. 4\n",
    "2. 16\n",
    "3. 20\n",
    "4. 24"
   ]
  },
  {
   "cell_type": "code",
   "execution_count": 12,
   "id": "e10ff0ff",
   "metadata": {
    "execution": {
     "iopub.execute_input": "2022-09-07T12:51:28.441442Z",
     "iopub.status.busy": "2022-09-07T12:51:28.441070Z",
     "iopub.status.idle": "2022-09-07T12:51:28.466328Z",
     "shell.execute_reply": "2022-09-07T12:51:28.465455Z"
    },
    "papermill": {
     "duration": 0.043669,
     "end_time": "2022-09-07T12:51:28.467950",
     "exception": false,
     "start_time": "2022-09-07T12:51:28.424281",
     "status": "completed"
    },
    "tags": []
   },
   "outputs": [
    {
     "data": {
      "text/html": [
       "<div>\n",
       "<style scoped>\n",
       "    .dataframe tbody tr th:only-of-type {\n",
       "        vertical-align: middle;\n",
       "    }\n",
       "\n",
       "    .dataframe tbody tr th {\n",
       "        vertical-align: top;\n",
       "    }\n",
       "\n",
       "    .dataframe thead th {\n",
       "        text-align: right;\n",
       "    }\n",
       "</style>\n",
       "<table border=\"1\" class=\"dataframe\">\n",
       "  <thead>\n",
       "    <tr style=\"text-align: right;\">\n",
       "      <th>smoke</th>\n",
       "      <th>0</th>\n",
       "      <th>1</th>\n",
       "    </tr>\n",
       "    <tr>\n",
       "      <th>gender</th>\n",
       "      <th></th>\n",
       "      <th></th>\n",
       "    </tr>\n",
       "  </thead>\n",
       "  <tbody>\n",
       "    <tr>\n",
       "      <th>1</th>\n",
       "      <td>98.0</td>\n",
       "      <td>2.0</td>\n",
       "    </tr>\n",
       "    <tr>\n",
       "      <th>2</th>\n",
       "      <td>78.0</td>\n",
       "      <td>22.0</td>\n",
       "    </tr>\n",
       "  </tbody>\n",
       "</table>\n",
       "</div>"
      ],
      "text/plain": [
       "smoke      0     1\n",
       "gender            \n",
       "1       98.0   2.0\n",
       "2       78.0  22.0"
      ]
     },
     "execution_count": 12,
     "metadata": {},
     "output_type": "execute_result"
    }
   ],
   "source": [
    "(pd.crosstab(df['gender'], df['smoke'], normalize='index') * 100).round()"
   ]
  },
  {
   "cell_type": "markdown",
   "id": "015e94f1",
   "metadata": {
    "papermill": {
     "duration": 0.015679,
     "end_time": "2022-09-07T12:51:28.500363",
     "exception": false,
     "start_time": "2022-09-07T12:51:28.484684",
     "status": "completed"
    },
    "tags": []
   },
   "source": [
    "We see that smokers among men compose 22 percent and among women - 2 percent. So, the difference is 22-2=**20%**"
   ]
  },
  {
   "cell_type": "markdown",
   "id": "af8f693c",
   "metadata": {
    "_uuid": "c92554c5fe98a07b298cec98eaa2622a3bedbeeb",
    "papermill": {
     "duration": 0.015782,
     "end_time": "2022-09-07T12:51:28.532185",
     "exception": false,
     "start_time": "2022-09-07T12:51:28.516403",
     "status": "completed"
    },
    "tags": []
   },
   "source": [
    "**Question 1.4. (1 point). What is the difference between median values of age for smokers and non-smokers (in months, rounded)? You'll need to figure out the units of feature `age` in this dataset.**\n",
    "\n",
    "1. 5\n",
    "2. 10\n",
    "3. 15\n",
    "4. 20"
   ]
  },
  {
   "cell_type": "markdown",
   "id": "1aa786e7",
   "metadata": {
    "papermill": {
     "duration": 0.015705,
     "end_time": "2022-09-07T12:51:28.564174",
     "exception": false,
     "start_time": "2022-09-07T12:51:28.548469",
     "status": "completed"
    },
    "tags": []
   },
   "source": [
    "The feature `age` was measured in days, but we need to convert it into months. So we can use formula: **days * 0.032855 = months**"
   ]
  },
  {
   "cell_type": "code",
   "execution_count": 13,
   "id": "02b6de7f",
   "metadata": {
    "execution": {
     "iopub.execute_input": "2022-09-07T12:51:28.597563Z",
     "iopub.status.busy": "2022-09-07T12:51:28.597107Z",
     "iopub.status.idle": "2022-09-07T12:51:28.612159Z",
     "shell.execute_reply": "2022-09-07T12:51:28.611361Z"
    },
    "papermill": {
     "duration": 0.033842,
     "end_time": "2022-09-07T12:51:28.613736",
     "exception": false,
     "start_time": "2022-09-07T12:51:28.579894",
     "status": "completed"
    },
    "tags": []
   },
   "outputs": [
    {
     "data": {
      "text/html": [
       "<div>\n",
       "<style scoped>\n",
       "    .dataframe tbody tr th:only-of-type {\n",
       "        vertical-align: middle;\n",
       "    }\n",
       "\n",
       "    .dataframe tbody tr th {\n",
       "        vertical-align: top;\n",
       "    }\n",
       "\n",
       "    .dataframe thead th {\n",
       "        text-align: right;\n",
       "    }\n",
       "</style>\n",
       "<table border=\"1\" class=\"dataframe\">\n",
       "  <thead>\n",
       "    <tr style=\"text-align: right;\">\n",
       "      <th></th>\n",
       "      <th>median age</th>\n",
       "    </tr>\n",
       "    <tr>\n",
       "      <th>smoke</th>\n",
       "      <th></th>\n",
       "    </tr>\n",
       "  </thead>\n",
       "  <tbody>\n",
       "    <tr>\n",
       "      <th>0</th>\n",
       "      <td>648.0</td>\n",
       "    </tr>\n",
       "    <tr>\n",
       "      <th>1</th>\n",
       "      <td>628.0</td>\n",
       "    </tr>\n",
       "  </tbody>\n",
       "</table>\n",
       "</div>"
      ],
      "text/plain": [
       "       median age\n",
       "smoke            \n",
       "0           648.0\n",
       "1           628.0"
      ]
     },
     "execution_count": 13,
     "metadata": {},
     "output_type": "execute_result"
    }
   ],
   "source": [
    "df['age_months'] = np.round(df['age'] * 0.032855)\n",
    "df.groupby('smoke').agg({'age_months':'median'}).rename(columns={'age_months':'median age'})"
   ]
  },
  {
   "cell_type": "markdown",
   "id": "440b5951",
   "metadata": {
    "papermill": {
     "duration": 0.015892,
     "end_time": "2022-09-07T12:51:28.645624",
     "exception": false,
     "start_time": "2022-09-07T12:51:28.629732",
     "status": "completed"
    },
    "tags": []
   },
   "source": [
    "The difference is 648-628=**20**"
   ]
  },
  {
   "cell_type": "markdown",
   "id": "b2c4d33e",
   "metadata": {
    "_uuid": "ac5d59876eb97782eab5f038aa8b2335e014d9bf",
    "papermill": {
     "duration": 0.025156,
     "end_time": "2022-09-07T12:51:28.686710",
     "exception": false,
     "start_time": "2022-09-07T12:51:28.661554",
     "status": "completed"
    },
    "tags": []
   },
   "source": [
    "## 1.2. Risk maps\n",
    "### Task:"
   ]
  },
  {
   "cell_type": "markdown",
   "id": "be9bdd1a",
   "metadata": {
    "_uuid": "9efc6fd8ff26ea2ddf95e7e0b70ef3b802f83af5",
    "papermill": {
     "duration": 0.015593,
     "end_time": "2022-09-07T12:51:28.718176",
     "exception": false,
     "start_time": "2022-09-07T12:51:28.702583",
     "status": "completed"
    },
    "tags": []
   },
   "source": [
    "On the website for the European Society of Cardiology, a [SCORE scale](https://www.escardio.org/Education/Practice-Tools/CVD-prevention-toolbox/SCORE-Risk-Charts) is provided. It is used for calculating the risk of death from a cardiovascular decease in the next 10 years. Here it is:\n",
    "\n",
    "<img src=https://habrastorage.org/webt/ik/gx/hr/ikgxhr3w1vzqihgitgrbdorfb14.png width=90%>\n",
    "\n",
    "Let's take a look at the upper-right rectangle, which shows a subset of smoking men aged from 60 to 65. (It's not obvious, but the values in the figure represent the upper bound).\n",
    "\n",
    "We see the value 9 in the lower-left corner of the rectangle and 47 in the upper-right. This means that, for people in this gender-age group whose systolic pressure is less than 120, the risk of a CVD is estimated to be 5 times lower than for those with the pressure in the interval [160,180).\n",
    "\n",
    "Let's calculate that same ratio using our data.\n",
    "\n",
    "Clarifications:\n",
    "- Calculate ``age_years`` feature – round age to the nearest number of years. For this task, select only the people of age 60 to 64, inclusive.\n",
    "- Cholesterol level categories differ between the figure and our dataset. The conversion for the ``cholesterol`` feature is as follows: 4 mmol/l $\\rightarrow$ 1, 5-7 mmol/l $\\rightarrow$ 2, 8 mmol/l $\\rightarrow$ 3."
   ]
  },
  {
   "cell_type": "code",
   "execution_count": 14,
   "id": "110034b6",
   "metadata": {
    "_uuid": "8caffb39e65c95e4cfebfe448bbe224af4d0766c",
    "execution": {
     "iopub.execute_input": "2022-09-07T12:51:28.753449Z",
     "iopub.status.busy": "2022-09-07T12:51:28.752961Z",
     "iopub.status.idle": "2022-09-07T12:51:28.775174Z",
     "shell.execute_reply": "2022-09-07T12:51:28.774280Z"
    },
    "papermill": {
     "duration": 0.041338,
     "end_time": "2022-09-07T12:51:28.776926",
     "exception": false,
     "start_time": "2022-09-07T12:51:28.735588",
     "status": "completed"
    },
    "tags": []
   },
   "outputs": [
    {
     "data": {
      "text/html": [
       "<div>\n",
       "<style scoped>\n",
       "    .dataframe tbody tr th:only-of-type {\n",
       "        vertical-align: middle;\n",
       "    }\n",
       "\n",
       "    .dataframe tbody tr th {\n",
       "        vertical-align: top;\n",
       "    }\n",
       "\n",
       "    .dataframe thead th {\n",
       "        text-align: right;\n",
       "    }\n",
       "</style>\n",
       "<table border=\"1\" class=\"dataframe\">\n",
       "  <thead>\n",
       "    <tr style=\"text-align: right;\">\n",
       "      <th></th>\n",
       "      <th>id</th>\n",
       "      <th>age</th>\n",
       "      <th>gender</th>\n",
       "      <th>height</th>\n",
       "      <th>weight</th>\n",
       "      <th>ap_hi</th>\n",
       "      <th>ap_lo</th>\n",
       "      <th>cholesterol</th>\n",
       "      <th>gluc</th>\n",
       "      <th>smoke</th>\n",
       "      <th>alco</th>\n",
       "      <th>active</th>\n",
       "      <th>cardio</th>\n",
       "      <th>age_months</th>\n",
       "      <th>age_years</th>\n",
       "    </tr>\n",
       "  </thead>\n",
       "  <tbody>\n",
       "    <tr>\n",
       "      <th>5</th>\n",
       "      <td>8</td>\n",
       "      <td>21914</td>\n",
       "      <td>1</td>\n",
       "      <td>151</td>\n",
       "      <td>67.0</td>\n",
       "      <td>120</td>\n",
       "      <td>80</td>\n",
       "      <td>2</td>\n",
       "      <td>2</td>\n",
       "      <td>0</td>\n",
       "      <td>0</td>\n",
       "      <td>0</td>\n",
       "      <td>0</td>\n",
       "      <td>720.0</td>\n",
       "      <td>60</td>\n",
       "    </tr>\n",
       "    <tr>\n",
       "      <th>6</th>\n",
       "      <td>9</td>\n",
       "      <td>22113</td>\n",
       "      <td>1</td>\n",
       "      <td>157</td>\n",
       "      <td>93.0</td>\n",
       "      <td>130</td>\n",
       "      <td>80</td>\n",
       "      <td>3</td>\n",
       "      <td>1</td>\n",
       "      <td>0</td>\n",
       "      <td>0</td>\n",
       "      <td>1</td>\n",
       "      <td>0</td>\n",
       "      <td>727.0</td>\n",
       "      <td>60</td>\n",
       "    </tr>\n",
       "    <tr>\n",
       "      <th>7</th>\n",
       "      <td>12</td>\n",
       "      <td>22584</td>\n",
       "      <td>2</td>\n",
       "      <td>178</td>\n",
       "      <td>95.0</td>\n",
       "      <td>130</td>\n",
       "      <td>90</td>\n",
       "      <td>3</td>\n",
       "      <td>3</td>\n",
       "      <td>0</td>\n",
       "      <td>0</td>\n",
       "      <td>1</td>\n",
       "      <td>1</td>\n",
       "      <td>742.0</td>\n",
       "      <td>61</td>\n",
       "    </tr>\n",
       "  </tbody>\n",
       "</table>\n",
       "</div>"
      ],
      "text/plain": [
       "   id    age  gender  height  weight  ap_hi  ap_lo  cholesterol  gluc  smoke  \\\n",
       "5   8  21914       1     151    67.0    120     80            2     2      0   \n",
       "6   9  22113       1     157    93.0    130     80            3     1      0   \n",
       "7  12  22584       2     178    95.0    130     90            3     3      0   \n",
       "\n",
       "   alco  active  cardio  age_months  age_years  \n",
       "5     0       0       0       720.0         60  \n",
       "6     0       1       0       727.0         60  \n",
       "7     0       1       1       742.0         61  "
      ]
     },
     "execution_count": 14,
     "metadata": {},
     "output_type": "execute_result"
    }
   ],
   "source": [
    "# create new feature\n",
    "df['age_years'] = df['age'] // 365\n",
    "\n",
    "# select only needed subset\n",
    "df_older_people = df[df['age_years'].isin([60, 61, 62, 63, 64])]\n",
    "df_older_people.head(3)"
   ]
  },
  {
   "cell_type": "code",
   "execution_count": 15,
   "id": "cf3ff7c5",
   "metadata": {
    "execution": {
     "iopub.execute_input": "2022-09-07T12:51:28.810897Z",
     "iopub.status.busy": "2022-09-07T12:51:28.810399Z",
     "iopub.status.idle": "2022-09-07T12:51:28.814863Z",
     "shell.execute_reply": "2022-09-07T12:51:28.814300Z"
    },
    "papermill": {
     "duration": 0.023483,
     "end_time": "2022-09-07T12:51:28.816431",
     "exception": false,
     "start_time": "2022-09-07T12:51:28.792948",
     "status": "completed"
    },
    "tags": []
   },
   "outputs": [
    {
     "data": {
      "text/plain": [
       "(13050, 15)"
      ]
     },
     "execution_count": 15,
     "metadata": {},
     "output_type": "execute_result"
    }
   ],
   "source": [
    "df_older_people.shape"
   ]
  },
  {
   "cell_type": "markdown",
   "id": "5181a154",
   "metadata": {
    "_uuid": "e71f8859a7fb8f23a78ac84b861d41c8f1b9e11f",
    "papermill": {
     "duration": 0.016577,
     "end_time": "2022-09-07T12:51:28.849258",
     "exception": false,
     "start_time": "2022-09-07T12:51:28.832681",
     "status": "completed"
    },
    "tags": []
   },
   "source": [
    "**Question 1.5. (2 points). Calculate the fraction of the people with CVD for the two segments described above. What is the ratio of these two fractions?**\n",
    "\n",
    "1. 1\n",
    "2. 2\n",
    "3. 3\n",
    "4. 4"
   ]
  },
  {
   "cell_type": "code",
   "execution_count": 16,
   "id": "9664d0dd",
   "metadata": {
    "execution": {
     "iopub.execute_input": "2022-09-07T12:51:28.884172Z",
     "iopub.status.busy": "2022-09-07T12:51:28.883615Z",
     "iopub.status.idle": "2022-09-07T12:51:28.941289Z",
     "shell.execute_reply": "2022-09-07T12:51:28.940301Z"
    },
    "papermill": {
     "duration": 0.077702,
     "end_time": "2022-09-07T12:51:28.943655",
     "exception": false,
     "start_time": "2022-09-07T12:51:28.865953",
     "status": "completed"
    },
    "tags": []
   },
   "outputs": [],
   "source": [
    "# select only smoked men\n",
    "df_older_men_smokers = df_older_people[(df_older_people['smoke']==1) & (df['gender']==2)]\n",
    "\n",
    "# select first segment:\n",
    "## systolic pressure is less than 120\n",
    "## cholesterol level is equal to 1\n",
    "df_segment1 = df_older_men_smokers[(df_older_men_smokers['ap_hi'] < 120) & (df_older_men_smokers['cholesterol']==1)]\n",
    "\n",
    "# select second segment:\n",
    "## systolic pressure is in the interval [160, 180)\n",
    "## cholesterol level is equal to 3\n",
    "df_segment2 = df_older_men_smokers[(df_older_men_smokers['ap_hi'].map(lambda x: x>=160 and x<180)) \\\n",
    "                                                  & (df_older_men_smokers['cholesterol']==3)]"
   ]
  },
  {
   "cell_type": "code",
   "execution_count": 17,
   "id": "18de8d8e",
   "metadata": {
    "execution": {
     "iopub.execute_input": "2022-09-07T12:51:28.977871Z",
     "iopub.status.busy": "2022-09-07T12:51:28.977558Z",
     "iopub.status.idle": "2022-09-07T12:51:28.984333Z",
     "shell.execute_reply": "2022-09-07T12:51:28.983713Z"
    },
    "papermill": {
     "duration": 0.025877,
     "end_time": "2022-09-07T12:51:28.985849",
     "exception": false,
     "start_time": "2022-09-07T12:51:28.959972",
     "status": "completed"
    },
    "tags": []
   },
   "outputs": [
    {
     "data": {
      "text/plain": [
       "0.2777777777777778"
      ]
     },
     "execution_count": 17,
     "metadata": {},
     "output_type": "execute_result"
    }
   ],
   "source": [
    "# the fraction of people with CVD among first segment\n",
    "df_segment1.cardio.value_counts(normalize=True)[1]"
   ]
  },
  {
   "cell_type": "code",
   "execution_count": 18,
   "id": "ac61bd9f",
   "metadata": {
    "execution": {
     "iopub.execute_input": "2022-09-07T12:51:29.020622Z",
     "iopub.status.busy": "2022-09-07T12:51:29.020129Z",
     "iopub.status.idle": "2022-09-07T12:51:29.025600Z",
     "shell.execute_reply": "2022-09-07T12:51:29.025018Z"
    },
    "papermill": {
     "duration": 0.024591,
     "end_time": "2022-09-07T12:51:29.027070",
     "exception": false,
     "start_time": "2022-09-07T12:51:29.002479",
     "status": "completed"
    },
    "tags": []
   },
   "outputs": [
    {
     "data": {
      "text/plain": [
       "0.9333333333333333"
      ]
     },
     "execution_count": 18,
     "metadata": {},
     "output_type": "execute_result"
    }
   ],
   "source": [
    "# the fraction of people with CVD among second segment\n",
    "df_segment2.cardio.value_counts(normalize=True)[1]"
   ]
  },
  {
   "cell_type": "code",
   "execution_count": 19,
   "id": "09a6a4f8",
   "metadata": {
    "execution": {
     "iopub.execute_input": "2022-09-07T12:51:29.062936Z",
     "iopub.status.busy": "2022-09-07T12:51:29.062453Z",
     "iopub.status.idle": "2022-09-07T12:51:29.069507Z",
     "shell.execute_reply": "2022-09-07T12:51:29.068415Z"
    },
    "papermill": {
     "duration": 0.026652,
     "end_time": "2022-09-07T12:51:29.071149",
     "exception": false,
     "start_time": "2022-09-07T12:51:29.044497",
     "status": "completed"
    },
    "tags": []
   },
   "outputs": [
    {
     "data": {
      "text/plain": [
       "3.36"
      ]
     },
     "execution_count": 19,
     "metadata": {},
     "output_type": "execute_result"
    }
   ],
   "source": [
    "# the ratio between two groups\n",
    "df_segment2.cardio.value_counts(normalize=True)[1] / df_segment1.cardio.value_counts(normalize=True)[1]"
   ]
  },
  {
   "cell_type": "markdown",
   "id": "a734ace4",
   "metadata": {
    "papermill": {
     "duration": 0.015949,
     "end_time": "2022-09-07T12:51:29.103688",
     "exception": false,
     "start_time": "2022-09-07T12:51:29.087739",
     "status": "completed"
    },
    "tags": []
   },
   "source": [
    "We can see that among smoking men in age between 60 and 64:\n",
    "* 28% of men with low systolic pressure and low cholesterol level have CVD disease\n",
    "* 93% of men with high systolic pressure and high cholesterol level have CVD disease"
   ]
  },
  {
   "cell_type": "markdown",
   "id": "f2961e01",
   "metadata": {
    "_uuid": "54cef692e0af3745091c7177d63a2d6c36044474",
    "papermill": {
     "duration": 0.016235,
     "end_time": "2022-09-07T12:51:29.136250",
     "exception": false,
     "start_time": "2022-09-07T12:51:29.120015",
     "status": "completed"
    },
    "tags": []
   },
   "source": [
    "## 1.3. Analyzing BMI\n",
    "### Task:"
   ]
  },
  {
   "cell_type": "markdown",
   "id": "a06ebe1e",
   "metadata": {
    "_uuid": "c52b4b1c20956e3cc420bb13e7bb12d80aa3ef1a",
    "papermill": {
     "duration": 0.016094,
     "end_time": "2022-09-07T12:51:29.168586",
     "exception": false,
     "start_time": "2022-09-07T12:51:29.152492",
     "status": "completed"
    },
    "tags": []
   },
   "source": [
    "Create a new feature – BMI ([Body Mass Index](https://en.wikipedia.org/wiki/Body_mass_index)). To do this, divide weight in kilogramms by the square of the height in meters. Normal BMI values are said to be from 18.5 to 25. "
   ]
  },
  {
   "cell_type": "code",
   "execution_count": 20,
   "id": "0de23ca6",
   "metadata": {
    "_uuid": "5b3134f2597650ae95d0196393b30797518f0498",
    "execution": {
     "iopub.execute_input": "2022-09-07T12:51:29.202581Z",
     "iopub.status.busy": "2022-09-07T12:51:29.202072Z",
     "iopub.status.idle": "2022-09-07T12:51:29.210487Z",
     "shell.execute_reply": "2022-09-07T12:51:29.209038Z"
    },
    "papermill": {
     "duration": 0.027629,
     "end_time": "2022-09-07T12:51:29.212342",
     "exception": false,
     "start_time": "2022-09-07T12:51:29.184713",
     "status": "completed"
    },
    "tags": []
   },
   "outputs": [
    {
     "data": {
      "text/plain": [
       "0        21.967120\n",
       "1        34.927679\n",
       "2        23.507805\n",
       "3        28.710479\n",
       "4        23.011177\n",
       "           ...    \n",
       "69995    26.927438\n",
       "69996    50.472681\n",
       "69997    31.353579\n",
       "69998    27.099251\n",
       "69999    24.913495\n",
       "Name: bmi, Length: 70000, dtype: float64"
      ]
     },
     "execution_count": 20,
     "metadata": {},
     "output_type": "execute_result"
    }
   ],
   "source": [
    "df['bmi'] = df['weight'] / ((df['height']/100)**2)\n",
    "df.bmi"
   ]
  },
  {
   "cell_type": "code",
   "execution_count": 21,
   "id": "b84a5bdf",
   "metadata": {
    "execution": {
     "iopub.execute_input": "2022-09-07T12:51:29.246842Z",
     "iopub.status.busy": "2022-09-07T12:51:29.246519Z",
     "iopub.status.idle": "2022-09-07T12:51:29.257633Z",
     "shell.execute_reply": "2022-09-07T12:51:29.256982Z"
    },
    "papermill": {
     "duration": 0.030329,
     "end_time": "2022-09-07T12:51:29.259225",
     "exception": false,
     "start_time": "2022-09-07T12:51:29.228896",
     "status": "completed"
    },
    "tags": []
   },
   "outputs": [
    {
     "data": {
      "text/plain": [
       "count    70000.000000\n",
       "mean        27.556513\n",
       "std          6.091511\n",
       "min          3.471784\n",
       "25%         23.875115\n",
       "50%         26.374068\n",
       "75%         30.222222\n",
       "max        298.666667\n",
       "Name: bmi, dtype: float64"
      ]
     },
     "execution_count": 21,
     "metadata": {},
     "output_type": "execute_result"
    }
   ],
   "source": [
    "df['bmi'].describe()"
   ]
  },
  {
   "cell_type": "markdown",
   "id": "9db5ea74",
   "metadata": {
    "_uuid": "1c2baed24cc5b3abb94b5c6c09d571f29b39213b",
    "papermill": {
     "duration": 0.016189,
     "end_time": "2022-09-07T12:51:29.292389",
     "exception": false,
     "start_time": "2022-09-07T12:51:29.276200",
     "status": "completed"
    },
    "tags": []
   },
   "source": [
    "**Question 1.6. (2 points). Choose the correct statements:**\n",
    "\n",
    "1. Median BMI in the sample is within the range of normal BMI values.\n",
    "2. The BMI for women is on average higher than for men.\n",
    "3. Healthy people have, on average, a higher BMI than the people with CVD.\n",
    "4. For healthy, non-drinking men, BMI is closer to the norm than for healthy, non-drinking women"
   ]
  },
  {
   "cell_type": "code",
   "execution_count": 22,
   "id": "b195ad3d",
   "metadata": {
    "execution": {
     "iopub.execute_input": "2022-09-07T12:51:29.327404Z",
     "iopub.status.busy": "2022-09-07T12:51:29.326551Z",
     "iopub.status.idle": "2022-09-07T12:51:29.334215Z",
     "shell.execute_reply": "2022-09-07T12:51:29.333512Z"
    },
    "papermill": {
     "duration": 0.026601,
     "end_time": "2022-09-07T12:51:29.335867",
     "exception": false,
     "start_time": "2022-09-07T12:51:29.309266",
     "status": "completed"
    },
    "tags": []
   },
   "outputs": [
    {
     "data": {
      "text/plain": [
       "26.374068120774975"
      ]
     },
     "execution_count": 22,
     "metadata": {},
     "output_type": "execute_result"
    }
   ],
   "source": [
    "df.bmi.median()"
   ]
  },
  {
   "cell_type": "markdown",
   "id": "e1589611",
   "metadata": {
    "papermill": {
     "duration": 0.017197,
     "end_time": "2022-09-07T12:51:29.369797",
     "exception": false,
     "start_time": "2022-09-07T12:51:29.352600",
     "status": "completed"
    },
    "tags": []
   },
   "source": [
    "Median BMI is **not** in the range of normal"
   ]
  },
  {
   "cell_type": "code",
   "execution_count": 23,
   "id": "70e1bc11",
   "metadata": {
    "execution": {
     "iopub.execute_input": "2022-09-07T12:51:29.405679Z",
     "iopub.status.busy": "2022-09-07T12:51:29.404979Z",
     "iopub.status.idle": "2022-09-07T12:51:29.416120Z",
     "shell.execute_reply": "2022-09-07T12:51:29.414636Z"
    },
    "papermill": {
     "duration": 0.03083,
     "end_time": "2022-09-07T12:51:29.417976",
     "exception": false,
     "start_time": "2022-09-07T12:51:29.387146",
     "status": "completed"
    },
    "tags": []
   },
   "outputs": [
    {
     "data": {
      "text/plain": [
       "gender\n",
       "1    27.987583\n",
       "2    26.754442\n",
       "Name: bmi, dtype: float64"
      ]
     },
     "execution_count": 23,
     "metadata": {},
     "output_type": "execute_result"
    }
   ],
   "source": [
    "df.groupby('gender')['bmi'].mean()"
   ]
  },
  {
   "cell_type": "markdown",
   "id": "0d49e99d",
   "metadata": {
    "papermill": {
     "duration": 0.016555,
     "end_time": "2022-09-07T12:51:29.451218",
     "exception": false,
     "start_time": "2022-09-07T12:51:29.434663",
     "status": "completed"
    },
    "tags": []
   },
   "source": [
    "It is **true** that the BMI for women on average is higher than for men"
   ]
  },
  {
   "cell_type": "code",
   "execution_count": 24,
   "id": "bb0153b0",
   "metadata": {
    "execution": {
     "iopub.execute_input": "2022-09-07T12:51:29.486534Z",
     "iopub.status.busy": "2022-09-07T12:51:29.486242Z",
     "iopub.status.idle": "2022-09-07T12:51:29.494821Z",
     "shell.execute_reply": "2022-09-07T12:51:29.494153Z"
    },
    "papermill": {
     "duration": 0.028689,
     "end_time": "2022-09-07T12:51:29.496691",
     "exception": false,
     "start_time": "2022-09-07T12:51:29.468002",
     "status": "completed"
    },
    "tags": []
   },
   "outputs": [
    {
     "data": {
      "text/plain": [
       "cardio\n",
       "0    26.548175\n",
       "1    28.566061\n",
       "Name: bmi, dtype: float64"
      ]
     },
     "execution_count": 24,
     "metadata": {},
     "output_type": "execute_result"
    }
   ],
   "source": [
    "df.groupby('cardio')['bmi'].mean()"
   ]
  },
  {
   "cell_type": "markdown",
   "id": "02d32a6f",
   "metadata": {
    "papermill": {
     "duration": 0.016318,
     "end_time": "2022-09-07T12:51:29.530069",
     "exception": false,
     "start_time": "2022-09-07T12:51:29.513751",
     "status": "completed"
    },
    "tags": []
   },
   "source": [
    "The people with CVD has **higher** BMI (on average) than people without this disease"
   ]
  },
  {
   "cell_type": "code",
   "execution_count": 25,
   "id": "e48dcb88",
   "metadata": {
    "execution": {
     "iopub.execute_input": "2022-09-07T12:51:29.565819Z",
     "iopub.status.busy": "2022-09-07T12:51:29.564913Z",
     "iopub.status.idle": "2022-09-07T12:51:29.578453Z",
     "shell.execute_reply": "2022-09-07T12:51:29.577475Z"
    },
    "papermill": {
     "duration": 0.033216,
     "end_time": "2022-09-07T12:51:29.580069",
     "exception": false,
     "start_time": "2022-09-07T12:51:29.546853",
     "status": "completed"
    },
    "tags": []
   },
   "outputs": [
    {
     "data": {
      "text/plain": [
       "gender\n",
       "1    26.845407\n",
       "2    25.872638\n",
       "Name: bmi, dtype: float64"
      ]
     },
     "execution_count": 25,
     "metadata": {},
     "output_type": "execute_result"
    }
   ],
   "source": [
    "df_healthy_nondrinking_people = df[(df['alco']==0) & (df['cardio']==0)]\n",
    "df_healthy_nondrinking_people.groupby('gender')['bmi'].mean()"
   ]
  },
  {
   "cell_type": "markdown",
   "id": "f849ce65",
   "metadata": {
    "papermill": {
     "duration": 0.016677,
     "end_time": "2022-09-07T12:51:29.613628",
     "exception": false,
     "start_time": "2022-09-07T12:51:29.596951",
     "status": "completed"
    },
    "tags": []
   },
   "source": [
    "It is **true** that average BMI for healthy, non-drinking men is closer to normal than for healthy and non-drinking women."
   ]
  },
  {
   "cell_type": "markdown",
   "id": "4fa3bba7",
   "metadata": {
    "_uuid": "2e059032eee1d57c896e24a98b659a5ab16144fd",
    "papermill": {
     "duration": 0.01657,
     "end_time": "2022-09-07T12:51:29.647009",
     "exception": false,
     "start_time": "2022-09-07T12:51:29.630439",
     "status": "completed"
    },
    "tags": []
   },
   "source": [
    "## 1.4. Cleaning data"
   ]
  },
  {
   "cell_type": "markdown",
   "id": "9688d5d6",
   "metadata": {
    "_uuid": "26ccfbcb212c3631b4941a294906c027b974301a",
    "papermill": {
     "duration": 0.016757,
     "end_time": "2022-09-07T12:51:29.680677",
     "exception": false,
     "start_time": "2022-09-07T12:51:29.663920",
     "status": "completed"
    },
    "tags": []
   },
   "source": [
    "### Task:\n",
    "We can see that the data is not perfect. It contains \"dirt\" and inaccuracies. We'll see this better as we visualize the data.\n",
    "\n",
    "Filter out the following patient segments (we consider these as erroneous data)\n",
    "\n",
    "- diastolic pressure is higher than systolic \n",
    "- height is strictly less than 2.5 percentile (Use `pd.Series.quantile` to compute this value. If you are not familiar with the function, please read the docs.)\n",
    "- height is strictly more than 97.5 percentile\n",
    "- weight is strictly less than 2.5 percentile\n",
    "- weight is strictly more than 97.5 percentile\n",
    "\n",
    "This is not everything that we can do to clean this data, but this is sufficient for now."
   ]
  },
  {
   "cell_type": "code",
   "execution_count": 26,
   "id": "12a0a6df",
   "metadata": {
    "execution": {
     "iopub.execute_input": "2022-09-07T12:51:29.715739Z",
     "iopub.status.busy": "2022-09-07T12:51:29.715166Z",
     "iopub.status.idle": "2022-09-07T12:51:29.727025Z",
     "shell.execute_reply": "2022-09-07T12:51:29.726447Z"
    },
    "papermill": {
     "duration": 0.031193,
     "end_time": "2022-09-07T12:51:29.728546",
     "exception": false,
     "start_time": "2022-09-07T12:51:29.697353",
     "status": "completed"
    },
    "tags": []
   },
   "outputs": [
    {
     "data": {
      "text/html": [
       "<div>\n",
       "<style scoped>\n",
       "    .dataframe tbody tr th:only-of-type {\n",
       "        vertical-align: middle;\n",
       "    }\n",
       "\n",
       "    .dataframe tbody tr th {\n",
       "        vertical-align: top;\n",
       "    }\n",
       "\n",
       "    .dataframe thead th {\n",
       "        text-align: right;\n",
       "    }\n",
       "</style>\n",
       "<table border=\"1\" class=\"dataframe\">\n",
       "  <thead>\n",
       "    <tr style=\"text-align: right;\">\n",
       "      <th></th>\n",
       "      <th>id</th>\n",
       "      <th>age</th>\n",
       "      <th>gender</th>\n",
       "      <th>height</th>\n",
       "      <th>weight</th>\n",
       "      <th>ap_hi</th>\n",
       "      <th>ap_lo</th>\n",
       "      <th>cholesterol</th>\n",
       "      <th>gluc</th>\n",
       "      <th>smoke</th>\n",
       "      <th>alco</th>\n",
       "      <th>active</th>\n",
       "      <th>cardio</th>\n",
       "      <th>age_months</th>\n",
       "      <th>age_years</th>\n",
       "      <th>bmi</th>\n",
       "    </tr>\n",
       "  </thead>\n",
       "  <tbody>\n",
       "    <tr>\n",
       "      <th>0</th>\n",
       "      <td>0</td>\n",
       "      <td>18393</td>\n",
       "      <td>2</td>\n",
       "      <td>168</td>\n",
       "      <td>62.0</td>\n",
       "      <td>110</td>\n",
       "      <td>80</td>\n",
       "      <td>1</td>\n",
       "      <td>1</td>\n",
       "      <td>0</td>\n",
       "      <td>0</td>\n",
       "      <td>1</td>\n",
       "      <td>0</td>\n",
       "      <td>604.0</td>\n",
       "      <td>50</td>\n",
       "      <td>21.96712</td>\n",
       "    </tr>\n",
       "  </tbody>\n",
       "</table>\n",
       "</div>"
      ],
      "text/plain": [
       "   id    age  gender  height  weight  ap_hi  ap_lo  cholesterol  gluc  smoke  \\\n",
       "0   0  18393       2     168    62.0    110     80            1     1      0   \n",
       "\n",
       "   alco  active  cardio  age_months  age_years       bmi  \n",
       "0     0       1       0       604.0         50  21.96712  "
      ]
     },
     "execution_count": 26,
     "metadata": {},
     "output_type": "execute_result"
    }
   ],
   "source": [
    "df.head(1)"
   ]
  },
  {
   "cell_type": "code",
   "execution_count": 27,
   "id": "f30462e7",
   "metadata": {
    "_uuid": "483fd26f0aff141810dcb084095c380acafbfbdd",
    "execution": {
     "iopub.execute_input": "2022-09-07T12:51:29.766346Z",
     "iopub.status.busy": "2022-09-07T12:51:29.765330Z",
     "iopub.status.idle": "2022-09-07T12:51:29.775856Z",
     "shell.execute_reply": "2022-09-07T12:51:29.775151Z"
    },
    "papermill": {
     "duration": 0.031605,
     "end_time": "2022-09-07T12:51:29.777677",
     "exception": false,
     "start_time": "2022-09-07T12:51:29.746072",
     "status": "completed"
    },
    "tags": []
   },
   "outputs": [],
   "source": [
    "# select only entries where systolic pressure is not less than diastolic\n",
    "df_correct = df[df['ap_lo'] <= df['ap_hi']]"
   ]
  },
  {
   "cell_type": "code",
   "execution_count": 28,
   "id": "3a612107",
   "metadata": {
    "execution": {
     "iopub.execute_input": "2022-09-07T12:51:29.814384Z",
     "iopub.status.busy": "2022-09-07T12:51:29.813606Z",
     "iopub.status.idle": "2022-09-07T12:51:29.827276Z",
     "shell.execute_reply": "2022-09-07T12:51:29.826677Z"
    },
    "papermill": {
     "duration": 0.03354,
     "end_time": "2022-09-07T12:51:29.828848",
     "exception": false,
     "start_time": "2022-09-07T12:51:29.795308",
     "status": "completed"
    },
    "tags": []
   },
   "outputs": [
    {
     "name": "stdout",
     "output_type": "stream",
     "text": [
      "2.5 percentile for height is 150.0\n"
     ]
    }
   ],
   "source": [
    "# select only entries where height is not less than 2.5 percentile\n",
    "lower_percentile_for_height = df.height.quantile(.025)\n",
    "print('2.5 percentile for height is', lower_percentile_for_height)\n",
    "\n",
    "df_correct = df_correct[df_correct['height']>=lower_percentile_for_height]"
   ]
  },
  {
   "cell_type": "code",
   "execution_count": 29,
   "id": "ffa2f1c5",
   "metadata": {
    "execution": {
     "iopub.execute_input": "2022-09-07T12:51:29.864756Z",
     "iopub.status.busy": "2022-09-07T12:51:29.863996Z",
     "iopub.status.idle": "2022-09-07T12:51:29.876344Z",
     "shell.execute_reply": "2022-09-07T12:51:29.874412Z"
    },
    "papermill": {
     "duration": 0.032262,
     "end_time": "2022-09-07T12:51:29.878205",
     "exception": false,
     "start_time": "2022-09-07T12:51:29.845943",
     "status": "completed"
    },
    "tags": []
   },
   "outputs": [
    {
     "name": "stdout",
     "output_type": "stream",
     "text": [
      "97.5 percentile for height is 180.0\n"
     ]
    }
   ],
   "source": [
    "# select only entries where height is not more than 97.5 percentile\n",
    "upper_percentile_for_height = df.height.quantile(.975)\n",
    "print('97.5 percentile for height is', upper_percentile_for_height)\n",
    "\n",
    "df_correct = df_correct[df_correct['height']<=upper_percentile_for_height]"
   ]
  },
  {
   "cell_type": "code",
   "execution_count": 30,
   "id": "0a7d1f96",
   "metadata": {
    "execution": {
     "iopub.execute_input": "2022-09-07T12:51:29.914159Z",
     "iopub.status.busy": "2022-09-07T12:51:29.913844Z",
     "iopub.status.idle": "2022-09-07T12:51:29.962625Z",
     "shell.execute_reply": "2022-09-07T12:51:29.961697Z"
    },
    "papermill": {
     "duration": 0.068812,
     "end_time": "2022-09-07T12:51:29.964267",
     "exception": false,
     "start_time": "2022-09-07T12:51:29.895455",
     "status": "completed"
    },
    "tags": []
   },
   "outputs": [
    {
     "name": "stdout",
     "output_type": "stream",
     "text": [
      "2.5 percentile for weight is 51.0\n",
      "97.5 percentile for weight is 108.0\n"
     ]
    }
   ],
   "source": [
    "# do the same things for weight\n",
    "lower_percentile_for_weight = df.weight.quantile(.025)\n",
    "upper_percentile_for_weight = df.weight.quantile(.975)\n",
    "print('2.5 percentile for weight is', lower_percentile_for_weight)\n",
    "print('97.5 percentile for weight is', upper_percentile_for_weight)\n",
    "\n",
    "df_correct = df_correct[df_correct['weight'].map(lambda x: x>=lower_percentile_for_weight and \\\n",
    "                                                           x<=upper_percentile_for_weight)]"
   ]
  },
  {
   "cell_type": "markdown",
   "id": "294d03ea",
   "metadata": {
    "_uuid": "f807adaa6459d1c75d202bb973831369d6eeb20e",
    "papermill": {
     "duration": 0.017347,
     "end_time": "2022-09-07T12:51:29.999032",
     "exception": false,
     "start_time": "2022-09-07T12:51:29.981685",
     "status": "completed"
    },
    "tags": []
   },
   "source": [
    "**Question 1.7. (2 points). What percent of the original data (rounded) did we throw away?**\n",
    "\n",
    "1. 8\n",
    "2. 9\n",
    "3. 10\n",
    "4. 11"
   ]
  },
  {
   "cell_type": "code",
   "execution_count": 31,
   "id": "c01b2f94",
   "metadata": {
    "execution": {
     "iopub.execute_input": "2022-09-07T12:51:30.035653Z",
     "iopub.status.busy": "2022-09-07T12:51:30.035169Z",
     "iopub.status.idle": "2022-09-07T12:51:30.040607Z",
     "shell.execute_reply": "2022-09-07T12:51:30.039934Z"
    },
    "papermill": {
     "duration": 0.025859,
     "end_time": "2022-09-07T12:51:30.042266",
     "exception": false,
     "start_time": "2022-09-07T12:51:30.016407",
     "status": "completed"
    },
    "tags": []
   },
   "outputs": [
    {
     "data": {
      "text/plain": [
       "10.0"
      ]
     },
     "execution_count": 31,
     "metadata": {},
     "output_type": "execute_result"
    }
   ],
   "source": [
    "# percent of original data that we throw away\n",
    "100 - np.round(len(df_correct) / len(df) * 100)"
   ]
  },
  {
   "cell_type": "markdown",
   "id": "ec2ed255",
   "metadata": {
    "_uuid": "a9f14b459f71ac2304e73145fc199a90131965e7",
    "papermill": {
     "duration": 0.018636,
     "end_time": "2022-09-07T12:51:30.078416",
     "exception": false,
     "start_time": "2022-09-07T12:51:30.059780",
     "status": "completed"
    },
    "tags": []
   },
   "source": [
    "# Part 2. Visual data analysis\n",
    "\n",
    "## 2.1. Correlation matrix visualization\n",
    "\n",
    "To understand the features better, you can create a matrix of the correlation coefficients between the features. Use the initial dataset (non-filtered).\n",
    "\n",
    "### Task:\n",
    "\n",
    "Plot a correlation matrix using [`heatmap()`](http://seaborn.pydata.org/generated/seaborn.heatmap.html). You can create the matrix using the standard `pandas` tools with the default parameters."
   ]
  },
  {
   "cell_type": "code",
   "execution_count": 32,
   "id": "a5f8c0fb",
   "metadata": {
    "execution": {
     "iopub.execute_input": "2022-09-07T12:51:30.115511Z",
     "iopub.status.busy": "2022-09-07T12:51:30.114897Z",
     "iopub.status.idle": "2022-09-07T12:51:30.175672Z",
     "shell.execute_reply": "2022-09-07T12:51:30.174676Z"
    },
    "papermill": {
     "duration": 0.081133,
     "end_time": "2022-09-07T12:51:30.177499",
     "exception": false,
     "start_time": "2022-09-07T12:51:30.096366",
     "status": "completed"
    },
    "tags": []
   },
   "outputs": [
    {
     "data": {
      "text/html": [
       "<div>\n",
       "<style scoped>\n",
       "    .dataframe tbody tr th:only-of-type {\n",
       "        vertical-align: middle;\n",
       "    }\n",
       "\n",
       "    .dataframe tbody tr th {\n",
       "        vertical-align: top;\n",
       "    }\n",
       "\n",
       "    .dataframe thead th {\n",
       "        text-align: right;\n",
       "    }\n",
       "</style>\n",
       "<table border=\"1\" class=\"dataframe\">\n",
       "  <thead>\n",
       "    <tr style=\"text-align: right;\">\n",
       "      <th></th>\n",
       "      <th>id</th>\n",
       "      <th>age</th>\n",
       "      <th>gender</th>\n",
       "      <th>height</th>\n",
       "      <th>weight</th>\n",
       "      <th>ap_hi</th>\n",
       "      <th>ap_lo</th>\n",
       "      <th>cholesterol</th>\n",
       "      <th>gluc</th>\n",
       "      <th>smoke</th>\n",
       "      <th>alco</th>\n",
       "      <th>active</th>\n",
       "      <th>cardio</th>\n",
       "      <th>age_months</th>\n",
       "      <th>age_years</th>\n",
       "      <th>bmi</th>\n",
       "    </tr>\n",
       "  </thead>\n",
       "  <tbody>\n",
       "    <tr>\n",
       "      <th>id</th>\n",
       "      <td>1.000000</td>\n",
       "      <td>0.003457</td>\n",
       "      <td>0.003502</td>\n",
       "      <td>-0.003038</td>\n",
       "      <td>-0.001830</td>\n",
       "      <td>0.003356</td>\n",
       "      <td>-0.002529</td>\n",
       "      <td>0.006106</td>\n",
       "      <td>0.002467</td>\n",
       "      <td>-0.003699</td>\n",
       "      <td>0.001210</td>\n",
       "      <td>0.003755</td>\n",
       "      <td>0.003799</td>\n",
       "      <td>0.003454</td>\n",
       "      <td>0.003814</td>\n",
       "      <td>-0.001377</td>\n",
       "    </tr>\n",
       "    <tr>\n",
       "      <th>age</th>\n",
       "      <td>0.003457</td>\n",
       "      <td>1.000000</td>\n",
       "      <td>-0.022811</td>\n",
       "      <td>-0.081515</td>\n",
       "      <td>0.053684</td>\n",
       "      <td>0.020764</td>\n",
       "      <td>0.017647</td>\n",
       "      <td>0.154424</td>\n",
       "      <td>0.098703</td>\n",
       "      <td>-0.047633</td>\n",
       "      <td>-0.029723</td>\n",
       "      <td>-0.009927</td>\n",
       "      <td>0.238159</td>\n",
       "      <td>0.999994</td>\n",
       "      <td>0.999091</td>\n",
       "      <td>0.085512</td>\n",
       "    </tr>\n",
       "    <tr>\n",
       "      <th>gender</th>\n",
       "      <td>0.003502</td>\n",
       "      <td>-0.022811</td>\n",
       "      <td>1.000000</td>\n",
       "      <td>0.499033</td>\n",
       "      <td>0.155406</td>\n",
       "      <td>0.006005</td>\n",
       "      <td>0.015254</td>\n",
       "      <td>-0.035821</td>\n",
       "      <td>-0.020491</td>\n",
       "      <td>0.338135</td>\n",
       "      <td>0.170966</td>\n",
       "      <td>0.005866</td>\n",
       "      <td>0.008109</td>\n",
       "      <td>-0.022822</td>\n",
       "      <td>-0.022913</td>\n",
       "      <td>-0.096529</td>\n",
       "    </tr>\n",
       "    <tr>\n",
       "      <th>height</th>\n",
       "      <td>-0.003038</td>\n",
       "      <td>-0.081515</td>\n",
       "      <td>0.499033</td>\n",
       "      <td>1.000000</td>\n",
       "      <td>0.290968</td>\n",
       "      <td>0.005488</td>\n",
       "      <td>0.006150</td>\n",
       "      <td>-0.050226</td>\n",
       "      <td>-0.018595</td>\n",
       "      <td>0.187989</td>\n",
       "      <td>0.094419</td>\n",
       "      <td>-0.006570</td>\n",
       "      <td>-0.010821</td>\n",
       "      <td>-0.081531</td>\n",
       "      <td>-0.081506</td>\n",
       "      <td>-0.290642</td>\n",
       "    </tr>\n",
       "    <tr>\n",
       "      <th>weight</th>\n",
       "      <td>-0.001830</td>\n",
       "      <td>0.053684</td>\n",
       "      <td>0.155406</td>\n",
       "      <td>0.290968</td>\n",
       "      <td>1.000000</td>\n",
       "      <td>0.030702</td>\n",
       "      <td>0.043710</td>\n",
       "      <td>0.141768</td>\n",
       "      <td>0.106857</td>\n",
       "      <td>0.067780</td>\n",
       "      <td>0.067113</td>\n",
       "      <td>-0.016867</td>\n",
       "      <td>0.181660</td>\n",
       "      <td>0.053692</td>\n",
       "      <td>0.053561</td>\n",
       "      <td>0.762009</td>\n",
       "    </tr>\n",
       "    <tr>\n",
       "      <th>ap_hi</th>\n",
       "      <td>0.003356</td>\n",
       "      <td>0.020764</td>\n",
       "      <td>0.006005</td>\n",
       "      <td>0.005488</td>\n",
       "      <td>0.030702</td>\n",
       "      <td>1.000000</td>\n",
       "      <td>0.016086</td>\n",
       "      <td>0.023778</td>\n",
       "      <td>0.011841</td>\n",
       "      <td>-0.000922</td>\n",
       "      <td>0.001408</td>\n",
       "      <td>-0.000033</td>\n",
       "      <td>0.054475</td>\n",
       "      <td>0.020764</td>\n",
       "      <td>0.020854</td>\n",
       "      <td>0.024852</td>\n",
       "    </tr>\n",
       "    <tr>\n",
       "      <th>ap_lo</th>\n",
       "      <td>-0.002529</td>\n",
       "      <td>0.017647</td>\n",
       "      <td>0.015254</td>\n",
       "      <td>0.006150</td>\n",
       "      <td>0.043710</td>\n",
       "      <td>0.016086</td>\n",
       "      <td>1.000000</td>\n",
       "      <td>0.024019</td>\n",
       "      <td>0.010806</td>\n",
       "      <td>0.005186</td>\n",
       "      <td>0.010601</td>\n",
       "      <td>0.004780</td>\n",
       "      <td>0.065719</td>\n",
       "      <td>0.017659</td>\n",
       "      <td>0.017620</td>\n",
       "      <td>0.035345</td>\n",
       "    </tr>\n",
       "    <tr>\n",
       "      <th>cholesterol</th>\n",
       "      <td>0.006106</td>\n",
       "      <td>0.154424</td>\n",
       "      <td>-0.035821</td>\n",
       "      <td>-0.050226</td>\n",
       "      <td>0.141768</td>\n",
       "      <td>0.023778</td>\n",
       "      <td>0.024019</td>\n",
       "      <td>1.000000</td>\n",
       "      <td>0.451578</td>\n",
       "      <td>0.010354</td>\n",
       "      <td>0.035760</td>\n",
       "      <td>0.009911</td>\n",
       "      <td>0.221147</td>\n",
       "      <td>0.154417</td>\n",
       "      <td>0.154012</td>\n",
       "      <td>0.146270</td>\n",
       "    </tr>\n",
       "    <tr>\n",
       "      <th>gluc</th>\n",
       "      <td>0.002467</td>\n",
       "      <td>0.098703</td>\n",
       "      <td>-0.020491</td>\n",
       "      <td>-0.018595</td>\n",
       "      <td>0.106857</td>\n",
       "      <td>0.011841</td>\n",
       "      <td>0.010806</td>\n",
       "      <td>0.451578</td>\n",
       "      <td>1.000000</td>\n",
       "      <td>-0.004756</td>\n",
       "      <td>0.011246</td>\n",
       "      <td>-0.006770</td>\n",
       "      <td>0.089307</td>\n",
       "      <td>0.098693</td>\n",
       "      <td>0.098388</td>\n",
       "      <td>0.101390</td>\n",
       "    </tr>\n",
       "    <tr>\n",
       "      <th>smoke</th>\n",
       "      <td>-0.003699</td>\n",
       "      <td>-0.047633</td>\n",
       "      <td>0.338135</td>\n",
       "      <td>0.187989</td>\n",
       "      <td>0.067780</td>\n",
       "      <td>-0.000922</td>\n",
       "      <td>0.005186</td>\n",
       "      <td>0.010354</td>\n",
       "      <td>-0.004756</td>\n",
       "      <td>1.000000</td>\n",
       "      <td>0.340094</td>\n",
       "      <td>0.025858</td>\n",
       "      <td>-0.015486</td>\n",
       "      <td>-0.047630</td>\n",
       "      <td>-0.047649</td>\n",
       "      <td>-0.027215</td>\n",
       "    </tr>\n",
       "    <tr>\n",
       "      <th>alco</th>\n",
       "      <td>0.001210</td>\n",
       "      <td>-0.029723</td>\n",
       "      <td>0.170966</td>\n",
       "      <td>0.094419</td>\n",
       "      <td>0.067113</td>\n",
       "      <td>0.001408</td>\n",
       "      <td>0.010601</td>\n",
       "      <td>0.035760</td>\n",
       "      <td>0.011246</td>\n",
       "      <td>0.340094</td>\n",
       "      <td>1.000000</td>\n",
       "      <td>0.025476</td>\n",
       "      <td>-0.007330</td>\n",
       "      <td>-0.029743</td>\n",
       "      <td>-0.029756</td>\n",
       "      <td>0.014394</td>\n",
       "    </tr>\n",
       "    <tr>\n",
       "      <th>active</th>\n",
       "      <td>0.003755</td>\n",
       "      <td>-0.009927</td>\n",
       "      <td>0.005866</td>\n",
       "      <td>-0.006570</td>\n",
       "      <td>-0.016867</td>\n",
       "      <td>-0.000033</td>\n",
       "      <td>0.004780</td>\n",
       "      <td>0.009911</td>\n",
       "      <td>-0.006770</td>\n",
       "      <td>0.025858</td>\n",
       "      <td>0.025476</td>\n",
       "      <td>1.000000</td>\n",
       "      <td>-0.035653</td>\n",
       "      <td>-0.009926</td>\n",
       "      <td>-0.009998</td>\n",
       "      <td>-0.014261</td>\n",
       "    </tr>\n",
       "    <tr>\n",
       "      <th>cardio</th>\n",
       "      <td>0.003799</td>\n",
       "      <td>0.238159</td>\n",
       "      <td>0.008109</td>\n",
       "      <td>-0.010821</td>\n",
       "      <td>0.181660</td>\n",
       "      <td>0.054475</td>\n",
       "      <td>0.065719</td>\n",
       "      <td>0.221147</td>\n",
       "      <td>0.089307</td>\n",
       "      <td>-0.015486</td>\n",
       "      <td>-0.007330</td>\n",
       "      <td>-0.035653</td>\n",
       "      <td>1.000000</td>\n",
       "      <td>0.238152</td>\n",
       "      <td>0.237985</td>\n",
       "      <td>0.165632</td>\n",
       "    </tr>\n",
       "    <tr>\n",
       "      <th>age_months</th>\n",
       "      <td>0.003454</td>\n",
       "      <td>0.999994</td>\n",
       "      <td>-0.022822</td>\n",
       "      <td>-0.081531</td>\n",
       "      <td>0.053692</td>\n",
       "      <td>0.020764</td>\n",
       "      <td>0.017659</td>\n",
       "      <td>0.154417</td>\n",
       "      <td>0.098693</td>\n",
       "      <td>-0.047630</td>\n",
       "      <td>-0.029743</td>\n",
       "      <td>-0.009926</td>\n",
       "      <td>0.238152</td>\n",
       "      <td>1.000000</td>\n",
       "      <td>0.999092</td>\n",
       "      <td>0.085529</td>\n",
       "    </tr>\n",
       "    <tr>\n",
       "      <th>age_years</th>\n",
       "      <td>0.003814</td>\n",
       "      <td>0.999091</td>\n",
       "      <td>-0.022913</td>\n",
       "      <td>-0.081506</td>\n",
       "      <td>0.053561</td>\n",
       "      <td>0.020854</td>\n",
       "      <td>0.017620</td>\n",
       "      <td>0.154012</td>\n",
       "      <td>0.098388</td>\n",
       "      <td>-0.047649</td>\n",
       "      <td>-0.029756</td>\n",
       "      <td>-0.009998</td>\n",
       "      <td>0.237985</td>\n",
       "      <td>0.999092</td>\n",
       "      <td>1.000000</td>\n",
       "      <td>0.085404</td>\n",
       "    </tr>\n",
       "    <tr>\n",
       "      <th>bmi</th>\n",
       "      <td>-0.001377</td>\n",
       "      <td>0.085512</td>\n",
       "      <td>-0.096529</td>\n",
       "      <td>-0.290642</td>\n",
       "      <td>0.762009</td>\n",
       "      <td>0.024852</td>\n",
       "      <td>0.035345</td>\n",
       "      <td>0.146270</td>\n",
       "      <td>0.101390</td>\n",
       "      <td>-0.027215</td>\n",
       "      <td>0.014394</td>\n",
       "      <td>-0.014261</td>\n",
       "      <td>0.165632</td>\n",
       "      <td>0.085529</td>\n",
       "      <td>0.085404</td>\n",
       "      <td>1.000000</td>\n",
       "    </tr>\n",
       "  </tbody>\n",
       "</table>\n",
       "</div>"
      ],
      "text/plain": [
       "                   id       age    gender    height    weight     ap_hi  \\\n",
       "id           1.000000  0.003457  0.003502 -0.003038 -0.001830  0.003356   \n",
       "age          0.003457  1.000000 -0.022811 -0.081515  0.053684  0.020764   \n",
       "gender       0.003502 -0.022811  1.000000  0.499033  0.155406  0.006005   \n",
       "height      -0.003038 -0.081515  0.499033  1.000000  0.290968  0.005488   \n",
       "weight      -0.001830  0.053684  0.155406  0.290968  1.000000  0.030702   \n",
       "ap_hi        0.003356  0.020764  0.006005  0.005488  0.030702  1.000000   \n",
       "ap_lo       -0.002529  0.017647  0.015254  0.006150  0.043710  0.016086   \n",
       "cholesterol  0.006106  0.154424 -0.035821 -0.050226  0.141768  0.023778   \n",
       "gluc         0.002467  0.098703 -0.020491 -0.018595  0.106857  0.011841   \n",
       "smoke       -0.003699 -0.047633  0.338135  0.187989  0.067780 -0.000922   \n",
       "alco         0.001210 -0.029723  0.170966  0.094419  0.067113  0.001408   \n",
       "active       0.003755 -0.009927  0.005866 -0.006570 -0.016867 -0.000033   \n",
       "cardio       0.003799  0.238159  0.008109 -0.010821  0.181660  0.054475   \n",
       "age_months   0.003454  0.999994 -0.022822 -0.081531  0.053692  0.020764   \n",
       "age_years    0.003814  0.999091 -0.022913 -0.081506  0.053561  0.020854   \n",
       "bmi         -0.001377  0.085512 -0.096529 -0.290642  0.762009  0.024852   \n",
       "\n",
       "                ap_lo  cholesterol      gluc     smoke      alco    active  \\\n",
       "id          -0.002529     0.006106  0.002467 -0.003699  0.001210  0.003755   \n",
       "age          0.017647     0.154424  0.098703 -0.047633 -0.029723 -0.009927   \n",
       "gender       0.015254    -0.035821 -0.020491  0.338135  0.170966  0.005866   \n",
       "height       0.006150    -0.050226 -0.018595  0.187989  0.094419 -0.006570   \n",
       "weight       0.043710     0.141768  0.106857  0.067780  0.067113 -0.016867   \n",
       "ap_hi        0.016086     0.023778  0.011841 -0.000922  0.001408 -0.000033   \n",
       "ap_lo        1.000000     0.024019  0.010806  0.005186  0.010601  0.004780   \n",
       "cholesterol  0.024019     1.000000  0.451578  0.010354  0.035760  0.009911   \n",
       "gluc         0.010806     0.451578  1.000000 -0.004756  0.011246 -0.006770   \n",
       "smoke        0.005186     0.010354 -0.004756  1.000000  0.340094  0.025858   \n",
       "alco         0.010601     0.035760  0.011246  0.340094  1.000000  0.025476   \n",
       "active       0.004780     0.009911 -0.006770  0.025858  0.025476  1.000000   \n",
       "cardio       0.065719     0.221147  0.089307 -0.015486 -0.007330 -0.035653   \n",
       "age_months   0.017659     0.154417  0.098693 -0.047630 -0.029743 -0.009926   \n",
       "age_years    0.017620     0.154012  0.098388 -0.047649 -0.029756 -0.009998   \n",
       "bmi          0.035345     0.146270  0.101390 -0.027215  0.014394 -0.014261   \n",
       "\n",
       "               cardio  age_months  age_years       bmi  \n",
       "id           0.003799    0.003454   0.003814 -0.001377  \n",
       "age          0.238159    0.999994   0.999091  0.085512  \n",
       "gender       0.008109   -0.022822  -0.022913 -0.096529  \n",
       "height      -0.010821   -0.081531  -0.081506 -0.290642  \n",
       "weight       0.181660    0.053692   0.053561  0.762009  \n",
       "ap_hi        0.054475    0.020764   0.020854  0.024852  \n",
       "ap_lo        0.065719    0.017659   0.017620  0.035345  \n",
       "cholesterol  0.221147    0.154417   0.154012  0.146270  \n",
       "gluc         0.089307    0.098693   0.098388  0.101390  \n",
       "smoke       -0.015486   -0.047630  -0.047649 -0.027215  \n",
       "alco        -0.007330   -0.029743  -0.029756  0.014394  \n",
       "active      -0.035653   -0.009926  -0.009998 -0.014261  \n",
       "cardio       1.000000    0.238152   0.237985  0.165632  \n",
       "age_months   0.238152    1.000000   0.999092  0.085529  \n",
       "age_years    0.237985    0.999092   1.000000  0.085404  \n",
       "bmi          0.165632    0.085529   0.085404  1.000000  "
      ]
     },
     "execution_count": 32,
     "metadata": {},
     "output_type": "execute_result"
    }
   ],
   "source": [
    "df.corr()"
   ]
  },
  {
   "cell_type": "code",
   "execution_count": 33,
   "id": "759c7213",
   "metadata": {
    "_uuid": "a9c19a7bf2dd564b484e8269886340c13967fede",
    "execution": {
     "iopub.execute_input": "2022-09-07T12:51:30.214924Z",
     "iopub.status.busy": "2022-09-07T12:51:30.214396Z",
     "iopub.status.idle": "2022-09-07T12:51:30.698159Z",
     "shell.execute_reply": "2022-09-07T12:51:30.696817Z"
    },
    "papermill": {
     "duration": 0.505283,
     "end_time": "2022-09-07T12:51:30.700621",
     "exception": false,
     "start_time": "2022-09-07T12:51:30.195338",
     "status": "completed"
    },
    "tags": []
   },
   "outputs": [
    {
     "data": {
      "text/plain": [
       "<AxesSubplot:>"
      ]
     },
     "execution_count": 33,
     "metadata": {},
     "output_type": "execute_result"
    },
    {
     "data": {
      "image/png": "[encoded data removed]",
      "text/plain": [
       "<Figure size 1152x648 with 2 Axes>"
      ]
     },
     "metadata": {
      "needs_background": "light"
     },
     "output_type": "display_data"
    }
   ],
   "source": [
    "plt.figure(figsize=(16, 9))\n",
    "cmap = sns.diverging_palette(200, 5, as_cmap=True)\n",
    "mask = np.zeros(df.corr().shape, dtype=bool)\n",
    "mask[np.triu_indices_from(mask)] = True\n",
    "sns.heatmap(df.corr(), mask=mask, cmap=cmap)"
   ]
  },
  {
   "cell_type": "markdown",
   "id": "d7340542",
   "metadata": {
    "_uuid": "987ff630db004c51cc9e89e0c6cf6d14d619c4c0",
    "papermill": {
     "duration": 0.018439,
     "end_time": "2022-09-07T12:51:30.738394",
     "exception": false,
     "start_time": "2022-09-07T12:51:30.719955",
     "status": "completed"
    },
    "tags": []
   },
   "source": [
    "**Question 2.1. (1 point). Which pair of features has the strongest Pearson's correlation with the *gender* feature?**\n",
    "\n",
    "1. Cardio, Cholesterol\n",
    "2. Height, Smoke\n",
    "3. Smoke, Alco\n",
    "4. Height, Weight"
   ]
  },
  {
   "cell_type": "markdown",
   "id": "92ce0e17",
   "metadata": {
    "papermill": {
     "duration": 0.019116,
     "end_time": "2022-09-07T12:51:30.776170",
     "exception": false,
     "start_time": "2022-09-07T12:51:30.757054",
     "status": "completed"
    },
    "tags": []
   },
   "source": [
    "We see that `height` and `smoke` features has the strongest correlation with `gender` feature"
   ]
  },
  {
   "cell_type": "markdown",
   "id": "fdd32a42",
   "metadata": {
    "_uuid": "01edf6a3a68f47f07164b3e4cb9e6ab5ef1efcd6",
    "papermill": {
     "duration": 0.018837,
     "end_time": "2022-09-07T12:51:30.814464",
     "exception": false,
     "start_time": "2022-09-07T12:51:30.795627",
     "status": "completed"
    },
    "tags": []
   },
   "source": [
    "## 2.2. Height distribution of men and women\n",
    "\n",
    "From our exploration of the unique values earlier, we know that the gender is encoded by the values *1* and *2*. Although you do not know the mapping of these values to gender, you can figure that out graphically by looking at the mean values of height and weight for each value of the *gender* feature.\n",
    "\n",
    "### Task:\n",
    "\n",
    "Create a violin plot for the height and gender using [`violinplot()`](https://seaborn.pydata.org/generated/seaborn.violinplot.html). Use the parameters:\n",
    "- `hue` to split by gender;\n",
    "- `scale` to evaluate the number of records for each gender.\n",
    "\n",
    "In order for the plot to render correctly, you need to convert your `DataFrame` to *long* format using the `melt()` function from `pandas`. Here is [an example](https://stackoverflow.com/a/41575149/3338479) of this for your reference."
   ]
  },
  {
   "cell_type": "code",
   "execution_count": 34,
   "id": "9bcf4b2e",
   "metadata": {
    "_uuid": "71d38ccddbe26ca51c69fbdba7cc4405ee459de4",
    "execution": {
     "iopub.execute_input": "2022-09-07T12:51:30.854554Z",
     "iopub.status.busy": "2022-09-07T12:51:30.854223Z",
     "iopub.status.idle": "2022-09-07T12:51:31.343285Z",
     "shell.execute_reply": "2022-09-07T12:51:31.342602Z"
    },
    "papermill": {
     "duration": 0.510887,
     "end_time": "2022-09-07T12:51:31.344923",
     "exception": false,
     "start_time": "2022-09-07T12:51:30.834036",
     "status": "completed"
    },
    "tags": []
   },
   "outputs": [
    {
     "data": {
      "text/plain": [
       "<AxesSubplot:xlabel='variable', ylabel='value'>"
      ]
     },
     "execution_count": 34,
     "metadata": {},
     "output_type": "execute_result"
    },
    {
     "data": {
      "image/png": "[encoded data removed]",
      "text/plain": [
       "<Figure size 792x576 with 1 Axes>"
      ]
     },
     "metadata": {
      "needs_background": "light"
     },
     "output_type": "display_data"
    }
   ],
   "source": [
    "# You code here\n",
    "df_long = pd.melt(frame=df, id_vars='gender', value_vars=['height'])\n",
    "sns.violinplot(x='variable', y='value', data=df_long, hue='gender', scale='count')"
   ]
  },
  {
   "cell_type": "markdown",
   "id": "7b30fd95",
   "metadata": {
    "papermill": {
     "duration": 0.019584,
     "end_time": "2022-09-07T12:51:31.383978",
     "exception": false,
     "start_time": "2022-09-07T12:51:31.364394",
     "status": "completed"
    },
    "tags": []
   },
   "source": [
    "## 2.3. Rank correlation\n",
    "\n",
    "In most cases, *the Pearson coefficient of linear correlation* is more than enough to discover patterns in data. \n",
    "But let's go a little further and calculate a [rank correlation](https://en.wikipedia.org/wiki/Rank_correlation). It will help us to identify such feature pairs in which the lower rank in the variational series of one feature always precedes the higher rank in the another one (and we have the opposite in the case of negative correlation).\n",
    "\n",
    "### Task:\n",
    "\n",
    "Calculate and plot a correlation matrix using the [Spearman's rank correlation coefficient](https://en.wikipedia.org/wiki/Spearman%27s_rank_correlation_coefficient).\n"
   ]
  },
  {
   "cell_type": "code",
   "execution_count": 35,
   "id": "7c338190",
   "metadata": {
    "execution": {
     "iopub.execute_input": "2022-09-07T12:51:31.425333Z",
     "iopub.status.busy": "2022-09-07T12:51:31.424341Z",
     "iopub.status.idle": "2022-09-07T12:51:32.422727Z",
     "shell.execute_reply": "2022-09-07T12:51:32.422003Z"
    },
    "papermill": {
     "duration": 1.020824,
     "end_time": "2022-09-07T12:51:32.424274",
     "exception": false,
     "start_time": "2022-09-07T12:51:31.403450",
     "status": "completed"
    },
    "tags": []
   },
   "outputs": [
    {
     "data": {
      "text/plain": [
       "<AxesSubplot:>"
      ]
     },
     "execution_count": 35,
     "metadata": {},
     "output_type": "execute_result"
    },
    {
     "data": {
      "image/png": "[encoded data removed]",
      "text/plain": [
       "<Figure size 1152x648 with 2 Axes>"
      ]
     },
     "metadata": {
      "needs_background": "light"
     },
     "output_type": "display_data"
    }
   ],
   "source": [
    "plt.figure(figsize=(16, 9))\n",
    "\n",
    "mask = np.zeros(df.corr().shape, dtype=bool)\n",
    "mask[np.triu_indices_from(mask)] = True\n",
    "sns.heatmap(np.round(df.corr(method='spearman'),2), mask=mask, annot=True)"
   ]
  },
  {
   "cell_type": "markdown",
   "id": "2b6f7ae1",
   "metadata": {
    "papermill": {
     "duration": 0.020647,
     "end_time": "2022-09-07T12:51:32.465821",
     "exception": false,
     "start_time": "2022-09-07T12:51:32.445174",
     "status": "completed"
    },
    "tags": []
   },
   "source": [
    "**Question 2.2. (1 point).** Which pair of features has the strongest Spearman correlation?\n",
    "\n",
    "1. Height, Weight\n",
    "2. Age, Weight\n",
    "3. Cholesterol, Gluc\n",
    "4. Cardio, Cholesterol\n",
    "5. Ap_hi, Ap_lo\n",
    "6. Smoke, Alco"
   ]
  },
  {
   "cell_type": "markdown",
   "id": "da8df39c",
   "metadata": {
    "papermill": {
     "duration": 0.020691,
     "end_time": "2022-09-07T12:51:32.507541",
     "exception": false,
     "start_time": "2022-09-07T12:51:32.486850",
     "status": "completed"
    },
    "tags": []
   },
   "source": [
    "Systolic and diastolic blood pressure have the strongest Spearman correlation"
   ]
  },
  {
   "cell_type": "markdown",
   "id": "9d766048",
   "metadata": {
    "_uuid": "2282d0651afdbe69cdb68b266e509f20a865a63f",
    "papermill": {
     "duration": 0.020782,
     "end_time": "2022-09-07T12:51:32.549341",
     "exception": false,
     "start_time": "2022-09-07T12:51:32.528559",
     "status": "completed"
    },
    "tags": []
   },
   "source": [
    "**Question 2.3. (1 point).** Why do these features have strong rank correlation?\n",
    "\n",
    "1. Inaccuracies in the data (data acquisition errors).\n",
    "2. Relation is wrong, these features should not be related.\n",
    "3. Nature of the data."
   ]
  },
  {
   "cell_type": "code",
   "execution_count": 36,
   "id": "f12370f0",
   "metadata": {
    "execution": {
     "iopub.execute_input": "2022-09-07T12:51:32.592321Z",
     "iopub.status.busy": "2022-09-07T12:51:32.591791Z",
     "iopub.status.idle": "2022-09-07T12:51:32.861055Z",
     "shell.execute_reply": "2022-09-07T12:51:32.860126Z"
    },
    "papermill": {
     "duration": 0.292918,
     "end_time": "2022-09-07T12:51:32.862982",
     "exception": false,
     "start_time": "2022-09-07T12:51:32.570064",
     "status": "completed"
    },
    "tags": []
   },
   "outputs": [
    {
     "data": {
      "image/png": "[encoded data removed]",
      "text/plain": [
       "<Figure size 720x648 with 2 Axes>"
      ]
     },
     "metadata": {
      "needs_background": "light"
     },
     "output_type": "display_data"
    }
   ],
   "source": [
    "fig, ax = plt.subplots(1, 2, figsize=(10, 9))\n",
    "sns.boxplot(y='ap_hi', data=df, ax=ax[0])\n",
    "sns.boxplot(y='ap_lo', data=df, ax=ax[1])\n",
    "plt.tight_layout()"
   ]
  },
  {
   "cell_type": "markdown",
   "id": "4b077ff8",
   "metadata": {
    "papermill": {
     "duration": 0.020706,
     "end_time": "2022-09-07T12:51:32.905274",
     "exception": false,
     "start_time": "2022-09-07T12:51:32.884568",
     "status": "completed"
    },
    "tags": []
   },
   "source": [
    "We can see that our data has a lot of outliers so we can assume that the reason of this correlation is **inaccuracies in the data**"
   ]
  },
  {
   "cell_type": "markdown",
   "id": "a9b0a2c0",
   "metadata": {
    "_uuid": "25b4b303156fd6f9178c9b23fba4ff3f220a5977",
    "papermill": {
     "duration": 0.02123,
     "end_time": "2022-09-07T12:51:32.948517",
     "exception": false,
     "start_time": "2022-09-07T12:51:32.927287",
     "status": "completed"
    },
    "tags": []
   },
   "source": [
    "## 2.4. Age\n",
    "\n",
    "Previously, we calculated the age of the respondents in years at the moment of examination."
   ]
  },
  {
   "cell_type": "markdown",
   "id": "29dbf652",
   "metadata": {
    "_uuid": "d48bb97cba3968e7f73c790226278f6fa818871b",
    "papermill": {
     "duration": 0.020996,
     "end_time": "2022-09-07T12:51:32.990734",
     "exception": false,
     "start_time": "2022-09-07T12:51:32.969738",
     "status": "completed"
    },
    "tags": []
   },
   "source": [
    "### Task:\n",
    "\n",
    "Create a *count plot* using [`countplot()`](http://seaborn.pydata.org/generated/seaborn.countplot.html) with the age on the *X* axis and the number of people on the *Y* axis. Your resulting plot should have two columns for each age, corresponding to the number of people for each *cardio* class of that age."
   ]
  },
  {
   "cell_type": "code",
   "execution_count": 37,
   "id": "be5dfd84",
   "metadata": {
    "_uuid": "fd07f3aab9891fd86228d5880a7a38cc88b282ba",
    "execution": {
     "iopub.execute_input": "2022-09-07T12:51:33.034837Z",
     "iopub.status.busy": "2022-09-07T12:51:33.034346Z",
     "iopub.status.idle": "2022-09-07T12:51:33.536748Z",
     "shell.execute_reply": "2022-09-07T12:51:33.535143Z"
    },
    "papermill": {
     "duration": 0.526917,
     "end_time": "2022-09-07T12:51:33.538795",
     "exception": false,
     "start_time": "2022-09-07T12:51:33.011878",
     "status": "completed"
    },
    "tags": []
   },
   "outputs": [
    {
     "data": {
      "text/plain": [
       "<AxesSubplot:xlabel='age_years', ylabel='count'>"
      ]
     },
     "execution_count": 37,
     "metadata": {},
     "output_type": "execute_result"
    },
    {
     "data": {
      "image/png": "[encoded data removed]",
      "text/plain": [
       "<Figure size 1224x648 with 1 Axes>"
      ]
     },
     "metadata": {
      "needs_background": "light"
     },
     "output_type": "display_data"
    }
   ],
   "source": [
    "# You code here\n",
    "plt.figure(figsize=(17, 9))\n",
    "sns.countplot(x='age_years', hue='cardio', data=df)"
   ]
  },
  {
   "cell_type": "markdown",
   "id": "6d5925e4",
   "metadata": {
    "_uuid": "49557c7bd46d729c27aa8190df65cc25e45e7528",
    "papermill": {
     "duration": 0.021705,
     "end_time": "2022-09-07T12:51:33.582125",
     "exception": false,
     "start_time": "2022-09-07T12:51:33.560420",
     "status": "completed"
    },
    "tags": []
   },
   "source": [
    "**Question 2.4. (1 point).** What is the smallest age at which the number of people with CVD outnumber the number of people without CVD?\n",
    "\n",
    "1. 44\n",
    "2. 55\n",
    "3. 64\n",
    "4. 70"
   ]
  },
  {
   "cell_type": "markdown",
   "id": "ef33b95e",
   "metadata": {
    "papermill": {
     "duration": 0.021696,
     "end_time": "2022-09-07T12:51:33.625951",
     "exception": false,
     "start_time": "2022-09-07T12:51:33.604255",
     "status": "completed"
    },
    "tags": []
   },
   "source": [
    "The smallest age at which the number of people with CVD out the number of people without CVD is 53 (but only 55 is present in answer options)"
   ]
  }
 ],
 "metadata": {
  "kernelspec": {
   "display_name": "Python 3",
   "language": "python",
   "name": "python3"
  },
  "language_info": {
   "codemirror_mode": {
    "name": "ipython",
    "version": 3
   },
   "file_extension": ".py",
   "mimetype": "text/x-python",
   "name": "python",
   "nbconvert_exporter": "python",
   "pygments_lexer": "ipython3",
   "version": "3.8.8"
  },
  "papermill": {
   "default_parameters": {},
   "duration": 17.975496,
   "end_time": "2022-09-07T12:51:34.367613",
   "environment_variables": {},
   "exception": null,
   "input_path": "__notebook__.ipynb",
   "output_path": "__notebook__.ipynb",
   "parameters": {},
   "start_time": "2022-09-07T12:51:16.392117",
   "version": "2.3.4"
  },
  "toc": {
   "base_numbering": 1,
   "nav_menu": {},
   "number_sections": true,
   "sideBar": true,
   "skip_h1_title": false,
   "title_cell": "Table of Contents",
   "title_sidebar": "Contents",
   "toc_cell": false,
   "toc_position": {},
   "toc_section_display": true,
   "toc_window_display": false
  }
 },
 "nbformat": 4,
 "nbformat_minor": 5
}
