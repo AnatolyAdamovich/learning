{
 "cells": [
  {
   "cell_type": "markdown",
   "source": [
    "# Computer vision\n",
    "It is the art of teaching a computer to see\n",
    "\n",
    "#### What we are going to cover\n",
    "\n",
    "<img src=\"img/04-computer-vision.png\" alt=\"drawing\" width=\"1000\"/>"
   ],
   "metadata": {
    "collapsed": false
   }
  },
  {
   "cell_type": "markdown",
   "source": [
    "### important computer vision libraries\n",
    "![img1](img/04-libraries.png)"
   ],
   "metadata": {
    "collapsed": false
   }
  },
  {
   "cell_type": "code",
   "execution_count": 64,
   "metadata": {
    "collapsed": true
   },
   "outputs": [
    {
     "name": "stdout",
     "output_type": "stream",
     "text": [
      "Current device is cpu\n",
      "PyTorch version is 1.12.1+cu102\n",
      "torchvision version is 0.13.1+cu102\n"
     ]
    }
   ],
   "source": [
    "import torch\n",
    "from torch import nn\n",
    "from torch.utils.data import DataLoader\n",
    "\n",
    "# Computer vision libraries\n",
    "import torchvision\n",
    "from torchvision import datasets\n",
    "from torchvision.transforms import ToTensor\n",
    "\n",
    "# for model evaluation\n",
    "from torchmetrics import F1Score, Accuracy\n",
    "\n",
    "# for visualization\n",
    "import matplotlib.pyplot as plt\n",
    "\n",
    "# for time measuring\n",
    "from timeit import default_timer as timer\n",
    "\n",
    "# for progress bar\n",
    "from tqdm.auto import tqdm\n",
    "\n",
    "# agnostic code\n",
    "device = \"cuda:0\" if torch.cuda.is_available() else \"cpu\"\n",
    "\n",
    "print(f'Current device is {device}')\n",
    "print('PyTorch version is', torch.__version__)\n",
    "print('torchvision version is', torchvision.__version__)"
   ]
  },
  {
   "cell_type": "code",
   "execution_count": 42,
   "outputs": [],
   "source": [
    "def print_train_time(start, end, device):\n",
    "     \"\"\"Prints difference between start and end time.\n",
    "\n",
    "    Args:\n",
    "        start (float): Start time of computation (preferred in timeit format).\n",
    "        end (float): End time of computation.\n",
    "        device ([type], optional): Device that compute is running on. Defaults to None.\n",
    "\n",
    "    Returns:\n",
    "        float: time between start and end in seconds (higher is longer).\n",
    "    \"\"\"\n",
    "     total_number = end - start\n",
    "     print(f\"Train time on {device} is {total_number:.3f} seconds\")\n",
    "     return total_number"
   ],
   "metadata": {
    "collapsed": false
   }
  },
  {
   "cell_type": "code",
   "execution_count": 106,
   "outputs": [],
   "source": [
    "def eval_model(model: torch.nn.Module,\n",
    "               data_loader: torch.utils.data.DataLoader,\n",
    "               loss_fn: torch.nn.Module,\n",
    "               score_fn):\n",
    "    \"\"\"Returns a dictionary containing the results of model predicting on data_loader.\n",
    "\n",
    "    Args:\n",
    "        model (torch.nn.Module): A PyTorch model capable of making predictions on data_loader.\n",
    "        data_loader (torch.utils.data.DataLoader): The target dataset to predict on.\n",
    "        loss_fn (torch.nn.Module): The loss function of model.\n",
    "        score_fn: An accuracy function to compare the models predictions to the truth labels.\n",
    "\n",
    "    Returns:\n",
    "        (dict): Results of model making predictions on data_loader.\n",
    "    \"\"\"\n",
    "    loss, score = 0, 0\n",
    "    model.eval()\n",
    "    with torch.inference_mode():\n",
    "        for X, y in data_loader:\n",
    "            X, y = X.to(device), y.to(device)\n",
    "            y_predicted = model(X)\n",
    "            y_predicted_labels = y_predicted.argmax(dim=1)\n",
    "            loss += loss_fn(y_predicted, y)\n",
    "            score += score_fn(y_predicted_labels, y)\n",
    "        loss /= len(data_loader)\n",
    "        score /= len(data_loader)\n",
    "    d = {'model_name': model.__class__.__name__,\n",
    "         'model_loss': loss.item(),\n",
    "         'model_score': score}\n",
    "    return d"
   ],
   "metadata": {
    "collapsed": false
   }
  },
  {
   "cell_type": "markdown",
   "source": [
    "# 1. Dataset"
   ],
   "metadata": {
    "collapsed": false
   }
  },
  {
   "cell_type": "code",
   "execution_count": 3,
   "outputs": [
    {
     "name": "stdout",
     "output_type": "stream",
     "text": [
      "train: Dataset FashionMNIST\n",
      "    Number of datapoints: 60000\n",
      "    Root location: data\n",
      "    Split: Train\n",
      "    StandardTransform\n",
      "Transform: ToTensor()\n",
      "\n",
      "test: Dataset FashionMNIST\n",
      "    Number of datapoints: 10000\n",
      "    Root location: data\n",
      "    Split: Test\n",
      "    StandardTransform\n",
      "Transform: ToTensor()\n"
     ]
    }
   ],
   "source": [
    "train_data = datasets.FashionMNIST(root='data',\n",
    "                                   train=True,\n",
    "                                   transform=ToTensor(),\n",
    "                                   target_transform=None)\n",
    "\n",
    "test_data = datasets.FashionMNIST(root='data',\n",
    "                                  train=False,\n",
    "                                  transform=ToTensor())\n",
    "\n",
    "print(f'train: {train_data}\\n\\ntest: {test_data}')"
   ],
   "metadata": {
    "collapsed": false
   }
  },
  {
   "cell_type": "code",
   "execution_count": 6,
   "outputs": [
    {
     "data": {
      "text/plain": "torchvision.datasets.mnist.FashionMNIST"
     },
     "execution_count": 6,
     "metadata": {},
     "output_type": "execute_result"
    }
   ],
   "source": [
    "type(train_data)"
   ],
   "metadata": {
    "collapsed": false
   }
  },
  {
   "cell_type": "code",
   "execution_count": 12,
   "outputs": [
    {
     "name": "stdout",
     "output_type": "stream",
     "text": [
      "type of element is <class 'tuple'>\n",
      "feature shape is torch.Size([1, 28, 28])\n",
      "label 9\n"
     ]
    }
   ],
   "source": [
    "# see example\n",
    "print(f'type of element is {type(train_data[15])}')\n",
    "print(f'feature shape is {train_data[15][0].shape}')\n",
    "print(f'label {train_data[15][1]}')"
   ],
   "metadata": {
    "collapsed": false
   }
  },
  {
   "cell_type": "markdown",
   "source": [
    "**color_channels = 1, height = 28, weight = 28**\n",
    "\n",
    "![img2](img/04-input-output-shapes.png)\n",
    "\n",
    "PyTorch generally accepts `NCHW` format (channels first) as the default. But `NHWC` format (channels last) performs **better** and it is considered as **the best practice**"
   ],
   "metadata": {
    "collapsed": false
   }
  },
  {
   "cell_type": "code",
   "execution_count": 13,
   "outputs": [
    {
     "name": "stdout",
     "output_type": "stream",
     "text": [
      "classes: ['T-shirt/top', 'Trouser', 'Pullover', 'Dress', 'Coat', 'Sandal', 'Shirt', 'Sneaker', 'Bag', 'Ankle boot']\n"
     ]
    }
   ],
   "source": [
    "print('classes:', train_data.classes)"
   ],
   "metadata": {
    "collapsed": false
   }
  },
  {
   "cell_type": "code",
   "execution_count": 24,
   "outputs": [
    {
     "data": {
      "text/plain": "<Figure size 1800x700 with 6 Axes>",
      "image/png": "[encoded data removed]"
     },
     "metadata": {},
     "output_type": "display_data"
    }
   ],
   "source": [
    "plt.figure(figsize=(18, 7))\n",
    "for i in range(1, 4):\n",
    "    image, label = train_data[i]\n",
    "    plt.subplot(2, 3, i)\n",
    "    plt.imshow(image.squeeze())\n",
    "    plt.title(train_data.classes[label])\n",
    "\n",
    "    image, label = train_data[-i]\n",
    "    plt.subplot(2, 3, i+3)\n",
    "    plt.imshow(image.squeeze())\n",
    "    plt.title(train_data.classes[label])"
   ],
   "metadata": {
    "collapsed": false
   }
  },
  {
   "cell_type": "code",
   "execution_count": 26,
   "outputs": [
    {
     "data": {
      "text/plain": "<Figure size 1800x700 with 16 Axes>",
      "image/png": "[encoded data removed]"
     },
     "metadata": {},
     "output_type": "display_data"
    }
   ],
   "source": [
    "torch.manual_seed(42)\n",
    "fig = plt.figure(figsize=(18, 7))\n",
    "rows, cols = 4, 4\n",
    "for i in range(1, rows*cols + 1):\n",
    "    random_index = torch.randint(low=0,\n",
    "                                 high=len(train_data),\n",
    "                                 size=[1]).item()\n",
    "    image, label = train_data[random_index]\n",
    "    fig.add_subplot(rows, cols, i)\n",
    "    plt.imshow(image.squeeze(), cmap='gray')\n",
    "    plt.title(train_data.classes[label])\n",
    "    plt.axis(False)"
   ],
   "metadata": {
    "collapsed": false
   }
  },
  {
   "cell_type": "markdown",
   "source": [
    "# 2. Prepare Dataset\n",
    "`DataLoader` helps load data into a model. It turns `Dataset` into iterable of chunks that are called **batches**. It's more efficient to use batches (really large datasets contain a lot of objects so it important to break data into batches)"
   ],
   "metadata": {
    "collapsed": false
   }
  },
  {
   "cell_type": "code",
   "execution_count": 31,
   "outputs": [
    {
     "name": "stdout",
     "output_type": "stream",
     "text": [
      "Dataloaders:\n",
      "-train: 1875 batches\n",
      "-test: 313 batches\n",
      "Each batch contains 32 objects\n"
     ]
    }
   ],
   "source": [
    "# it is hyperparameter (32, 64, 128, 256, 512, ...)\n",
    "BATCH_SIZE = 32\n",
    "\n",
    "train_dataloader = DataLoader(dataset=train_data,\n",
    "                              shuffle=True,\n",
    "                              batch_size=BATCH_SIZE)\n",
    "\n",
    "test_dataloader = DataLoader(dataset=test_data,\n",
    "                              shuffle=False,\n",
    "                              batch_size=BATCH_SIZE)\n",
    "\n",
    "print(f'Dataloaders:\\n'\n",
    "      f'-train: {len(train_dataloader)} batches\\n'\n",
    "      f'-test: {len(test_dataloader)} batches')\n",
    "print(f'Each batch contains {BATCH_SIZE} objects')"
   ],
   "metadata": {
    "collapsed": false
   }
  },
  {
   "cell_type": "code",
   "execution_count": 32,
   "outputs": [
    {
     "name": "stdout",
     "output_type": "stream",
     "text": [
      "torch.Size([32, 1, 28, 28]) torch.Size([32])\n"
     ]
    }
   ],
   "source": [
    "# let see on the batch\n",
    "example_features, example_labels = next(iter(train_dataloader))\n",
    "print(example_features.shape, example_labels.shape)"
   ],
   "metadata": {
    "collapsed": false
   }
  },
  {
   "cell_type": "code",
   "execution_count": 33,
   "outputs": [
    {
     "data": {
      "text/plain": "<Figure size 1800x700 with 6 Axes>",
      "image/png": "[encoded data removed]"
     },
     "metadata": {},
     "output_type": "display_data"
    }
   ],
   "source": [
    "torch.manual_seed(0)\n",
    "rows = 2\n",
    "cols = 3\n",
    "fig = plt.figure(figsize=(18, 7))\n",
    "for i in range(1, rows*cols + 1):\n",
    "    image = example_features[i]\n",
    "    label = example_labels[i]\n",
    "    fig.add_subplot(rows, cols, i)\n",
    "    plt.imshow(image.squeeze())\n",
    "    plt.title(train_data.classes[label])"
   ],
   "metadata": {
    "collapsed": false
   }
  },
  {
   "cell_type": "markdown",
   "source": [
    "# 3. Baseline model"
   ],
   "metadata": {
    "collapsed": false
   }
  },
  {
   "cell_type": "code",
   "execution_count": 54,
   "outputs": [],
   "source": [
    "class FashionModelV0(nn.Module):\n",
    "    def __init__(self, input_shape, output_shape, hidden_units):\n",
    "        super().__init__()\n",
    "        self.layers_stack = nn.Sequential(\n",
    "            nn.Flatten(), # network prefer data in vector form\n",
    "            nn.Linear(in_features=input_shape, out_features=hidden_units),\n",
    "            nn.Linear(in_features=hidden_units, out_features=output_shape)\n",
    "        )\n",
    "\n",
    "    def forward(self, x):\n",
    "        return self.layers_stack(x)"
   ],
   "metadata": {
    "collapsed": false
   }
  },
  {
   "cell_type": "code",
   "execution_count": 86,
   "outputs": [
    {
     "data": {
      "text/plain": "FashionModelV0(\n  (layers_stack): Sequential(\n    (0): Flatten(start_dim=1, end_dim=-1)\n    (1): Linear(in_features=784, out_features=100, bias=True)\n    (2): Linear(in_features=100, out_features=10, bias=True)\n  )\n)"
     },
     "execution_count": 86,
     "metadata": {},
     "output_type": "execute_result"
    }
   ],
   "source": [
    "model_v0 = FashionModelV0(\n",
    "    input_shape=1*28*28, # image (features) shape\n",
    "    output_shape=10, # classes\n",
    "    hidden_units=100,\n",
    "    ).to(device=device)\n",
    "model_v0"
   ],
   "metadata": {
    "collapsed": false
   }
  },
  {
   "cell_type": "code",
   "execution_count": 87,
   "outputs": [
    {
     "data": {
      "text/plain": "torch.Size([1, 10])"
     },
     "execution_count": 87,
     "metadata": {},
     "output_type": "execute_result"
    }
   ],
   "source": [
    "# check an output\n",
    "model_v0(train_dataloader.dataset[0][0]).shape"
   ],
   "metadata": {
    "collapsed": false
   }
  },
  {
   "cell_type": "code",
   "execution_count": 88,
   "outputs": [],
   "source": [
    "loss_fn = nn.CrossEntropyLoss()\n",
    "optimizer = torch.optim.SGD(params=model_v0.parameters(),\n",
    "                             lr=0.1)\n",
    "f1_metric = F1Score(num_classes=10)\n",
    "accuracy_metric = Accuracy(num_classes=10)"
   ],
   "metadata": {
    "collapsed": false
   }
  },
  {
   "cell_type": "markdown",
   "source": [
    "#### How our model will train?\n",
    "1. Loop through epochs (each epoch model run the whole train data)\n",
    "2. Loop through training batches\n",
    "    2.1 calculate train loss per batch\n",
    "    2.2 optimizer step per batch\n",
    "3. Loop through testing batches\n",
    "    2.1 calculate test loss per batch\n",
    "    2.2 calculate metric per batch\n",
    "4. Print what's happening each `n`th epoch\n",
    "5. TIme it (fun)"
   ],
   "metadata": {
    "collapsed": false
   }
  },
  {
   "cell_type": "code",
   "execution_count": 89,
   "outputs": [
    {
     "data": {
      "text/plain": "  0%|          | 0/5 [00:00<?, ?it/s]",
      "application/vnd.jupyter.widget-view+json": {
       "version_major": 2,
       "version_minor": 0,
       "model_id": "4fc3a387be164f89a4666b38257392e5"
      }
     },
     "metadata": {},
     "output_type": "display_data"
    },
    {
     "name": "stdout",
     "output_type": "stream",
     "text": [
      "Epoch 1 / 5 ----------\n",
      "we saw 0/60000 samples\n",
      "we saw 16000/60000 samples\n",
      "we saw 32000/60000 samples\n",
      "we saw 48000/60000 samples\n",
      "Train loss: 0.57876\n",
      "Test loss: 0.49986\n",
      "Test F1-score: 0.82518\n",
      "Epoch 2 / 5 ----------\n",
      "we saw 0/60000 samples\n",
      "we saw 16000/60000 samples\n",
      "we saw 32000/60000 samples\n",
      "we saw 48000/60000 samples\n",
      "Train loss: 0.47449\n",
      "Test loss: 0.48348\n",
      "Test F1-score: 0.82957\n",
      "Epoch 3 / 5 ----------\n",
      "we saw 0/60000 samples\n",
      "we saw 16000/60000 samples\n",
      "we saw 32000/60000 samples\n",
      "we saw 48000/60000 samples\n",
      "Train loss: 0.45404\n",
      "Test loss: 0.47741\n",
      "Test F1-score: 0.83496\n",
      "Epoch 4 / 5 ----------\n",
      "we saw 0/60000 samples\n",
      "we saw 16000/60000 samples\n",
      "we saw 32000/60000 samples\n",
      "we saw 48000/60000 samples\n",
      "Train loss: 0.44184\n",
      "Test loss: 0.46244\n",
      "Test F1-score: 0.83706\n",
      "Epoch 5 / 5 ----------\n",
      "we saw 0/60000 samples\n",
      "we saw 16000/60000 samples\n",
      "we saw 32000/60000 samples\n",
      "we saw 48000/60000 samples\n",
      "Train loss: 0.43538\n",
      "Test loss: 0.46815\n",
      "Test F1-score: 0.83287\n",
      "Train time on cpu is 21.764 seconds\n"
     ]
    }
   ],
   "source": [
    "torch.manual_seed(42)\n",
    "train_time_start = timer()\n",
    "epochs = 5\n",
    "\n",
    "for epoch in tqdm(range(1, epochs+1)):\n",
    "    print(f'Epoch {epoch} / {epochs} ----------')\n",
    "\n",
    "    train_loss_epoch = 0\n",
    "    for batch, (X_train, y_train) in enumerate(train_dataloader):\n",
    "        model_v0.train()\n",
    "        y_pred = model_v0(X_train)\n",
    "        train_loss_batch = loss_fn(y_pred, y_train)\n",
    "        train_loss_epoch += train_loss_batch\n",
    "\n",
    "        optimizer.zero_grad()\n",
    "        train_loss_batch.backward()\n",
    "        optimizer.step()\n",
    "\n",
    "        if batch % 500 == 0:\n",
    "            print(f'we saw {batch * len(X_train)}/{len(train_dataloader.dataset)} samples')\n",
    "\n",
    "    # average\n",
    "    train_loss_epoch = train_loss_epoch / len(train_dataloader)\n",
    "\n",
    "    test_loss_epoch, score_test_epoch = 0.0, 0.0\n",
    "    model_v0.eval()\n",
    "    with torch.inference_mode():\n",
    "        for X_test, y_test in test_dataloader:\n",
    "            y_pred = model_v0(X_test)\n",
    "            y_pred_labels = y_pred.argmax(dim=1)\n",
    "            loss_test_batch = loss_fn(y_pred, y_test)\n",
    "            score_test_batch = f1_metric(y_test, y_pred_labels)\n",
    "            test_loss_epoch += loss_test_batch\n",
    "            score_test_epoch += score_test_batch\n",
    "\n",
    "        test_loss_epoch /= len(test_dataloader)\n",
    "        score_test_epoch /= len(test_dataloader)\n",
    "\n",
    "    print(f'Train loss: {train_loss_epoch:.5f}\\n'\n",
    "          f'Test loss: {test_loss_epoch:.5f}\\n'\n",
    "          f'Test F1-score: {score_test_epoch:.5f}')\n",
    "train_time_end = timer()\n",
    "total_time = print_train_time(start=train_time_start,\n",
    "                              end=train_time_end,\n",
    "                              device=str(next(model_v0.parameters()).device))"
   ],
   "metadata": {
    "collapsed": false
   }
  },
  {
   "cell_type": "code",
   "execution_count": 90,
   "outputs": [
    {
     "data": {
      "text/plain": "{'model_name': 'FashionModelV0',\n 'model_loss': 0.4681464731693268,\n 'model_score': tensor(0.8329)}"
     },
     "execution_count": 90,
     "metadata": {},
     "output_type": "execute_result"
    }
   ],
   "source": [
    "results_v0 = eval_model(model=model_v0,\n",
    "                        data_loader=test_dataloader,\n",
    "                        loss_fn=loss_fn,\n",
    "                        score_fn=accuracy_metric)\n",
    "results_v0"
   ],
   "metadata": {
    "collapsed": false
   }
  },
  {
   "cell_type": "markdown",
   "source": [
    "# 4. Build a better model with non-linearity"
   ],
   "metadata": {
    "collapsed": false
   }
  },
  {
   "cell_type": "code",
   "execution_count": 91,
   "outputs": [],
   "source": [
    "class FashionModelV1(nn.Module):\n",
    "    def __init__(self, input_shape, output_shape):\n",
    "        super().__init__()\n",
    "        self.layers_stack = nn.Sequential(\n",
    "            nn.Flatten(),\n",
    "            nn.Linear(in_features=input_shape,\n",
    "                      out_features=100),\n",
    "            nn.ReLU(),\n",
    "            nn.Linear(in_features=100,\n",
    "                      out_features=50),\n",
    "            nn.Softplus(),\n",
    "            nn.Linear(in_features=50,\n",
    "                      out_features=output_shape)\n",
    "        )\n",
    "\n",
    "    def forward(self, x):\n",
    "        return self.layers_stack(x)"
   ],
   "metadata": {
    "collapsed": false
   }
  },
  {
   "cell_type": "code",
   "execution_count": 100,
   "outputs": [],
   "source": [
    "model_v1 = FashionModelV1(input_shape=1*28*28,\n",
    "                          output_shape=10).to(device=device)"
   ],
   "metadata": {
    "collapsed": false
   }
  },
  {
   "cell_type": "code",
   "execution_count": 101,
   "outputs": [],
   "source": [
    "loss_fn = nn.CrossEntropyLoss()\n",
    "optimizer = torch.optim.Adam(params=model_v1.parameters(),\n",
    "                             lr=0.01)"
   ],
   "metadata": {
    "collapsed": false
   }
  },
  {
   "cell_type": "code",
   "execution_count": 102,
   "outputs": [],
   "source": [
    "def train_epoch(model, train_loader, loss_function, eval_function, dev=device):\n",
    "    loss_train_epoch, score_train_epoch = 0, 0\n",
    "    for b, (X_batch, y_batch) in enumerate(train_loader):\n",
    "        X_batch, y_batch = X_batch.to(dev), y_batch.to(dev)\n",
    "        model.train()\n",
    "\n",
    "        y_predicted_logits = model(X_batch)\n",
    "        y_predicted_targets = y_predicted_logits.argmax(dim=1)\n",
    "\n",
    "        loss_train = loss_function(y_predicted_logits, y_batch)\n",
    "        score_train = eval_function(y_predicted_targets, y_batch)\n",
    "\n",
    "        loss_train_epoch += loss_train\n",
    "        score_train_epoch += score_train\n",
    "\n",
    "        optimizer.zero_grad()\n",
    "\n",
    "        loss_train.backward()\n",
    "\n",
    "        optimizer.step()\n",
    "\n",
    "    loss_train_epoch /= len(train_loader)\n",
    "    score_train_epoch /= len(train_loader)\n",
    "    print('Train set:\\n'\n",
    "          f'* loss = {loss_train_epoch}\\n'\n",
    "          f'* Score = {score_train_epoch}')"
   ],
   "metadata": {
    "collapsed": false
   }
  },
  {
   "cell_type": "code",
   "execution_count": 103,
   "outputs": [],
   "source": [
    "def test_epoch(model, test_loader, loss_function, eval_function, dev=device):\n",
    "    loss_test_epoch, score_test_epoch = 0, 0\n",
    "    model.eval()\n",
    "    with torch.inference_mode():\n",
    "        for b, (X_batch, y_batch) in enumerate(test_loader):\n",
    "            X_batch, y_batch = X_batch.to(dev), y_batch.to(dev)\n",
    "            y_predicted_logits = model(X_batch)\n",
    "            y_predicted_targets = y_predicted_logits.argmax(dim=1)\n",
    "            loss_test = loss_function(y_predicted_logits, y_batch)\n",
    "            score_test = eval_function(y_predicted_targets, y_batch)\n",
    "            loss_test_epoch += loss_test\n",
    "            score_test_epoch += score_test\n",
    "\n",
    "        loss_test_epoch /= len(test_loader)\n",
    "        score_test_epoch /= len(test_loader)\n",
    "        print('Test set:\\n'\n",
    "             f'* loss = {loss_test_epoch}\\n'\n",
    "             f'* Score = {score_test_epoch}')"
   ],
   "metadata": {
    "collapsed": false
   }
  },
  {
   "cell_type": "code",
   "execution_count": 104,
   "outputs": [
    {
     "data": {
      "text/plain": "  0%|          | 0/5 [00:00<?, ?it/s]",
      "application/vnd.jupyter.widget-view+json": {
       "version_major": 2,
       "version_minor": 0,
       "model_id": "247d82a553244b088ed84353433ac620"
      }
     },
     "metadata": {},
     "output_type": "display_data"
    },
    {
     "name": "stdout",
     "output_type": "stream",
     "text": [
      "Epoch 1 / 5\n",
      "Train set:\n",
      "* loss = 0.5292902588844299\n",
      "* Score = 0.8093166947364807\n",
      "Test set:\n",
      "* loss = 0.5348435044288635\n",
      "* Score = 0.8134983777999878\n",
      "Epoch 2 / 5\n",
      "Train set:\n",
      "* loss = 0.43343573808670044\n",
      "* Score = 0.8447833061218262\n",
      "Test set:\n",
      "* loss = 0.4634687602519989\n",
      "* Score = 0.8347643613815308\n",
      "Epoch 3 / 5\n",
      "Train set:\n",
      "* loss = 0.40761491656303406\n",
      "* Score = 0.8544833064079285\n",
      "Test set:\n",
      "* loss = 0.4498819410800934\n",
      "* Score = 0.8450479507446289\n",
      "Epoch 4 / 5\n",
      "Train set:\n",
      "* loss = 0.3909640610218048\n",
      "* Score = 0.8623499870300293\n",
      "Test set:\n",
      "* loss = 0.43264323472976685\n",
      "* Score = 0.846345841884613\n",
      "Epoch 5 / 5\n",
      "Train set:\n",
      "* loss = 0.38175028562545776\n",
      "* Score = 0.8665666580200195\n",
      "Test set:\n",
      "* loss = 0.4250713884830475\n",
      "* Score = 0.8552316427230835\n",
      "Train time on cpu is 37.065 seconds\n"
     ]
    }
   ],
   "source": [
    "train_time_start = timer()\n",
    "\n",
    "epochs = 5\n",
    "for epoch in tqdm(range(1, epochs+1)):\n",
    "    print(f'Epoch {epoch} / {epochs}')\n",
    "    train_epoch(model=model_v1,\n",
    "                train_loader=train_dataloader,\n",
    "                loss_function=loss_fn,\n",
    "                eval_function=f1_metric)\n",
    "    test_epoch(model=model_v1,\n",
    "               test_loader=test_dataloader,\n",
    "               loss_function=loss_fn,\n",
    "               eval_function=f1_metric)\n",
    "train_time_end = timer()\n",
    "total = print_train_time(start=train_time_start,\n",
    "                         end=train_time_end,\n",
    "                         device=device)"
   ],
   "metadata": {
    "collapsed": false
   }
  },
  {
   "cell_type": "code",
   "execution_count": 107,
   "outputs": [
    {
     "data": {
      "text/plain": "({'model_name': 'FashionModelV1',\n  'model_loss': 0.4250713884830475,\n  'model_score': tensor(0.8552)},\n {'model_name': 'FashionModelV0',\n  'model_loss': 0.4681464731693268,\n  'model_score': tensor(0.8329)})"
     },
     "execution_count": 107,
     "metadata": {},
     "output_type": "execute_result"
    }
   ],
   "source": [
    "results_v1 = eval_model(model=model_v1,\n",
    "                        data_loader=test_dataloader,\n",
    "                        loss_fn=loss_fn,\n",
    "                        score_fn=accuracy_metric)\n",
    "results_v1, results_v0"
   ],
   "metadata": {
    "collapsed": false
   }
  },
  {
   "cell_type": "markdown",
   "source": [
    "# 5. Build a Convolution Neural Network (CNN)"
   ],
   "metadata": {
    "collapsed": false
   }
  },
  {
   "cell_type": "code",
   "execution_count": null,
   "outputs": [],
   "source": [],
   "metadata": {
    "collapsed": false
   }
  }
 ],
 "metadata": {
  "kernelspec": {
   "display_name": "Python 3",
   "language": "python",
   "name": "python3"
  },
  "language_info": {
   "codemirror_mode": {
    "name": "ipython",
    "version": 2
   },
   "file_extension": ".py",
   "mimetype": "text/x-python",
   "name": "python",
   "nbconvert_exporter": "python",
   "pygments_lexer": "ipython2",
   "version": "2.7.6"
  }
 },
 "nbformat": 4,
 "nbformat_minor": 0
}
