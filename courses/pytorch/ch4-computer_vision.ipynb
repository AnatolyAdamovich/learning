{
 "cells": [
  {
   "cell_type": "markdown",
   "source": [
    "# Computer vision\n",
    "It is the art of teaching a computer to see\n",
    "\n",
    "#### What we are going to cover\n",
    "\n",
    "<img src=\"img/04-computer-vision.png\" alt=\"drawing\" width=\"1000\"/>"
   ],
   "metadata": {
    "collapsed": false
   }
  },
  {
   "cell_type": "markdown",
   "source": [
    "### important computer vision libraries\n",
    "![img1](img/04-libraries.png)"
   ],
   "metadata": {
    "collapsed": false
   }
  },
  {
   "cell_type": "code",
   "execution_count": 85,
   "metadata": {
    "collapsed": true
   },
   "outputs": [
    {
     "name": "stdout",
     "output_type": "stream",
     "text": [
      "Current device is cpu\n",
      "PyTorch version is 1.12.1+cu102\n",
      "torchvision version is 0.13.1+cu102\n"
     ]
    }
   ],
   "source": [
    "import torch\n",
    "from torch import nn\n",
    "from torch.utils.data import DataLoader\n",
    "\n",
    "# Computer vision libraries\n",
    "import torchvision\n",
    "from torchvision import datasets\n",
    "from torchvision.transforms import ToTensor\n",
    "\n",
    "# for model evaluation\n",
    "from torchmetrics import F1Score, Accuracy, ConfusionMatrix\n",
    "\n",
    "# for visualization\n",
    "import matplotlib.pyplot as plt\n",
    "import mlxtend\n",
    "from mlxtend.plotting import plot_confusion_matrix\n",
    "\n",
    "# for analysis\n",
    "import pandas as pd\n",
    "\n",
    "# for time measuring\n",
    "from timeit import default_timer as timer\n",
    "\n",
    "# for progress bar\n",
    "from tqdm.auto import tqdm\n",
    "\n",
    "# for model saving & loading\n",
    "from pathlib import Path\n",
    "\n",
    "# agnostic code\n",
    "device = \"cuda:0\" if torch.cuda.is_available() else \"cpu\"\n",
    "\n",
    "print(f'Current device is {device}')\n",
    "print('PyTorch version is', torch.__version__)\n",
    "print('torchvision version is', torchvision.__version__)"
   ]
  },
  {
   "cell_type": "code",
   "execution_count": 2,
   "outputs": [],
   "source": [
    "def print_train_time(start, end, device):\n",
    "     \"\"\"Prints difference between start and end time.\n",
    "\n",
    "    Args:\n",
    "        start (float): Start time of computation (preferred in timeit format).\n",
    "        end (float): End time of computation.\n",
    "        device ([type], optional): Device that compute is running on. Defaults to None.\n",
    "\n",
    "    Returns:\n",
    "        float: time between start and end in seconds (higher is longer).\n",
    "    \"\"\"\n",
    "     total_number = end - start\n",
    "     print(f\"Train time on {device} is {total_number:.3f} seconds\")\n",
    "     return total_number"
   ],
   "metadata": {
    "collapsed": false
   }
  },
  {
   "cell_type": "code",
   "execution_count": 3,
   "outputs": [],
   "source": [
    "def eval_model(model: torch.nn.Module,\n",
    "               data_loader: torch.utils.data.DataLoader,\n",
    "               loss_fn: torch.nn.Module,\n",
    "               score_fn):\n",
    "    \"\"\"Returns a dictionary containing the results of model predicting on data_loader.\n",
    "\n",
    "    Args:\n",
    "        model (torch.nn.Module): A PyTorch model capable of making predictions on data_loader.\n",
    "        data_loader (torch.utils.data.DataLoader): The target dataset to predict on.\n",
    "        loss_fn (torch.nn.Module): The loss function of model.\n",
    "        score_fn: An accuracy function to compare the models predictions to the truth labels.\n",
    "\n",
    "    Returns:\n",
    "        (dict): Results of model making predictions on data_loader.\n",
    "    \"\"\"\n",
    "    loss, score = 0, 0\n",
    "    model.eval()\n",
    "    with torch.inference_mode():\n",
    "        for X, y in data_loader:\n",
    "            X, y = X.to(device), y.to(device)\n",
    "            y_predicted = model(X)\n",
    "            y_predicted_labels = y_predicted.argmax(dim=1)\n",
    "            loss += loss_fn(y_predicted, y)\n",
    "            score += score_fn(y_predicted_labels, y)\n",
    "        loss /= len(data_loader)\n",
    "        score /= len(data_loader)\n",
    "    d = {'model_name': model.__class__.__name__,\n",
    "         'model_loss': loss.item(),\n",
    "         'model_score': score.item()}\n",
    "    return d"
   ],
   "metadata": {
    "collapsed": false
   }
  },
  {
   "cell_type": "markdown",
   "source": [
    "# 1. Dataset"
   ],
   "metadata": {
    "collapsed": false
   }
  },
  {
   "cell_type": "code",
   "execution_count": 4,
   "outputs": [
    {
     "name": "stdout",
     "output_type": "stream",
     "text": [
      "train: Dataset FashionMNIST\n",
      "    Number of datapoints: 60000\n",
      "    Root location: data\n",
      "    Split: Train\n",
      "    StandardTransform\n",
      "Transform: ToTensor()\n",
      "\n",
      "test: Dataset FashionMNIST\n",
      "    Number of datapoints: 10000\n",
      "    Root location: data\n",
      "    Split: Test\n",
      "    StandardTransform\n",
      "Transform: ToTensor()\n"
     ]
    }
   ],
   "source": [
    "train_data = datasets.FashionMNIST(root='data',\n",
    "                                   train=True,\n",
    "                                   transform=ToTensor(),\n",
    "                                   target_transform=None)\n",
    "\n",
    "test_data = datasets.FashionMNIST(root='data',\n",
    "                                  train=False,\n",
    "                                  transform=ToTensor())\n",
    "\n",
    "print(f'train: {train_data}\\n\\ntest: {test_data}')"
   ],
   "metadata": {
    "collapsed": false
   }
  },
  {
   "cell_type": "code",
   "execution_count": 5,
   "outputs": [
    {
     "data": {
      "text/plain": "torchvision.datasets.mnist.FashionMNIST"
     },
     "execution_count": 5,
     "metadata": {},
     "output_type": "execute_result"
    }
   ],
   "source": [
    "type(train_data)"
   ],
   "metadata": {
    "collapsed": false
   }
  },
  {
   "cell_type": "code",
   "execution_count": 6,
   "outputs": [
    {
     "name": "stdout",
     "output_type": "stream",
     "text": [
      "type of element is <class 'tuple'>\n",
      "feature shape is torch.Size([1, 28, 28])\n",
      "label 9\n"
     ]
    }
   ],
   "source": [
    "# see example\n",
    "print(f'type of element is {type(train_data[15])}')\n",
    "print(f'feature shape is {train_data[15][0].shape}')\n",
    "print(f'label {train_data[15][1]}')"
   ],
   "metadata": {
    "collapsed": false
   }
  },
  {
   "cell_type": "markdown",
   "source": [
    "**color_channels = 1, height = 28, weight = 28**\n",
    "\n",
    "![img2](img/04-input-output-shapes.png)\n",
    "\n",
    "PyTorch generally accepts `NCHW` format (channels first) as the default. But `NHWC` format (channels last) performs **better** and it is considered as **the best practice**"
   ],
   "metadata": {
    "collapsed": false
   }
  },
  {
   "cell_type": "code",
   "execution_count": 7,
   "outputs": [
    {
     "name": "stdout",
     "output_type": "stream",
     "text": [
      "classes: ['T-shirt/top', 'Trouser', 'Pullover', 'Dress', 'Coat', 'Sandal', 'Shirt', 'Sneaker', 'Bag', 'Ankle boot']\n"
     ]
    }
   ],
   "source": [
    "print('classes:', train_data.classes)"
   ],
   "metadata": {
    "collapsed": false
   }
  },
  {
   "cell_type": "code",
   "execution_count": 8,
   "outputs": [
    {
     "data": {
      "text/plain": "<Figure size 1800x700 with 6 Axes>",
      "image/png": "[encoded data removed]"
     },
     "metadata": {},
     "output_type": "display_data"
    }
   ],
   "source": [
    "plt.figure(figsize=(18, 7))\n",
    "for i in range(1, 4):\n",
    "    image, label = train_data[i]\n",
    "    plt.subplot(2, 3, i)\n",
    "    plt.imshow(image.squeeze())\n",
    "    plt.title(train_data.classes[label])\n",
    "\n",
    "    image, label = train_data[-i]\n",
    "    plt.subplot(2, 3, i+3)\n",
    "    plt.imshow(image.squeeze())\n",
    "    plt.title(train_data.classes[label])"
   ],
   "metadata": {
    "collapsed": false
   }
  },
  {
   "cell_type": "code",
   "execution_count": 9,
   "outputs": [
    {
     "data": {
      "text/plain": "<Figure size 1800x700 with 16 Axes>",
      "image/png": "[encoded data removed]"
     },
     "metadata": {},
     "output_type": "display_data"
    }
   ],
   "source": [
    "torch.manual_seed(42)\n",
    "fig = plt.figure(figsize=(18, 7))\n",
    "rows, cols = 4, 4\n",
    "for i in range(1, rows*cols + 1):\n",
    "    random_index = torch.randint(low=0,\n",
    "                                 high=len(train_data),\n",
    "                                 size=[1]).item()\n",
    "    image, label = train_data[random_index]\n",
    "    fig.add_subplot(rows, cols, i)\n",
    "    plt.imshow(image.squeeze(), cmap='gray')\n",
    "    plt.title(train_data.classes[label])\n",
    "    plt.axis(False)"
   ],
   "metadata": {
    "collapsed": false
   }
  },
  {
   "cell_type": "markdown",
   "source": [
    "# 2. Prepare Dataset\n",
    "`DataLoader` helps load data into a model. It turns `Dataset` into iterable of chunks that are called **batches**. It's more efficient to use batches (really large datasets contain a lot of objects so it important to break data into batches)"
   ],
   "metadata": {
    "collapsed": false
   }
  },
  {
   "cell_type": "code",
   "execution_count": 10,
   "outputs": [
    {
     "name": "stdout",
     "output_type": "stream",
     "text": [
      "Dataloaders:\n",
      "-train: 1875 batches\n",
      "-test: 313 batches\n",
      "Each batch contains 32 objects\n"
     ]
    }
   ],
   "source": [
    "# it is hyperparameter (32, 64, 128, 256, 512, ...)\n",
    "BATCH_SIZE = 32\n",
    "\n",
    "train_dataloader = DataLoader(dataset=train_data,\n",
    "                              shuffle=True,\n",
    "                              batch_size=BATCH_SIZE)\n",
    "\n",
    "test_dataloader = DataLoader(dataset=test_data,\n",
    "                              shuffle=False,\n",
    "                              batch_size=BATCH_SIZE)\n",
    "\n",
    "print(f'Dataloaders:\\n'\n",
    "      f'-train: {len(train_dataloader)} batches\\n'\n",
    "      f'-test: {len(test_dataloader)} batches')\n",
    "print(f'Each batch contains {BATCH_SIZE} objects')"
   ],
   "metadata": {
    "collapsed": false
   }
  },
  {
   "cell_type": "code",
   "execution_count": 11,
   "outputs": [
    {
     "name": "stdout",
     "output_type": "stream",
     "text": [
      "torch.Size([32, 1, 28, 28]) torch.Size([32])\n"
     ]
    }
   ],
   "source": [
    "# let see on the batch\n",
    "example_features, example_labels = next(iter(train_dataloader))\n",
    "print(example_features.shape, example_labels.shape)"
   ],
   "metadata": {
    "collapsed": false
   }
  },
  {
   "cell_type": "code",
   "execution_count": 12,
   "outputs": [
    {
     "data": {
      "text/plain": "<Figure size 1800x700 with 6 Axes>",
      "image/png": "[encoded data removed]"
     },
     "metadata": {},
     "output_type": "display_data"
    }
   ],
   "source": [
    "torch.manual_seed(0)\n",
    "rows = 2\n",
    "cols = 3\n",
    "fig = plt.figure(figsize=(18, 7))\n",
    "for i in range(1, rows*cols + 1):\n",
    "    image = example_features[i]\n",
    "    label = example_labels[i]\n",
    "    fig.add_subplot(rows, cols, i)\n",
    "    plt.imshow(image.squeeze())\n",
    "    plt.title(train_data.classes[label])"
   ],
   "metadata": {
    "collapsed": false
   }
  },
  {
   "cell_type": "markdown",
   "source": [
    "# 3. Baseline model"
   ],
   "metadata": {
    "collapsed": false
   }
  },
  {
   "cell_type": "code",
   "execution_count": 13,
   "outputs": [],
   "source": [
    "class FashionModelV0(nn.Module):\n",
    "    def __init__(self, input_shape, output_shape, hidden_units):\n",
    "        super().__init__()\n",
    "        self.layers_stack = nn.Sequential(\n",
    "            nn.Flatten(), # network prefer data in vector form\n",
    "            nn.Linear(in_features=input_shape, out_features=hidden_units),\n",
    "            nn.Linear(in_features=hidden_units,   out_features=output_shape)\n",
    "        )\n",
    "\n",
    "    def forward(self, x):\n",
    "        return self.layers_stack(x)"
   ],
   "metadata": {
    "collapsed": false
   }
  },
  {
   "cell_type": "code",
   "execution_count": 14,
   "outputs": [
    {
     "data": {
      "text/plain": "FashionModelV0(\n  (layers_stack): Sequential(\n    (0): Flatten(start_dim=1, end_dim=-1)\n    (1): Linear(in_features=784, out_features=100, bias=True)\n    (2): Linear(in_features=100, out_features=10, bias=True)\n  )\n)"
     },
     "execution_count": 14,
     "metadata": {},
     "output_type": "execute_result"
    }
   ],
   "source": [
    "model_v0 = FashionModelV0(\n",
    "    input_shape=1*28*28, # image (features) shape\n",
    "    output_shape=10, # classes\n",
    "    hidden_units=100,\n",
    "    ).to(device=device)\n",
    "model_v0"
   ],
   "metadata": {
    "collapsed": false
   }
  },
  {
   "cell_type": "code",
   "execution_count": 15,
   "outputs": [
    {
     "data": {
      "text/plain": "torch.Size([1, 10])"
     },
     "execution_count": 15,
     "metadata": {},
     "output_type": "execute_result"
    }
   ],
   "source": [
    "# check an output\n",
    "model_v0(train_dataloader.dataset[0][0]).shape"
   ],
   "metadata": {
    "collapsed": false
   }
  },
  {
   "cell_type": "code",
   "execution_count": 16,
   "outputs": [],
   "source": [
    "loss_fn = nn.CrossEntropyLoss()\n",
    "optimizer = torch.optim.SGD(params=model_v0.parameters(),\n",
    "                             lr=0.1)\n",
    "f1_metric = F1Score(num_classes=10)\n",
    "accuracy_metric = Accuracy(num_classes=10)"
   ],
   "metadata": {
    "collapsed": false
   }
  },
  {
   "cell_type": "markdown",
   "source": [
    "#### How our model will train?\n",
    "1. Loop through epochs (each epoch model run the whole train data)\n",
    "2. Loop through training batches\n",
    "    2.1 calculate train loss per batch\n",
    "    2.2 optimizer step per batch\n",
    "3. Loop through testing batches\n",
    "    2.1 calculate test loss per batch\n",
    "    2.2 calculate metric per batch\n",
    "4. Print what's happening each `n`th epoch\n",
    "5. TIme it (fun)"
   ],
   "metadata": {
    "collapsed": false
   }
  },
  {
   "cell_type": "code",
   "execution_count": 17,
   "outputs": [
    {
     "data": {
      "text/plain": "  0%|          | 0/3 [00:00<?, ?it/s]",
      "application/vnd.jupyter.widget-view+json": {
       "version_major": 2,
       "version_minor": 0,
       "model_id": "3bacc76aa3e34ed4bdba903eef5f8b90"
      }
     },
     "metadata": {},
     "output_type": "display_data"
    },
    {
     "name": "stdout",
     "output_type": "stream",
     "text": [
      "Epoch 1 / 3 ----------\n",
      "we saw 0/60000 samples\n",
      "we saw 16000/60000 samples\n",
      "we saw 32000/60000 samples\n",
      "we saw 48000/60000 samples\n",
      "Train loss: 0.57824\n",
      "Test loss: 0.50153\n",
      "Test F1-score: 0.82608\n",
      "Epoch 2 / 3 ----------\n",
      "we saw 0/60000 samples\n",
      "we saw 16000/60000 samples\n",
      "we saw 32000/60000 samples\n",
      "we saw 48000/60000 samples\n",
      "Train loss: 0.47438\n",
      "Test loss: 0.48306\n",
      "Test F1-score: 0.83037\n",
      "Epoch 3 / 3 ----------\n",
      "we saw 0/60000 samples\n",
      "we saw 16000/60000 samples\n",
      "we saw 32000/60000 samples\n",
      "we saw 48000/60000 samples\n",
      "Train loss: 0.45395\n",
      "Test loss: 0.47753\n",
      "Test F1-score: 0.83466\n",
      "Train time on cpu is 16.388 seconds\n"
     ]
    }
   ],
   "source": [
    "torch.manual_seed(42)\n",
    "train_time_start = timer()\n",
    "epochs = 3\n",
    "\n",
    "for epoch in tqdm(range(1, epochs+1)):\n",
    "    print(f'Epoch {epoch} / {epochs} ----------')\n",
    "\n",
    "    train_loss_epoch = 0\n",
    "    for batch, (X_train, y_train) in enumerate(train_dataloader):\n",
    "        model_v0.train()\n",
    "        y_pred = model_v0(X_train)\n",
    "        train_loss_batch = loss_fn(y_pred, y_train)\n",
    "        train_loss_epoch += train_loss_batch\n",
    "\n",
    "        optimizer.zero_grad()\n",
    "        train_loss_batch.backward()\n",
    "        optimizer.step()\n",
    "\n",
    "        if batch % 500 == 0:\n",
    "            print(f'we saw {batch * len(X_train)}/{len(train_dataloader.dataset)} samples')\n",
    "\n",
    "    # average\n",
    "    train_loss_epoch = train_loss_epoch / len(train_dataloader)\n",
    "\n",
    "    test_loss_epoch, score_test_epoch = 0.0, 0.0\n",
    "    model_v0.eval()\n",
    "    with torch.inference_mode():\n",
    "        for X_test, y_test in test_dataloader:\n",
    "            y_pred = model_v0(X_test)\n",
    "            y_pred_labels = y_pred.argmax(dim=1)\n",
    "            loss_test_batch = loss_fn(y_pred, y_test)\n",
    "            score_test_batch = f1_metric(y_test, y_pred_labels)\n",
    "            test_loss_epoch += loss_test_batch\n",
    "            score_test_epoch += score_test_batch\n",
    "\n",
    "        test_loss_epoch /= len(test_dataloader)\n",
    "        score_test_epoch /= len(test_dataloader)\n",
    "\n",
    "    print(f'Train loss: {train_loss_epoch:.5f}\\n'\n",
    "          f'Test loss: {test_loss_epoch:.5f}\\n'\n",
    "          f'Test F1-score: {score_test_epoch:.5f}')\n",
    "train_time_end = timer()\n",
    "total_time_v0 = print_train_time(start=train_time_start,\n",
    "                                 end=train_time_end,\n",
    "                                  device=str(next(model_v0.parameters()).device))"
   ],
   "metadata": {
    "collapsed": false
   }
  },
  {
   "cell_type": "code",
   "execution_count": 18,
   "outputs": [
    {
     "data": {
      "text/plain": "{'model_name': 'FashionModelV0',\n 'model_loss': 0.4775281846523285,\n 'model_score': 0.834664523601532}"
     },
     "execution_count": 18,
     "metadata": {},
     "output_type": "execute_result"
    }
   ],
   "source": [
    "results_v0 = eval_model(model=model_v0,\n",
    "                        data_loader=test_dataloader,\n",
    "                        loss_fn=loss_fn,\n",
    "                        score_fn=accuracy_metric)\n",
    "results_v0"
   ],
   "metadata": {
    "collapsed": false
   }
  },
  {
   "cell_type": "markdown",
   "source": [
    "# 4. Build a better model with non-linearity"
   ],
   "metadata": {
    "collapsed": false
   }
  },
  {
   "cell_type": "code",
   "execution_count": 19,
   "outputs": [],
   "source": [
    "class FashionModelV1(nn.Module):\n",
    "    def __init__(self, input_shape, output_shape):\n",
    "        super().__init__()\n",
    "        self.layers_stack = nn.Sequential(\n",
    "            nn.Flatten(),\n",
    "            nn.Linear(in_features=input_shape,\n",
    "                      out_features=100),\n",
    "            nn.ReLU(),\n",
    "            nn.Linear(in_features=100,\n",
    "                      out_features=50),\n",
    "            nn.Softplus(),\n",
    "            nn.Linear(in_features=50,\n",
    "                      out_features=output_shape)\n",
    "        )\n",
    "\n",
    "    def forward(self, x):\n",
    "        return self.layers_stack(x)"
   ],
   "metadata": {
    "collapsed": false
   }
  },
  {
   "cell_type": "code",
   "execution_count": 20,
   "outputs": [],
   "source": [
    "model_v1 = FashionModelV1(input_shape=1*28*28,\n",
    "                          output_shape=10).to(device=device)"
   ],
   "metadata": {
    "collapsed": false
   }
  },
  {
   "cell_type": "code",
   "execution_count": 21,
   "outputs": [],
   "source": [
    "loss_fn = nn.CrossEntropyLoss()\n",
    "optimizer = torch.optim.Adam(params=model_v1.parameters(),\n",
    "                             lr=0.01)"
   ],
   "metadata": {
    "collapsed": false
   }
  },
  {
   "cell_type": "code",
   "execution_count": 22,
   "outputs": [],
   "source": [
    "def train_epoch(model, train_loader, loss_function, eval_function, dev=device):\n",
    "    loss_train_epoch, score_train_epoch = 0, 0\n",
    "    for b, (X_batch, y_batch) in enumerate(train_loader):\n",
    "        X_batch, y_batch = X_batch.to(dev), y_batch.to(dev)\n",
    "        model.train()\n",
    "\n",
    "        y_predicted_logits = model(X_batch)\n",
    "        y_predicted_targets = y_predicted_logits.argmax(dim=1)\n",
    "\n",
    "        loss_train = loss_function(y_predicted_logits, y_batch)\n",
    "        score_train = eval_function(y_predicted_targets, y_batch)\n",
    "\n",
    "        loss_train_epoch += loss_train\n",
    "        score_train_epoch += score_train\n",
    "\n",
    "        optimizer.zero_grad()\n",
    "\n",
    "        loss_train.backward()\n",
    "\n",
    "        optimizer.step()\n",
    "\n",
    "    loss_train_epoch /= len(train_loader)\n",
    "    score_train_epoch /= len(train_loader)\n",
    "    print('Train set:\\n'\n",
    "          f'* loss = {loss_train_epoch}\\n'\n",
    "          f'* Score = {score_train_epoch}')"
   ],
   "metadata": {
    "collapsed": false
   }
  },
  {
   "cell_type": "code",
   "execution_count": 23,
   "outputs": [],
   "source": [
    "def test_epoch(model, test_loader, loss_function, eval_function, dev=device):\n",
    "    loss_test_epoch, score_test_epoch = 0, 0\n",
    "    model.eval()\n",
    "    with torch.inference_mode():\n",
    "        for b, (X_batch, y_batch) in enumerate(test_loader):\n",
    "            X_batch, y_batch = X_batch.to(dev), y_batch.to(dev)\n",
    "            y_predicted_logits = model(X_batch)\n",
    "            y_predicted_targets = y_predicted_logits.argmax(dim=1)\n",
    "            loss_test = loss_function(y_predicted_logits, y_batch)\n",
    "            score_test = eval_function(y_predicted_targets, y_batch)\n",
    "            loss_test_epoch += loss_test\n",
    "            score_test_epoch += score_test\n",
    "\n",
    "        loss_test_epoch /= len(test_loader)\n",
    "        score_test_epoch /= len(test_loader)\n",
    "        print('Test set:\\n'\n",
    "             f'* loss = {loss_test_epoch}\\n'\n",
    "             f'* Score = {score_test_epoch}')"
   ],
   "metadata": {
    "collapsed": false
   }
  },
  {
   "cell_type": "code",
   "execution_count": 24,
   "outputs": [
    {
     "data": {
      "text/plain": "  0%|          | 0/3 [00:00<?, ?it/s]",
      "application/vnd.jupyter.widget-view+json": {
       "version_major": 2,
       "version_minor": 0,
       "model_id": "17ca724c334f4a6582de922b8517d448"
      }
     },
     "metadata": {},
     "output_type": "display_data"
    },
    {
     "name": "stdout",
     "output_type": "stream",
     "text": [
      "Epoch 1 / 3\n",
      "Train set:\n",
      "* loss = 0.5248493552207947\n",
      "* Score = 0.8105666637420654\n",
      "Test set:\n",
      "* loss = 0.49826809763908386\n",
      "* Score = 0.8220846652984619\n",
      "Epoch 2 / 3\n",
      "Train set:\n",
      "* loss = 0.4335266649723053\n",
      "* Score = 0.8456000089645386\n",
      "Test set:\n",
      "* loss = 0.4374934732913971\n",
      "* Score = 0.8490415215492249\n",
      "Epoch 3 / 3\n",
      "Train set:\n",
      "* loss = 0.41110649704933167\n",
      "* Score = 0.8563500046730042\n",
      "Test set:\n",
      "* loss = 0.45351430773735046\n",
      "* Score = 0.8452476263046265\n",
      "Train time on cpu is 23.047 seconds\n"
     ]
    }
   ],
   "source": [
    "train_time_start = timer()\n",
    "\n",
    "epochs = 3\n",
    "for epoch in tqdm(range(1, epochs+1)):\n",
    "    print(f'Epoch {epoch} / {epochs}')\n",
    "    train_epoch(model=model_v1,\n",
    "                train_loader=train_dataloader,\n",
    "                loss_function=loss_fn,\n",
    "                eval_function=f1_metric)\n",
    "    test_epoch(model=model_v1,\n",
    "               test_loader=test_dataloader,\n",
    "               loss_function=loss_fn,\n",
    "               eval_function=f1_metric)\n",
    "train_time_end = timer()\n",
    "total_time_v1 = print_train_time(start=train_time_start,\n",
    "                                 end=train_time_end,\n",
    "                                 device=device)"
   ],
   "metadata": {
    "collapsed": false
   }
  },
  {
   "cell_type": "code",
   "execution_count": 25,
   "outputs": [
    {
     "data": {
      "text/plain": "({'model_name': 'FashionModelV1',\n  'model_loss': 0.45351430773735046,\n  'model_score': 0.8452476263046265},\n {'model_name': 'FashionModelV0',\n  'model_loss': 0.4775281846523285,\n  'model_score': 0.834664523601532})"
     },
     "execution_count": 25,
     "metadata": {},
     "output_type": "execute_result"
    }
   ],
   "source": [
    "results_v1 = eval_model(model=model_v1,\n",
    "                        data_loader=test_dataloader,\n",
    "                        loss_fn=loss_fn,\n",
    "                        score_fn=accuracy_metric)\n",
    "results_v1, results_v0"
   ],
   "metadata": {
    "collapsed": false
   }
  },
  {
   "cell_type": "markdown",
   "source": [
    "# 5. Build a Convolution Neural Network (CNN)\n",
    "CNN's are known for their capabilities to find patterns in visual data\n",
    "\n",
    "#### Table-guide: which model to use\n",
    "![img3](img/04-table.png)"
   ],
   "metadata": {
    "collapsed": false
   }
  },
  {
   "cell_type": "code",
   "execution_count": 26,
   "outputs": [],
   "source": [
    "class FashionModelV2(nn.Module):\n",
    "    def __init__(self, input_shape, output_shape, hidden_units):\n",
    "        super().__init__()\n",
    "        self.block_1 = nn.Sequential(\n",
    "            nn.Conv2d(in_channels=input_shape,\n",
    "                      out_channels=hidden_units,\n",
    "                      kernel_size=3,\n",
    "                      stride=1,\n",
    "                      padding=1),\n",
    "            nn.ReLU(),\n",
    "            nn.Conv2d(in_channels=hidden_units,\n",
    "                      out_channels=hidden_units,\n",
    "                      kernel_size=3,\n",
    "                      stride=1,\n",
    "                      padding=1),\n",
    "            nn.ReLU(),\n",
    "            nn.MaxPool2d(kernel_size=2,\n",
    "                         stride=2)\n",
    "        )\n",
    "        self.block_2 = nn.Sequential(\n",
    "            nn.Conv2d(in_channels=hidden_units,\n",
    "                      out_channels=hidden_units,\n",
    "                      kernel_size=3,\n",
    "                      stride=1,\n",
    "                      padding=1),\n",
    "            nn.ReLU(),\n",
    "            nn.Conv2d(in_channels=hidden_units,\n",
    "                      out_channels=hidden_units,\n",
    "                      kernel_size=3,\n",
    "                      stride=1,\n",
    "                      padding=1),\n",
    "            nn.ReLU(),\n",
    "            nn.MaxPool2d(kernel_size=2)\n",
    "        )\n",
    "        self.classifier = nn.Sequential(\n",
    "            nn.Flatten(),\n",
    "            nn.Linear(in_features=hidden_units*7*7,\n",
    "                      out_features=output_shape)\n",
    "        )\n",
    "    def forward(self, x):\n",
    "        x = self.block_1(x)\n",
    "        #print('after 1 block: ', x.shape)\n",
    "        x = self.block_2(x)\n",
    "        #print('after 2 block: ', x.shape)\n",
    "        return self.classifier(x)"
   ],
   "metadata": {
    "collapsed": false
   }
  },
  {
   "cell_type": "code",
   "execution_count": 27,
   "outputs": [
    {
     "data": {
      "text/plain": "FashionModelV2(\n  (block_1): Sequential(\n    (0): Conv2d(1, 10, kernel_size=(3, 3), stride=(1, 1), padding=(1, 1))\n    (1): ReLU()\n    (2): Conv2d(10, 10, kernel_size=(3, 3), stride=(1, 1), padding=(1, 1))\n    (3): ReLU()\n    (4): MaxPool2d(kernel_size=2, stride=2, padding=0, dilation=1, ceil_mode=False)\n  )\n  (block_2): Sequential(\n    (0): Conv2d(10, 10, kernel_size=(3, 3), stride=(1, 1), padding=(1, 1))\n    (1): ReLU()\n    (2): Conv2d(10, 10, kernel_size=(3, 3), stride=(1, 1), padding=(1, 1))\n    (3): ReLU()\n    (4): MaxPool2d(kernel_size=2, stride=2, padding=0, dilation=1, ceil_mode=False)\n  )\n  (classifier): Sequential(\n    (0): Flatten(start_dim=1, end_dim=-1)\n    (1): Linear(in_features=490, out_features=10, bias=True)\n  )\n)"
     },
     "execution_count": 27,
     "metadata": {},
     "output_type": "execute_result"
    }
   ],
   "source": [
    "torch.manual_seed(42)\n",
    "model_v2 = FashionModelV2(input_shape=1, output_shape=10,\n",
    "                          hidden_units=10).to(device)\n",
    "model_v2"
   ],
   "metadata": {
    "collapsed": false
   }
  },
  {
   "cell_type": "markdown",
   "source": [
    "* `nn.Conv2d` - convolution layer (for 2-dimensional data as our images: height and width). It expects 4-dimensional tensor: [`batch_size`, `color_channels`, `height`, `width`], but also work with 3-d tensors. This layer often compress information stored in the image.\n",
    "* `nn.MaxPool2d` - pooling layer (also for 2-dimensional). It also effects the size: take the maximum valur from a portion of a tensor\n",
    "\n",
    "**Every layer in a neural network is trying to compress data from higher dimensional space to lower dimensional space**"
   ],
   "metadata": {
    "collapsed": false
   }
  },
  {
   "cell_type": "code",
   "execution_count": 28,
   "outputs": [
    {
     "name": "stdout",
     "output_type": "stream",
     "text": [
      "batch shape:  torch.Size([32, 1, 28, 28])\n",
      "image shape:  torch.Size([1, 28, 28])\n",
      "Model predictions shape:  torch.Size([32, 10])\n",
      "labels (as model predictions) shape: torch.Size([32])\n"
     ]
    }
   ],
   "source": [
    "images = torch.rand(size=(32, 1, 28, 28))\n",
    "print('batch shape: ', images.shape)\n",
    "print('image shape: ', images[5].shape)\n",
    "res = model_v2(images)\n",
    "print('Model predictions shape: ', res.shape)\n",
    "res = res.argmax(dim=1)\n",
    "print('labels (as model predictions) shape:', res.shape)"
   ],
   "metadata": {
    "collapsed": false
   }
  },
  {
   "cell_type": "markdown",
   "source": [
    "The structure of your network and numerical parameters for layers (like shape of kernel size) are also **hyperparameters**, so we should try different values (or fing a working example on similar problem)"
   ],
   "metadata": {
    "collapsed": false
   }
  },
  {
   "cell_type": "code",
   "execution_count": 29,
   "outputs": [
    {
     "name": "stdout",
     "output_type": "stream",
     "text": [
      "shape of image: torch.Size([3, 64, 64])\n"
     ]
    }
   ],
   "source": [
    "images = torch.rand(size=(32, 3, 64, 64))\n",
    "image = images[5]\n",
    "print('shape of image:', image.shape)\n",
    "conv_layer = nn.Conv2d(in_channels=3,\n",
    "                       out_channels=10,\n",
    "                       kernel_size=3,\n",
    "                       stride=2,\n",
    "                       padding=4)\n",
    "pool_layer = nn.MaxPool2d(kernel_size=2,\n",
    "                             stride=2)"
   ],
   "metadata": {
    "collapsed": false
   }
  },
  {
   "cell_type": "code",
   "execution_count": 30,
   "outputs": [
    {
     "name": "stdout",
     "output_type": "stream",
     "text": [
      "after convolution layer torch.Size([10, 35, 35])\n",
      "after pool layer torch.Size([10, 17, 17])\n",
      "after many pool layers torch.Size([10, 2, 2])\n"
     ]
    }
   ],
   "source": [
    "image = conv_layer(image)\n",
    "print('after convolution layer', image.shape)\n",
    "image = pool_layer(image)\n",
    "print('after pool layer', image.shape)\n",
    "image = pool_layer(image)\n",
    "image = pool_layer(image)\n",
    "image = pool_layer(image)\n",
    "print('after many pool layers', image.shape)"
   ],
   "metadata": {
    "collapsed": false
   }
  },
  {
   "cell_type": "code",
   "execution_count": 31,
   "outputs": [
    {
     "name": "stdout",
     "output_type": "stream",
     "text": [
      "torch.Size([10, 1, 1])\n",
      "tensor([[[0.2334]],\n",
      "\n",
      "        [[0.5516]],\n",
      "\n",
      "        [[0.7585]],\n",
      "\n",
      "        [[0.7351]],\n",
      "\n",
      "        [[0.4964]],\n",
      "\n",
      "        [[1.2129]],\n",
      "\n",
      "        [[0.2420]],\n",
      "\n",
      "        [[0.2847]],\n",
      "\n",
      "        [[0.9455]],\n",
      "\n",
      "        [[0.5999]]], grad_fn=<MaxPool2DWithIndicesBackward0>)\n"
     ]
    }
   ],
   "source": [
    "# the maximum shape\n",
    "image = pool_layer(image)\n",
    "print(image.shape)\n",
    "print(image)"
   ],
   "metadata": {
    "collapsed": false
   }
  },
  {
   "cell_type": "code",
   "execution_count": 32,
   "outputs": [],
   "source": [
    "loss_fn = nn.CrossEntropyLoss()\n",
    "optimizer = torch.optim.SGD(params=model_v2.parameters(),\n",
    "                            lr=0.1)"
   ],
   "metadata": {
    "collapsed": false
   }
  },
  {
   "cell_type": "code",
   "execution_count": 33,
   "outputs": [
    {
     "data": {
      "text/plain": "  0%|          | 0/3 [00:00<?, ?it/s]",
      "application/vnd.jupyter.widget-view+json": {
       "version_major": 2,
       "version_minor": 0,
       "model_id": "85ea5012aef14dd79228e566d5297e75"
      }
     },
     "metadata": {},
     "output_type": "display_data"
    },
    {
     "name": "stdout",
     "output_type": "stream",
     "text": [
      "Epoch 1/3:\n",
      "Train set:\n",
      "* loss = 0.5906909704208374\n",
      "* Score = 0.7864500284194946\n",
      "Test set:\n",
      "* loss = 0.39163535833358765\n",
      "* Score = 0.8605231642723083\n",
      "Epoch 2/3:\n",
      "Train set:\n",
      "* loss = 0.36068010330200195\n",
      "* Score = 0.8699666857719421\n",
      "Test set:\n",
      "* loss = 0.35456234216690063\n",
      "* Score = 0.8704073429107666\n",
      "Epoch 3/3:\n",
      "Train set:\n",
      "* loss = 0.3213295340538025\n",
      "* Score = 0.8837833404541016\n",
      "Test set:\n",
      "* loss = 0.3158703148365021\n",
      "* Score = 0.8855830430984497\n",
      "Train time on cpu is 56.948 seconds\n"
     ]
    }
   ],
   "source": [
    "torch.manual_seed(42)\n",
    "\n",
    "epochs = 3\n",
    "train_time_start = timer()\n",
    "\n",
    "for epoch in tqdm(range(1, epochs+1)):\n",
    "    print(f'Epoch {epoch}/{epochs}:')\n",
    "    train_epoch(model=model_v2,\n",
    "                loss_function=loss_fn,\n",
    "                eval_function=f1_metric,\n",
    "                train_loader=train_dataloader)\n",
    "    test_epoch(model=model_v2,\n",
    "               loss_function=loss_fn,\n",
    "               eval_function=f1_metric,\n",
    "               test_loader=test_dataloader)\n",
    "\n",
    "\n",
    "train_time_end = timer()\n",
    "total_time_v2 = print_train_time(start=train_time_start,\n",
    "                                 end=train_time_end,\n",
    "                                 device=device)"
   ],
   "metadata": {
    "collapsed": false
   }
  },
  {
   "cell_type": "code",
   "execution_count": 34,
   "outputs": [
    {
     "data": {
      "text/plain": "{'model_name': 'FashionModelV2',\n 'model_loss': 0.3158703148365021,\n 'model_score': 0.8855830430984497}"
     },
     "execution_count": 34,
     "metadata": {},
     "output_type": "execute_result"
    }
   ],
   "source": [
    "results_v2 = eval_model(model=model_v2,\n",
    "                        loss_fn=loss_fn,\n",
    "                        score_fn=accuracy_metric,\n",
    "                        data_loader=test_dataloader)\n",
    "results_v2"
   ],
   "metadata": {
    "collapsed": false
   }
  },
  {
   "cell_type": "markdown",
   "source": [
    "# 6. Results comparison"
   ],
   "metadata": {
    "collapsed": false
   }
  },
  {
   "cell_type": "code",
   "execution_count": 35,
   "outputs": [
    {
     "data": {
      "text/plain": "       model_name  model_loss  model_score  training_time\n0  FashionModelV0    0.477528     0.834665      16.388369\n1  FashionModelV1    0.453514     0.845248      23.046599\n2  FashionModelV2    0.315870     0.885583      56.948383",
      "text/html": "<div>\n<style scoped>\n    .dataframe tbody tr th:only-of-type {\n        vertical-align: middle;\n    }\n\n    .dataframe tbody tr th {\n        vertical-align: top;\n    }\n\n    .dataframe thead th {\n        text-align: right;\n    }\n</style>\n<table border=\"1\" class=\"dataframe\">\n  <thead>\n    <tr style=\"text-align: right;\">\n      <th></th>\n      <th>model_name</th>\n      <th>model_loss</th>\n      <th>model_score</th>\n      <th>training_time</th>\n    </tr>\n  </thead>\n  <tbody>\n    <tr>\n      <th>0</th>\n      <td>FashionModelV0</td>\n      <td>0.477528</td>\n      <td>0.834665</td>\n      <td>16.388369</td>\n    </tr>\n    <tr>\n      <th>1</th>\n      <td>FashionModelV1</td>\n      <td>0.453514</td>\n      <td>0.845248</td>\n      <td>23.046599</td>\n    </tr>\n    <tr>\n      <th>2</th>\n      <td>FashionModelV2</td>\n      <td>0.315870</td>\n      <td>0.885583</td>\n      <td>56.948383</td>\n    </tr>\n  </tbody>\n</table>\n</div>"
     },
     "execution_count": 35,
     "metadata": {},
     "output_type": "execute_result"
    }
   ],
   "source": [
    "compare_results = pd.DataFrame([results_v0, results_v1, results_v2])\n",
    "compare_results['training_time'] = [total_time_v0,\n",
    "                                    total_time_v1,\n",
    "                                    total_time_v2]\n",
    "compare_results"
   ],
   "metadata": {
    "collapsed": false
   }
  },
  {
   "cell_type": "markdown",
   "source": [
    "# 7. Evaluate best model"
   ],
   "metadata": {
    "collapsed": false
   }
  },
  {
   "cell_type": "code",
   "execution_count": 59,
   "outputs": [],
   "source": [
    "def make_predictions(model, data, device):\n",
    "    predicted_probabilities = []\n",
    "    model.eval()\n",
    "    with torch.inference_mode():\n",
    "        for smpl in data:\n",
    "            # make it like [batch, channels, h, w]\n",
    "            smpl = torch.unsqueeze(smpl, dim=0).to(device)\n",
    "            pred_logit = model(smpl)\n",
    "            # shape now is [1, 10]\n",
    "            pred_logit = pred_logit.squeeze()  # make it 1-d\n",
    "            # make it like array with probabilities\n",
    "            pred_proba = torch.softmax(pred_logit, dim=0)\n",
    "            # add to stack\n",
    "            predicted_probabilities.append(pred_proba.cpu())\n",
    "\n",
    "    return torch.stack(predicted_probabilities)"
   ],
   "metadata": {
    "collapsed": false
   }
  },
  {
   "cell_type": "code",
   "execution_count": 60,
   "outputs": [
    {
     "name": "stdout",
     "output_type": "stream",
     "text": [
      "Test sample image shape:  torch.Size([1, 28, 28])\n",
      "Test sample labels:  [5, 1, 7, 4, 3, 0, 4, 7, 1]\n"
     ]
    }
   ],
   "source": [
    "import random\n",
    "random.seed(42)\n",
    "test_samples = []\n",
    "test_labels = []\n",
    "class_names = test_data.classes\n",
    "for sample, label in random.sample(list(test_data), k=9):\n",
    "    test_samples.append(sample)\n",
    "    test_labels.append(label)\n",
    "print(f'Test sample image shape: ', test_samples[0].shape)\n",
    "print(f'Test sample labels: ', test_labels)"
   ],
   "metadata": {
    "collapsed": false
   }
  },
  {
   "cell_type": "code",
   "execution_count": 61,
   "outputs": [
    {
     "data": {
      "text/plain": "torch.Size([9, 10])"
     },
     "execution_count": 61,
     "metadata": {},
     "output_type": "execute_result"
    }
   ],
   "source": [
    "predictions = make_predictions(model=model_v2, data=test_samples, device=device)\n",
    "predictions.shape\n",
    "# 9 samples, 10 classes"
   ],
   "metadata": {
    "collapsed": false
   }
  },
  {
   "cell_type": "code",
   "execution_count": 62,
   "outputs": [
    {
     "name": "stdout",
     "output_type": "stream",
     "text": [
      "Predictions (model):  tensor([5, 1, 7, 4, 3, 0, 4, 7, 1])\n"
     ]
    }
   ],
   "source": [
    "predictions = predictions.argmax(dim=1)\n",
    "print(f'Predictions (model): ', predictions)"
   ],
   "metadata": {
    "collapsed": false
   }
  },
  {
   "cell_type": "code",
   "execution_count": 63,
   "outputs": [
    {
     "data": {
      "text/plain": "<Figure size 900x900 with 9 Axes>",
      "image/png": "[encoded data removed]"
     },
     "metadata": {},
     "output_type": "display_data"
    }
   ],
   "source": [
    "# Plot predictions\n",
    "plt.figure(figsize=(9, 9))\n",
    "nrows = 3\n",
    "ncols = 3\n",
    "for i, sample in enumerate(test_samples):\n",
    "  # Create a subplot\n",
    "  plt.subplot(nrows, ncols, i+1)\n",
    "\n",
    "  # Plot the target image\n",
    "  plt.imshow(sample.squeeze(), cmap=\"gray\")\n",
    "\n",
    "  # Find the prediction label (in text form, e.g. \"Sandal\")\n",
    "  pred_label = class_names[predictions[i]]\n",
    "\n",
    "  # Get the truth label (in text form, e.g. \"T-shirt\")\n",
    "  truth_label = class_names[test_labels[i]]\n",
    "\n",
    "  # Create the title text of the plot\n",
    "  title_text = f\"Pred: {pred_label} | Truth: {truth_label}\"\n",
    "\n",
    "  # Check for equality and change title colour accordingly\n",
    "  if pred_label == truth_label:\n",
    "      plt.title(title_text, fontsize=10, c=\"g\") # green text if correct\n",
    "  else:\n",
    "      plt.title(title_text, fontsize=10, c=\"r\") # red text if wrong\n",
    "  plt.axis(False)"
   ],
   "metadata": {
    "collapsed": false
   }
  },
  {
   "cell_type": "markdown",
   "source": [
    "let's make a **confusion matrix**\n",
    "1. make predictions\n",
    "2. make confusion matrix (`torchmetrics.ConfusionMatrix`)\n",
    "3. plot it (`mlxtend.plotting.plot_confusion_matrix()`)"
   ],
   "metadata": {
    "collapsed": false
   }
  },
  {
   "cell_type": "code",
   "execution_count": 78,
   "outputs": [
    {
     "data": {
      "text/plain": "predicted:   0%|          | 0/313 [00:00<?, ?it/s]",
      "application/vnd.jupyter.widget-view+json": {
       "version_major": 2,
       "version_minor": 0,
       "model_id": "5451080cf9ca4d0ea135a4f870b35f38"
      }
     },
     "metadata": {},
     "output_type": "display_data"
    }
   ],
   "source": [
    "y_preds = []\n",
    "model_v2.eval()\n",
    "with torch.inference_mode():\n",
    "    for X, y in tqdm(test_dataloader, desc='predicted'):\n",
    "        # X.shape is [32, 1, 28, 28]\n",
    "        X, y = X.to(device), y.to(device)\n",
    "        y_logit = model_v2(X)\n",
    "        # y_logit shape is [32, 10]\n",
    "        y_proba = torch.softmax(y_logit, dim=1)\n",
    "        # y_proba shape is [32, 10]\n",
    "        y_pred = y_proba.argmax(dim=1)\n",
    "        # shape is [32]\n",
    "        y_preds.append(y_pred.cpu())"
   ],
   "metadata": {
    "collapsed": false
   }
  },
  {
   "cell_type": "code",
   "execution_count": 79,
   "outputs": [
    {
     "data": {
      "text/plain": "torch.Size([10000])"
     },
     "execution_count": 79,
     "metadata": {},
     "output_type": "execute_result"
    }
   ],
   "source": [
    "y_pred_tensor = torch.cat(y_preds)\n",
    "y_pred_tensor.shape\n",
    "# shape should be [number_of_objects]"
   ],
   "metadata": {
    "collapsed": false
   }
  },
  {
   "cell_type": "code",
   "execution_count": 80,
   "outputs": [
    {
     "data": {
      "text/plain": "tensor(0.8854)"
     },
     "execution_count": 80,
     "metadata": {},
     "output_type": "execute_result"
    }
   ],
   "source": [
    "accuracy_metric(y_pred_tensor, test_data.targets)"
   ],
   "metadata": {
    "collapsed": false
   }
  },
  {
   "cell_type": "code",
   "execution_count": 81,
   "outputs": [
    {
     "name": "stdout",
     "output_type": "stream",
     "text": [
      "version of mlxtend is 0.21.0\n"
     ]
    },
    {
     "data": {
      "text/plain": "<Figure size 1000x700 with 1 Axes>",
      "image/png": "[encoded data removed]"
     },
     "metadata": {},
     "output_type": "display_data"
    }
   ],
   "source": [
    "print('version of mlxtend is', mlxtend.__version__)\n",
    "\n",
    "# setup confusion matrix\n",
    "confmat = ConfusionMatrix(num_classes=10)\n",
    "confmat_results = confmat(preds=y_pred_tensor,\n",
    "                          target=test_data.targets)\n",
    "\n",
    "# plot the confusion matrix\n",
    "fig, ax = plot_confusion_matrix(\n",
    "    conf_mat=confmat_results.numpy(),\n",
    "    class_names=class_names,\n",
    "    figsize=(10, 7)\n",
    ")"
   ],
   "metadata": {
    "collapsed": false
   }
  },
  {
   "cell_type": "markdown",
   "source": [
    "# 8. Save and load model"
   ],
   "metadata": {
    "collapsed": false
   }
  },
  {
   "cell_type": "code",
   "execution_count": 86,
   "outputs": [
    {
     "name": "stdout",
     "output_type": "stream",
     "text": [
      "Saving model to models/03_computer_vision_model.pth\n"
     ]
    }
   ],
   "source": [
    "MODEL_PATH = Path(\"models\")\n",
    "MODEL_PATH.mkdir(parents=True, # create parent directories if needed\n",
    "                 exist_ok=True) # if models dir already exists\n",
    "MODEL_NAME = '03_computer_vision_model.pth'\n",
    "MODEL_SAVE_PATH = MODEL_PATH / MODEL_NAME\n",
    "\n",
    "print(f'Saving model to {MODEL_SAVE_PATH}')\n",
    "torch.save(obj=model_v2.state_dict(),\n",
    "           f=MODEL_SAVE_PATH)"
   ],
   "metadata": {
    "collapsed": false
   }
  },
  {
   "cell_type": "code",
   "execution_count": 87,
   "outputs": [
    {
     "data": {
      "text/plain": "predicted:   0%|          | 0/313 [00:00<?, ?it/s]",
      "application/vnd.jupyter.widget-view+json": {
       "version_major": 2,
       "version_minor": 0,
       "model_id": "efb3ebeb35494c349be55eef1be0a751"
      }
     },
     "metadata": {},
     "output_type": "display_data"
    },
    {
     "data": {
      "text/plain": "tensor(0.8854)"
     },
     "execution_count": 87,
     "metadata": {},
     "output_type": "execute_result"
    }
   ],
   "source": [
    "new_model = FashionModelV2(input_shape=1,\n",
    "                           output_shape=10,\n",
    "                           hidden_units=10)\n",
    "new_model.load_state_dict(torch.load(f=MODEL_SAVE_PATH))\n",
    "\n",
    "\n",
    "y_preds = []\n",
    "new_model.eval()\n",
    "with torch.inference_mode():\n",
    "    for X, y in tqdm(test_dataloader, desc='predicted'):\n",
    "        # X.shape is [32, 1, 28, 28]\n",
    "        X, y = X.to(device), y.to(device)\n",
    "        y_logit = new_model(X)\n",
    "        # y_logit shape is [32, 10]\n",
    "        y_proba = torch.softmax(y_logit, dim=1)\n",
    "        # y_proba shape is [32, 10]\n",
    "        y_pred = y_proba.argmax(dim=1)\n",
    "        # shape is [32]\n",
    "        y_preds.append(y_pred.cpu())\n",
    "y_pred_tensor = torch.cat(y_preds)\n",
    "accuracy_metric(y_pred_tensor, test_data.targets)"
   ],
   "metadata": {
    "collapsed": false
   }
  },
  {
   "cell_type": "code",
   "execution_count": 88,
   "outputs": [
    {
     "data": {
      "text/plain": "{'model_name': 'FashionModelV2',\n 'model_loss': 0.3158703148365021,\n 'model_score': 0.8855830430984497}"
     },
     "execution_count": 88,
     "metadata": {},
     "output_type": "execute_result"
    }
   ],
   "source": [
    "new_model_results = eval_model(model=new_model,\n",
    "                               data_loader=test_dataloader,\n",
    "                               loss_fn=loss_fn,\n",
    "                               score_fn=accuracy_metric)\n",
    "new_model_results"
   ],
   "metadata": {
    "collapsed": false
   }
  },
  {
   "cell_type": "code",
   "execution_count": 89,
   "outputs": [
    {
     "data": {
      "text/plain": "tensor(True)"
     },
     "execution_count": 89,
     "metadata": {},
     "output_type": "execute_result"
    }
   ],
   "source": [
    "# compare two tensors\n",
    "torch.isclose(torch.tensor(results_v2['model_loss']),\n",
    "              torch.tensor(new_model_results[\"model_loss\"]),\n",
    "              atol=1e-08, # absolute tolerance\n",
    "              rtol=0.0001) # relative tolerance"
   ],
   "metadata": {
    "collapsed": false
   }
  }
 ],
 "metadata": {
  "kernelspec": {
   "display_name": "Python 3",
   "language": "python",
   "name": "python3"
  },
  "language_info": {
   "codemirror_mode": {
    "name": "ipython",
    "version": 2
   },
   "file_extension": ".py",
   "mimetype": "text/x-python",
   "name": "python",
   "nbconvert_exporter": "python",
   "pygments_lexer": "ipython2",
   "version": "2.7.6"
  }
 },
 "nbformat": 4,
 "nbformat_minor": 0
}
