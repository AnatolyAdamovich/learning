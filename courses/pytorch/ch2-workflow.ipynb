{
 "cells": [
  {
   "cell_type": "code",
   "execution_count": 19,
   "metadata": {
    "collapsed": true
   },
   "outputs": [
    {
     "data": {
      "text/plain": "'1.12.1+cu102'"
     },
     "execution_count": 19,
     "metadata": {},
     "output_type": "execute_result"
    }
   ],
   "source": [
    "import numpy as np\n",
    "import torch\n",
    "from torch import nn\n",
    "import matplotlib.pyplot as plt\n",
    "\n",
    "torch.manual_seed(42)\n",
    "torch.__version__"
   ]
  },
  {
   "cell_type": "markdown",
   "source": [
    "# PyTorch workflow\n",
    "<img src=\"img/01_a_pytorch_workflow.png\" width=\"1100\"/>"
   ],
   "metadata": {
    "collapsed": false
   }
  },
  {
   "cell_type": "markdown",
   "source": [
    "# 1. Data Preparing\n",
    "In machine learning data can be almost anything you can imagine\n",
    "\n",
    "Machine learning is a game of two parts:\n",
    "1. Turn you data into numbers\n",
    "2. Pick or build a model to learn the representation as best as possible"
   ],
   "metadata": {
    "collapsed": false
   }
  },
  {
   "cell_type": "code",
   "execution_count": 2,
   "outputs": [
    {
     "name": "stdout",
     "output_type": "stream",
     "text": [
      "Shape of X tensor is torch.Size([60, 1]) and y is torch.Size([60, 1])\n"
     ]
    },
    {
     "data": {
      "text/plain": "(tensor([[0.0000],\n         [0.0500],\n         [0.1000],\n         [0.1500],\n         [0.2000]]),\n tensor([[0.3600],\n         [0.3966],\n         [0.4332],\n         [0.4698],\n         [0.5064]]))"
     },
     "execution_count": 2,
     "metadata": {},
     "output_type": "execute_result"
    }
   ],
   "source": [
    "# now we create our data (it will be simple linear regression problem)\n",
    "\n",
    "weight = 0.73221\n",
    "bias = 0.36\n",
    "start = 0\n",
    "end = 3\n",
    "step = 0.05\n",
    "\n",
    "X = torch.arange(start, end, step).unsqueeze(dim=1)\n",
    "y = weight*X + bias\n",
    "print('Shape of X tensor is {} and y is {}'.format(X.shape, y.shape))\n",
    "\n",
    "X[:5], y[:5]"
   ],
   "metadata": {
    "collapsed": false
   }
  },
  {
   "cell_type": "markdown",
   "source": [
    "We want to learn the relationship between `X` and `y`"
   ],
   "metadata": {
    "collapsed": false
   }
  },
  {
   "cell_type": "code",
   "execution_count": 3,
   "outputs": [
    {
     "name": "stdout",
     "output_type": "stream",
     "text": [
      "48 objects will be used for training and 12 for testing\n"
     ]
    }
   ],
   "source": [
    "train_split = int(0.8 * len(X))  ## 80% of our data will be used for training\n",
    "\n",
    "X_train, y_train = X[:train_split], y[:train_split]\n",
    "X_test, y_test = X[train_split:], y[train_split:]\n",
    "\n",
    "print('{} objects will be used for training and {} for testing'.format(len(X_train), len(X_test)))"
   ],
   "metadata": {
    "collapsed": false
   }
  },
  {
   "cell_type": "code",
   "execution_count": 4,
   "outputs": [],
   "source": [
    "def plot_predictions(train_data=X_train,\n",
    "                     train_labels=y_train,\n",
    "                     test_data=X_test,\n",
    "                     test_labels=y_test,\n",
    "                     predictions=None):\n",
    "    plt.figure(figsize=(17, 7))\n",
    "    plt.scatter(train_data, train_labels, c='b', s=11, label='train')\n",
    "    plt.scatter(test_data, test_labels, c='g', s=11, label='test')\n",
    "\n",
    "    if predictions is not None:\n",
    "        plt.scatter(test_data, predictions, c='r', marker='*', s=15, label='predictions')\n",
    "    plt.legend(prop={'size':12})"
   ],
   "metadata": {
    "collapsed": false
   }
  },
  {
   "cell_type": "code",
   "execution_count": 5,
   "outputs": [
    {
     "data": {
      "text/plain": "<Figure size 1700x700 with 1 Axes>",
      "image/png": "[encoded data removed]"
     },
     "metadata": {},
     "output_type": "display_data"
    }
   ],
   "source": [
    "plot_predictions()"
   ],
   "metadata": {
    "collapsed": false
   }
  },
  {
   "cell_type": "markdown",
   "source": [
    "# 2. Build model"
   ],
   "metadata": {
    "collapsed": false
   }
  },
  {
   "cell_type": "code",
   "execution_count": 6,
   "outputs": [],
   "source": [
    "class SimpleLinearModel(nn.Module):\n",
    "    def __init__(self):\n",
    "        super().__init__()\n",
    "        self.weight = nn.Parameter(torch.rand(size=(1,),\n",
    "                                              dtype=torch.float32,\n",
    "                                              requires_grad=True))\n",
    "        self.bias = nn.Parameter(torch.rand(size=(1,),\n",
    "                                            dtype=torch.float32,\n",
    "                                            requires_grad=True))\n",
    "    def forward(self, input_object):\n",
    "        # all subclasses of nn.Module require this method\n",
    "        # to define the computation that will take place\n",
    "        # on the data passed to model\n",
    "        return self.weight * input_object + self.bias"
   ],
   "metadata": {
    "collapsed": false
   }
  },
  {
   "cell_type": "markdown",
   "source": [
    "PyTorch use 4 essential modules for any kind of neural network:\n",
    "* `torch.nn` - all blocks for computational graphs\n",
    "* `torch.optim` - various optimization algorithms (change model parameters stored in `nn.Parameter`)\n",
    "* `torch.utils.data.Dataset` -\n",
    "* `torch.utils.data.Dataloader` -"
   ],
   "metadata": {
    "collapsed": false
   }
  },
  {
   "cell_type": "code",
   "execution_count": 7,
   "outputs": [
    {
     "data": {
      "text/plain": "[Parameter containing:\n tensor([0.8823], requires_grad=True),\n Parameter containing:\n tensor([0.9150], requires_grad=True)]"
     },
     "execution_count": 7,
     "metadata": {},
     "output_type": "execute_result"
    }
   ],
   "source": [
    "model_0 = SimpleLinearModel()\n",
    "list(model_0.parameters())"
   ],
   "metadata": {
    "collapsed": false
   }
  },
  {
   "cell_type": "code",
   "execution_count": 8,
   "outputs": [
    {
     "data": {
      "text/plain": "OrderedDict([('weight', tensor([0.8823])), ('bias', tensor([0.9150]))])"
     },
     "execution_count": 8,
     "metadata": {},
     "output_type": "execute_result"
    }
   ],
   "source": [
    "model_0.state_dict()"
   ],
   "metadata": {
    "collapsed": false
   }
  },
  {
   "cell_type": "markdown",
   "source": [
    "we can see predictive power of our model by using *inference mode*. It turns off a bunch of things (gradient tracking, dropout, ...) to make **forwrad-passes** faster and safely"
   ],
   "metadata": {
    "collapsed": false
   }
  },
  {
   "cell_type": "code",
   "execution_count": 9,
   "outputs": [
    {
     "name": "stdout",
     "output_type": "stream",
     "text": [
      "MAE is 0.9564126133918762\n"
     ]
    }
   ],
   "source": [
    "tmp_loss = nn.L1Loss()\n",
    "with torch.inference_mode():\n",
    "    y_predicted = model_0(X_test)\n",
    "    print('MAE is', tmp_loss(y_predicted, y_test).item())\n",
    "\n",
    "# it is the same as torch.no_grad(), but new version ^-^"
   ],
   "metadata": {
    "collapsed": false
   }
  },
  {
   "cell_type": "code",
   "execution_count": 10,
   "outputs": [
    {
     "data": {
      "text/plain": "<Figure size 1700x700 with 1 Axes>",
      "image/png": "[encoded data removed]"
     },
     "metadata": {},
     "output_type": "display_data"
    }
   ],
   "source": [
    "plot_predictions(predictions=y_predicted)"
   ],
   "metadata": {
    "collapsed": false
   }
  },
  {
   "cell_type": "markdown",
   "source": [
    "# 3. Train model\n",
    "It is fun to write code and see if the model can try and figure them out itself"
   ],
   "metadata": {
    "collapsed": false
   }
  },
  {
   "cell_type": "code",
   "execution_count": 21,
   "outputs": [],
   "source": [
    "# create loss and optimizer\n",
    "\n",
    "# loss measures how wrong your models predictions\n",
    "loss_fn = nn.L1Loss()\n",
    "\n",
    "# optimizer tells model how to update parameters to make it better\n",
    "optimizer = torch.optim.Adam(model_0.parameters(), lr=0.01)"
   ],
   "metadata": {
    "collapsed": false
   }
  },
  {
   "cell_type": "markdown",
   "source": [
    "**Optimizer** and **loss function** depend on what kind of problem you're working on.\n",
    "\n",
    "`lr` - **Learning rate** is the hyperparameter (it is set by engineer). Common values are `0.01`, `0.001`, `0.0001`, but these can also be adjusted over time (with help of **lr scheduling**)\n"
   ],
   "metadata": {
    "collapsed": false
   }
  },
  {
   "cell_type": "markdown",
   "source": [
    "*loop* because we want our model to look at each sample in dataset\n",
    "\n",
    "**Steps (training loop):**\n",
    "1) forward pass\n",
    "2) calculate the loss\n",
    "3) zero gradients\n",
    "4) backpropagation\n",
    "5) optimizer update model parameters"
   ],
   "metadata": {
    "collapsed": false
   }
  },
  {
   "cell_type": "code",
   "execution_count": 22,
   "outputs": [],
   "source": [
    "def train_loop(data=X_train,\n",
    "               labels=y_train,\n",
    "               model=model_0,\n",
    "               optim=optimizer,\n",
    "               loss=loss_fn):\n",
    "    # train is default state of a model\n",
    "    model.train()\n",
    "\n",
    "    # forward pass\n",
    "    y_pred = model(data)\n",
    "\n",
    "    # calculate the loss\n",
    "    loss_value = loss(y_pred, labels)\n",
    "\n",
    "    # zero gradients\n",
    "    optim.zero_grad()\n",
    "\n",
    "    # backpropagation\n",
    "    loss_value.backward()\n",
    "\n",
    "    # optimizer update models parameters\n",
    "    optim.step()\n",
    "\n",
    "    return loss_value.detach().numpy()"
   ],
   "metadata": {
    "collapsed": false
   }
  },
  {
   "cell_type": "markdown",
   "source": [
    "**Steps (testing loop):**\n",
    "1) forward pass\n",
    "2) calculate the loss\n",
    "3) evaluate model using metric"
   ],
   "metadata": {
    "collapsed": false
   }
  },
  {
   "cell_type": "code",
   "execution_count": 23,
   "outputs": [],
   "source": [
    "def test_loop(data=X_test,\n",
    "              labels=y_test,\n",
    "              model=model_0,\n",
    "              loss=loss_fn,\n",
    "              metric=None):\n",
    "    model.eval()\n",
    "    with torch.inference_mode():\n",
    "        # forward pass\n",
    "        y_pred = model(data)\n",
    "\n",
    "        # calculate the loss\n",
    "        loss_value = loss(y_pred, labels)\n",
    "\n",
    "        print(f'loss value on the test - {loss_value.detach().numpy()}')\n",
    "        # metric evaluation\n",
    "        if metric is not None:\n",
    "            m = metric(labels, y_pred)\n",
    "            print(f'metric on the test - {m}')\n",
    "        return loss_value.detach().numpy()"
   ],
   "metadata": {
    "collapsed": false
   }
  },
  {
   "cell_type": "code",
   "execution_count": 24,
   "outputs": [
    {
     "name": "stdout",
     "output_type": "stream",
     "text": [
      "Epoch 1/15\n",
      "loss value on the test - 0.3119417726993561\n",
      "Epoch 2/15\n",
      "loss value on the test - 0.27522513270378113\n",
      "Epoch 3/15\n",
      "loss value on the test - 0.23857592046260834\n",
      "Epoch 4/15\n",
      "loss value on the test - 0.20203852653503418\n",
      "Epoch 5/15\n",
      "loss value on the test - 0.16573657095432281\n",
      "Epoch 6/15\n",
      "loss value on the test - 0.12982232868671417\n",
      "Epoch 7/15\n",
      "loss value on the test - 0.09475747495889664\n",
      "Epoch 8/15\n",
      "loss value on the test - 0.06119493767619133\n",
      "Epoch 9/15\n",
      "loss value on the test - 0.030664443969726562\n",
      "Epoch 10/15\n",
      "loss value on the test - 0.007399598602205515\n",
      "Epoch 11/15\n",
      "loss value on the test - 0.006469309329986572\n",
      "Epoch 12/15\n",
      "loss value on the test - 0.010668794624507427\n",
      "Epoch 13/15\n",
      "loss value on the test - 0.00867037009447813\n",
      "Epoch 14/15\n",
      "loss value on the test - 0.0043328008614480495\n",
      "Epoch 15/15\n",
      "loss value on the test - 0.010403215885162354\n"
     ]
    }
   ],
   "source": [
    "epochs = 15\n",
    "loss_train = []\n",
    "loss_test = []\n",
    "for e in range(1, epochs+1):\n",
    "    print(f'Epoch {e}/{epochs}')\n",
    "    loss_train.append(train_loop())\n",
    "    loss_test.append(test_loop())"
   ],
   "metadata": {
    "collapsed": false
   }
  },
  {
   "cell_type": "code",
   "execution_count": 25,
   "outputs": [
    {
     "data": {
      "text/plain": "<Figure size 640x480 with 1 Axes>",
      "image/png": "[encoded data removed]"
     },
     "metadata": {},
     "output_type": "display_data"
    }
   ],
   "source": [
    "plt.plot(np.arange(1, epochs+1), loss_train, label='Train')\n",
    "plt.plot(np.arange(1, epochs+1), loss_test, label='Test')\n",
    "plt.title('Curves for train & test loops')\n",
    "plt.xlabel('epochs')\n",
    "plt.ylabel('Loss value')\n",
    "plt.legend()\n",
    "plt.show()"
   ],
   "metadata": {
    "collapsed": false
   }
  },
  {
   "cell_type": "code",
   "execution_count": 26,
   "outputs": [
    {
     "name": "stdout",
     "output_type": "stream",
     "text": [
      "the model parameters after learning: OrderedDict([('weight', tensor([0.7015])), ('bias', tensor([0.4318]))])\n",
      "original parameters: weight = 0.73221 and bias = 0.36\n"
     ]
    }
   ],
   "source": [
    "print(f'the model parameters after learning: {model_0.state_dict()}')\n",
    "print(f'original parameters: weight = {weight} and bias = {bias}')"
   ],
   "metadata": {
    "collapsed": false
   }
  },
  {
   "cell_type": "markdown",
   "source": [
    "# 4. Making predictions with a trained model (inference)"
   ],
   "metadata": {
    "collapsed": false
   }
  },
  {
   "cell_type": "code",
   "execution_count": null,
   "outputs": [],
   "source": [],
   "metadata": {
    "collapsed": false
   }
  }
 ],
 "metadata": {
  "kernelspec": {
   "display_name": "Python 3",
   "language": "python",
   "name": "python3"
  },
  "language_info": {
   "codemirror_mode": {
    "name": "ipython",
    "version": 2
   },
   "file_extension": ".py",
   "mimetype": "text/x-python",
   "name": "python",
   "nbconvert_exporter": "python",
   "pygments_lexer": "ipython2",
   "version": "2.7.6"
  }
 },
 "nbformat": 4,
 "nbformat_minor": 0
}
