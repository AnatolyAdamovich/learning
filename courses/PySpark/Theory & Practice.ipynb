{
 "cells": [
  {
   "cell_type": "markdown",
   "id": "1dcbaa17",
   "metadata": {},
   "source": [
    "# Spark Session\n",
    "Точка входа в PySpark - это `SparkSession`. Это некоторый способ инициализации базовой функциональности PySpark (Dataset, Dataframe, ...).  \n",
    "Внутри `SparkSession` создаются `SparkConfig` и `SparkContext` с некоторой конфигурацией, передаваемой в качестве параметра.\n",
    "Для создания `SparkSession` используется метод `builder()`, а также ряд дополнительных методов:\n",
    " - `getOrCreate()` - создать или вернуть существующую Spark-сессию\n",
    " - `appName()` - имя приложения\n",
    " - `master(\"local[x]\")` - передача имени кластера (yarn, mesos, local[x], где x - целое число, большее 0, указывающее на количество разделов, создаваемых при использовании Dataframe, Dataset, RDD; x можно установить равному количеству ядер ЦП)."
   ]
  },
  {
   "cell_type": "code",
   "execution_count": 3,
   "id": "6e188b5c",
   "metadata": {},
   "outputs": [
    {
     "data": {
      "text/html": [
       "\n",
       "            <div>\n",
       "                <p><b>SparkSession - in-memory</b></p>\n",
       "                \n",
       "        <div>\n",
       "            <p><b>SparkContext</b></p>\n",
       "\n",
       "            <p><a href=\"http://LAPTOP-0TIS9VBD:4040\">Spark UI</a></p>\n",
       "\n",
       "            <dl>\n",
       "              <dt>Version</dt>\n",
       "                <dd><code>v3.3.0</code></dd>\n",
       "              <dt>Master</dt>\n",
       "                <dd><code>local[4]</code></dd>\n",
       "              <dt>AppName</dt>\n",
       "                <dd><code>stepik</code></dd>\n",
       "            </dl>\n",
       "        </div>\n",
       "        \n",
       "            </div>\n",
       "        "
      ],
      "text/plain": [
       "<pyspark.sql.session.SparkSession at 0x2878d8a4ca0>"
      ]
     },
     "execution_count": 3,
     "metadata": {},
     "output_type": "execute_result"
    }
   ],
   "source": [
    "from pyspark.sql import SparkSession\n",
    "spark = SparkSession.builder.master('local[4]')\\\n",
    "                    .appName('stepik').getOrCreate()\n",
    "spark"
   ]
  },
  {
   "cell_type": "markdown",
   "id": "74bb737b",
   "metadata": {},
   "source": [
    "# Чтение/просмотр данных\n",
    "* Можно читать данные самых разных форматов с помощью функции `read`.\n",
    "* Для отображения набора используется `show()`"
   ]
  },
  {
   "cell_type": "code",
   "execution_count": 7,
   "id": "ccc46fe2",
   "metadata": {},
   "outputs": [
    {
     "data": {
      "text/plain": [
       "DataFrame[_corrupt_record: string, petalLength: double, petalWidth: double, sepalLength: double, sepalWidth: double, species: string]"
      ]
     },
     "execution_count": 7,
     "metadata": {},
     "output_type": "execute_result"
    }
   ],
   "source": [
    "iris_data = spark.read.json('data/iris.json')\n",
    "iris_data"
   ]
  },
  {
   "cell_type": "code",
   "execution_count": 11,
   "id": "da5855ca",
   "metadata": {},
   "outputs": [
    {
     "name": "stdout",
     "output_type": "stream",
     "text": [
      "+---------------+-----------+----------+-----------+----------+-------+\n",
      "|_corrupt_record|petalLength|petalWidth|sepalLength|sepalWidth|species|\n",
      "+---------------+-----------+----------+-----------+----------+-------+\n",
      "|              [|       null|      null|       null|      null|   null|\n",
      "|           null|        1.4|       0.2|        5.1|       3.5| setosa|\n",
      "|           null|        1.4|       0.2|        4.9|       3.0| setosa|\n",
      "|           null|        1.3|       0.2|        4.7|       3.2| setosa|\n",
      "|           null|        1.5|       0.2|        4.6|       3.1| setosa|\n",
      "|           null|        1.4|       0.2|        5.0|       3.6| setosa|\n",
      "|           null|        1.7|       0.4|        5.4|       3.9| setosa|\n",
      "|           null|        1.4|       0.3|        4.6|       3.4| setosa|\n",
      "|           null|        1.5|       0.2|        5.0|       3.4| setosa|\n",
      "|           null|        1.4|       0.2|        4.4|       2.9| setosa|\n",
      "|           null|        1.5|       0.1|        4.9|       3.1| setosa|\n",
      "|           null|        1.5|       0.2|        5.4|       3.7| setosa|\n",
      "|           null|        1.6|       0.2|        4.8|       3.4| setosa|\n",
      "|           null|        1.4|       0.1|        4.8|       3.0| setosa|\n",
      "|           null|        1.1|       0.1|        4.3|       3.0| setosa|\n",
      "|           null|        1.2|       0.2|        5.8|       4.0| setosa|\n",
      "|           null|        1.5|       0.4|        5.7|       4.4| setosa|\n",
      "|           null|        1.3|       0.4|        5.4|       3.9| setosa|\n",
      "|           null|        1.4|       0.3|        5.1|       3.5| setosa|\n",
      "|           null|        1.7|       0.3|        5.7|       3.8| setosa|\n",
      "+---------------+-----------+----------+-----------+----------+-------+\n",
      "only showing top 20 rows\n",
      "\n"
     ]
    }
   ],
   "source": [
    "iris_data.show()"
   ]
  },
  {
   "cell_type": "markdown",
   "id": "81fd0ef2",
   "metadata": {},
   "source": [
    "* С помощью функции `printSchema()` можно отобразить структуру набора данных"
   ]
  },
  {
   "cell_type": "code",
   "execution_count": 8,
   "id": "7e052c97",
   "metadata": {},
   "outputs": [
    {
     "name": "stdout",
     "output_type": "stream",
     "text": [
      "root\n",
      " |-- _c0: string (nullable = true)\n",
      " |-- symbol: string (nullable = true)\n",
      " |-- date: string (nullable = true)\n",
      " |-- open: string (nullable = true)\n",
      " |-- high: string (nullable = true)\n",
      " |-- low: string (nullable = true)\n",
      " |-- close: string (nullable = true)\n",
      " |-- volume: string (nullable = true)\n",
      " |-- adjusted: string (nullable = true)\n",
      " |-- market.cap: string (nullable = true)\n",
      " |-- sector: string (nullable = true)\n",
      " |-- industry: string (nullable = true)\n",
      " |-- exchange: string (nullable = true)\n",
      "\n"
     ]
    }
   ],
   "source": [
    "stock_data = spark.read.csv('data/stocks_price_final.csv',\n",
    "                            sep=',',\n",
    "                            header=True)\n",
    "stock_data.printSchema()"
   ]
  },
  {
   "cell_type": "code",
   "execution_count": 15,
   "id": "c265ab8d",
   "metadata": {},
   "outputs": [
    {
     "name": "stdout",
     "output_type": "stream",
     "text": [
      "+---+------+----------+---------+------+---------+---------+-------+---------+----------+-------------+--------------------+--------+\n",
      "|_c0|symbol|      date|     open|  high|      low|    close| volume| adjusted|market.cap|       sector|            industry|exchange|\n",
      "+---+------+----------+---------+------+---------+---------+-------+---------+----------+-------------+--------------------+--------+\n",
      "|  1|   TXG|2019-09-12|       54|    58|       51|    52.75|7326300|    52.75|    $9.31B|Capital Goods|Biotechnology: La...|  NASDAQ|\n",
      "|  2|   TXG|2019-09-13|    52.75|54.355|49.150002|    52.27|1025200|    52.27|    $9.31B|Capital Goods|Biotechnology: La...|  NASDAQ|\n",
      "|  3|   TXG|2019-09-16|52.450001|    56|52.009998|55.200001| 269900|55.200001|    $9.31B|Capital Goods|Biotechnology: La...|  NASDAQ|\n",
      "+---+------+----------+---------+------+---------+---------+-------+---------+----------+-------------+--------------------+--------+\n",
      "only showing top 3 rows\n",
      "\n"
     ]
    }
   ],
   "source": [
    "stock_data.show(n=3)"
   ]
  },
  {
   "cell_type": "markdown",
   "id": "bcaa236c",
   "metadata": {},
   "source": [
    "* Можно задать структуру набора данных данных самому (имя, тип, допускается ли наличие Null и метаданные)"
   ]
  },
  {
   "cell_type": "code",
   "execution_count": 18,
   "id": "3544cb62",
   "metadata": {},
   "outputs": [
    {
     "name": "stdout",
     "output_type": "stream",
     "text": [
      "root\n",
      " |-- _c0: integer (nullable = true)\n",
      " |-- symbol: string (nullable = true)\n",
      " |-- data: date (nullable = true)\n",
      " |-- open: double (nullable = true)\n",
      " |-- high: double (nullable = true)\n",
      " |-- low: double (nullable = true)\n",
      " |-- close: double (nullable = true)\n",
      " |-- volume: integer (nullable = true)\n",
      " |-- adjusted: double (nullable = true)\n",
      " |-- market.cap: string (nullable = true)\n",
      " |-- sector: string (nullable = true)\n",
      " |-- industry: string (nullable = true)\n",
      " |-- exchange: string (nullable = true)\n",
      "\n"
     ]
    }
   ],
   "source": [
    "from pyspark.sql.types import *\n",
    "# StructField, StructType, ItegerType()\n",
    "\n",
    "#StructField?\n",
    "custom_fields = [\n",
    "    StructField(name='_c0', dataType=IntegerType(), nullable=True),\n",
    "    StructField(name='symbol', dataType=StringType(), nullable=True),\n",
    "    StructField(name='data', dataType=DateType(), nullable=True),\n",
    "    StructField(name='open', dataType=DoubleType(), nullable=True),\n",
    "    StructField(name='high', dataType=DoubleType(), nullable=True),\n",
    "    StructField(name='low', dataType=DoubleType(), nullable=True),\n",
    "    StructField(name='close', dataType=DoubleType(), nullable=True),\n",
    "    StructField(name='volume', dataType=IntegerType(), nullable=True),\n",
    "    StructField(name='adjusted', dataType=DoubleType(), nullable=True),\n",
    "    StructField(name='market.cap', dataType=StringType(), nullable=True),\n",
    "    StructField(name='sector', dataType=StringType(), nullable=True),\n",
    "    StructField(name='industry', dataType=StringType(), nullable=True),\n",
    "    StructField(name='exchange', dataType=StringType(), nullable=True)\n",
    "]\n",
    "\n",
    "custom_schema = StructType(fields=custom_fields)\n",
    "stock_data = spark.read.csv('data/stocks_price_final.csv',\n",
    "                            sep=',',\n",
    "                            header=True,\n",
    "                            schema=custom_schema)\n",
    "stock_data.printSchema()"
   ]
  },
  {
   "cell_type": "markdown",
   "id": "63d89cce",
   "metadata": {},
   "source": [
    "# Методы инспекции данных"
   ]
  },
  {
   "cell_type": "markdown",
   "id": "c9a40ac5",
   "metadata": {},
   "source": [
    "##### схема данных в виде StructType"
   ]
  },
  {
   "cell_type": "code",
   "execution_count": 27,
   "id": "db0fd0d5",
   "metadata": {},
   "outputs": [
    {
     "data": {
      "text/plain": [
       "StructType([StructField('_c0', IntegerType(), True), StructField('symbol', StringType(), True), StructField('data', DateType(), True), StructField('open', DoubleType(), True), StructField('high', DoubleType(), True), StructField('low', DoubleType(), True), StructField('close', DoubleType(), True), StructField('volume', IntegerType(), True), StructField('adjusted', DoubleType(), True), StructField('market.cap', StringType(), True), StructField('sector', StringType(), True), StructField('industry', StringType(), True), StructField('exchange', StringType(), True)])"
      ]
     },
     "execution_count": 27,
     "metadata": {},
     "output_type": "execute_result"
    }
   ],
   "source": [
    "stock_data.schema"
   ]
  },
  {
   "cell_type": "markdown",
   "id": "145f5730",
   "metadata": {},
   "source": [
    "##### список кортежей с именами столбцов и типами данных"
   ]
  },
  {
   "cell_type": "code",
   "execution_count": 28,
   "id": "f3050ce7",
   "metadata": {},
   "outputs": [
    {
     "data": {
      "text/plain": [
       "[('_c0', 'int'),\n",
       " ('symbol', 'string'),\n",
       " ('data', 'date'),\n",
       " ('open', 'double'),\n",
       " ('high', 'double'),\n",
       " ('low', 'double'),\n",
       " ('close', 'double'),\n",
       " ('volume', 'int'),\n",
       " ('adjusted', 'double'),\n",
       " ('market.cap', 'string'),\n",
       " ('sector', 'string'),\n",
       " ('industry', 'string'),\n",
       " ('exchange', 'string')]"
      ]
     },
     "execution_count": 28,
     "metadata": {},
     "output_type": "execute_result"
    }
   ],
   "source": [
    "stock_data.dtypes"
   ]
  },
  {
   "cell_type": "markdown",
   "id": "ed9be98d",
   "metadata": {},
   "source": [
    "##### возвращение строк в виде спискА"
   ]
  },
  {
   "cell_type": "code",
   "execution_count": 29,
   "id": "b3a4a32a",
   "metadata": {},
   "outputs": [
    {
     "data": {
      "text/plain": [
       "[Row(_c0=1, symbol='TXG', data=datetime.date(2019, 9, 12), open=54.0, high=58.0, low=51.0, close=52.75, volume=7326300, adjusted=52.75, market.cap='$9.31B', sector='Capital Goods', industry='Biotechnology: Laboratory Analytical Instruments', exchange='NASDAQ'),\n",
       " Row(_c0=2, symbol='TXG', data=datetime.date(2019, 9, 13), open=52.75, high=54.355, low=49.150002, close=52.27, volume=1025200, adjusted=52.27, market.cap='$9.31B', sector='Capital Goods', industry='Biotechnology: Laboratory Analytical Instruments', exchange='NASDAQ')]"
      ]
     },
     "execution_count": 29,
     "metadata": {},
     "output_type": "execute_result"
    }
   ],
   "source": [
    "stock_data.head(2) # 2 rows"
   ]
  },
  {
   "cell_type": "markdown",
   "id": "f86830ff",
   "metadata": {},
   "source": [
    "##### возвращение первой строки данных"
   ]
  },
  {
   "cell_type": "code",
   "execution_count": 30,
   "id": "64ed5a9c",
   "metadata": {},
   "outputs": [
    {
     "data": {
      "text/plain": [
       "Row(_c0=1, symbol='TXG', data=datetime.date(2019, 9, 12), open=54.0, high=58.0, low=51.0, close=52.75, volume=7326300, adjusted=52.75, market.cap='$9.31B', sector='Capital Goods', industry='Biotechnology: Laboratory Analytical Instruments', exchange='NASDAQ')"
      ]
     },
     "execution_count": 30,
     "metadata": {},
     "output_type": "execute_result"
    }
   ],
   "source": [
    "stock_data.first()"
   ]
  },
  {
   "cell_type": "markdown",
   "id": "41294de9",
   "metadata": {},
   "source": [
    "##### выбор определенных столбцов + вычисление некоторых статистических характеристик (для столбцов с числовым типом)"
   ]
  },
  {
   "cell_type": "code",
   "execution_count": 41,
   "id": "563d77c7",
   "metadata": {},
   "outputs": [
    {
     "name": "stdout",
     "output_type": "stream",
     "text": [
      "+-------+------------------+------------------+\n",
      "|summary|               low|             close|\n",
      "+-------+------------------+------------------+\n",
      "|  count|           1726301|           1726301|\n",
      "|   mean|14557.808227578991|15032.714854330708|\n",
      "| stddev| 1072968.155843425|1109755.9294000661|\n",
      "|    min|             0.052|             0.071|\n",
      "|    max|      1.55151728E8|      1.58376592E8|\n",
      "+-------+------------------+------------------+\n",
      "\n"
     ]
    }
   ],
   "source": [
    "stock_data.select(['low', 'close']).describe().show()"
   ]
  },
  {
   "cell_type": "markdown",
   "id": "82637109",
   "metadata": {},
   "source": [
    "##### список названий столбцов"
   ]
  },
  {
   "cell_type": "code",
   "execution_count": 32,
   "id": "1aacadd0",
   "metadata": {},
   "outputs": [
    {
     "data": {
      "text/plain": [
       "['_c0',\n",
       " 'symbol',\n",
       " 'data',\n",
       " 'open',\n",
       " 'high',\n",
       " 'low',\n",
       " 'close',\n",
       " 'volume',\n",
       " 'adjusted',\n",
       " 'market.cap',\n",
       " 'sector',\n",
       " 'industry',\n",
       " 'exchange']"
      ]
     },
     "execution_count": 32,
     "metadata": {},
     "output_type": "execute_result"
    }
   ],
   "source": [
    "stock_data.columns"
   ]
  },
  {
   "cell_type": "markdown",
   "id": "a00775ac",
   "metadata": {},
   "source": [
    "##### число строк в наборе данных"
   ]
  },
  {
   "cell_type": "code",
   "execution_count": 33,
   "id": "a91f627f",
   "metadata": {},
   "outputs": [
    {
     "data": {
      "text/plain": [
       "1729034"
      ]
     },
     "execution_count": 33,
     "metadata": {},
     "output_type": "execute_result"
    }
   ],
   "source": [
    "stock_data.count()"
   ]
  },
  {
   "cell_type": "markdown",
   "id": "c2de4cfe",
   "metadata": {},
   "source": [
    "##### количество различных строк в наборе данных"
   ]
  },
  {
   "cell_type": "code",
   "execution_count": 37,
   "id": "7e2eda97",
   "metadata": {},
   "outputs": [
    {
     "data": {
      "text/plain": [
       "1729034"
      ]
     },
     "execution_count": 37,
     "metadata": {},
     "output_type": "execute_result"
    }
   ],
   "source": [
    "stock_data.distinct().count()"
   ]
  },
  {
   "cell_type": "markdown",
   "id": "4791c2bc",
   "metadata": {},
   "source": [
    "# Добавление, удаление и обновление столбцов"
   ]
  },
  {
   "cell_type": "markdown",
   "id": "ed375de1",
   "metadata": {},
   "source": [
    "Для добавления используется `withColumn(имя, данные)`"
   ]
  },
  {
   "cell_type": "code",
   "execution_count": 44,
   "id": "314eebec",
   "metadata": {},
   "outputs": [
    {
     "name": "stdout",
     "output_type": "stream",
     "text": [
      "+---+----------+--------+----------+\n",
      "|_c0|      data|exchange|      date|\n",
      "+---+----------+--------+----------+\n",
      "|  1|2019-09-12|  NASDAQ|2019-09-12|\n",
      "+---+----------+--------+----------+\n",
      "only showing top 1 row\n",
      "\n"
     ]
    }
   ],
   "source": [
    "stock_data = stock_data.withColumn('date', stock_data.data)\n",
    "stock_data.select(['_c0', 'data', 'exchange', 'date']).show(1)"
   ]
  },
  {
   "cell_type": "markdown",
   "id": "d073cdc3",
   "metadata": {},
   "source": [
    "Для переименования столбца используется `withColumnRenamed(столбец, его новое имя)`"
   ]
  },
  {
   "cell_type": "code",
   "execution_count": 52,
   "id": "2861dbe3",
   "metadata": {},
   "outputs": [
    {
     "name": "stdout",
     "output_type": "stream",
     "text": [
      "+-----+------+----------+----+----+----+-----+-------+--------+----------+-------------+--------------------+--------+----------+\n",
      "|index|symbol|      data|open|high| low|close| volume|adjusted|market.cap|       sector|            industry|exchange|      date|\n",
      "+-----+------+----------+----+----+----+-----+-------+--------+----------+-------------+--------------------+--------+----------+\n",
      "|    1|   TXG|2019-09-12|54.0|58.0|51.0|52.75|7326300|   52.75|    $9.31B|Capital Goods|Biotechnology: La...|  NASDAQ|2019-09-12|\n",
      "+-----+------+----------+----+----+----+-----+-------+--------+----------+-------------+--------------------+--------+----------+\n",
      "only showing top 1 row\n",
      "\n"
     ]
    }
   ],
   "source": [
    "stock_data = stock_data.withColumnRenamed('_c0', 'index')\n",
    "stock_data.show(1)"
   ]
  },
  {
   "cell_type": "markdown",
   "id": "0df14ea9",
   "metadata": {},
   "source": [
    "Удаление столбца с помощью `drop(имя столбца)`"
   ]
  },
  {
   "cell_type": "code",
   "execution_count": 53,
   "id": "fb1717e3",
   "metadata": {},
   "outputs": [
    {
     "name": "stdout",
     "output_type": "stream",
     "text": [
      "+-----+------+----------+----+----+----+-----+-------+--------+----------+-------------+--------------------+--------+\n",
      "|index|symbol|      data|open|high| low|close| volume|adjusted|market.cap|       sector|            industry|exchange|\n",
      "+-----+------+----------+----+----+----+-----+-------+--------+----------+-------------+--------------------+--------+\n",
      "|    1|   TXG|2019-09-12|54.0|58.0|51.0|52.75|7326300|   52.75|    $9.31B|Capital Goods|Biotechnology: La...|  NASDAQ|\n",
      "+-----+------+----------+----+----+----+-----+-------+--------+----------+-------------+--------------------+--------+\n",
      "only showing top 1 row\n",
      "\n"
     ]
    }
   ],
   "source": [
    "stock_data = stock_data.drop('date')\n",
    "stock_data.show(1)"
   ]
  },
  {
   "cell_type": "markdown",
   "id": "c5dcf055",
   "metadata": {},
   "source": [
    "##### задание"
   ]
  },
  {
   "cell_type": "code",
   "execution_count": 59,
   "id": "1d4dcc82",
   "metadata": {},
   "outputs": [
    {
     "name": "stdout",
     "output_type": "stream",
     "text": [
      "+---+---------+------+---------+-------------+--------------------+----------+----------+\n",
      "|_c0|     open|   low|     high|       sector|            industry|new_volume|      data|\n",
      "+---+---------+------+---------+-------------+--------------------+----------+----------+\n",
      "|  1|     54.0|  58.0|     51.0|Capital Goods|Biotechnology: La...|   7326300|2019-09-12|\n",
      "|  2|    52.75|54.355|49.150002|Capital Goods|Biotechnology: La...|   1025200|2019-09-13|\n",
      "|  3|52.450001|  56.0|52.009998|Capital Goods|Biotechnology: La...|    269900|2019-09-16|\n",
      "+---+---------+------+---------+-------------+--------------------+----------+----------+\n",
      "only showing top 3 rows\n",
      "\n"
     ]
    }
   ],
   "source": [
    "# drop\n",
    "stock_data_task = stock_data.drop('symbol', 'adjusted', \n",
    "                                   'market.cap', 'exchange', 'close')\n",
    "# rename\n",
    "stock_data_task = stock_data_task.withColumnRenamed('index', '_c0')\n",
    "\n",
    "# create new column\n",
    "stock_data_task = stock_data_task.withColumn('new_volume', stock_data_task.volume)\n",
    "stock_data_task = stock_data_task.drop('volume')\n",
    "\n",
    "# change data in both columns `high` and `low`\n",
    "stock_data_task = stock_data_task.withColumnRenamed('high', 'low_temp')\n",
    "stock_data_task = stock_data_task.withColumnRenamed('low', 'high')\n",
    "stock_data_task = stock_data_task.withColumnRenamed('low_temp', 'low')\n",
    "\n",
    "# move `data` to end\n",
    "stock_data_task = stock_data_task.withColumn('new_data', stock_data_task.data)\n",
    "stock_data_task = stock_data_task.drop('data')\n",
    "stock_data_task = stock_data_task.withColumnRenamed('new_data', 'data')\n",
    "\n",
    "# showing top 3 rows\n",
    "stock_data_task.show(3)"
   ]
  },
  {
   "cell_type": "markdown",
   "id": "e442e5a9",
   "metadata": {},
   "source": [
    "# Работа с пропущенными значениями"
   ]
  },
  {
   "cell_type": "code",
   "execution_count": null,
   "id": "5afa573d",
   "metadata": {},
   "outputs": [],
   "source": []
  },
  {
   "cell_type": "markdown",
   "id": "bbb71e31",
   "metadata": {},
   "source": [
    "# Запись и сохранение"
   ]
  },
  {
   "cell_type": "markdown",
   "id": "ea871337",
   "metadata": {},
   "source": []
  }
 ],
 "metadata": {
  "kernelspec": {
   "display_name": "Python 3",
   "language": "python",
   "name": "python3"
  },
  "language_info": {
   "codemirror_mode": {
    "name": "ipython",
    "version": 3
   },
   "file_extension": ".py",
   "mimetype": "text/x-python",
   "name": "python",
   "nbconvert_exporter": "python",
   "pygments_lexer": "ipython3",
   "version": "3.8.8"
  },
  "toc": {
   "base_numbering": 1,
   "nav_menu": {},
   "number_sections": true,
   "sideBar": true,
   "skip_h1_title": false,
   "title_cell": "Table of Contents",
   "title_sidebar": "Contents",
   "toc_cell": false,
   "toc_position": {},
   "toc_section_display": true,
   "toc_window_display": false
  }
 },
 "nbformat": 4,
 "nbformat_minor": 5
}
