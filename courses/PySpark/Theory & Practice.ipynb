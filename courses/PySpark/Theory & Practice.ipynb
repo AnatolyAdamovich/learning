{
 "cells": [
  {
   "cell_type": "markdown",
   "id": "1dcbaa17",
   "metadata": {},
   "source": [
    "# Spark Session\n",
    "Точка входа в PySpark - это `SparkSession`. Это некоторый способ инициализации базовой функциональности PySpark (Dataset, Dataframe, ...).  \n",
    "Внутри `SparkSession` создаются `SparkConfig` и `SparkContext` с некоторой конфигурацией, передаваемой в качестве параметра.\n",
    "Для создания `SparkSession` используется метод `builder()`, а также ряд дополнительных методов:\n",
    " - `getOrCreate()` - создать или вернуть существующую Spark-сессию\n",
    " - `appName()` - имя приложения\n",
    " - `master(\"local[x]\")` - передача имени кластера (yarn, mesos, local[x], где x - целое число, большее 0, указывающее на количество разделов, создаваемых при использовании Dataframe, Dataset, RDD; x можно установить равному количеству ядер ЦП)."
   ]
  },
  {
   "cell_type": "code",
   "execution_count": 1,
   "id": "6e188b5c",
   "metadata": {},
   "outputs": [
    {
     "data": {
      "text/html": [
       "\n",
       "            <div>\n",
       "                <p><b>SparkSession - in-memory</b></p>\n",
       "                \n",
       "        <div>\n",
       "            <p><b>SparkContext</b></p>\n",
       "\n",
       "            <p><a href=\"http://LAPTOP-0TIS9VBD:4040\">Spark UI</a></p>\n",
       "\n",
       "            <dl>\n",
       "              <dt>Version</dt>\n",
       "                <dd><code>v3.3.0</code></dd>\n",
       "              <dt>Master</dt>\n",
       "                <dd><code>local[4]</code></dd>\n",
       "              <dt>AppName</dt>\n",
       "                <dd><code>stepik</code></dd>\n",
       "            </dl>\n",
       "        </div>\n",
       "        \n",
       "            </div>\n",
       "        "
      ],
      "text/plain": [
       "<pyspark.sql.session.SparkSession at 0x1e87fd4f100>"
      ]
     },
     "execution_count": 1,
     "metadata": {},
     "output_type": "execute_result"
    }
   ],
   "source": [
    "from pyspark.sql import SparkSession\n",
    "spark = SparkSession.builder.master('local[4]')\\\n",
    "                    .appName('stepik').getOrCreate()\n",
    "spark"
   ]
  },
  {
   "cell_type": "markdown",
   "id": "74bb737b",
   "metadata": {},
   "source": [
    "# Чтение/просмотр данных\n",
    "* Можно читать данные самых разных форматов с помощью функции `read`.\n",
    "* Для отображения набора используется `show()`"
   ]
  },
  {
   "cell_type": "code",
   "execution_count": 7,
   "id": "ccc46fe2",
   "metadata": {},
   "outputs": [
    {
     "data": {
      "text/plain": [
       "DataFrame[_corrupt_record: string, petalLength: double, petalWidth: double, sepalLength: double, sepalWidth: double, species: string]"
      ]
     },
     "execution_count": 7,
     "metadata": {},
     "output_type": "execute_result"
    }
   ],
   "source": [
    "iris_data = spark.read.json('data/iris.json')\n",
    "iris_data"
   ]
  },
  {
   "cell_type": "code",
   "execution_count": 11,
   "id": "da5855ca",
   "metadata": {},
   "outputs": [
    {
     "name": "stdout",
     "output_type": "stream",
     "text": [
      "+---------------+-----------+----------+-----------+----------+-------+\n",
      "|_corrupt_record|petalLength|petalWidth|sepalLength|sepalWidth|species|\n",
      "+---------------+-----------+----------+-----------+----------+-------+\n",
      "|              [|       null|      null|       null|      null|   null|\n",
      "|           null|        1.4|       0.2|        5.1|       3.5| setosa|\n",
      "|           null|        1.4|       0.2|        4.9|       3.0| setosa|\n",
      "|           null|        1.3|       0.2|        4.7|       3.2| setosa|\n",
      "|           null|        1.5|       0.2|        4.6|       3.1| setosa|\n",
      "|           null|        1.4|       0.2|        5.0|       3.6| setosa|\n",
      "|           null|        1.7|       0.4|        5.4|       3.9| setosa|\n",
      "|           null|        1.4|       0.3|        4.6|       3.4| setosa|\n",
      "|           null|        1.5|       0.2|        5.0|       3.4| setosa|\n",
      "|           null|        1.4|       0.2|        4.4|       2.9| setosa|\n",
      "|           null|        1.5|       0.1|        4.9|       3.1| setosa|\n",
      "|           null|        1.5|       0.2|        5.4|       3.7| setosa|\n",
      "|           null|        1.6|       0.2|        4.8|       3.4| setosa|\n",
      "|           null|        1.4|       0.1|        4.8|       3.0| setosa|\n",
      "|           null|        1.1|       0.1|        4.3|       3.0| setosa|\n",
      "|           null|        1.2|       0.2|        5.8|       4.0| setosa|\n",
      "|           null|        1.5|       0.4|        5.7|       4.4| setosa|\n",
      "|           null|        1.3|       0.4|        5.4|       3.9| setosa|\n",
      "|           null|        1.4|       0.3|        5.1|       3.5| setosa|\n",
      "|           null|        1.7|       0.3|        5.7|       3.8| setosa|\n",
      "+---------------+-----------+----------+-----------+----------+-------+\n",
      "only showing top 20 rows\n",
      "\n"
     ]
    }
   ],
   "source": [
    "iris_data.show()"
   ]
  },
  {
   "cell_type": "markdown",
   "id": "81fd0ef2",
   "metadata": {},
   "source": [
    "* С помощью функции `printSchema()` можно отобразить структуру набора данных"
   ]
  },
  {
   "cell_type": "code",
   "execution_count": 2,
   "id": "7e052c97",
   "metadata": {},
   "outputs": [
    {
     "name": "stdout",
     "output_type": "stream",
     "text": [
      "root\n",
      " |-- _c0: string (nullable = true)\n",
      " |-- symbol: string (nullable = true)\n",
      " |-- date: string (nullable = true)\n",
      " |-- open: string (nullable = true)\n",
      " |-- high: string (nullable = true)\n",
      " |-- low: string (nullable = true)\n",
      " |-- close: string (nullable = true)\n",
      " |-- volume: string (nullable = true)\n",
      " |-- adjusted: string (nullable = true)\n",
      " |-- market.cap: string (nullable = true)\n",
      " |-- sector: string (nullable = true)\n",
      " |-- industry: string (nullable = true)\n",
      " |-- exchange: string (nullable = true)\n",
      "\n"
     ]
    }
   ],
   "source": [
    "stock_data = spark.read.csv('data/stocks_price_final.csv',\n",
    "                            sep=',',\n",
    "                            header=True)\n",
    "stock_data.printSchema()"
   ]
  },
  {
   "cell_type": "code",
   "execution_count": 15,
   "id": "c265ab8d",
   "metadata": {},
   "outputs": [
    {
     "name": "stdout",
     "output_type": "stream",
     "text": [
      "+---+------+----------+---------+------+---------+---------+-------+---------+----------+-------------+--------------------+--------+\n",
      "|_c0|symbol|      date|     open|  high|      low|    close| volume| adjusted|market.cap|       sector|            industry|exchange|\n",
      "+---+------+----------+---------+------+---------+---------+-------+---------+----------+-------------+--------------------+--------+\n",
      "|  1|   TXG|2019-09-12|       54|    58|       51|    52.75|7326300|    52.75|    $9.31B|Capital Goods|Biotechnology: La...|  NASDAQ|\n",
      "|  2|   TXG|2019-09-13|    52.75|54.355|49.150002|    52.27|1025200|    52.27|    $9.31B|Capital Goods|Biotechnology: La...|  NASDAQ|\n",
      "|  3|   TXG|2019-09-16|52.450001|    56|52.009998|55.200001| 269900|55.200001|    $9.31B|Capital Goods|Biotechnology: La...|  NASDAQ|\n",
      "+---+------+----------+---------+------+---------+---------+-------+---------+----------+-------------+--------------------+--------+\n",
      "only showing top 3 rows\n",
      "\n"
     ]
    }
   ],
   "source": [
    "stock_data.show(n=3)"
   ]
  },
  {
   "cell_type": "markdown",
   "id": "bcaa236c",
   "metadata": {},
   "source": [
    "* Можно задать структуру набора данных данных самому (имя, тип, допускается ли наличие Null и метаданные)"
   ]
  },
  {
   "cell_type": "code",
   "execution_count": 3,
   "id": "3544cb62",
   "metadata": {},
   "outputs": [
    {
     "name": "stdout",
     "output_type": "stream",
     "text": [
      "root\n",
      " |-- _c0: integer (nullable = true)\n",
      " |-- symbol: string (nullable = true)\n",
      " |-- data: date (nullable = true)\n",
      " |-- open: double (nullable = true)\n",
      " |-- high: double (nullable = true)\n",
      " |-- low: double (nullable = true)\n",
      " |-- close: double (nullable = true)\n",
      " |-- volume: integer (nullable = true)\n",
      " |-- adjusted: double (nullable = true)\n",
      " |-- market.cap: string (nullable = true)\n",
      " |-- sector: string (nullable = true)\n",
      " |-- industry: string (nullable = true)\n",
      " |-- exchange: string (nullable = true)\n",
      "\n"
     ]
    }
   ],
   "source": [
    "from pyspark.sql.types import *\n",
    "# StructField, StructType, ItegerType()\n",
    "\n",
    "#StructField?\n",
    "custom_fields = [\n",
    "    StructField(name='_c0', dataType=IntegerType(), nullable=True),\n",
    "    StructField(name='symbol', dataType=StringType(), nullable=True),\n",
    "    StructField(name='data', dataType=DateType(), nullable=True),\n",
    "    StructField(name='open', dataType=DoubleType(), nullable=True),\n",
    "    StructField(name='high', dataType=DoubleType(), nullable=True),\n",
    "    StructField(name='low', dataType=DoubleType(), nullable=True),\n",
    "    StructField(name='close', dataType=DoubleType(), nullable=True),\n",
    "    StructField(name='volume', dataType=IntegerType(), nullable=True),\n",
    "    StructField(name='adjusted', dataType=DoubleType(), nullable=True),\n",
    "    StructField(name='market.cap', dataType=StringType(), nullable=True),\n",
    "    StructField(name='sector', dataType=StringType(), nullable=True),\n",
    "    StructField(name='industry', dataType=StringType(), nullable=True),\n",
    "    StructField(name='exchange', dataType=StringType(), nullable=True)\n",
    "]\n",
    "\n",
    "custom_schema = StructType(fields=custom_fields)\n",
    "stock_data = spark.read.csv('data/stocks_price_final.csv',\n",
    "                            sep=',',\n",
    "                            header=True,\n",
    "                            schema=custom_schema)\n",
    "stock_data.printSchema()"
   ]
  },
  {
   "cell_type": "markdown",
   "id": "63d89cce",
   "metadata": {},
   "source": [
    "# Методы инспекции данных"
   ]
  },
  {
   "cell_type": "markdown",
   "id": "c9a40ac5",
   "metadata": {},
   "source": [
    "##### схема данных в виде StructType"
   ]
  },
  {
   "cell_type": "code",
   "execution_count": 27,
   "id": "db0fd0d5",
   "metadata": {},
   "outputs": [
    {
     "data": {
      "text/plain": [
       "StructType([StructField('_c0', IntegerType(), True), StructField('symbol', StringType(), True), StructField('data', DateType(), True), StructField('open', DoubleType(), True), StructField('high', DoubleType(), True), StructField('low', DoubleType(), True), StructField('close', DoubleType(), True), StructField('volume', IntegerType(), True), StructField('adjusted', DoubleType(), True), StructField('market.cap', StringType(), True), StructField('sector', StringType(), True), StructField('industry', StringType(), True), StructField('exchange', StringType(), True)])"
      ]
     },
     "execution_count": 27,
     "metadata": {},
     "output_type": "execute_result"
    }
   ],
   "source": [
    "stock_data.schema"
   ]
  },
  {
   "cell_type": "markdown",
   "id": "145f5730",
   "metadata": {},
   "source": [
    "##### список кортежей с именами столбцов и типами данных"
   ]
  },
  {
   "cell_type": "code",
   "execution_count": 28,
   "id": "f3050ce7",
   "metadata": {},
   "outputs": [
    {
     "data": {
      "text/plain": [
       "[('_c0', 'int'),\n",
       " ('symbol', 'string'),\n",
       " ('data', 'date'),\n",
       " ('open', 'double'),\n",
       " ('high', 'double'),\n",
       " ('low', 'double'),\n",
       " ('close', 'double'),\n",
       " ('volume', 'int'),\n",
       " ('adjusted', 'double'),\n",
       " ('market.cap', 'string'),\n",
       " ('sector', 'string'),\n",
       " ('industry', 'string'),\n",
       " ('exchange', 'string')]"
      ]
     },
     "execution_count": 28,
     "metadata": {},
     "output_type": "execute_result"
    }
   ],
   "source": [
    "stock_data.dtypes"
   ]
  },
  {
   "cell_type": "markdown",
   "id": "ed9be98d",
   "metadata": {},
   "source": [
    "##### возвращение строк в виде спискА"
   ]
  },
  {
   "cell_type": "code",
   "execution_count": 29,
   "id": "b3a4a32a",
   "metadata": {},
   "outputs": [
    {
     "data": {
      "text/plain": [
       "[Row(_c0=1, symbol='TXG', data=datetime.date(2019, 9, 12), open=54.0, high=58.0, low=51.0, close=52.75, volume=7326300, adjusted=52.75, market.cap='$9.31B', sector='Capital Goods', industry='Biotechnology: Laboratory Analytical Instruments', exchange='NASDAQ'),\n",
       " Row(_c0=2, symbol='TXG', data=datetime.date(2019, 9, 13), open=52.75, high=54.355, low=49.150002, close=52.27, volume=1025200, adjusted=52.27, market.cap='$9.31B', sector='Capital Goods', industry='Biotechnology: Laboratory Analytical Instruments', exchange='NASDAQ')]"
      ]
     },
     "execution_count": 29,
     "metadata": {},
     "output_type": "execute_result"
    }
   ],
   "source": [
    "stock_data.head(2) # 2 rows"
   ]
  },
  {
   "cell_type": "markdown",
   "id": "f86830ff",
   "metadata": {},
   "source": [
    "##### возвращение первой строки данных"
   ]
  },
  {
   "cell_type": "code",
   "execution_count": 30,
   "id": "64ed5a9c",
   "metadata": {},
   "outputs": [
    {
     "data": {
      "text/plain": [
       "Row(_c0=1, symbol='TXG', data=datetime.date(2019, 9, 12), open=54.0, high=58.0, low=51.0, close=52.75, volume=7326300, adjusted=52.75, market.cap='$9.31B', sector='Capital Goods', industry='Biotechnology: Laboratory Analytical Instruments', exchange='NASDAQ')"
      ]
     },
     "execution_count": 30,
     "metadata": {},
     "output_type": "execute_result"
    }
   ],
   "source": [
    "stock_data.first()"
   ]
  },
  {
   "cell_type": "markdown",
   "id": "41294de9",
   "metadata": {},
   "source": [
    "##### выбор определенных столбцов + вычисление некоторых статистических характеристик (для столбцов с числовым типом)"
   ]
  },
  {
   "cell_type": "code",
   "execution_count": 41,
   "id": "563d77c7",
   "metadata": {},
   "outputs": [
    {
     "name": "stdout",
     "output_type": "stream",
     "text": [
      "+-------+------------------+------------------+\n",
      "|summary|               low|             close|\n",
      "+-------+------------------+------------------+\n",
      "|  count|           1726301|           1726301|\n",
      "|   mean|14557.808227578991|15032.714854330708|\n",
      "| stddev| 1072968.155843425|1109755.9294000661|\n",
      "|    min|             0.052|             0.071|\n",
      "|    max|      1.55151728E8|      1.58376592E8|\n",
      "+-------+------------------+------------------+\n",
      "\n"
     ]
    }
   ],
   "source": [
    "stock_data.select(['low', 'close']).describe().show()"
   ]
  },
  {
   "cell_type": "markdown",
   "id": "82637109",
   "metadata": {},
   "source": [
    "##### список названий столбцов"
   ]
  },
  {
   "cell_type": "code",
   "execution_count": 32,
   "id": "1aacadd0",
   "metadata": {},
   "outputs": [
    {
     "data": {
      "text/plain": [
       "['_c0',\n",
       " 'symbol',\n",
       " 'data',\n",
       " 'open',\n",
       " 'high',\n",
       " 'low',\n",
       " 'close',\n",
       " 'volume',\n",
       " 'adjusted',\n",
       " 'market.cap',\n",
       " 'sector',\n",
       " 'industry',\n",
       " 'exchange']"
      ]
     },
     "execution_count": 32,
     "metadata": {},
     "output_type": "execute_result"
    }
   ],
   "source": [
    "stock_data.columns"
   ]
  },
  {
   "cell_type": "markdown",
   "id": "a00775ac",
   "metadata": {},
   "source": [
    "##### число строк в наборе данных"
   ]
  },
  {
   "cell_type": "code",
   "execution_count": 33,
   "id": "a91f627f",
   "metadata": {},
   "outputs": [
    {
     "data": {
      "text/plain": [
       "1729034"
      ]
     },
     "execution_count": 33,
     "metadata": {},
     "output_type": "execute_result"
    }
   ],
   "source": [
    "stock_data.count()"
   ]
  },
  {
   "cell_type": "markdown",
   "id": "c2de4cfe",
   "metadata": {},
   "source": [
    "##### количество различных строк в наборе данных"
   ]
  },
  {
   "cell_type": "code",
   "execution_count": 37,
   "id": "7e2eda97",
   "metadata": {},
   "outputs": [
    {
     "data": {
      "text/plain": [
       "1729034"
      ]
     },
     "execution_count": 37,
     "metadata": {},
     "output_type": "execute_result"
    }
   ],
   "source": [
    "stock_data.distinct().count()"
   ]
  },
  {
   "cell_type": "markdown",
   "id": "4791c2bc",
   "metadata": {},
   "source": [
    "# Добавление, удаление и обновление столбцов"
   ]
  },
  {
   "cell_type": "markdown",
   "id": "ed375de1",
   "metadata": {},
   "source": [
    "Для добавления используется `withColumn(имя, данные)`"
   ]
  },
  {
   "cell_type": "code",
   "execution_count": 44,
   "id": "314eebec",
   "metadata": {},
   "outputs": [
    {
     "name": "stdout",
     "output_type": "stream",
     "text": [
      "+---+----------+--------+----------+\n",
      "|_c0|      data|exchange|      date|\n",
      "+---+----------+--------+----------+\n",
      "|  1|2019-09-12|  NASDAQ|2019-09-12|\n",
      "+---+----------+--------+----------+\n",
      "only showing top 1 row\n",
      "\n"
     ]
    }
   ],
   "source": [
    "stock_data = stock_data.withColumn('date', stock_data.data)\n",
    "stock_data.select(['_c0', 'data', 'exchange', 'date']).show(1)"
   ]
  },
  {
   "cell_type": "markdown",
   "id": "d073cdc3",
   "metadata": {},
   "source": [
    "Для переименования столбца используется `withColumnRenamed(столбец, его новое имя)`"
   ]
  },
  {
   "cell_type": "code",
   "execution_count": 52,
   "id": "2861dbe3",
   "metadata": {},
   "outputs": [
    {
     "name": "stdout",
     "output_type": "stream",
     "text": [
      "+-----+------+----------+----+----+----+-----+-------+--------+----------+-------------+--------------------+--------+----------+\n",
      "|index|symbol|      data|open|high| low|close| volume|adjusted|market.cap|       sector|            industry|exchange|      date|\n",
      "+-----+------+----------+----+----+----+-----+-------+--------+----------+-------------+--------------------+--------+----------+\n",
      "|    1|   TXG|2019-09-12|54.0|58.0|51.0|52.75|7326300|   52.75|    $9.31B|Capital Goods|Biotechnology: La...|  NASDAQ|2019-09-12|\n",
      "+-----+------+----------+----+----+----+-----+-------+--------+----------+-------------+--------------------+--------+----------+\n",
      "only showing top 1 row\n",
      "\n"
     ]
    }
   ],
   "source": [
    "stock_data = stock_data.withColumnRenamed('_c0', 'index')\n",
    "stock_data.show(1)"
   ]
  },
  {
   "cell_type": "markdown",
   "id": "0df14ea9",
   "metadata": {},
   "source": [
    "Удаление столбца с помощью `drop(имя столбца)`"
   ]
  },
  {
   "cell_type": "code",
   "execution_count": 53,
   "id": "fb1717e3",
   "metadata": {},
   "outputs": [
    {
     "name": "stdout",
     "output_type": "stream",
     "text": [
      "+-----+------+----------+----+----+----+-----+-------+--------+----------+-------------+--------------------+--------+\n",
      "|index|symbol|      data|open|high| low|close| volume|adjusted|market.cap|       sector|            industry|exchange|\n",
      "+-----+------+----------+----+----+----+-----+-------+--------+----------+-------------+--------------------+--------+\n",
      "|    1|   TXG|2019-09-12|54.0|58.0|51.0|52.75|7326300|   52.75|    $9.31B|Capital Goods|Biotechnology: La...|  NASDAQ|\n",
      "+-----+------+----------+----+----+----+-----+-------+--------+----------+-------------+--------------------+--------+\n",
      "only showing top 1 row\n",
      "\n"
     ]
    }
   ],
   "source": [
    "stock_data = stock_data.drop('date')\n",
    "stock_data.show(1)"
   ]
  },
  {
   "cell_type": "markdown",
   "id": "c5dcf055",
   "metadata": {},
   "source": [
    "##### задание"
   ]
  },
  {
   "cell_type": "code",
   "execution_count": 59,
   "id": "1d4dcc82",
   "metadata": {},
   "outputs": [
    {
     "name": "stdout",
     "output_type": "stream",
     "text": [
      "+---+---------+------+---------+-------------+--------------------+----------+----------+\n",
      "|_c0|     open|   low|     high|       sector|            industry|new_volume|      data|\n",
      "+---+---------+------+---------+-------------+--------------------+----------+----------+\n",
      "|  1|     54.0|  58.0|     51.0|Capital Goods|Biotechnology: La...|   7326300|2019-09-12|\n",
      "|  2|    52.75|54.355|49.150002|Capital Goods|Biotechnology: La...|   1025200|2019-09-13|\n",
      "|  3|52.450001|  56.0|52.009998|Capital Goods|Biotechnology: La...|    269900|2019-09-16|\n",
      "+---+---------+------+---------+-------------+--------------------+----------+----------+\n",
      "only showing top 3 rows\n",
      "\n"
     ]
    }
   ],
   "source": [
    "# drop\n",
    "stock_data_task = stock_data.drop('symbol', 'adjusted', \n",
    "                                   'market.cap', 'exchange', 'close')\n",
    "# rename\n",
    "stock_data_task = stock_data_task.withColumnRenamed('index', '_c0')\n",
    "\n",
    "# create new column\n",
    "stock_data_task = stock_data_task.withColumn('new_volume', stock_data_task.volume)\n",
    "stock_data_task = stock_data_task.drop('volume')\n",
    "\n",
    "# change data in both columns `high` and `low`\n",
    "stock_data_task = stock_data_task.withColumnRenamed('high', 'low_temp')\n",
    "stock_data_task = stock_data_task.withColumnRenamed('low', 'high')\n",
    "stock_data_task = stock_data_task.withColumnRenamed('low_temp', 'low')\n",
    "\n",
    "# move `data` to end\n",
    "stock_data_task = stock_data_task.withColumn('new_data', stock_data_task.data)\n",
    "stock_data_task = stock_data_task.drop('data')\n",
    "stock_data_task = stock_data_task.withColumnRenamed('new_data', 'data')\n",
    "\n",
    "# showing top 3 rows\n",
    "stock_data_task.show(3)"
   ]
  },
  {
   "cell_type": "markdown",
   "id": "e442e5a9",
   "metadata": {},
   "source": [
    "# Работа с пропущенными значениями"
   ]
  },
  {
   "cell_type": "code",
   "execution_count": 19,
   "id": "5afa573d",
   "metadata": {},
   "outputs": [
    {
     "data": {
      "text/plain": [
       "1726301"
      ]
     },
     "execution_count": 19,
     "metadata": {},
     "output_type": "execute_result"
    }
   ],
   "source": [
    "# удаление строк с пропущенными значениями\n",
    "stock_data.select(['_c0', 'high']).na.drop().count()"
   ]
  },
  {
   "cell_type": "code",
   "execution_count": 23,
   "id": "c5e3903e",
   "metadata": {},
   "outputs": [
    {
     "name": "stdout",
     "output_type": "stream",
     "text": [
      "+---+------+----------+---------+------+---------+---------+-------+---------+----------+-------------+--------------------+--------+------------+\n",
      "|_c0|symbol|      data|     open|  high|      low|    close| volume| adjusted|market.cap|       sector|            industry|exchange|high_imputed|\n",
      "+---+------+----------+---------+------+---------+---------+-------+---------+----------+-------------+--------------------+--------+------------+\n",
      "|  1|   TXG|2019-09-12|     54.0|  58.0|     51.0|    52.75|7326300|    52.75|    $9.31B|Capital Goods|Biotechnology: La...|  NASDAQ|        58.0|\n",
      "|  2|   TXG|2019-09-13|    52.75|54.355|49.150002|    52.27|1025200|    52.27|    $9.31B|Capital Goods|Biotechnology: La...|  NASDAQ|      54.355|\n",
      "|  3|   TXG|2019-09-16|52.450001|  56.0|52.009998|55.200001| 269900|55.200001|    $9.31B|Capital Goods|Biotechnology: La...|  NASDAQ|        56.0|\n",
      "+---+------+----------+---------+------+---------+---------+-------+---------+----------+-------------+--------------------+--------+------------+\n",
      "only showing top 3 rows\n",
      "\n"
     ]
    }
   ],
   "source": [
    "# замена на медиану\n",
    "from pyspark.ml.feature import Imputer\n",
    "imp = Imputer(inputCol='high',\n",
    "              outputCol='high_imputed').setStrategy('median')\n",
    "imp.fit(stock_data).transform(stock_data).show(3)"
   ]
  },
  {
   "cell_type": "code",
   "execution_count": 26,
   "id": "ebe01910",
   "metadata": {},
   "outputs": [
    {
     "data": {
      "text/plain": [
       "3827"
      ]
     },
     "execution_count": 26,
     "metadata": {},
     "output_type": "execute_result"
    }
   ],
   "source": [
    "number_of_rows_without_NaN = stock_data.withColumnRenamed('market.cap', 'market')\\\n",
    "                             .na.drop().count()\n",
    "number_of_rows = stock_data.count()\n",
    "\n",
    "number_of_rows - number_of_rows_without_NaN"
   ]
  },
  {
   "cell_type": "markdown",
   "id": "cc3483e0",
   "metadata": {},
   "source": [
    "# Получение данных (запросы)"
   ]
  },
  {
   "cell_type": "markdown",
   "id": "c40d841a",
   "metadata": {},
   "source": [
    "##### выбор одного или нескольких столбцов"
   ]
  },
  {
   "cell_type": "code",
   "execution_count": 32,
   "id": "f69b2af5",
   "metadata": {},
   "outputs": [
    {
     "name": "stdout",
     "output_type": "stream",
     "text": [
      "+------+---------+----------+\n",
      "|  high|      low|      data|\n",
      "+------+---------+----------+\n",
      "|  58.0|     51.0|2019-09-12|\n",
      "|54.355|49.150002|2019-09-13|\n",
      "|  56.0|52.009998|2019-09-16|\n",
      "+------+---------+----------+\n",
      "only showing top 3 rows\n",
      "\n"
     ]
    }
   ],
   "source": [
    "stock_data.select(['high', 'low', 'data']).show(3)"
   ]
  },
  {
   "cell_type": "markdown",
   "id": "ebd96b58",
   "metadata": {},
   "source": [
    "##### фильтрование данных на основе условия (или нескольких условий)"
   ]
  },
  {
   "cell_type": "code",
   "execution_count": 38,
   "id": "45c6b3f8",
   "metadata": {},
   "outputs": [
    {
     "data": {
      "text/plain": [
       "73369"
      ]
     },
     "execution_count": 38,
     "metadata": {},
     "output_type": "execute_result"
    }
   ],
   "source": [
    "from pyspark.sql.functions import col, lit\n",
    "# col('column_name') возвращает столбец исходных данных\n",
    "# lit('constant') возвращает столбец с константой, указанной в скобках\n",
    "\n",
    "stock_data.filter( (col('low') >= lit('54')) & (col('data') < lit('2019-05-01'))).count()"
   ]
  },
  {
   "cell_type": "markdown",
   "id": "fce0c1e7",
   "metadata": {},
   "source": [
    "##### проверка на принадлежность диапазону"
   ]
  },
  {
   "cell_type": "code",
   "execution_count": 40,
   "id": "6cfeed24",
   "metadata": {},
   "outputs": [
    {
     "data": {
      "text/plain": [
       "142632"
      ]
     },
     "execution_count": 40,
     "metadata": {},
     "output_type": "execute_result"
    }
   ],
   "source": [
    "stock_data.filter(stock_data.adjusted.between(100, 500)).count()"
   ]
  },
  {
   "cell_type": "markdown",
   "id": "d861461a",
   "metadata": {},
   "source": [
    "###### 1 или 0 в зависимости от условия"
   ]
  },
  {
   "cell_type": "code",
   "execution_count": 45,
   "id": "c6f89b2b",
   "metadata": {},
   "outputs": [
    {
     "name": "stdout",
     "output_type": "stream",
     "text": [
      "+---------+---------+---------------------------------------------+\n",
      "|    close|     open|CASE WHEN (adjusted >= 300) THEN 1 ELSE 0 END|\n",
      "+---------+---------+---------------------------------------------+\n",
      "|    52.75|     54.0|                                            0|\n",
      "|    52.27|    52.75|                                            0|\n",
      "|55.200001|52.450001|                                            0|\n",
      "|56.779999|56.209999|                                            0|\n",
      "|     62.0|56.849998|                                            0|\n",
      "|61.119999|62.810001|                                            0|\n",
      "|     60.5|61.709999|                                            0|\n",
      "|60.330002|60.220001|                                            0|\n",
      "|54.299999|     61.0|                                            0|\n",
      "|52.759998|54.459999|                                            0|\n",
      "|49.990002|52.779999|                                            0|\n",
      "|51.029999|51.130001|                                            0|\n",
      "|50.400002|51.049999|                                            0|\n",
      "|47.029999|50.509998|                                            0|\n",
      "|    46.07|46.779999|                                            0|\n",
      "|48.119999|    46.77|                                            0|\n",
      "|51.450001|     48.0|                                            0|\n",
      "|50.360001|52.099998|                                            0|\n",
      "|49.549999|     50.0|                                            0|\n",
      "|50.009998|49.630001|                                            0|\n",
      "+---------+---------+---------------------------------------------+\n",
      "only showing top 20 rows\n",
      "\n"
     ]
    }
   ],
   "source": [
    "from pyspark.sql.functions import when\n",
    "\n",
    "stock_data.select('close', 'open', when(stock_data.adjusted >= 300, 1).otherwise(0)).show()"
   ]
  },
  {
   "cell_type": "markdown",
   "id": "b9169bf3",
   "metadata": {},
   "source": [
    "###### извлечение строк, подходящих под паттерн"
   ]
  },
  {
   "cell_type": "code",
   "execution_count": 49,
   "id": "e5b97c06",
   "metadata": {},
   "outputs": [
    {
     "name": "stdout",
     "output_type": "stream",
     "text": [
      "+--------------------+-------------------------------------+\n",
      "|              sector|Колонка sector начинается с B или с C|\n",
      "+--------------------+-------------------------------------+\n",
      "|         Health Care|                                false|\n",
      "|       Capital Goods|                                 true|\n",
      "|Consumer Non-Dura...|                                 true|\n",
      "|    Public Utilities|                                false|\n",
      "|   Consumer Durables|                                 true|\n",
      "|             Finance|                                false|\n",
      "|      Transportation|                                false|\n",
      "|       Miscellaneous|                                false|\n",
      "|   Consumer Services|                                 true|\n",
      "|              Energy|                                false|\n",
      "|    Basic Industries|                                 true|\n",
      "|          Technology|                                false|\n",
      "+--------------------+-------------------------------------+\n",
      "\n"
     ]
    }
   ],
   "source": [
    "stock_data.select('sector',\n",
    "                  stock_data.sector.rlike('^[B,C]').alias('Колонка sector начинается с B или с C')\n",
    "                 ).distinct().show()"
   ]
  },
  {
   "cell_type": "markdown",
   "id": "3a587517",
   "metadata": {},
   "source": [
    "###### группировка данных по столбцу + агрегирующие функции"
   ]
  },
  {
   "cell_type": "code",
   "execution_count": 51,
   "id": "59a2cedc",
   "metadata": {},
   "outputs": [
    {
     "name": "stdout",
     "output_type": "stream",
     "text": [
      "+--------------------+------------------+\n",
      "|            industry|     avg(adjusted)|\n",
      "+--------------------+------------------+\n",
      "|Finance/Investors...| 4.991354066964286|\n",
      "|       Miscellaneous|16.148959322959186|\n",
      "|Investment Banker...| 58.15783725890326|\n",
      "|   Food Distributors| 42.91047608357858|\n",
      "|Miscellaneous man...|15.369818847193876|\n",
      "|        Broadcasting| 24.69910202962527|\n",
      "|Agricultural Chem...|21.635093418154764|\n",
      "|Biotechnology: Bi...|24.745079978273193|\n",
      "|Other Specialty S...| 84.55525036482346|\n",
      "|Biotechnology: El...| 33.21022605613577|\n",
      "|Other Consumer Se...| 43.43498980879015|\n",
      "|Electric Utilitie...| 40.39245735242019|\n",
      "|     Specialty Foods| 64.18661875197692|\n",
      "|    Plastic Products|31.407765850921646|\n",
      "|        Water Supply|40.173327914876424|\n",
      "|               Banks| 21.02921007344001|\n",
      "|Farming/Seeds/Mil...|27.022539238958867|\n",
      "|Medical/Nursing S...| 70.77964412074782|\n",
      "|Marine Transporta...|20.419158656223214|\n",
      "|Biotechnology: La...|102.24022548951916|\n",
      "+--------------------+------------------+\n",
      "only showing top 20 rows\n",
      "\n"
     ]
    }
   ],
   "source": [
    "import pyspark.sql.functions as f\n",
    "\n",
    "stock_data.select(['industry', 'adjusted'])\\\n",
    "          .groupBy('industry').mean().show()"
   ]
  },
  {
   "cell_type": "code",
   "execution_count": 55,
   "id": "7176d050",
   "metadata": {},
   "outputs": [
    {
     "name": "stdout",
     "output_type": "stream",
     "text": [
      "+--------------------+--------------+--------------+------------------+\n",
      "|              sector|Min цена акций|Max цена акций|Average цена акций|\n",
      "+--------------------+--------------+--------------+------------------+\n",
      "|       Miscellaneous|        0.1361|   1035.829956| 51.80973033632307|\n",
      "|         Health Care|         0.071|      187000.0|118.97394778016259|\n",
      "|    Public Utilities|         0.325|     280.67395|34.730155685004625|\n",
      "|              Energy|          0.09|    879.057007|23.684714263000867|\n",
      "|Consumer Non-Dura...|          0.12|    664.130005| 42.81762456569038|\n",
      "|             Finance|          0.27|   1341.079956|37.100285227180336|\n",
      "|    Basic Industries|          0.23|  1.57249392E8|263865.51070311887|\n",
      "|       Capital Goods|     -1.230099|    4037.77002| 59.97512253879277|\n",
      "|          Technology|          0.13|        2736.0| 49.25234033754473|\n",
      "|   Consumer Services|         0.134|      19843.75|54.361878278461404|\n",
      "|   Consumer Durables|          0.31|      118750.0| 389.6417639493616|\n",
      "|      Transportation|          0.08|    274.040009| 36.80231922791238|\n",
      "+--------------------+--------------+--------------+------------------+\n",
      "\n"
     ]
    }
   ],
   "source": [
    "stock_data.filter(col('data') >= lit('2019-01-02'))\\\n",
    "          .groupBy('sector')\\\n",
    "          .agg(f.min('adjusted').alias('Min цена акций'),\n",
    "               f.max('adjusted').alias('Max цена акций'),\n",
    "               f.avg('adjusted').alias('Average цена акций')).show()"
   ]
  },
  {
   "cell_type": "markdown",
   "id": "3f232db8",
   "metadata": {},
   "source": [
    "### Задание на получение данных"
   ]
  },
  {
   "cell_type": "code",
   "execution_count": 65,
   "id": "34217713",
   "metadata": {},
   "outputs": [
    {
     "name": "stdout",
     "output_type": "stream",
     "text": [
      "root\n",
      " |-- age: integer (nullable = true)\n",
      " |-- job: string (nullable = true)\n",
      " |-- marital: string (nullable = true)\n",
      " |-- education: string (nullable = true)\n",
      " |-- default: string (nullable = true)\n",
      " |-- balance: integer (nullable = true)\n",
      " |-- housing: string (nullable = true)\n",
      " |-- loan: string (nullable = true)\n",
      " |-- contact: string (nullable = true)\n",
      " |-- day: integer (nullable = true)\n",
      " |-- month: string (nullable = true)\n",
      " |-- duration: integer (nullable = true)\n",
      " |-- campaign: integer (nullable = true)\n",
      " |-- pdays: integer (nullable = true)\n",
      " |-- previous: integer (nullable = true)\n",
      " |-- poutcome: string (nullable = true)\n",
      " |-- y: string (nullable = true)\n",
      "\n"
     ]
    }
   ],
   "source": [
    "bank_data = spark.read.csv('data/bank.csv', sep=';', header=True, inferSchema=True)\n",
    "bank_data.printSchema()"
   ]
  },
  {
   "cell_type": "code",
   "execution_count": 66,
   "id": "1341d15a",
   "metadata": {},
   "outputs": [
    {
     "name": "stdout",
     "output_type": "stream",
     "text": [
      "+---+----------+-------+---------+-------+-------+-------+----+--------+---+-----+--------+--------+-----+--------+--------+---+\n",
      "|age|       job|marital|education|default|balance|housing|loan| contact|day|month|duration|campaign|pdays|previous|poutcome|  y|\n",
      "+---+----------+-------+---------+-------+-------+-------+----+--------+---+-----+--------+--------+-----+--------+--------+---+\n",
      "| 30|unemployed|married|  primary|     no|   1787|     no|  no|cellular| 19|  oct|      79|       1|   -1|       0| unknown| no|\n",
      "+---+----------+-------+---------+-------+-------+-------+----+--------+---+-----+--------+--------+-----+--------+--------+---+\n",
      "only showing top 1 row\n",
      "\n"
     ]
    }
   ],
   "source": [
    "bank_data.show(1)"
   ]
  },
  {
   "cell_type": "markdown",
   "id": "44953da3",
   "metadata": {},
   "source": [
    "Построить распределение клиентов по возрасту"
   ]
  },
  {
   "cell_type": "code",
   "execution_count": 112,
   "id": "701d4616",
   "metadata": {},
   "outputs": [
    {
     "name": "stdout",
     "output_type": "stream",
     "text": [
      "+---+-----+\n",
      "|age|count|\n",
      "+---+-----+\n",
      "| 31|  199|\n",
      "| 65|    6|\n",
      "| 53|   94|\n",
      "| 78|    3|\n",
      "| 34|  231|\n",
      "+---+-----+\n",
      "only showing top 5 rows\n",
      "\n"
     ]
    }
   ],
   "source": [
    "bank_data.groupBy('age').count().show(5)"
   ]
  },
  {
   "cell_type": "markdown",
   "id": "1f2bce8e",
   "metadata": {},
   "source": [
    "Распределение клиентов по возрасту + сортировка по убыванию количества"
   ]
  },
  {
   "cell_type": "code",
   "execution_count": 81,
   "id": "be6961d9",
   "metadata": {
    "scrolled": true
   },
   "outputs": [
    {
     "name": "stdout",
     "output_type": "stream",
     "text": [
      "+---+-----+\n",
      "|age|count|\n",
      "+---+-----+\n",
      "| 34|  231|\n",
      "| 32|  224|\n",
      "| 31|  199|\n",
      "| 36|  188|\n",
      "| 33|  186|\n",
      "+---+-----+\n",
      "only showing top 5 rows\n",
      "\n"
     ]
    }
   ],
   "source": [
    "bank_data.groupBy('age').count().sort(f.desc('count')).show(5)"
   ]
  },
  {
   "cell_type": "markdown",
   "id": "a8448d61",
   "metadata": {},
   "source": [
    "Распределение клиентов по возрасту + сортировка по возрастанию возраста"
   ]
  },
  {
   "cell_type": "code",
   "execution_count": 83,
   "id": "240a5f29",
   "metadata": {},
   "outputs": [
    {
     "name": "stdout",
     "output_type": "stream",
     "text": [
      "+---+-----+\n",
      "|age|count|\n",
      "+---+-----+\n",
      "| 19|    4|\n",
      "| 20|    3|\n",
      "| 21|    7|\n",
      "| 22|    9|\n",
      "| 23|   20|\n",
      "+---+-----+\n",
      "only showing top 5 rows\n",
      "\n"
     ]
    }
   ],
   "source": [
    "bank_data.groupBy('age').count().sort(col('age')).show(5)"
   ]
  },
  {
   "cell_type": "markdown",
   "id": "06bfb0bb",
   "metadata": {},
   "source": [
    "Распределение клиентов, которым больше 30 лет, по возрасту + сортировка по возрастанию возраста"
   ]
  },
  {
   "cell_type": "code",
   "execution_count": 86,
   "id": "e5e506f8",
   "metadata": {},
   "outputs": [
    {
     "name": "stdout",
     "output_type": "stream",
     "text": [
      "+---+-----+\n",
      "|age|count|\n",
      "+---+-----+\n",
      "| 31|  199|\n",
      "| 32|  224|\n",
      "| 33|  186|\n",
      "| 34|  231|\n",
      "| 35|  180|\n",
      "+---+-----+\n",
      "only showing top 5 rows\n",
      "\n"
     ]
    }
   ],
   "source": [
    "bank_data.filter(bank_data['age'] > 30).groupBy('age').count()\\\n",
    "         .sort(bank_data['age']).show(5)"
   ]
  },
  {
   "cell_type": "markdown",
   "id": "7107291b",
   "metadata": {},
   "source": [
    "# Визуализация\n",
    "Данные можно преобразовать в pandas DataFrame, затем использовать уже известные методы визуализации"
   ]
  },
  {
   "cell_type": "code",
   "execution_count": 114,
   "id": "9755b6f4",
   "metadata": {},
   "outputs": [
    {
     "data": {
      "text/html": [
       "<div>\n",
       "<style scoped>\n",
       "    .dataframe tbody tr th:only-of-type {\n",
       "        vertical-align: middle;\n",
       "    }\n",
       "\n",
       "    .dataframe tbody tr th {\n",
       "        vertical-align: top;\n",
       "    }\n",
       "\n",
       "    .dataframe thead th {\n",
       "        text-align: right;\n",
       "    }\n",
       "</style>\n",
       "<table border=\"1\" class=\"dataframe\">\n",
       "  <thead>\n",
       "    <tr style=\"text-align: right;\">\n",
       "      <th></th>\n",
       "      <th>sector</th>\n",
       "      <th>avg(adjusted)</th>\n",
       "    </tr>\n",
       "  </thead>\n",
       "  <tbody>\n",
       "    <tr>\n",
       "      <th>0</th>\n",
       "      <td>Miscellaneous</td>\n",
       "      <td>51.809730</td>\n",
       "    </tr>\n",
       "    <tr>\n",
       "      <th>1</th>\n",
       "      <td>Health Care</td>\n",
       "      <td>118.973948</td>\n",
       "    </tr>\n",
       "    <tr>\n",
       "      <th>2</th>\n",
       "      <td>Public Utilities</td>\n",
       "      <td>34.730156</td>\n",
       "    </tr>\n",
       "    <tr>\n",
       "      <th>3</th>\n",
       "      <td>Energy</td>\n",
       "      <td>23.684714</td>\n",
       "    </tr>\n",
       "    <tr>\n",
       "      <th>4</th>\n",
       "      <td>Consumer Non-Durables</td>\n",
       "      <td>42.817625</td>\n",
       "    </tr>\n",
       "    <tr>\n",
       "      <th>5</th>\n",
       "      <td>Finance</td>\n",
       "      <td>37.100285</td>\n",
       "    </tr>\n",
       "    <tr>\n",
       "      <th>6</th>\n",
       "      <td>Basic Industries</td>\n",
       "      <td>263865.510703</td>\n",
       "    </tr>\n",
       "    <tr>\n",
       "      <th>7</th>\n",
       "      <td>Capital Goods</td>\n",
       "      <td>59.975123</td>\n",
       "    </tr>\n",
       "    <tr>\n",
       "      <th>8</th>\n",
       "      <td>Technology</td>\n",
       "      <td>49.252340</td>\n",
       "    </tr>\n",
       "    <tr>\n",
       "      <th>9</th>\n",
       "      <td>Consumer Services</td>\n",
       "      <td>54.361878</td>\n",
       "    </tr>\n",
       "    <tr>\n",
       "      <th>10</th>\n",
       "      <td>Consumer Durables</td>\n",
       "      <td>389.641764</td>\n",
       "    </tr>\n",
       "    <tr>\n",
       "      <th>11</th>\n",
       "      <td>Transportation</td>\n",
       "      <td>36.802319</td>\n",
       "    </tr>\n",
       "  </tbody>\n",
       "</table>\n",
       "</div>"
      ],
      "text/plain": [
       "                   sector  avg(adjusted)\n",
       "0           Miscellaneous      51.809730\n",
       "1             Health Care     118.973948\n",
       "2        Public Utilities      34.730156\n",
       "3                  Energy      23.684714\n",
       "4   Consumer Non-Durables      42.817625\n",
       "5                 Finance      37.100285\n",
       "6        Basic Industries  263865.510703\n",
       "7           Capital Goods      59.975123\n",
       "8              Technology      49.252340\n",
       "9       Consumer Services      54.361878\n",
       "10      Consumer Durables     389.641764\n",
       "11         Transportation      36.802319"
      ]
     },
     "execution_count": 114,
     "metadata": {},
     "output_type": "execute_result"
    }
   ],
   "source": [
    "import pandas as pd\n",
    "\n",
    "sector = stock_data.select(['sector', 'adjusted']).groupBy('sector')\\\n",
    "                   .mean().toPandas()"
   ]
  },
  {
   "cell_type": "code",
   "execution_count": 123,
   "id": "8ebb1bce",
   "metadata": {},
   "outputs": [
    {
     "data": {
      "text/plain": [
       "<AxesSubplot:xlabel='sector'>"
      ]
     },
     "execution_count": 123,
     "metadata": {},
     "output_type": "execute_result"
    },
    {
     "data": {
      "image/png": "[encoded data removed]",
      "text/plain": [
       "<Figure size 936x504 with 1 Axes>"
      ]
     },
     "metadata": {
      "needs_background": "light"
     },
     "output_type": "display_data"
    }
   ],
   "source": [
    "sector.plot.bar(x='sector', y='avg(adjusted)', figsize=(13, 7))"
   ]
  }
 ],
 "metadata": {
  "kernelspec": {
   "display_name": "Python 3",
   "language": "python",
   "name": "python3"
  },
  "language_info": {
   "codemirror_mode": {
    "name": "ipython",
    "version": 3
   },
   "file_extension": ".py",
   "mimetype": "text/x-python",
   "name": "python",
   "nbconvert_exporter": "python",
   "pygments_lexer": "ipython3",
   "version": "3.8.8"
  },
  "toc": {
   "base_numbering": 1,
   "nav_menu": {},
   "number_sections": true,
   "sideBar": true,
   "skip_h1_title": false,
   "title_cell": "Table of Contents",
   "title_sidebar": "Contents",
   "toc_cell": false,
   "toc_position": {},
   "toc_section_display": true,
   "toc_window_display": false
  }
 },
 "nbformat": 4,
 "nbformat_minor": 5
}
