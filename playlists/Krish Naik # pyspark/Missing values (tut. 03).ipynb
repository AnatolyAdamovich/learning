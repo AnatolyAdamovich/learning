{
 "cells": [
  {
   "cell_type": "markdown",
   "id": "1f04b720",
   "metadata": {},
   "source": [
    "# Missing values\n",
    "In this tutorial we will cover:  \n",
    "- how to find missing values  \n",
    "- techniques to handling missing values: dropping columns/rows, handling by mean/median/mode, etc."
   ]
  },
  {
   "cell_type": "code",
   "execution_count": 2,
   "id": "4a95c76e",
   "metadata": {},
   "outputs": [
    {
     "data": {
      "text/html": [
       "\n",
       "            <div>\n",
       "                <p><b>SparkSession - in-memory</b></p>\n",
       "                \n",
       "        <div>\n",
       "            <p><b>SparkContext</b></p>\n",
       "\n",
       "            <p><a href=\"http://LAPTOP-0TIS9VBD:4040\">Spark UI</a></p>\n",
       "\n",
       "            <dl>\n",
       "              <dt>Version</dt>\n",
       "                <dd><code>v3.3.0</code></dd>\n",
       "              <dt>Master</dt>\n",
       "                <dd><code>local[*]</code></dd>\n",
       "              <dt>AppName</dt>\n",
       "                <dd><code>Missing values</code></dd>\n",
       "            </dl>\n",
       "        </div>\n",
       "        \n",
       "            </div>\n",
       "        "
      ],
      "text/plain": [
       "<pyspark.sql.session.SparkSession at 0x260767bf0a0>"
      ]
     },
     "execution_count": 2,
     "metadata": {},
     "output_type": "execute_result"
    }
   ],
   "source": [
    "import pyspark\n",
    "from pyspark.sql import SparkSession\n",
    "\n",
    "spark = SparkSession.builder.appName('Missing values').getOrCreate()\n",
    "spark"
   ]
  },
  {
   "cell_type": "code",
   "execution_count": 28,
   "id": "c975bdd3",
   "metadata": {},
   "outputs": [
    {
     "name": "stdout",
     "output_type": "stream",
     "text": [
      "+-------+-----------+------+\n",
      "|   Name|        Job|Salary|\n",
      "+-------+-----------+------+\n",
      "|   Paul|  Scientist|    70|\n",
      "| Andrew|       null|    90|\n",
      "|Markesh|Firefighter|  null|\n",
      "+-------+-----------+------+\n",
      "\n"
     ]
    }
   ],
   "source": [
    "data = spark.read.options(header=True, delimiter=';', inferSchema=True) \\\n",
    "            .csv('data/tut03_test.csv')\n",
    "data.show()"
   ]
  },
  {
   "cell_type": "markdown",
   "id": "3fcfe3f2",
   "metadata": {},
   "source": [
    "### Dropping"
   ]
  },
  {
   "cell_type": "code",
   "execution_count": 29,
   "id": "1dce24d8",
   "metadata": {},
   "outputs": [
    {
     "name": "stdout",
     "output_type": "stream",
     "text": [
      "+-------+------+\n",
      "|   Name|Salary|\n",
      "+-------+------+\n",
      "|   Paul|    70|\n",
      "| Andrew|    90|\n",
      "|Markesh|  null|\n",
      "+-------+------+\n",
      "\n"
     ]
    }
   ],
   "source": [
    "### Dropping columns\n",
    "data.drop('Job').show()"
   ]
  },
  {
   "cell_type": "code",
   "execution_count": 30,
   "id": "946e9a68",
   "metadata": {},
   "outputs": [
    {
     "name": "stdout",
     "output_type": "stream",
     "text": [
      "+----+---------+------+\n",
      "|Name|      Job|Salary|\n",
      "+----+---------+------+\n",
      "|Paul|Scientist|    70|\n",
      "+----+---------+------+\n",
      "\n"
     ]
    }
   ],
   "source": [
    "### Dropping rows with null values\n",
    "data.na.drop().show()"
   ]
  },
  {
   "cell_type": "code",
   "execution_count": 31,
   "id": "1cd623ed",
   "metadata": {},
   "outputs": [
    {
     "name": "stdout",
     "output_type": "stream",
     "text": [
      "+-------+-----------+------+\n",
      "|   Name|        Job|Salary|\n",
      "+-------+-----------+------+\n",
      "|   Paul|  Scientist|    70|\n",
      "| Andrew|       null|    90|\n",
      "|Markesh|Firefighter|  null|\n",
      "+-------+-----------+------+\n",
      "\n"
     ]
    }
   ],
   "source": [
    "# drop rows where all features is null\n",
    "data.na.drop(how='all').show()"
   ]
  },
  {
   "cell_type": "code",
   "execution_count": 33,
   "id": "56c4229d",
   "metadata": {},
   "outputs": [
    {
     "name": "stdout",
     "output_type": "stream",
     "text": [
      "+----+---------+------+\n",
      "|Name|      Job|Salary|\n",
      "+----+---------+------+\n",
      "|Paul|Scientist|    70|\n",
      "+----+---------+------+\n",
      "\n",
      "+-------+-----------+------+\n",
      "|   Name|        Job|Salary|\n",
      "+-------+-----------+------+\n",
      "|   Paul|  Scientist|    70|\n",
      "| Andrew|       null|    90|\n",
      "|Markesh|Firefighter|  null|\n",
      "+-------+-----------+------+\n",
      "\n"
     ]
    }
   ],
   "source": [
    "# drop rows where `thresh` features have NOT-null value\n",
    "data.na.drop(how='any', thresh=3).show()\n",
    "\n",
    "data.na.drop(how='any', thresh=2).show()"
   ]
  },
  {
   "cell_type": "code",
   "execution_count": 34,
   "id": "c81f6b84",
   "metadata": {},
   "outputs": [
    {
     "name": "stdout",
     "output_type": "stream",
     "text": [
      "+------+---------+------+\n",
      "|  Name|      Job|Salary|\n",
      "+------+---------+------+\n",
      "|  Paul|Scientist|    70|\n",
      "|Andrew|     null|    90|\n",
      "+------+---------+------+\n",
      "\n",
      "+-------+-----------+------+\n",
      "|   Name|        Job|Salary|\n",
      "+-------+-----------+------+\n",
      "|   Paul|  Scientist|    70|\n",
      "|Markesh|Firefighter|  null|\n",
      "+-------+-----------+------+\n",
      "\n"
     ]
    }
   ],
   "source": [
    "# drop rows with null values in SPECIFIC columns\n",
    "data.na.drop(how='any', subset=['Salary']).show()\n",
    "\n",
    "data.na.drop(how='any', subset=['Job']).show()"
   ]
  },
  {
   "cell_type": "markdown",
   "id": "4aa4ac5a",
   "metadata": {},
   "source": [
    "### Filling"
   ]
  },
  {
   "cell_type": "code",
   "execution_count": 38,
   "id": "5c24e247",
   "metadata": {},
   "outputs": [
    {
     "name": "stdout",
     "output_type": "stream",
     "text": [
      "+-------+-----------+------+\n",
      "|   Name|        Job|Salary|\n",
      "+-------+-----------+------+\n",
      "|   Paul|  Scientist|    70|\n",
      "| Andrew|        job|    90|\n",
      "|Markesh|Firefighter|  null|\n",
      "+-------+-----------+------+\n",
      "\n"
     ]
    }
   ],
   "source": [
    "# filling by custom value (with corresponding to type of value)\n",
    "data.na.fill(value='job').show()"
   ]
  },
  {
   "cell_type": "code",
   "execution_count": 39,
   "id": "87de9f95",
   "metadata": {},
   "outputs": [
    {
     "name": "stdout",
     "output_type": "stream",
     "text": [
      "+-------+-----------+------+\n",
      "|   Name|        Job|Salary|\n",
      "+-------+-----------+------+\n",
      "|   Paul|  Scientist|    70|\n",
      "| Andrew| Job missed|    90|\n",
      "|Markesh|Firefighter|  null|\n",
      "+-------+-----------+------+\n",
      "\n"
     ]
    }
   ],
   "source": [
    "# filling by custom value in specific columns\n",
    "data.na.fill(value='Job missed', subset=['Job']).show()"
   ]
  },
  {
   "cell_type": "code",
   "execution_count": 44,
   "id": "a9d33621",
   "metadata": {},
   "outputs": [],
   "source": [
    "# filling by mean value in specific columns using Imputer\n",
    "from pyspark.ml.feature import Imputer\n",
    "\n",
    "imp = Imputer(\n",
    "    inputCols=['Salary'],\n",
    "    outputCols=['Salary_imputed']\n",
    ").setStrategy('mean')"
   ]
  },
  {
   "cell_type": "code",
   "execution_count": 45,
   "id": "d0e77c86",
   "metadata": {},
   "outputs": [
    {
     "name": "stdout",
     "output_type": "stream",
     "text": [
      "+-------+-----------+------+--------------+\n",
      "|   Name|        Job|Salary|Salary_imputed|\n",
      "+-------+-----------+------+--------------+\n",
      "|   Paul|  Scientist|    70|            70|\n",
      "| Andrew|       null|    90|            90|\n",
      "|Markesh|Firefighter|  null|            80|\n",
      "+-------+-----------+------+--------------+\n",
      "\n"
     ]
    }
   ],
   "source": [
    "# transform our data\n",
    "data = imp.fit(data).transform(data)\n",
    "data.show()"
   ]
  }
 ],
 "metadata": {
  "kernelspec": {
   "display_name": "Python 3",
   "language": "python",
   "name": "python3"
  },
  "language_info": {
   "codemirror_mode": {
    "name": "ipython",
    "version": 3
   },
   "file_extension": ".py",
   "mimetype": "text/x-python",
   "name": "python",
   "nbconvert_exporter": "python",
   "pygments_lexer": "ipython3",
   "version": "3.8.8"
  },
  "toc": {
   "base_numbering": 1,
   "nav_menu": {},
   "number_sections": true,
   "sideBar": true,
   "skip_h1_title": false,
   "title_cell": "Table of Contents",
   "title_sidebar": "Contents",
   "toc_cell": false,
   "toc_position": {},
   "toc_section_display": true,
   "toc_window_display": false
  }
 },
 "nbformat": 4,
 "nbformat_minor": 5
}
