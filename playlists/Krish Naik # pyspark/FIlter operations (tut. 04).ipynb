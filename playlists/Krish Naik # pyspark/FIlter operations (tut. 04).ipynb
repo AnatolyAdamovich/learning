{
 "cells": [
  {
   "cell_type": "code",
   "execution_count": 14,
   "id": "24ae4984",
   "metadata": {},
   "outputs": [],
   "source": [
    "import pyspark\n",
    "from pyspark.sql import SparkSession"
   ]
  },
  {
   "cell_type": "markdown",
   "id": "419226c8",
   "metadata": {},
   "source": [
    "# Filter operations\n",
    " It is important for pre-processing technique: if you want to retrieve some records based on conditions (boolean) you will do it with help of filter operations"
   ]
  },
  {
   "cell_type": "code",
   "execution_count": 15,
   "id": "905ec7b5",
   "metadata": {},
   "outputs": [
    {
     "data": {
      "text/html": [
       "\n",
       "            <div>\n",
       "                <p><b>SparkSession - in-memory</b></p>\n",
       "                \n",
       "        <div>\n",
       "            <p><b>SparkContext</b></p>\n",
       "\n",
       "            <p><a href=\"http://LAPTOP-0TIS9VBD:4040\">Spark UI</a></p>\n",
       "\n",
       "            <dl>\n",
       "              <dt>Version</dt>\n",
       "                <dd><code>v3.3.0</code></dd>\n",
       "              <dt>Master</dt>\n",
       "                <dd><code>local[*]</code></dd>\n",
       "              <dt>AppName</dt>\n",
       "                <dd><code>Filter operations</code></dd>\n",
       "            </dl>\n",
       "        </div>\n",
       "        \n",
       "            </div>\n",
       "        "
      ],
      "text/plain": [
       "<pyspark.sql.session.SparkSession at 0x2439630d160>"
      ]
     },
     "execution_count": 15,
     "metadata": {},
     "output_type": "execute_result"
    }
   ],
   "source": [
    "spark = SparkSession.builder.appName('Filter operations').getOrCreate()\n",
    "spark"
   ]
  },
  {
   "cell_type": "code",
   "execution_count": 16,
   "id": "aad3ae4c",
   "metadata": {},
   "outputs": [
    {
     "name": "stdout",
     "output_type": "stream",
     "text": [
      "+------+-------+----------+---+\n",
      "|  Name|Country|Experience|Age|\n",
      "+------+-------+----------+---+\n",
      "|  Unue|  India|         1| 21|\n",
      "|Alexey| Russia|        10| 31|\n",
      "|  Mark|    USA|         8| 31|\n",
      "| Roman| Russia|         4| 25|\n",
      "|Turrie|  Spain|        14| 40|\n",
      "+------+-------+----------+---+\n",
      "\n"
     ]
    }
   ],
   "source": [
    "df = spark.read.options(header=True, delimiter=';', inferSchema=True).csv('data/tut04_test.csv')\n",
    "df.show()"
   ]
  },
  {
   "cell_type": "code",
   "execution_count": 17,
   "id": "8e12f371",
   "metadata": {},
   "outputs": [
    {
     "name": "stdout",
     "output_type": "stream",
     "text": [
      "+------+-------+----------+---+\n",
      "|  Name|Country|Experience|Age|\n",
      "+------+-------+----------+---+\n",
      "|Alexey| Russia|        10| 31|\n",
      "|  Mark|    USA|         8| 31|\n",
      "|Turrie|  Spain|        14| 40|\n",
      "+------+-------+----------+---+\n",
      "\n"
     ]
    }
   ],
   "source": [
    "## find people with age >= 30\n",
    "df.filter('Age >= 30').show()"
   ]
  },
  {
   "cell_type": "code",
   "execution_count": 18,
   "id": "346c742a",
   "metadata": {},
   "outputs": [
    {
     "name": "stdout",
     "output_type": "stream",
     "text": [
      "+------+-------+\n",
      "|  Name|Country|\n",
      "+------+-------+\n",
      "|Alexey| Russia|\n",
      "|  Mark|    USA|\n",
      "|Turrie|  Spain|\n",
      "+------+-------+\n",
      "\n"
     ]
    }
   ],
   "source": [
    "## show NAME and COUNTRY of people with age >= 30\n",
    "df.filter(df['Age'] >= 30).select(['Name', 'Country']).show()"
   ]
  },
  {
   "cell_type": "code",
   "execution_count": 21,
   "id": "c680128c",
   "metadata": {},
   "outputs": [
    {
     "name": "stdout",
     "output_type": "stream",
     "text": [
      "+------+-------+----------+---+\n",
      "|  Name|Country|Experience|Age|\n",
      "+------+-------+----------+---+\n",
      "|Alexey| Russia|        10| 31|\n",
      "+------+-------+----------+---+\n",
      "\n"
     ]
    }
   ],
   "source": [
    "## how to apply 2 conditions: !!! USE '(' and ')'\n",
    "df.filter( (df['Experience'] >= 10) & (df['Age'] < 32) ).show()"
   ]
  },
  {
   "cell_type": "code",
   "execution_count": 23,
   "id": "226d2a7b",
   "metadata": {},
   "outputs": [
    {
     "name": "stdout",
     "output_type": "stream",
     "text": [
      "+------+-------+----------+---+\n",
      "|  Name|Country|Experience|Age|\n",
      "+------+-------+----------+---+\n",
      "|Alexey| Russia|        10| 31|\n",
      "| Roman| Russia|         4| 25|\n",
      "|Turrie|  Spain|        14| 40|\n",
      "+------+-------+----------+---+\n",
      "\n"
     ]
    }
   ],
   "source": [
    "# condition based on list values\n",
    "df.filter(df['Country'].isin(['Russia', 'Spain'])).show()"
   ]
  },
  {
   "cell_type": "code",
   "execution_count": 24,
   "id": "5a954d47",
   "metadata": {},
   "outputs": [
    {
     "name": "stdout",
     "output_type": "stream",
     "text": [
      "+------+-------+----------+---+\n",
      "|  Name|Country|Experience|Age|\n",
      "+------+-------+----------+---+\n",
      "|Alexey| Russia|        10| 31|\n",
      "+------+-------+----------+---+\n",
      "\n"
     ]
    }
   ],
   "source": [
    "# condition vased on start/end contains\n",
    "df.filter(df['Name'].startswith('A')).show()"
   ]
  },
  {
   "cell_type": "code",
   "execution_count": 29,
   "id": "6a7bfde8",
   "metadata": {},
   "outputs": [
    {
     "name": "stdout",
     "output_type": "stream",
     "text": [
      "+------+-------+----------+---+\n",
      "|  Name|Country|Experience|Age|\n",
      "+------+-------+----------+---+\n",
      "|  Mark|    USA|         8| 31|\n",
      "|Turrie|  Spain|        14| 40|\n",
      "+------+-------+----------+---+\n",
      "\n"
     ]
    }
   ],
   "source": [
    "df.filter(df['Name'].like(\"%r%\")).show()"
   ]
  }
 ],
 "metadata": {
  "kernelspec": {
   "display_name": "Python 3",
   "language": "python",
   "name": "python3"
  },
  "language_info": {
   "codemirror_mode": {
    "name": "ipython",
    "version": 3
   },
   "file_extension": ".py",
   "mimetype": "text/x-python",
   "name": "python",
   "nbconvert_exporter": "python",
   "pygments_lexer": "ipython3",
   "version": "3.8.8"
  },
  "toc": {
   "base_numbering": 1,
   "nav_menu": {},
   "number_sections": true,
   "sideBar": true,
   "skip_h1_title": false,
   "title_cell": "Table of Contents",
   "title_sidebar": "Contents",
   "toc_cell": false,
   "toc_position": {},
   "toc_section_display": true,
   "toc_window_display": false
  }
 },
 "nbformat": 4,
 "nbformat_minor": 5
}
