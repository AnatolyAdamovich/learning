{
 "cells": [
  {
   "cell_type": "markdown",
   "id": "b34c334c",
   "metadata": {},
   "source": [
    "# Apache Spark / PySpark\n",
    "Why Spark is actually required?\n",
    "- Suppose if you have a huge amount of data (we can not load it to RAM), so we may be try to do operations using **distributed systems** (doing processes in the multiple systmes). **Apache Spark** help us to do it\n",
    "\n",
    "Apache Spark is much more faster (100 times) than MapReduce, so it should be covered (https://spark.apache.org/)\n",
    "\n",
    "Spark runs on different environments (Hadoop, Kubernetes, cloud..) It actually runs in a *cluster mode* that basically means in a *distributed mode*"
   ]
  },
  {
   "cell_type": "code",
   "execution_count": 1,
   "id": "503f0b7a",
   "metadata": {},
   "outputs": [
    {
     "name": "stdout",
     "output_type": "stream",
     "text": [
      "Collecting pyspark\n",
      "  Downloading pyspark-3.3.0.tar.gz (281.3 MB)\n",
      "Collecting py4j==0.10.9.5\n",
      "  Downloading py4j-0.10.9.5-py2.py3-none-any.whl (199 kB)\n",
      "Building wheels for collected packages: pyspark\n",
      "  Building wheel for pyspark (setup.py): started\n",
      "  Building wheel for pyspark (setup.py): finished with status 'done'\n",
      "  Created wheel for pyspark: filename=pyspark-3.3.0-py2.py3-none-any.whl size=281764026 sha256=a3195052b10d8f9d119a2e14533d49d8cb4dafd81a7fd70c7c2e37a4ebfedd61\n",
      "  Stored in directory: c:\\users\\tolik\\appdata\\local\\pip\\cache\\wheels\\1d\\27\\68\\1382001655ef41217e1dd34d59aa777612135379bab64279e9\n",
      "Successfully built pyspark\n",
      "Installing collected packages: py4j, pyspark\n",
      "Successfully installed py4j-0.10.9.5 pyspark-3.3.0\n"
     ]
    }
   ],
   "source": [
    "!pip install pyspark"
   ]
  },
  {
   "cell_type": "code",
   "execution_count": 2,
   "id": "debeea6a",
   "metadata": {},
   "outputs": [],
   "source": [
    "import pyspark"
   ]
  },
  {
   "cell_type": "markdown",
   "id": "6f851a71",
   "metadata": {},
   "source": [
    "If we want to work with pyspark, we need *to start the spark session*"
   ]
  },
  {
   "cell_type": "code",
   "execution_count": 3,
   "id": "be5cedc8",
   "metadata": {},
   "outputs": [
    {
     "data": {
      "text/html": [
       "\n",
       "            <div>\n",
       "                <p><b>SparkSession - in-memory</b></p>\n",
       "                \n",
       "        <div>\n",
       "            <p><b>SparkContext</b></p>\n",
       "\n",
       "            <p><a href=\"http://LAPTOP-0TIS9VBD:4040\">Spark UI</a></p>\n",
       "\n",
       "            <dl>\n",
       "              <dt>Version</dt>\n",
       "                <dd><code>v3.3.0</code></dd>\n",
       "              <dt>Master</dt>\n",
       "                <dd><code>local[*]</code></dd>\n",
       "              <dt>AppName</dt>\n",
       "                <dd><code>Tutorial 1</code></dd>\n",
       "            </dl>\n",
       "        </div>\n",
       "        \n",
       "            </div>\n",
       "        "
      ],
      "text/plain": [
       "<pyspark.sql.session.SparkSession at 0x1d943dc1640>"
      ]
     },
     "execution_count": 3,
     "metadata": {},
     "output_type": "execute_result"
    }
   ],
   "source": [
    "from pyspark.sql import SparkSession\n",
    "\n",
    "spark = SparkSession.builder.appName('Tutorial 1').getOrCreate()\n",
    "spark"
   ]
  },
  {
   "cell_type": "markdown",
   "id": "c507dfb0",
   "metadata": {},
   "source": [
    "When you are executing in a local there will always be **only one cluster**, but when you are working in a cloud you can create multiple clusters (`Masters`)"
   ]
  },
  {
   "cell_type": "code",
   "execution_count": null,
   "id": "3a558c73",
   "metadata": {},
   "outputs": [],
   "source": []
  },
  {
   "cell_type": "code",
   "execution_count": 11,
   "id": "a2745078",
   "metadata": {},
   "outputs": [
    {
     "data": {
      "text/plain": [
       "DataFrame[Name: string, Position: string]"
      ]
     },
     "execution_count": 11,
     "metadata": {},
     "output_type": "execute_result"
    }
   ],
   "source": [
    "df_pyspark = spark.read.options(delimiter=';', header='true').csv('data/tut01_test.csv')\n",
    "df_pyspark\n",
    "# https://sparkbyexamples.com/pyspark/pyspark-read-csv-file-into-dataframe/"
   ]
  },
  {
   "cell_type": "code",
   "execution_count": 12,
   "id": "c27cf58c",
   "metadata": {},
   "outputs": [
    {
     "name": "stdout",
     "output_type": "stream",
     "text": [
      "+---------+--------+\n",
      "|     Name|Position|\n",
      "+---------+--------+\n",
      "|      Eva|  Junior|\n",
      "|Ekaterina|  Middle|\n",
      "| Svetlana|  Junior|\n",
      "+---------+--------+\n",
      "\n"
     ]
    }
   ],
   "source": [
    "df_pyspark.show()"
   ]
  },
  {
   "cell_type": "code",
   "execution_count": 13,
   "id": "158a7a06",
   "metadata": {},
   "outputs": [
    {
     "data": {
      "text/plain": [
       "pyspark.sql.dataframe.DataFrame"
      ]
     },
     "execution_count": 13,
     "metadata": {},
     "output_type": "execute_result"
    }
   ],
   "source": [
    "type(df_pyspark)"
   ]
  },
  {
   "cell_type": "markdown",
   "id": "fafe6ab2",
   "metadata": {},
   "source": [
    "Most of API's are the same with famous libraries"
   ]
  },
  {
   "cell_type": "code",
   "execution_count": 15,
   "id": "0b7d0b8e",
   "metadata": {},
   "outputs": [
    {
     "data": {
      "text/plain": [
       "[Row(Name='Eva', Position='Junior')]"
      ]
     },
     "execution_count": 15,
     "metadata": {},
     "output_type": "execute_result"
    }
   ],
   "source": [
    "df_pyspark.head(1)"
   ]
  },
  {
   "cell_type": "code",
   "execution_count": 16,
   "id": "6288d064",
   "metadata": {},
   "outputs": [
    {
     "name": "stdout",
     "output_type": "stream",
     "text": [
      "root\n",
      " |-- Name: string (nullable = true)\n",
      " |-- Position: string (nullable = true)\n",
      "\n"
     ]
    }
   ],
   "source": [
    "# see the more information about columns\n",
    "df_pyspark.printSchema()"
   ]
  },
  {
   "cell_type": "markdown",
   "id": "9f2fb9d8",
   "metadata": {},
   "source": [
    "The aim of this notebook is install and get a basic understanding"
   ]
  }
 ],
 "metadata": {
  "kernelspec": {
   "display_name": "Python 3",
   "language": "python",
   "name": "python3"
  },
  "language_info": {
   "codemirror_mode": {
    "name": "ipython",
    "version": 3
   },
   "file_extension": ".py",
   "mimetype": "text/x-python",
   "name": "python",
   "nbconvert_exporter": "python",
   "pygments_lexer": "ipython3",
   "version": "3.8.8"
  },
  "toc": {
   "base_numbering": 1,
   "nav_menu": {},
   "number_sections": true,
   "sideBar": true,
   "skip_h1_title": false,
   "title_cell": "Table of Contents",
   "title_sidebar": "Contents",
   "toc_cell": false,
   "toc_position": {},
   "toc_section_display": true,
   "toc_window_display": false
  }
 },
 "nbformat": 4,
 "nbformat_minor": 5
}
