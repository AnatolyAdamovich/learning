{
 "cells": [
  {
   "cell_type": "markdown",
   "id": "d09e91b3",
   "metadata": {},
   "source": [
    "# DataFrames\n",
    "We will cover:\n",
    "- what is PySpark DataFrames  \n",
    "- how we can reading dataset as DataFrame  \n",
    "- checking the types of features  \n",
    "- dropping/adding columns  \n",
    "- describing columns  \n",
    "- selecting/indexing"
   ]
  },
  {
   "cell_type": "code",
   "execution_count": 4,
   "id": "8056d243",
   "metadata": {},
   "outputs": [
    {
     "data": {
      "text/html": [
       "\n",
       "            <div>\n",
       "                <p><b>SparkSession - in-memory</b></p>\n",
       "                \n",
       "        <div>\n",
       "            <p><b>SparkContext</b></p>\n",
       "\n",
       "            <p><a href=\"http://LAPTOP-0TIS9VBD:4040\">Spark UI</a></p>\n",
       "\n",
       "            <dl>\n",
       "              <dt>Version</dt>\n",
       "                <dd><code>v3.3.0</code></dd>\n",
       "              <dt>Master</dt>\n",
       "                <dd><code>local[*]</code></dd>\n",
       "              <dt>AppName</dt>\n",
       "                <dd><code>DataFrames</code></dd>\n",
       "            </dl>\n",
       "        </div>\n",
       "        \n",
       "            </div>\n",
       "        "
      ],
      "text/plain": [
       "<pyspark.sql.session.SparkSession at 0x17dccd027f0>"
      ]
     },
     "execution_count": 4,
     "metadata": {},
     "output_type": "execute_result"
    }
   ],
   "source": [
    "from pyspark.sql import SparkSession\n",
    "\n",
    "# starting session\n",
    "spark = SparkSession.builder.appName('DataFrames').getOrCreate()\n",
    "spark"
   ]
  },
  {
   "cell_type": "markdown",
   "id": "cef1cb40",
   "metadata": {},
   "source": [
    "### Reading"
   ]
  },
  {
   "cell_type": "code",
   "execution_count": 13,
   "id": "9db6c571",
   "metadata": {},
   "outputs": [
    {
     "name": "stdout",
     "output_type": "stream",
     "text": [
      "+-------+-----------+---------+\n",
      "|   Name|Subscribers|    Views|\n",
      "+-------+-----------+---------+\n",
      "|  Krish|     616000| 58258882|\n",
      "|sentdex|    1120000|103555956|\n",
      "|Ken Jee|     212000|  6692842|\n",
      "+-------+-----------+---------+\n",
      "\n"
     ]
    }
   ],
   "source": [
    "# reading the dataset\n",
    "df_spark = spark.read.options(delimiter=';', header=True).csv('data/tut02_test.csv')\n",
    "df_spark.show()"
   ]
  },
  {
   "cell_type": "code",
   "execution_count": 14,
   "id": "bf309a4c",
   "metadata": {},
   "outputs": [
    {
     "name": "stdout",
     "output_type": "stream",
     "text": [
      "root\n",
      " |-- Name: string (nullable = true)\n",
      " |-- Subscribers: string (nullable = true)\n",
      " |-- Views: string (nullable = true)\n",
      "\n"
     ]
    }
   ],
   "source": [
    "# check the schema (datatypes of columns)\n",
    "df_spark.printSchema()"
   ]
  },
  {
   "cell_type": "markdown",
   "id": "85263653",
   "metadata": {},
   "source": [
    "When we read csv file, parameter `inferSchema` (by default) set to *False*. It is reason why all columns have *string* type"
   ]
  },
  {
   "cell_type": "code",
   "execution_count": 16,
   "id": "8f346691",
   "metadata": {},
   "outputs": [
    {
     "name": "stdout",
     "output_type": "stream",
     "text": [
      "root\n",
      " |-- Name: string (nullable = true)\n",
      " |-- Subscribers: integer (nullable = true)\n",
      " |-- Views: integer (nullable = true)\n",
      "\n"
     ]
    }
   ],
   "source": [
    "# reading the dataset\n",
    "df_spark = spark.read.options(delimiter=';', header=True, inferSchema=True).csv('data/tut02_test.csv')\n",
    "\n",
    "# check the schema (datatypes of columns)\n",
    "df_spark.printSchema()"
   ]
  },
  {
   "cell_type": "code",
   "execution_count": 32,
   "id": "73c76daa",
   "metadata": {},
   "outputs": [
    {
     "data": {
      "text/plain": [
       "[('Name', 'string'), ('Subscribers', 'int'), ('Views', 'int')]"
      ]
     },
     "execution_count": 32,
     "metadata": {},
     "output_type": "execute_result"
    }
   ],
   "source": [
    "# also we can use `dtypes` option (the same with pandas)\n",
    "df_spark.dtypes"
   ]
  },
  {
   "cell_type": "markdown",
   "id": "48622da2",
   "metadata": {},
   "source": [
    "### DataFrames"
   ]
  },
  {
   "cell_type": "code",
   "execution_count": 17,
   "id": "abb99c27",
   "metadata": {},
   "outputs": [
    {
     "data": {
      "text/plain": [
       "pyspark.sql.dataframe.DataFrame"
      ]
     },
     "execution_count": 17,
     "metadata": {},
     "output_type": "execute_result"
    }
   ],
   "source": [
    "# check the type of our data\n",
    "type(df_spark)"
   ]
  },
  {
   "cell_type": "markdown",
   "id": "7204dd79",
   "metadata": {},
   "source": [
    "DataFrame is a data structure and you can perform any kind of operations"
   ]
  },
  {
   "cell_type": "code",
   "execution_count": 19,
   "id": "4e861948",
   "metadata": {},
   "outputs": [
    {
     "data": {
      "text/plain": [
       "['Name', 'Subscribers', 'Views']"
      ]
     },
     "execution_count": 19,
     "metadata": {},
     "output_type": "execute_result"
    }
   ],
   "source": [
    "# check columns\n",
    "df_spark.columns"
   ]
  },
  {
   "cell_type": "code",
   "execution_count": 20,
   "id": "190c4f57",
   "metadata": {},
   "outputs": [
    {
     "data": {
      "text/plain": [
       "[Row(Name='Krish', Subscribers=616000, Views=58258882),\n",
       " Row(Name='sentdex', Subscribers=1120000, Views=103555956)]"
      ]
     },
     "execution_count": 20,
     "metadata": {},
     "output_type": "execute_result"
    }
   ],
   "source": [
    "df_spark.head(2)"
   ]
  },
  {
   "cell_type": "markdown",
   "id": "d05f0476",
   "metadata": {},
   "source": [
    "### Selecting"
   ]
  },
  {
   "cell_type": "code",
   "execution_count": 27,
   "id": "e54c175e",
   "metadata": {},
   "outputs": [
    {
     "name": "stdout",
     "output_type": "stream",
     "text": [
      "+-------+\n",
      "|   Name|\n",
      "+-------+\n",
      "|  Krish|\n",
      "|sentdex|\n",
      "|Ken Jee|\n",
      "+-------+\n",
      "\n"
     ]
    }
   ],
   "source": [
    "# how to select a column\n",
    "df_spark.select('Name').show()"
   ]
  },
  {
   "cell_type": "code",
   "execution_count": 31,
   "id": "a01e7e25",
   "metadata": {},
   "outputs": [
    {
     "name": "stdout",
     "output_type": "stream",
     "text": [
      "+-------+-----------+\n",
      "|   Name|Subscribers|\n",
      "+-------+-----------+\n",
      "|  Krish|     616000|\n",
      "|sentdex|    1120000|\n",
      "|Ken Jee|     212000|\n",
      "+-------+-----------+\n",
      "\n"
     ]
    }
   ],
   "source": [
    "# how to select the columns\n",
    "df_spark.select(['Name', 'Subscribers']).show()"
   ]
  },
  {
   "cell_type": "markdown",
   "id": "f128b829",
   "metadata": {},
   "source": [
    "### Describe function"
   ]
  },
  {
   "cell_type": "code",
   "execution_count": 34,
   "id": "2bf05454",
   "metadata": {},
   "outputs": [
    {
     "name": "stdout",
     "output_type": "stream",
     "text": [
      "+-------+-------+-----------------+--------------------+\n",
      "|summary|   Name|      Subscribers|               Views|\n",
      "+-------+-------+-----------------+--------------------+\n",
      "|  count|      3|                3|                   3|\n",
      "|   mean|   null|649333.3333333334|5.6169226666666664E7|\n",
      "| stddev|   null|454916.8422177105| 4.846535575030215E7|\n",
      "|    min|Ken Jee|           212000|             6692842|\n",
      "|    max|sentdex|          1120000|           103555956|\n",
      "+-------+-------+-----------------+--------------------+\n",
      "\n"
     ]
    }
   ],
   "source": [
    "df_spark.describe().show()"
   ]
  },
  {
   "cell_type": "markdown",
   "id": "34784b68",
   "metadata": {},
   "source": [
    "### Adding/Dropping/Renaming"
   ]
  },
  {
   "cell_type": "code",
   "execution_count": 41,
   "id": "0590e79e",
   "metadata": {},
   "outputs": [
    {
     "name": "stdout",
     "output_type": "stream",
     "text": [
      "+-------+-----------+---------+---------------------+\n",
      "|   Name|Subscribers|    Views|Views after two years|\n",
      "+-------+-----------+---------+---------------------+\n",
      "|  Krish|     616000| 58258882|          8.7388323E7|\n",
      "|sentdex|    1120000|103555956|         1.55333934E8|\n",
      "|Ken Jee|     212000|  6692842|          1.0039263E7|\n",
      "+-------+-----------+---------+---------------------+\n",
      "\n"
     ]
    }
   ],
   "source": [
    "# add\n",
    "df_spark = df_spark.withColumn(colName='Views after two years', col=df_spark['Views']*1.5)\n",
    "df_spark.show()"
   ]
  },
  {
   "cell_type": "code",
   "execution_count": 44,
   "id": "8712894a",
   "metadata": {},
   "outputs": [
    {
     "name": "stdout",
     "output_type": "stream",
     "text": [
      "+-------+-----------+\n",
      "|   Name|Subscribers|\n",
      "+-------+-----------+\n",
      "|  Krish|     616000|\n",
      "|sentdex|    1120000|\n",
      "|Ken Jee|     212000|\n",
      "+-------+-----------+\n",
      "\n"
     ]
    }
   ],
   "source": [
    "# drop\n",
    "df_spark = df_spark.drop('Views after two years', 'Views')\n",
    "df_spark.show()"
   ]
  },
  {
   "cell_type": "code",
   "execution_count": 45,
   "id": "6eb76100",
   "metadata": {},
   "outputs": [
    {
     "name": "stdout",
     "output_type": "stream",
     "text": [
      "+--------+-----------+\n",
      "|New Name|Subscribers|\n",
      "+--------+-----------+\n",
      "|   Krish|     616000|\n",
      "| sentdex|    1120000|\n",
      "| Ken Jee|     212000|\n",
      "+--------+-----------+\n",
      "\n"
     ]
    }
   ],
   "source": [
    "# rename\n",
    "df_spark = df_spark.withColumnRenamed('Name', 'New Name')\n",
    "df_spark.show()"
   ]
  }
 ],
 "metadata": {
  "kernelspec": {
   "display_name": "Python 3",
   "language": "python",
   "name": "python3"
  },
  "language_info": {
   "codemirror_mode": {
    "name": "ipython",
    "version": 3
   },
   "file_extension": ".py",
   "mimetype": "text/x-python",
   "name": "python",
   "nbconvert_exporter": "python",
   "pygments_lexer": "ipython3",
   "version": "3.8.8"
  },
  "toc": {
   "base_numbering": 1,
   "nav_menu": {},
   "number_sections": true,
   "sideBar": true,
   "skip_h1_title": false,
   "title_cell": "Table of Contents",
   "title_sidebar": "Contents",
   "toc_cell": false,
   "toc_position": {},
   "toc_section_display": true,
   "toc_window_display": false
  }
 },
 "nbformat": 4,
 "nbformat_minor": 5
}
