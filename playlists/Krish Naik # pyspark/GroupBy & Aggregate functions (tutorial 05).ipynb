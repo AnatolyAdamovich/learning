{
 "cells": [
  {
   "cell_type": "code",
   "execution_count": 2,
   "id": "3a8e37f5",
   "metadata": {},
   "outputs": [],
   "source": [
    "import pyspark\n",
    "from pyspark.sql import SparkSession"
   ]
  },
  {
   "cell_type": "markdown",
   "id": "8c3e01e3",
   "metadata": {},
   "source": [
    "# Groupping and aggregating\n",
    "We often do **groupby** and **aggregate functions** in the part of pre-proccesing our data"
   ]
  },
  {
   "cell_type": "code",
   "execution_count": 4,
   "id": "f0dc46d6",
   "metadata": {},
   "outputs": [
    {
     "data": {
      "text/html": [
       "\n",
       "            <div>\n",
       "                <p><b>SparkSession - in-memory</b></p>\n",
       "                \n",
       "        <div>\n",
       "            <p><b>SparkContext</b></p>\n",
       "\n",
       "            <p><a href=\"http://LAPTOP-0TIS9VBD:4040\">Spark UI</a></p>\n",
       "\n",
       "            <dl>\n",
       "              <dt>Version</dt>\n",
       "                <dd><code>v3.3.0</code></dd>\n",
       "              <dt>Master</dt>\n",
       "                <dd><code>local[*]</code></dd>\n",
       "              <dt>AppName</dt>\n",
       "                <dd><code>GroupBy and aggregate</code></dd>\n",
       "            </dl>\n",
       "        </div>\n",
       "        \n",
       "            </div>\n",
       "        "
      ],
      "text/plain": [
       "<pyspark.sql.session.SparkSession at 0x15f421200d0>"
      ]
     },
     "execution_count": 4,
     "metadata": {},
     "output_type": "execute_result"
    }
   ],
   "source": [
    "spark = SparkSession.builder.appName('GroupBy and aggregate').getOrCreate()\n",
    "spark"
   ]
  },
  {
   "cell_type": "code",
   "execution_count": 6,
   "id": "b6adc948",
   "metadata": {},
   "outputs": [
    {
     "name": "stdout",
     "output_type": "stream",
     "text": [
      "+------+--------+------+-------+\n",
      "|  Name|Position|Salary|Country|\n",
      "+------+--------+------+-------+\n",
      "|Alexey|  Junior|    55| Russia|\n",
      "| Robbi|  Senior|   155|  Spain|\n",
      "|Muchai|  Middle|    90|  India|\n",
      "|   Lia|  Middle|    95|  Italy|\n",
      "|  Ivan|  Senior|   140| Russia|\n",
      "| Torry|  Junior|    60|  Spain|\n",
      "|  John|  Junior|    58|    USA|\n",
      "+------+--------+------+-------+\n",
      "\n"
     ]
    }
   ],
   "source": [
    "df = spark.read.options(header=True, inferSchema=True, delimiter=';') \\\n",
    "                        .csv('data/tut05_test.csv')\n",
    "df.show()"
   ]
  },
  {
   "cell_type": "code",
   "execution_count": 7,
   "id": "60305232",
   "metadata": {},
   "outputs": [
    {
     "name": "stdout",
     "output_type": "stream",
     "text": [
      "root\n",
      " |-- Name: string (nullable = true)\n",
      " |-- Position: string (nullable = true)\n",
      " |-- Salary: integer (nullable = true)\n",
      " |-- Country: string (nullable = true)\n",
      "\n"
     ]
    }
   ],
   "source": [
    "df.printSchema()"
   ]
  },
  {
   "cell_type": "markdown",
   "id": "52652ebd",
   "metadata": {},
   "source": [
    "### GroupBy + aggregate\n",
    "\n",
    "**GroupBy operations work together with aggregate functions:**\n",
    "1) apply groupby operation  \n",
    "2) apply aggregate function"
   ]
  },
  {
   "cell_type": "code",
   "execution_count": 9,
   "id": "a854fdef",
   "metadata": {},
   "outputs": [
    {
     "data": {
      "text/plain": [
       "<pyspark.sql.group.GroupedData at 0x15f424a55b0>"
      ]
     },
     "execution_count": 9,
     "metadata": {},
     "output_type": "execute_result"
    }
   ],
   "source": [
    "df.groupBy('Position')"
   ]
  },
  {
   "cell_type": "code",
   "execution_count": 10,
   "id": "e41df13a",
   "metadata": {},
   "outputs": [
    {
     "data": {
      "text/plain": [
       "DataFrame[Position: string, max(Salary): int]"
      ]
     },
     "execution_count": 10,
     "metadata": {},
     "output_type": "execute_result"
    }
   ],
   "source": [
    "df.groupBy('Position').max()"
   ]
  },
  {
   "cell_type": "markdown",
   "id": "70fe0cc8",
   "metadata": {},
   "source": [
    "Aggregating function is applied to integer column"
   ]
  },
  {
   "cell_type": "code",
   "execution_count": 11,
   "id": "005a87d2",
   "metadata": {},
   "outputs": [
    {
     "name": "stdout",
     "output_type": "stream",
     "text": [
      "+--------+-----------+\n",
      "|Position|max(Salary)|\n",
      "+--------+-----------+\n",
      "|  Senior|        155|\n",
      "|  Middle|         95|\n",
      "|  Junior|         60|\n",
      "+--------+-----------+\n",
      "\n"
     ]
    }
   ],
   "source": [
    "# maximum of `salary` column for each position\n",
    "df.groupBy('Position').max().show()"
   ]
  },
  {
   "cell_type": "code",
   "execution_count": 12,
   "id": "639781a2",
   "metadata": {},
   "outputs": [
    {
     "name": "stdout",
     "output_type": "stream",
     "text": [
      "+--------+-----------+\n",
      "|Position|sum(Salary)|\n",
      "+--------+-----------+\n",
      "|  Senior|        295|\n",
      "|  Middle|        185|\n",
      "|  Junior|        173|\n",
      "+--------+-----------+\n",
      "\n"
     ]
    }
   ],
   "source": [
    "# sum of `salary` column for each position\n",
    "df.groupBy('Position').sum().show()"
   ]
  },
  {
   "cell_type": "code",
   "execution_count": 15,
   "id": "0ed7a00a",
   "metadata": {},
   "outputs": [
    {
     "name": "stdout",
     "output_type": "stream",
     "text": [
      "+-------+-----+\n",
      "|Country|count|\n",
      "+-------+-----+\n",
      "| Russia|    2|\n",
      "|  India|    1|\n",
      "|  Italy|    1|\n",
      "|  Spain|    2|\n",
      "|    USA|    1|\n",
      "+-------+-----+\n",
      "\n"
     ]
    }
   ],
   "source": [
    "# number of entries for each country\n",
    "df.groupBy('Country').count().show()"
   ]
  },
  {
   "cell_type": "markdown",
   "id": "8461ca82",
   "metadata": {},
   "source": [
    "## Only aggregate"
   ]
  },
  {
   "cell_type": "code",
   "execution_count": 19,
   "id": "28020625",
   "metadata": {},
   "outputs": [
    {
     "name": "stdout",
     "output_type": "stream",
     "text": [
      "+-----------+\n",
      "|max(Salary)|\n",
      "+-----------+\n",
      "|        155|\n",
      "+-----------+\n",
      "\n"
     ]
    }
   ],
   "source": [
    "# find the max of `salary` column\n",
    "df.agg({'Salary':'max'}).show()"
   ]
  },
  {
   "cell_type": "code",
   "execution_count": 25,
   "id": "4f7c47a5",
   "metadata": {},
   "outputs": [
    {
     "name": "stdout",
     "output_type": "stream",
     "text": [
      "+---------+\n",
      "|max(Name)|\n",
      "+---------+\n",
      "|    Torry|\n",
      "+---------+\n",
      "\n"
     ]
    }
   ],
   "source": [
    "# max of `name` column (??) \n",
    "df.agg({'Name':'max'}).show()"
   ]
  }
 ],
 "metadata": {
  "kernelspec": {
   "display_name": "Python 3",
   "language": "python",
   "name": "python3"
  },
  "language_info": {
   "codemirror_mode": {
    "name": "ipython",
    "version": 3
   },
   "file_extension": ".py",
   "mimetype": "text/x-python",
   "name": "python",
   "nbconvert_exporter": "python",
   "pygments_lexer": "ipython3",
   "version": "3.8.8"
  },
  "toc": {
   "base_numbering": 1,
   "nav_menu": {},
   "number_sections": true,
   "sideBar": true,
   "skip_h1_title": false,
   "title_cell": "Table of Contents",
   "title_sidebar": "Contents",
   "toc_cell": false,
   "toc_position": {},
   "toc_section_display": true,
   "toc_window_display": false
  }
 },
 "nbformat": 4,
 "nbformat_minor": 5
}
