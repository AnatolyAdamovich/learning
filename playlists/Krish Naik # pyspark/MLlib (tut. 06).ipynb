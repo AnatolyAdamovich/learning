{
 "cells": [
  {
   "cell_type": "code",
   "execution_count": 1,
   "id": "f9fb6606-6dae-4b86-8bde-f424c81f172d",
   "metadata": {},
   "outputs": [],
   "source": [
    "import pyspark\n",
    "from pyspark.sql import SparkSession"
   ]
  },
  {
   "cell_type": "markdown",
   "id": "0745b15c-c4b3-4d76-81e6-9c97d56fcf6b",
   "metadata": {
    "tags": []
   },
   "source": [
    "# Mlib\n",
    "It is spark's machine learning library\n",
    "\n",
    "There are 2 different techniques to work with ML:  \n",
    "1. RDD-based \n",
    "2. DataFrames\n",
    "\n",
    "We will be focusing on DataFrame API's"
   ]
  },
  {
   "cell_type": "code",
   "execution_count": 3,
   "id": "9a953798-3f32-4f79-9558-3ac8c3d8f465",
   "metadata": {},
   "outputs": [
    {
     "data": {
      "text/html": [
       "\n",
       "            <div>\n",
       "                <p><b>SparkSession - in-memory</b></p>\n",
       "                \n",
       "        <div>\n",
       "            <p><b>SparkContext</b></p>\n",
       "\n",
       "            <p><a href=\"http://LAPTOP-0TIS9VBD:4040\">Spark UI</a></p>\n",
       "\n",
       "            <dl>\n",
       "              <dt>Version</dt>\n",
       "                <dd><code>v3.3.0</code></dd>\n",
       "              <dt>Master</dt>\n",
       "                <dd><code>local[*]</code></dd>\n",
       "              <dt>AppName</dt>\n",
       "                <dd><code>MLlib-intro</code></dd>\n",
       "            </dl>\n",
       "        </div>\n",
       "        \n",
       "            </div>\n",
       "        "
      ],
      "text/plain": [
       "<pyspark.sql.session.SparkSession at 0x268908116d0>"
      ]
     },
     "execution_count": 3,
     "metadata": {},
     "output_type": "execute_result"
    }
   ],
   "source": [
    "spark = SparkSession.builder.appName('MLlib-intro').getOrCreate()\n",
    "spark"
   ]
  },
  {
   "cell_type": "code",
   "execution_count": 4,
   "id": "b705d72a-79dd-4966-a808-61ee9974b632",
   "metadata": {},
   "outputs": [
    {
     "name": "stdout",
     "output_type": "stream",
     "text": [
      "+-------+---+----------+------+\n",
      "|   Name|Age|Experience|Salary|\n",
      "+-------+---+----------+------+\n",
      "|  Krish| 31|        10|190000|\n",
      "|  Sunny| 30|         8|150000|\n",
      "|  Sudfa| 29|         4|100000|\n",
      "| Harsha| 24|         3|100000|\n",
      "|Shubham| 21|         1| 50000|\n",
      "|   Paul| 23|         2| 65000|\n",
      "+-------+---+----------+------+\n",
      "\n"
     ]
    }
   ],
   "source": [
    "data = spark.read.options(header=True, inferSchema=True, delimiter=';').csv('data/test_tut06.csv')\n",
    "data.show()"
   ]
  },
  {
   "cell_type": "markdown",
   "id": "46940e09-1272-423a-9ece-1674c1b4c6b9",
   "metadata": {},
   "source": [
    "We are going to predict **salary**"
   ]
  },
  {
   "cell_type": "code",
   "execution_count": 5,
   "id": "5789cd1d-068b-42e0-ae82-287aed4131d3",
   "metadata": {},
   "outputs": [],
   "source": [
    "from pyspark.ml.feature import VectorAssembler"
   ]
  },
  {
   "cell_type": "code",
   "execution_count": 6,
   "id": "da639165-b3b2-47a8-9efc-1443627f3d26",
   "metadata": {},
   "outputs": [
    {
     "name": "stdout",
     "output_type": "stream",
     "text": [
      "+-------+---+----------+------+-----------+\n",
      "|   Name|Age|Experience|Salary|Combination|\n",
      "+-------+---+----------+------+-----------+\n",
      "|  Krish| 31|        10|190000|[31.0,10.0]|\n",
      "|  Sunny| 30|         8|150000| [30.0,8.0]|\n",
      "|  Sudfa| 29|         4|100000| [29.0,4.0]|\n",
      "| Harsha| 24|         3|100000| [24.0,3.0]|\n",
      "|Shubham| 21|         1| 50000| [21.0,1.0]|\n",
      "|   Paul| 23|         2| 65000| [23.0,2.0]|\n",
      "+-------+---+----------+------+-----------+\n",
      "\n"
     ]
    }
   ],
   "source": [
    "independent_features = VectorAssembler(\n",
    "                        inputCols=['Age', 'Experience'],\n",
    "                        outputCol='Combination')\n",
    "data = independent_features.transform(data)\n",
    "data.show()"
   ]
  },
  {
   "cell_type": "markdown",
   "id": "e37f794d-4810-4024-b550-f509643f7f63",
   "metadata": {},
   "source": [
    "**Vector Assembler** is a way to combine all our features into a column vector (single independent feature)\n",
    "\n",
    "Now we want to predict `Salary` using our new single `combination` feature"
   ]
  },
  {
   "cell_type": "code",
   "execution_count": 7,
   "id": "3003f9b0-6c37-4138-97ce-4c3ed147ee1a",
   "metadata": {},
   "outputs": [
    {
     "name": "stdout",
     "output_type": "stream",
     "text": [
      "+-----------+------+\n",
      "|Combination|Salary|\n",
      "+-----------+------+\n",
      "|[31.0,10.0]|190000|\n",
      "| [30.0,8.0]|150000|\n",
      "| [29.0,4.0]|100000|\n",
      "| [24.0,3.0]|100000|\n",
      "| [21.0,1.0]| 50000|\n",
      "| [23.0,2.0]| 65000|\n",
      "+-----------+------+\n",
      "\n"
     ]
    }
   ],
   "source": [
    "final_data = data.select(['Combination', 'Salary'])\n",
    "final_data.show()"
   ]
  },
  {
   "cell_type": "code",
   "execution_count": 23,
   "id": "1b469d77-eb87-47fc-b093-56e3c6ed8229",
   "metadata": {},
   "outputs": [
    {
     "data": {
      "text/plain": [
       "(DenseVector([9912.2807, 4692.9825]), -162850.87719294647)"
      ]
     },
     "execution_count": 23,
     "metadata": {},
     "output_type": "execute_result"
    }
   ],
   "source": [
    "from pyspark.ml.regression import LinearRegression\n",
    "\n",
    "train, test = final_data.randomSplit([0.65, 0.35])\n",
    "model = LinearRegression(featuresCol='Combination',\n",
    "                         labelCol='Salary')\n",
    "model = model.fit(train)\n",
    "model.coefficients, model.intercept"
   ]
  },
  {
   "cell_type": "markdown",
   "id": "09faaa32-9298-4d85-8e9b-0e716ad1709a",
   "metadata": {},
   "source": [
    "How we make a prediction ?"
   ]
  },
  {
   "cell_type": "code",
   "execution_count": 26,
   "id": "fc5c9c40-f23c-498a-82e1-00e5469a14f3",
   "metadata": {},
   "outputs": [
    {
     "name": "stdout",
     "output_type": "stream",
     "text": [
      "+-----------+------+\n",
      "|Combination|Salary|\n",
      "+-----------+------+\n",
      "| [29.0,4.0]|100000|\n",
      "| [30.0,8.0]|150000|\n",
      "+-----------+------+\n",
      "\n"
     ]
    }
   ],
   "source": [
    "test.show()"
   ]
  },
  {
   "cell_type": "code",
   "execution_count": 24,
   "id": "fec9b6c5-5fb7-4c5e-8d0b-bc7c0a916997",
   "metadata": {},
   "outputs": [],
   "source": [
    "pred_result = model.evaluate(test)"
   ]
  },
  {
   "cell_type": "code",
   "execution_count": 25,
   "id": "64b1617b-c5bc-4faa-a914-9e125d2e1a3b",
   "metadata": {},
   "outputs": [
    {
     "name": "stdout",
     "output_type": "stream",
     "text": [
      "+-----------+------+------------------+\n",
      "|Combination|Salary|        prediction|\n",
      "+-----------+------+------------------+\n",
      "| [29.0,4.0]|100000|143377.19298244864|\n",
      "| [30.0,8.0]|150000|172061.40350877013|\n",
      "+-----------+------+------------------+\n",
      "\n"
     ]
    }
   ],
   "source": [
    "pred_result.predictions.show()"
   ]
  },
  {
   "cell_type": "markdown",
   "id": "dc69fd87-b0a1-4dbb-86c2-387083bb0d97",
   "metadata": {},
   "source": [
    "Also we can use other metrics"
   ]
  },
  {
   "cell_type": "code",
   "execution_count": 31,
   "id": "691b5684-a2d9-46e9-8d33-28fde56c5682",
   "metadata": {},
   "outputs": [
    {
     "data": {
      "text/plain": [
       "1184143197.9066834"
      ]
     },
     "execution_count": 31,
     "metadata": {},
     "output_type": "execute_result"
    }
   ],
   "source": [
    "pred_result.meanSquaredError"
   ]
  },
  {
   "cell_type": "code",
   "execution_count": 32,
   "id": "3d710266-9c5b-49a1-bdc5-dfe3a7bb40d3",
   "metadata": {},
   "outputs": [
    {
     "data": {
      "text/plain": [
       "32719.29824560939"
      ]
     },
     "execution_count": 32,
     "metadata": {},
     "output_type": "execute_result"
    }
   ],
   "source": [
    "pred_result.meanAbsoluteError"
   ]
  }
 ],
 "metadata": {
  "kernelspec": {
   "display_name": "Python 3 (ipykernel)",
   "language": "python",
   "name": "python3"
  },
  "language_info": {
   "codemirror_mode": {
    "name": "ipython",
    "version": 3
   },
   "file_extension": ".py",
   "mimetype": "text/x-python",
   "name": "python",
   "nbconvert_exporter": "python",
   "pygments_lexer": "ipython3",
   "version": "3.8.6"
  }
 },
 "nbformat": 4,
 "nbformat_minor": 5
}
