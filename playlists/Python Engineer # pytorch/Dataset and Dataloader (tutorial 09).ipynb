{
 "cells": [
  {
   "cell_type": "code",
   "execution_count": 4,
   "id": "6f94b2d8",
   "metadata": {},
   "outputs": [],
   "source": [
    "import torch\n",
    "from torch.utils.data import Dataset, DataLoader\n",
    "import torchvision\n",
    "import math\n",
    "import numpy as np\n",
    "from sklearn.datasets import load_wine"
   ]
  },
  {
   "cell_type": "markdown",
   "id": "a9ca391f",
   "metadata": {},
   "source": [
    "# Datasets and Dataloader \n",
    "Work with the whole dataset might be *very time&memory consuming*, so a better way for a large dataset is **to divide the samples into mini-batches** and **do optimization based on current batch**\n",
    "\n",
    "PyTorch provide special classes that can do the batch separation/optimization for us.  \n",
    "Some terms:  \n",
    "- *epoch* - forward and backward pass of ALL training samples (might be many batches)  \n",
    "- *batch size* - number of samples in one forward & backward pass  \n",
    "- *number of iterations* - number of passes to make one epoch (each pass using [batch size] number of samples) e.g. 100 samples, batch size=20 --> 5 iterations on 1 epoch"
   ]
  },
  {
   "cell_type": "code",
   "execution_count": 25,
   "id": "463f737b",
   "metadata": {},
   "outputs": [],
   "source": [
    "# we have to implement 3 things\n",
    "class WineDataset(Dataset):\n",
    "    def __init__(self):\n",
    "        # data loading\n",
    "        self.dataset = load_wine()\n",
    "        self.X = torch.from_numpy(dataset.data.astype(np.float32))\n",
    "        self.y = torch.from_numpy(dataset.target.astype(np.float32))\n",
    "        # we need column vector\n",
    "        self.y = y.view(-1, 1)\n",
    "        \n",
    "    def __getitem__(self, index):\n",
    "        # dataset[index] -> (object, label/target)\n",
    "        return (self.X[index], self.y[index])\n",
    "\n",
    "    def __len__(self):\n",
    "        # length of our dataset (number of samples)\n",
    "        return self.X.shape[0]"
   ]
  },
  {
   "cell_type": "code",
   "execution_count": 27,
   "id": "3619f655",
   "metadata": {},
   "outputs": [
    {
     "name": "stdout",
     "output_type": "stream",
     "text": [
      "length of dataset is 178\n"
     ]
    },
    {
     "data": {
      "text/plain": [
       "(tensor([1.4200e+01, 1.7600e+00, 2.4500e+00, 1.5200e+01, 1.1200e+02, 3.2700e+00,\n",
       "         3.3900e+00, 3.4000e-01, 1.9700e+00, 6.7500e+00, 1.0500e+00, 2.8500e+00,\n",
       "         1.4500e+03]),\n",
       " tensor([0.]))"
      ]
     },
     "execution_count": 27,
     "metadata": {},
     "output_type": "execute_result"
    }
   ],
   "source": [
    "dataset = WineDataset()\n",
    "print('length of dataset is', len(dataset))\n",
    "dataset[5]"
   ]
  },
  {
   "cell_type": "code",
   "execution_count": 38,
   "id": "3226af15",
   "metadata": {},
   "outputs": [],
   "source": [
    "# \n",
    "dataloader = DataLoader(dataset=dataset,\n",
    "                        batch_size=32,\n",
    "                        shuffle=True,\n",
    "                        #num_workers=2 using some workers might make train faster\n",
    "                         ) "
   ]
  },
  {
   "cell_type": "markdown",
   "id": "214793c7",
   "metadata": {},
   "source": [
    "Now we can use our dataloader as an iterator"
   ]
  },
  {
   "cell_type": "code",
   "execution_count": 40,
   "id": "5a83f80a",
   "metadata": {},
   "outputs": [
    {
     "name": "stdout",
     "output_type": "stream",
     "text": [
      "\n",
      "epoch is 1  -----------------------------------------\n",
      "batch №1: size of batch is torch.Size([32, 13])\n",
      "batch №2: size of batch is torch.Size([32, 13])\n",
      "batch №3: size of batch is torch.Size([32, 13])\n",
      "batch №4: size of batch is torch.Size([32, 13])\n",
      "batch №5: size of batch is torch.Size([32, 13])\n",
      "batch №6: size of batch is torch.Size([18, 13])\n",
      "\n",
      "epoch is 2  -----------------------------------------\n",
      "batch №1: size of batch is torch.Size([32, 13])\n",
      "batch №2: size of batch is torch.Size([32, 13])\n",
      "batch №3: size of batch is torch.Size([32, 13])\n",
      "batch №4: size of batch is torch.Size([32, 13])\n",
      "batch №5: size of batch is torch.Size([32, 13])\n",
      "batch №6: size of batch is torch.Size([18, 13])\n"
     ]
    }
   ],
   "source": [
    "number_of_epoches = 2\n",
    "for epoch in range(number_of_epoches):\n",
    "    print()\n",
    "    print(f'epoch is {epoch+1}  -----------------------------------------')\n",
    "    for i, (features, target) in enumerate(dataloader):\n",
    "        print(f'batch №{i+1}: size of batch is {features.shape}')\n",
    "        # targets = {target.view(-1)}')"
   ]
  },
  {
   "cell_type": "markdown",
   "id": "04b4c3e2",
   "metadata": {},
   "source": [
    "Also we can use *PyTorch built-in datasets*"
   ]
  },
  {
   "cell_type": "code",
   "execution_count": null,
   "id": "59347891",
   "metadata": {},
   "outputs": [],
   "source": [
    "MNIST_dataset = torchvision.datasets.MNIST()"
   ]
  }
 ],
 "metadata": {
  "kernelspec": {
   "display_name": "Python 3",
   "language": "python",
   "name": "python3"
  },
  "language_info": {
   "codemirror_mode": {
    "name": "ipython",
    "version": 3
   },
   "file_extension": ".py",
   "mimetype": "text/x-python",
   "name": "python",
   "nbconvert_exporter": "python",
   "pygments_lexer": "ipython3",
   "version": "3.8.8"
  },
  "toc": {
   "base_numbering": 1,
   "nav_menu": {},
   "number_sections": true,
   "sideBar": true,
   "skip_h1_title": false,
   "title_cell": "Table of Contents",
   "title_sidebar": "Contents",
   "toc_cell": false,
   "toc_position": {},
   "toc_section_display": true,
   "toc_window_display": false
  }
 },
 "nbformat": 4,
 "nbformat_minor": 5
}
