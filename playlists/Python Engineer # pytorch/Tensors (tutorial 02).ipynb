{
 "cells": [
  {
   "cell_type": "markdown",
   "id": "0c549365",
   "metadata": {},
   "source": [
    "# Tensors\n",
    "A tensor is both a container for numbers as well as a set of rules that define transformations between tensors that produce new tensors. In pytorch everything based on tensors. It's multidimensional array. Every tensor has a rank (e.g. scalar has rank=0, vector has rank=1, matrix - 2). "
   ]
  },
  {
   "cell_type": "code",
   "execution_count": 32,
   "id": "e00d2277",
   "metadata": {},
   "outputs": [],
   "source": [
    "import torch\n",
    "torch.random.manual_seed(19)\n",
    "import numpy as np"
   ]
  },
  {
   "cell_type": "markdown",
   "id": "c4b67a30",
   "metadata": {},
   "source": [
    "## Creating, get the value from scalar"
   ]
  },
  {
   "cell_type": "code",
   "execution_count": 16,
   "id": "53afb0a5",
   "metadata": {},
   "outputs": [
    {
     "name": "stdout",
     "output_type": "stream",
     "text": [
      "empty with shape torch.Size([2, 2, 3]) \n",
      " tensor([[[0., 0., 0.],\n",
      "         [0., 0., 0.]],\n",
      "\n",
      "        [[0., 0., 0.],\n",
      "         [0., 0., 0.]]])\n"
     ]
    }
   ],
   "source": [
    "# empty\n",
    "X = torch.empty(2,2,3)\n",
    "print('empty with shape', X.shape, '\\n', X)"
   ]
  },
  {
   "cell_type": "code",
   "execution_count": 19,
   "id": "b718ee10",
   "metadata": {},
   "outputs": [
    {
     "name": "stdout",
     "output_type": "stream",
     "text": [
      "random with shape torch.Size([3, 2, 1]) \n",
      " tensor([[[0.7291],\n",
      "         [0.4305]],\n",
      "\n",
      "        [[0.2764],\n",
      "         [0.3478]],\n",
      "\n",
      "        [[0.5510],\n",
      "         [0.2707]]])\n"
     ]
    }
   ],
   "source": [
    "# with random values\n",
    "X = torch.rand(3, 2, 1)\n",
    "print('random with shape', X.shape, '\\n', X)"
   ]
  },
  {
   "cell_type": "code",
   "execution_count": 20,
   "id": "0cfd6f2b",
   "metadata": {},
   "outputs": [
    {
     "name": "stdout",
     "output_type": "stream",
     "text": [
      "zeros with shape torch.Size([2, 5]) \n",
      " tensor([[0., 0., 0., 0., 0.],\n",
      "        [0., 0., 0., 0., 0.]])\n"
     ]
    }
   ],
   "source": [
    "# with zeros\n",
    "X = torch.zeros(2, 5)\n",
    "print('zeros with shape', X.shape, '\\n', X)"
   ]
  },
  {
   "cell_type": "code",
   "execution_count": 21,
   "id": "9db59b0a",
   "metadata": {},
   "outputs": [
    {
     "name": "stdout",
     "output_type": "stream",
     "text": [
      "ones with shape torch.Size([3, 4]) \n",
      " tensor([[1., 1., 1., 1.],\n",
      "        [1., 1., 1., 1.],\n",
      "        [1., 1., 1., 1.]])\n"
     ]
    }
   ],
   "source": [
    "# with ones\n",
    "X = torch.ones(3, 4)\n",
    "print('ones with shape', X.shape, '\\n', X)"
   ]
  },
  {
   "cell_type": "code",
   "execution_count": 23,
   "id": "f84e88a7",
   "metadata": {},
   "outputs": [
    {
     "name": "stdout",
     "output_type": "stream",
     "text": [
      "X (scalar tensor) = tensor([1])\n",
      "X (after getting value) = 1\n"
     ]
    }
   ],
   "source": [
    "# get the simple value\n",
    "X = torch.tensor([1])\n",
    "print('X (scalar tensor) =', X)\n",
    "X = X.item()\n",
    "print('X (after getting value) =', X)"
   ]
  },
  {
   "cell_type": "markdown",
   "id": "cbc57f71",
   "metadata": {},
   "source": [
    "## Set the type and device of tensor"
   ]
  },
  {
   "cell_type": "code",
   "execution_count": 27,
   "id": "dd2ac0d1",
   "metadata": {},
   "outputs": [
    {
     "name": "stdout",
     "output_type": "stream",
     "text": [
      "tensor([[1.],\n",
      "        [2.]], dtype=torch.float16)\n",
      "After changing the type\n",
      " tensor([[1],\n",
      "        [2]], dtype=torch.int16)\n"
     ]
    }
   ],
   "source": [
    "# set type\n",
    "X = torch.tensor([[1],\n",
    "                  [2]], dtype=torch.float16)\n",
    "print(X)\n",
    "\n",
    "# change the type\n",
    "X = X.to(dtype=torch.int16)\n",
    "print('After changing the type\\n', X)"
   ]
  },
  {
   "cell_type": "markdown",
   "id": "af77ca9b",
   "metadata": {},
   "source": [
    "The heart of every deep learning box is GPU. It's likely going to be the most expensive component in your machine.\n",
    "\n",
    "Tensors can live on GPU (CUDA) and CPU"
   ]
  },
  {
   "cell_type": "code",
   "execution_count": 28,
   "id": "1bc3d653",
   "metadata": {},
   "outputs": [
    {
     "data": {
      "text/plain": [
       "False"
      ]
     },
     "execution_count": 28,
     "metadata": {},
     "output_type": "execute_result"
    }
   ],
   "source": [
    "# check if GPU is available\n",
    "torch.cuda.is_available()"
   ]
  },
  {
   "cell_type": "code",
   "execution_count": 31,
   "id": "9b804de1",
   "metadata": {},
   "outputs": [
    {
     "name": "stdout",
     "output_type": "stream",
     "text": [
      "cpu\n"
     ]
    }
   ],
   "source": [
    "cpu_tensor = torch.rand(1,2,3)\n",
    "print(cpu_tensor.device)\n",
    "\n",
    "# gpu_tensor = cpu_tensor.to(\"cuda\")\n",
    "# you can use your GPU or GPU provided by Google"
   ]
  },
  {
   "cell_type": "markdown",
   "id": "af7650cc",
   "metadata": {},
   "source": [
    "You can make a tensor from numpy array and also converted tensor to numpy array"
   ]
  },
  {
   "cell_type": "code",
   "execution_count": 50,
   "id": "0b8dd467",
   "metadata": {},
   "outputs": [
    {
     "name": "stdout",
     "output_type": "stream",
     "text": [
      "X (numpy array):\n",
      " [[ 1  2]\n",
      " [15 22]] \n",
      "\n",
      "Y (torch tensor):\n",
      " tensor([[ 1,  2],\n",
      "        [15, 22]], dtype=torch.int32) \n",
      "\n",
      "Z (numpy array):\n",
      " [[ 1  2]\n",
      " [15 22]]\n"
     ]
    }
   ],
   "source": [
    "X = np.array([[1, 2], [15, 22]])\n",
    "print('X (numpy array):\\n', X, '\\n')\n",
    "\n",
    "Y = torch.from_numpy(X)\n",
    "print('Y (torch tensor):\\n', Y, '\\n')\n",
    "\n",
    "Z = Y.numpy()\n",
    "print('Z (numpy array):\\n', Z)"
   ]
  },
  {
   "cell_type": "markdown",
   "id": "e22c5396",
   "metadata": {},
   "source": [
    "## Tensor operations\n",
    "There are a lot of functions that you can apply to tensors: everything from finding the maximum value to applying a Fourier transform"
   ]
  },
  {
   "cell_type": "code",
   "execution_count": 52,
   "id": "d55ba189",
   "metadata": {},
   "outputs": [],
   "source": [
    "X = torch.tensor([1, 2])\n",
    "Y = torch.tensor([2, 4])"
   ]
  },
  {
   "cell_type": "code",
   "execution_count": 53,
   "id": "2645cfca",
   "metadata": {},
   "outputs": [
    {
     "name": "stdout",
     "output_type": "stream",
     "text": [
      "X+Y\n",
      " tensor([3, 6])\n",
      "X*Y\n",
      " tensor([2, 8])\n",
      "Y/X\n",
      " tensor([2., 2.])\n"
     ]
    }
   ],
   "source": [
    "# simple\n",
    "print('X+Y\\n', X + Y)\n",
    "print('X*Y\\n', X * Y)\n",
    "print('Y/X\\n', Y / X)"
   ]
  },
  {
   "cell_type": "markdown",
   "id": "d79c7148",
   "metadata": {},
   "source": [
    "We can use another method for the same operations"
   ]
  },
  {
   "cell_type": "code",
   "execution_count": 55,
   "id": "0fb9db5e",
   "metadata": {},
   "outputs": [
    {
     "name": "stdout",
     "output_type": "stream",
     "text": [
      "X+Y\n",
      " tensor([3, 6])\n",
      "X*Y\n",
      " tensor([2, 8])\n",
      "Y/X\n",
      " tensor([2., 2.])\n"
     ]
    }
   ],
   "source": [
    "print('X+Y\\n', X.add(Y))\n",
    "print('X*Y\\n', X.mul(Y))\n",
    "print('Y/X\\n', Y.div(X))"
   ]
  },
  {
   "cell_type": "markdown",
   "id": "75131048",
   "metadata": {},
   "source": [
    "If you want to save memory: see if an \"in-place\" function is defined"
   ]
  },
  {
   "cell_type": "code",
   "execution_count": 56,
   "id": "89159bf3",
   "metadata": {},
   "outputs": [
    {
     "data": {
      "text/plain": [
       "tensor([3, 6])"
      ]
     },
     "execution_count": 56,
     "metadata": {},
     "output_type": "execute_result"
    }
   ],
   "source": [
    "# it is always with an appended underscore _\n",
    "X.add_(Y)\n",
    "X"
   ]
  },
  {
   "cell_type": "code",
   "execution_count": 59,
   "id": "97ac2e8e",
   "metadata": {},
   "outputs": [
    {
     "name": "stdout",
     "output_type": "stream",
     "text": [
      "Maximum of X is 6 and index of max is 1\n"
     ]
    }
   ],
   "source": [
    "print(f'Maximum of X is {X.max().item()} and index of max is {X.argmax()}')"
   ]
  },
  {
   "cell_type": "markdown",
   "id": "84269b7d",
   "metadata": {},
   "source": [
    "## Size of tensor\n",
    "Sometimes we need to resize our tensor. For example: MNIST contains images 28x28, but the way it's packaged is in array of lenght $28*28 = 784$. To use network we should change the size to format  [channels, height, width]"
   ]
  },
  {
   "cell_type": "code",
   "execution_count": 63,
   "id": "06db0ff0",
   "metadata": {},
   "outputs": [
    {
     "name": "stdout",
     "output_type": "stream",
     "text": [
      "shape before resize: torch.Size([784])\n",
      "shape after view() method: torch.Size([1, 28, 28])\n",
      "shape after reshape() method: torch.Size([1, 28, 28])\n"
     ]
    }
   ],
   "source": [
    "mnist_num = torch.rand(784)\n",
    "print(f'shape before resize: {mnist_num.shape}')\n",
    "viewed_num = mnist_num.view(1, 28, 28)\n",
    "print(f'shape after view() method: {viewed_num.shape}')\n",
    "reshaped_num = mnist_num.reshape(1, 28, 28)\n",
    "print(f'shape after reshape() method: {reshaped_num.shape}')"
   ]
  },
  {
   "cell_type": "markdown",
   "id": "afbda649",
   "metadata": {},
   "source": [
    "The difference between `view` and `reshape`: second method return a tensor which could be a view of imput (if it possible because of memory) or could be a copy of input. First method can only return the view so it sometimes throw an error (in this case you should use `.contiguos().view(output_size)` construction)"
   ]
  },
  {
   "cell_type": "code",
   "execution_count": 65,
   "id": "9a77897a",
   "metadata": {},
   "outputs": [
    {
     "name": "stdout",
     "output_type": "stream",
     "text": [
      "torch.Size([18, 3])\n"
     ]
    }
   ],
   "source": [
    "# torch can determine the size by own\n",
    "X = torch.rand(3,2, 9)\n",
    "X = X.reshape(-1, 3)\n",
    "# this concepth also used when we want to save dimension\n",
    "print(X.shape)"
   ]
  },
  {
   "cell_type": "markdown",
   "id": "6a98ee48",
   "metadata": {},
   "source": [
    "If we want to rearrange the dimensions of our tensor we can use `permute` function"
   ]
  },
  {
   "cell_type": "code",
   "execution_count": 66,
   "id": "57ebe62a",
   "metadata": {},
   "outputs": [
    {
     "data": {
      "text/plain": [
       "torch.Size([85, 300, 21])"
      ]
     },
     "execution_count": 66,
     "metadata": {},
     "output_type": "execute_result"
    }
   ],
   "source": [
    "X = torch.rand(300, 21, 85)\n",
    "X = X.permute(2, 0, 1)\n",
    "X.shape"
   ]
  }
 ],
 "metadata": {
  "kernelspec": {
   "display_name": "Python 3",
   "language": "python",
   "name": "python3"
  },
  "language_info": {
   "codemirror_mode": {
    "name": "ipython",
    "version": 3
   },
   "file_extension": ".py",
   "mimetype": "text/x-python",
   "name": "python",
   "nbconvert_exporter": "python",
   "pygments_lexer": "ipython3",
   "version": "3.8.8"
  },
  "toc": {
   "base_numbering": 1,
   "nav_menu": {},
   "number_sections": true,
   "sideBar": true,
   "skip_h1_title": false,
   "title_cell": "Table of Contents",
   "title_sidebar": "Contents",
   "toc_cell": false,
   "toc_position": {},
   "toc_section_display": true,
   "toc_window_display": false
  }
 },
 "nbformat": 4,
 "nbformat_minor": 5
}
