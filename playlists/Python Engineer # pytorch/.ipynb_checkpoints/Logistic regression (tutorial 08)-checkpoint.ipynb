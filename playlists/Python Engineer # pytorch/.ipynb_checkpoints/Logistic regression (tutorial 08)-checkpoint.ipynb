{
 "cells": [
  {
   "cell_type": "code",
   "execution_count": 15,
   "id": "1d718c69",
   "metadata": {},
   "outputs": [],
   "source": [
    "import torch\n",
    "import torch.nn as nn\n",
    "import numpy as np\n",
    "from sklearn import datasets\n",
    "from sklearn.model_selection import train_test_split\n",
    "from sklearn.preprocessing import StandardScaler\n",
    "\n",
    "np.random.seed(0)"
   ]
  },
  {
   "cell_type": "markdown",
   "id": "78ef9ab4",
   "metadata": {},
   "source": [
    "# Logistic regression\n",
    "We follow 3 steps:  \n",
    "1) Design a model (input/output size, forward pass)  \n",
    "2) Construct loss, optimizer  \n",
    "3) Training loop:\n",
    " - forward pass: calculate output and loss\n",
    " - backward pass: calculate local and general gradients\n",
    " - update weights\n",
    " \n",
    " \n",
    "In this notebook we create logistic regression and apply it to binary classification problem"
   ]
  },
  {
   "cell_type": "markdown",
   "id": "b262891a",
   "metadata": {},
   "source": [
    "## Data preparing"
   ]
  },
  {
   "cell_type": "code",
   "execution_count": 50,
   "id": "6f7ebe24",
   "metadata": {},
   "outputs": [
    {
     "name": "stdout",
     "output_type": "stream",
     "text": [
      "number of samples is 569, number of features is 30\n"
     ]
    }
   ],
   "source": [
    "dataset = datasets.load_breast_cancer()\n",
    "X, y = dataset.data, dataset.target\n",
    "\n",
    "n_samples, n_features = X.shape\n",
    "print('number of samples is {}, number of features is {}'.format(n_samples, n_features))"
   ]
  },
  {
   "cell_type": "code",
   "execution_count": 51,
   "id": "f3ed8da1",
   "metadata": {},
   "outputs": [],
   "source": [
    "X_train, X_test, y_train, y_test = train_test_split(X, y, test_size=0.25)"
   ]
  },
  {
   "cell_type": "markdown",
   "id": "8b0e5122",
   "metadata": {},
   "source": [
    "It is *recommended* for logistic regression to **scale features** (make each feature column with mean=0 and std=1)"
   ]
  },
  {
   "cell_type": "code",
   "execution_count": 52,
   "id": "b87aa6d9",
   "metadata": {},
   "outputs": [
    {
     "data": {
      "text/plain": [
       "array([1.41272917e+01, 1.92896485e+01, 9.19690334e+01, 6.54889104e+02,\n",
       "       9.63602812e-02, 1.04340984e-01, 8.87993158e-02, 4.89191459e-02,\n",
       "       1.81161863e-01, 6.27976098e-02, 4.05172056e-01, 1.21685343e+00,\n",
       "       2.86605923e+00, 4.03370791e+01, 7.04097891e-03, 2.54781388e-02,\n",
       "       3.18937163e-02, 1.17961371e-02, 2.05422988e-02, 3.79490387e-03,\n",
       "       1.62691898e+01, 2.56772232e+01, 1.07261213e+02, 8.80583128e+02,\n",
       "       1.32368594e-01, 2.54265044e-01, 2.72188483e-01, 1.14606223e-01,\n",
       "       2.90075571e-01, 8.39458172e-02])"
      ]
     },
     "execution_count": 52,
     "metadata": {},
     "output_type": "execute_result"
    }
   ],
   "source": [
    "X.mean(axis=0)"
   ]
  },
  {
   "cell_type": "code",
   "execution_count": 53,
   "id": "0d79a354",
   "metadata": {},
   "outputs": [
    {
     "data": {
      "text/plain": [
       "array([-5.05659677e-15,  1.80346088e-15,  3.38604992e-15, -3.24010511e-16,\n",
       "       -1.84411693e-15, -2.80214037e-15,  7.22426813e-16, -4.43828594e-16,\n",
       "       -1.65647360e-15,  1.13545063e-14, -7.02620017e-16, -5.90034021e-16,\n",
       "       -6.72388592e-16,  1.17146772e-16,  1.15921878e-15,  6.91674157e-16,\n",
       "        3.93269142e-16, -2.38202780e-16, -5.49377966e-16,  6.23392834e-16,\n",
       "       -2.05560660e-15,  3.24225519e-15, -5.50094659e-16, -1.23362457e-15,\n",
       "        1.64709144e-16,  1.23062749e-15, -1.30151497e-15,  7.34415137e-16,\n",
       "        1.62207233e-15,  9.43428955e-16])"
      ]
     },
     "execution_count": 53,
     "metadata": {},
     "output_type": "execute_result"
    }
   ],
   "source": [
    "sc = StandardScaler()\n",
    "X_train = sc.fit_transform(X_train)\n",
    "X_test = sc.transform(X_test)\n",
    "X_train.mean(axis=0)"
   ]
  },
  {
   "cell_type": "markdown",
   "id": "71823c99",
   "metadata": {},
   "source": [
    "Now we need to convert our data to `torch.tensor`"
   ]
  },
  {
   "cell_type": "code",
   "execution_count": 54,
   "id": "7e5d5eb8",
   "metadata": {},
   "outputs": [
    {
     "data": {
      "text/plain": [
       "(dtype('float64'), dtype('int32'))"
      ]
     },
     "execution_count": 54,
     "metadata": {},
     "output_type": "execute_result"
    }
   ],
   "source": [
    "# now it has\n",
    "X_train.dtype, y_train.dtype"
   ]
  },
  {
   "cell_type": "code",
   "execution_count": 55,
   "id": "7ba6f202",
   "metadata": {},
   "outputs": [],
   "source": [
    "X_train = torch.from_numpy(X_train.astype(np.float32))\n",
    "X_test = torch.from_numpy(X_test.astype(np.float32))\n",
    "\n",
    "y_train = torch.from_numpy(y_train.astype(np.float32))\n",
    "y_test = torch.from_numpy(y_test.astype(np.float32))"
   ]
  },
  {
   "cell_type": "code",
   "execution_count": 56,
   "id": "3f9eee5c",
   "metadata": {},
   "outputs": [
    {
     "data": {
      "text/plain": [
       "torch.Size([426])"
      ]
     },
     "execution_count": 56,
     "metadata": {},
     "output_type": "execute_result"
    }
   ],
   "source": [
    "y_train.shape"
   ]
  },
  {
   "cell_type": "markdown",
   "id": "186846ed",
   "metadata": {},
   "source": [
    "We need to convert labels to 2D tensor, where first dimension means number of samples"
   ]
  },
  {
   "cell_type": "code",
   "execution_count": 57,
   "id": "9133e9ab",
   "metadata": {},
   "outputs": [
    {
     "data": {
      "text/plain": [
       "torch.Size([426, 1])"
      ]
     },
     "execution_count": 57,
     "metadata": {},
     "output_type": "execute_result"
    }
   ],
   "source": [
    "y_train = y_train.view(-1, 1)\n",
    "y_train.shape"
   ]
  },
  {
   "cell_type": "code",
   "execution_count": 58,
   "id": "aec529fb",
   "metadata": {},
   "outputs": [],
   "source": [
    "y_test = y_test.view(-1, 1)"
   ]
  },
  {
   "cell_type": "markdown",
   "id": "27a89440",
   "metadata": {},
   "source": [
    "## Model\n",
    "Logistic regression is combinations of weights and features (with bias) and sigmoid function in the end"
   ]
  },
  {
   "cell_type": "code",
   "execution_count": 78,
   "id": "0cbbbf41",
   "metadata": {},
   "outputs": [
    {
     "data": {
      "text/plain": [
       "LogisticRegression(\n",
       "  (fc): Linear(in_features=30, out_features=1, bias=True)\n",
       ")"
      ]
     },
     "execution_count": 78,
     "metadata": {},
     "output_type": "execute_result"
    }
   ],
   "source": [
    "class LogisticRegression(nn.Module):\n",
    "    def __init__(self, number_input_features):\n",
    "        super(LogisticRegression, self).__init__()\n",
    "        self.fc = nn.Linear(in_features=number_input_features, out_features=1)\n",
    "    def forward(self, x):\n",
    "        x = self.fc(x)\n",
    "        x = torch.sigmoid(x)\n",
    "        return x\n",
    "\n",
    "model = LogisticRegression(number_input_features=n_features)\n",
    "model"
   ]
  },
  {
   "cell_type": "markdown",
   "id": "3dfc818c",
   "metadata": {},
   "source": [
    "## loss and optimizer"
   ]
  },
  {
   "cell_type": "code",
   "execution_count": 79,
   "id": "789e4ad7",
   "metadata": {},
   "outputs": [],
   "source": [
    "# Binary Cross Entropy\n",
    "criterion = nn.BCELoss()\n",
    "\n",
    "optimizer = torch.optim.SGD(model.parameters(), lr=0.01)"
   ]
  },
  {
   "cell_type": "markdown",
   "id": "f1b69d01",
   "metadata": {},
   "source": [
    "## training loop"
   ]
  },
  {
   "cell_type": "code",
   "execution_count": 80,
   "id": "c2a054b9",
   "metadata": {},
   "outputs": [],
   "source": [
    "num_epoches = 150\n",
    "\n",
    "loss_values = []\n",
    "for epoch in range(num_epoches):\n",
    "    # forward pass\n",
    "    output = model(X_train)\n",
    "    loss = criterion(output, y_train)\n",
    "    \n",
    "    # backward pass\n",
    "    loss.backward()\n",
    "    # update weights\n",
    "    optimizer.step()\n",
    "    optimizer.zero_grad()\n",
    "    \n",
    "    loss_values.append(loss.item())"
   ]
  },
  {
   "cell_type": "code",
   "execution_count": 81,
   "id": "10c76e80",
   "metadata": {},
   "outputs": [
    {
     "name": "stdout",
     "output_type": "stream",
     "text": [
      "Accuracy on test set after training: 0.9720279574394226\n"
     ]
    }
   ],
   "source": [
    "with torch.no_grad():\n",
    "    test_predictions = model(X_test)\n",
    "    # this is array with values between 0 and 1\n",
    "    test_predictions = test_predictions.round()\n",
    "    acc = torch.eq(input=y_test, other=test_predictions).sum() / float(y_test.shape[0])\n",
    "\n",
    "print('Accuracy on test set after training: {}'.format(acc))"
   ]
  }
 ],
 "metadata": {
  "kernelspec": {
   "display_name": "Python 3",
   "language": "python",
   "name": "python3"
  },
  "language_info": {
   "codemirror_mode": {
    "name": "ipython",
    "version": 3
   },
   "file_extension": ".py",
   "mimetype": "text/x-python",
   "name": "python",
   "nbconvert_exporter": "python",
   "pygments_lexer": "ipython3",
   "version": "3.8.8"
  },
  "toc": {
   "base_numbering": 1,
   "nav_menu": {},
   "number_sections": true,
   "sideBar": true,
   "skip_h1_title": false,
   "title_cell": "Table of Contents",
   "title_sidebar": "Contents",
   "toc_cell": false,
   "toc_position": {},
   "toc_section_display": true,
   "toc_window_display": false
  }
 },
 "nbformat": 4,
 "nbformat_minor": 5
}
