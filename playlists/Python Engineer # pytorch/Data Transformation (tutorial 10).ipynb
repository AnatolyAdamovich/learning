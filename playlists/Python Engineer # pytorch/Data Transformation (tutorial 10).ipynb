{
 "cells": [
  {
   "cell_type": "code",
   "execution_count": 37,
   "id": "a425881d",
   "metadata": {},
   "outputs": [],
   "source": [
    "import torch\n",
    "import torchvision\n",
    "from torchvision import transforms\n",
    "from torch.utils.data import Dataset, DataLoader\n",
    "\n",
    "from sklearn.datasets import load_wine\n",
    "import numpy as np"
   ]
  },
  {
   "cell_type": "markdown",
   "id": "52ab0bc4",
   "metadata": {},
   "source": [
    "# Transformations\n",
    "PyTorch has a lot of transforms that we can apply on our dataset:\n",
    "- transforms for images  \n",
    "- transforms for tensors  \n",
    "- generic transforms (using lambda)\n",
    "- custom transforms  \n",
    "https://pytorch.org/vision/stable/transforms.html"
   ]
  },
  {
   "cell_type": "code",
   "execution_count": 38,
   "id": "f041feee",
   "metadata": {},
   "outputs": [],
   "source": [
    "# example of sequential with transformations\n",
    "compose = transforms.Compose([transforms.ToTensor(),\n",
    "                              transforms.Normalize([0.4914, 0.4822, 0.4465],\n",
    "                                                   [0.2471, 0.2435, 0.2616])])"
   ]
  },
  {
   "cell_type": "markdown",
   "id": "0a0d43d5",
   "metadata": {},
   "source": [
    "Here we are going to use dataset from last tutorial (№9). We **extend** it adding `transform` argument in `__init__`"
   ]
  },
  {
   "cell_type": "code",
   "execution_count": 39,
   "id": "013addd3",
   "metadata": {},
   "outputs": [],
   "source": [
    "class WineDataset(Dataset):\n",
    "    def __init__(self, transform=None):\n",
    "        # data loading\n",
    "        self.dataset = load_wine()\n",
    "        self.X = self.dataset.data.astype(np.float32)\n",
    "        self.y = self.dataset.target.astype(np.float32)\n",
    "        # we need column vector\n",
    "        self.y = self.y.reshape(-1, 1)\n",
    "        \n",
    "        self.transform = transform\n",
    "        \n",
    "    def __getitem__(self, index):\n",
    "        # dataset[index] -> (object, label/target)\n",
    "        sample = (self.X[index], self.y[index])\n",
    "        \n",
    "        # apply transformations if it is available\n",
    "        if self.transform:\n",
    "            sample = self.transform(sample)\n",
    "            \n",
    "        return sample\n",
    "\n",
    "    def __len__(self):\n",
    "        # length of our dataset (number of samples)\n",
    "        return self.X.shape[0]"
   ]
  },
  {
   "cell_type": "markdown",
   "id": "a078bbcd",
   "metadata": {},
   "source": [
    "Before using built-in classes for transformations, lets create  it by own"
   ]
  },
  {
   "cell_type": "code",
   "execution_count": 46,
   "id": "5007cbb5",
   "metadata": {},
   "outputs": [],
   "source": [
    "# we need to implement call method,\n",
    "# because it is callable object\n",
    "class ToTensor:\n",
    "    def __call__(self, sample):\n",
    "        inputs, targets = sample\n",
    "        return (torch.from_numpy(inputs), torch.from_numpy(targets))"
   ]
  },
  {
   "cell_type": "code",
   "execution_count": 47,
   "id": "652cfe3e",
   "metadata": {},
   "outputs": [
    {
     "data": {
      "text/plain": [
       "(numpy.ndarray, numpy.ndarray)"
      ]
     },
     "execution_count": 47,
     "metadata": {},
     "output_type": "execute_result"
    }
   ],
   "source": [
    "dataset_without_transformations = WineDataset()\n",
    "inp, out = dataset_without_transformations[0]\n",
    "type(inp), type(out)"
   ]
  },
  {
   "cell_type": "code",
   "execution_count": 48,
   "id": "f3fee569",
   "metadata": {},
   "outputs": [
    {
     "data": {
      "text/plain": [
       "(torch.Tensor, torch.Tensor)"
      ]
     },
     "execution_count": 48,
     "metadata": {},
     "output_type": "execute_result"
    }
   ],
   "source": [
    "dataset_with_transformations = WineDataset(transform=ToTensor())\n",
    "inp, out = dataset_with_transformations[0]\n",
    "type(inp), type(out)"
   ]
  },
  {
   "cell_type": "code",
   "execution_count": 55,
   "id": "1107387a",
   "metadata": {},
   "outputs": [
    {
     "data": {
      "text/plain": [
       "tensor([True, True, True, True, True, True, True, True, True, True, True, True,\n",
       "        True])"
      ]
     },
     "execution_count": 55,
     "metadata": {},
     "output_type": "execute_result"
    }
   ],
   "source": [
    "# multiply tensor\n",
    "class MulTransform:\n",
    "    def __init__(self, factor):\n",
    "        self.factor=factor\n",
    "    def __call__(self, sample):\n",
    "        inputs, targets = sample\n",
    "        inputs *= self.factor\n",
    "        return (inputs, targets)\n",
    "    \n",
    "# composition of transforms\n",
    "compose = transforms.Compose([ToTensor(),\n",
    "                              MulTransform(factor=5)])\n",
    "\n",
    "# apply it\n",
    "dataset_with_compose_transformations = WineDataset(transform=compose)\n",
    "inp_mul, out_mul = dataset_with_compose_transformations[0]\n",
    "\n",
    "inp_mul == (inp * 5)"
   ]
  }
 ],
 "metadata": {
  "kernelspec": {
   "display_name": "Python 3",
   "language": "python",
   "name": "python3"
  },
  "language_info": {
   "codemirror_mode": {
    "name": "ipython",
    "version": 3
   },
   "file_extension": ".py",
   "mimetype": "text/x-python",
   "name": "python",
   "nbconvert_exporter": "python",
   "pygments_lexer": "ipython3",
   "version": "3.8.8"
  },
  "toc": {
   "base_numbering": 1,
   "nav_menu": {},
   "number_sections": true,
   "sideBar": true,
   "skip_h1_title": false,
   "title_cell": "Table of Contents",
   "title_sidebar": "Contents",
   "toc_cell": false,
   "toc_position": {},
   "toc_section_display": true,
   "toc_window_display": false
  }
 },
 "nbformat": 4,
 "nbformat_minor": 5
}
