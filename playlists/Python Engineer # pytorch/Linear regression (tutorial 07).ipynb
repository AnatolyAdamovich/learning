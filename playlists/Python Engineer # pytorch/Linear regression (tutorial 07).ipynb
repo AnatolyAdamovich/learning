{
 "cells": [
  {
   "cell_type": "markdown",
   "id": "af2a0661",
   "metadata": {},
   "source": [
    "# Linear regression\n",
    "We can apply all concepts that we already know\n",
    "\n",
    "Our code should consist of several parts:\n",
    "1) prepare data  \n",
    "2) design a model (input/output size, forward pass)  \n",
    "3) construct loss and optimizer  \n",
    "4) training loop:\n",
    "-  forward pass: compute predictions and loss\n",
    "-  backward pass: BackProp algorithm -> calculate gradients\n",
    "-  update weights"
   ]
  },
  {
   "cell_type": "code",
   "execution_count": 1,
   "id": "8bc2fbbd",
   "metadata": {},
   "outputs": [],
   "source": [
    "import torch\n",
    "import torch.nn as nn\n",
    "import numpy as np\n",
    "from sklearn import datasets\n",
    "\n",
    "import matplotlib.pyplot as plt\n",
    "%matplotlib inline\n",
    "\n",
    "np.random.seed(0)"
   ]
  },
  {
   "cell_type": "markdown",
   "id": "0c522e78",
   "metadata": {},
   "source": [
    "## Data preparing"
   ]
  },
  {
   "cell_type": "code",
   "execution_count": 2,
   "id": "70d0864e",
   "metadata": {},
   "outputs": [
    {
     "name": "stdout",
     "output_type": "stream",
     "text": [
      "Size of X: torch.Size([1000, 1])\n",
      "Size of y: torch.Size([1000])\n"
     ]
    }
   ],
   "source": [
    "X_numpy, y_numpy = datasets.make_regression(n_samples=1000, n_features=1, noise=20)\n",
    "X = torch.from_numpy(X_numpy.astype(np.float32))\n",
    "y = torch.from_numpy(y_numpy.astype(np.float32))\n",
    "print(f'Size of X: {X.shape}')\n",
    "print(f'Size of y: {y.shape}')"
   ]
  },
  {
   "cell_type": "markdown",
   "id": "258e1e89",
   "metadata": {},
   "source": [
    "`y` should be a vector-column (we should put label for each object in independent row)"
   ]
  },
  {
   "cell_type": "code",
   "execution_count": 3,
   "id": "f2d4ea22",
   "metadata": {},
   "outputs": [
    {
     "name": "stdout",
     "output_type": "stream",
     "text": [
      "Size of y: torch.Size([1000, 1])\n"
     ]
    }
   ],
   "source": [
    "y = y.reshape(-1, 1)\n",
    "print(f'Size of y: {y.shape}')"
   ]
  },
  {
   "cell_type": "code",
   "execution_count": 4,
   "id": "61701a52",
   "metadata": {},
   "outputs": [],
   "source": [
    "n_samples, n_features = X.shape"
   ]
  },
  {
   "cell_type": "markdown",
   "id": "d78c99f8",
   "metadata": {},
   "source": [
    "## Design a model\n",
    "In the linear regression case there is only one layer, which has input size equal to number of features, and  the output size equal to 1 (because we have only one response for each object)"
   ]
  },
  {
   "cell_type": "code",
   "execution_count": 5,
   "id": "7ac4eab8",
   "metadata": {},
   "outputs": [],
   "source": [
    "model = nn.Linear(in_features=n_features, out_features=1)"
   ]
  },
  {
   "cell_type": "markdown",
   "id": "16a39b7e",
   "metadata": {},
   "source": [
    "## Construct loss and optimizer"
   ]
  },
  {
   "cell_type": "code",
   "execution_count": 6,
   "id": "6f730ddb",
   "metadata": {},
   "outputs": [],
   "source": [
    "learning_rate = 1e-3\n",
    "\n",
    "criterion = nn.MSELoss()\n",
    "optimizer = torch.optim.SGD(model.parameters(), lr=learning_rate)"
   ]
  },
  {
   "cell_type": "markdown",
   "id": "ad4f031f",
   "metadata": {},
   "source": [
    "## training loop"
   ]
  },
  {
   "cell_type": "code",
   "execution_count": 7,
   "id": "9c02ec84",
   "metadata": {},
   "outputs": [
    {
     "name": "stdout",
     "output_type": "stream",
     "text": [
      "epoch №10: loss = 6722.9927\n",
      "epoch №20: loss = 6479.9741\n",
      "epoch №30: loss = 6246.3071\n",
      "epoch №40: loss = 6021.6299\n",
      "epoch №50: loss = 5805.5962\n",
      "epoch №60: loss = 5597.8730\n",
      "epoch №70: loss = 5398.1387\n",
      "epoch №80: loss = 5206.0859\n",
      "epoch №90: loss = 5021.4194\n",
      "epoch №100: loss = 4843.8545\n",
      "epoch №110: loss = 4673.1172\n",
      "epoch №120: loss = 4508.9434\n",
      "epoch №130: loss = 4351.0811\n",
      "epoch №140: loss = 4199.2881\n",
      "epoch №150: loss = 4053.3291\n",
      "epoch №160: loss = 3912.9800\n",
      "epoch №170: loss = 3778.0249\n",
      "epoch №180: loss = 3648.2554\n",
      "epoch №190: loss = 3523.4724\n",
      "epoch №200: loss = 3403.4832\n",
      "epoch №210: loss = 3288.1042\n",
      "epoch №220: loss = 3177.1577\n",
      "epoch №230: loss = 3070.4722\n",
      "epoch №240: loss = 2967.8850\n",
      "epoch №250: loss = 2869.2375\n",
      "epoch №260: loss = 2774.3784\n",
      "epoch №270: loss = 2683.1619\n",
      "epoch №280: loss = 2595.4473\n",
      "epoch №290: loss = 2511.1006\n",
      "epoch №300: loss = 2429.9915\n",
      "epoch №310: loss = 2351.9956\n",
      "epoch №320: loss = 2276.9934\n",
      "epoch №330: loss = 2204.8706\n",
      "epoch №340: loss = 2135.5149\n",
      "epoch №350: loss = 2068.8213\n",
      "epoch №360: loss = 2004.6858\n",
      "epoch №370: loss = 1943.0112\n",
      "epoch №380: loss = 1883.7029\n",
      "epoch №390: loss = 1826.6697\n",
      "epoch №400: loss = 1771.8240\n",
      "epoch №410: loss = 1719.0811\n",
      "epoch №420: loss = 1668.3618\n",
      "epoch №430: loss = 1619.5873\n",
      "epoch №440: loss = 1572.6830\n",
      "epoch №450: loss = 1527.5770\n",
      "epoch №460: loss = 1484.1997\n",
      "epoch №470: loss = 1442.4862\n",
      "epoch №480: loss = 1402.3712\n",
      "epoch №490: loss = 1363.7939\n",
      "epoch №500: loss = 1326.6956\n",
      "epoch №510: loss = 1291.0186\n",
      "epoch №520: loss = 1256.7086\n",
      "epoch №530: loss = 1223.7133\n",
      "epoch №540: loss = 1191.9822\n",
      "epoch №550: loss = 1161.4664\n",
      "epoch №560: loss = 1132.1198\n",
      "epoch №570: loss = 1103.8973\n",
      "epoch №580: loss = 1076.7557\n",
      "epoch №590: loss = 1050.6534\n",
      "epoch №600: loss = 1025.5509\n",
      "epoch №610: loss = 1001.4095\n",
      "epoch №620: loss = 978.1923\n",
      "epoch №630: loss = 955.8641\n",
      "epoch №640: loss = 934.3906\n",
      "epoch №650: loss = 913.7391\n",
      "epoch №660: loss = 893.8781\n",
      "epoch №670: loss = 874.7772\n",
      "epoch №680: loss = 856.4069\n",
      "epoch №690: loss = 838.7398\n",
      "epoch №700: loss = 821.7489\n",
      "epoch №710: loss = 805.4079\n",
      "epoch №720: loss = 789.6921\n",
      "epoch №730: loss = 774.5776\n",
      "epoch №740: loss = 760.0412\n",
      "epoch №750: loss = 746.0610\n",
      "epoch №760: loss = 732.6152\n",
      "epoch №770: loss = 719.6835\n",
      "epoch №780: loss = 707.2465\n",
      "epoch №790: loss = 695.2850\n",
      "epoch №800: loss = 683.7809\n",
      "epoch №810: loss = 672.7159\n",
      "epoch №820: loss = 662.0745\n",
      "epoch №830: loss = 651.8399\n",
      "epoch №840: loss = 641.9960\n",
      "epoch №850: loss = 632.5286\n",
      "epoch №860: loss = 623.4228\n",
      "epoch №870: loss = 614.6651\n",
      "epoch №880: loss = 606.2420\n",
      "epoch №890: loss = 598.1407\n",
      "epoch №900: loss = 590.3487\n",
      "epoch №910: loss = 582.8549\n",
      "epoch №920: loss = 575.6467\n",
      "epoch №930: loss = 568.7139\n",
      "epoch №940: loss = 562.0460\n",
      "epoch №950: loss = 555.6328\n",
      "epoch №960: loss = 549.4645\n",
      "epoch №970: loss = 543.5316\n",
      "epoch №980: loss = 537.8253\n",
      "epoch №990: loss = 532.3362\n",
      "epoch №1000: loss = 527.0574\n",
      "epoch №1010: loss = 521.9798\n",
      "epoch №1020: loss = 517.0961\n",
      "epoch №1030: loss = 512.3987\n",
      "epoch №1040: loss = 507.8808\n",
      "epoch №1050: loss = 503.5349\n",
      "epoch №1060: loss = 499.3550\n",
      "epoch №1070: loss = 495.3345\n",
      "epoch №1080: loss = 491.4679\n",
      "epoch №1090: loss = 487.7484\n",
      "epoch №1100: loss = 484.1708\n",
      "epoch №1110: loss = 480.7296\n",
      "epoch №1120: loss = 477.4196\n",
      "epoch №1130: loss = 474.2359\n",
      "epoch №1140: loss = 471.1735\n",
      "epoch №1150: loss = 468.2279\n",
      "epoch №1160: loss = 465.3947\n",
      "epoch №1170: loss = 462.6693\n",
      "epoch №1180: loss = 460.0479\n",
      "epoch №1190: loss = 457.5263\n",
      "epoch №1200: loss = 455.1008\n",
      "epoch №1210: loss = 452.7679\n",
      "epoch №1220: loss = 450.5238\n",
      "epoch №1230: loss = 448.3652\n",
      "epoch №1240: loss = 446.2887\n",
      "epoch №1250: loss = 444.2915\n",
      "epoch №1260: loss = 442.3704\n",
      "epoch №1270: loss = 440.5224\n",
      "epoch №1280: loss = 438.7448\n",
      "epoch №1290: loss = 437.0351\n",
      "epoch №1300: loss = 435.3904\n",
      "epoch №1310: loss = 433.8083\n",
      "epoch №1320: loss = 432.2864\n",
      "epoch №1330: loss = 430.8226\n",
      "epoch №1340: loss = 429.4144\n",
      "epoch №1350: loss = 428.0598\n",
      "epoch №1360: loss = 426.7568\n",
      "epoch №1370: loss = 425.5034\n",
      "epoch №1380: loss = 424.2977\n",
      "epoch №1390: loss = 423.1379\n",
      "epoch №1400: loss = 422.0223\n",
      "epoch №1410: loss = 420.9490\n",
      "epoch №1420: loss = 419.9166\n",
      "epoch №1430: loss = 418.9235\n",
      "epoch №1440: loss = 417.9682\n",
      "epoch №1450: loss = 417.0492\n",
      "epoch №1460: loss = 416.1652\n",
      "epoch №1470: loss = 415.3148\n",
      "epoch №1480: loss = 414.4967\n",
      "epoch №1490: loss = 413.7099\n",
      "epoch №1500: loss = 412.9528\n"
     ]
    }
   ],
   "source": [
    "number_of_epoches = 1500\n",
    "loss_array = []\n",
    "\n",
    "for epoch in range(number_of_epoches):\n",
    "    # forward pass\n",
    "    y_pred = model(X)\n",
    "    loss = criterion(y_pred, y)\n",
    "    loss_array.append(loss.item())\n",
    "    # backward pass\n",
    "    loss.backward()\n",
    "    # update weights\n",
    "    optimizer.step()\n",
    "    optimizer.zero_grad()\n",
    "    \n",
    "    if (epoch+1) % 10 == 0:\n",
    "        print(f'epoch №{epoch+1}: loss = {loss.item():.4f}')"
   ]
  },
  {
   "cell_type": "code",
   "execution_count": 8,
   "id": "e4d67784",
   "metadata": {},
   "outputs": [
    {
     "data": {
      "text/plain": [
       "[<matplotlib.lines.Line2D at 0x16e86f23e80>]"
      ]
     },
     "execution_count": 8,
     "metadata": {},
     "output_type": "execute_result"
    },
    {
     "data": {
      "image/png": "[encoded data removed]",
      "text/plain": [
       "<Figure size 432x288 with 1 Axes>"
      ]
     },
     "metadata": {
      "needs_background": "light"
     },
     "output_type": "display_data"
    }
   ],
   "source": [
    "predicted_all_data = model(X).detach().numpy()\n",
    "# detach is need for create tensor which does not require grad\n",
    "plt.plot(X_numpy, y_numpy, 'ro')\n",
    "plt.plot(X_numpy, predicted_all_data, 'b')"
   ]
  },
  {
   "cell_type": "code",
   "execution_count": 9,
   "id": "062a8bb0",
   "metadata": {},
   "outputs": [
    {
     "data": {
      "text/plain": [
       "[<matplotlib.lines.Line2D at 0x16e870133d0>]"
      ]
     },
     "execution_count": 9,
     "metadata": {},
     "output_type": "execute_result"
    },
    {
     "data": {
      "image/png": "[encoded data removed]",
      "text/plain": [
       "<Figure size 432x288 with 1 Axes>"
      ]
     },
     "metadata": {
      "needs_background": "light"
     },
     "output_type": "display_data"
    }
   ],
   "source": [
    "# plot our loss\n",
    "plt.plot(np.arange(1, number_of_epoches+1), loss_array)"
   ]
  }
 ],
 "metadata": {
  "kernelspec": {
   "display_name": "Python 3",
   "language": "python",
   "name": "python3"
  },
  "language_info": {
   "codemirror_mode": {
    "name": "ipython",
    "version": 3
   },
   "file_extension": ".py",
   "mimetype": "text/x-python",
   "name": "python",
   "nbconvert_exporter": "python",
   "pygments_lexer": "ipython3",
   "version": "3.8.8"
  },
  "toc": {
   "base_numbering": 1,
   "nav_menu": {},
   "number_sections": true,
   "sideBar": true,
   "skip_h1_title": false,
   "title_cell": "Table of Contents",
   "title_sidebar": "Contents",
   "toc_cell": false,
   "toc_position": {},
   "toc_section_display": true,
   "toc_window_display": false
  }
 },
 "nbformat": 4,
 "nbformat_minor": 5
}
